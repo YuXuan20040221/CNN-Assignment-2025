{
  "cells": [
    {
      "cell_type": "markdown",
      "metadata": {
        "id": "view-in-github",
        "colab_type": "text"
      },
      "source": [
        "<a href=\"https://colab.research.google.com/github/YuXuan20040221/CNN-Assignment-2025/blob/main/RoadDamage.ipynb\" target=\"_parent\"><img src=\"https://colab.research.google.com/assets/colab-badge.svg\" alt=\"Open In Colab\"/></a>"
      ]
    },
    {
      "cell_type": "markdown",
      "metadata": {
        "id": "tiXwPBySBHrM"
      },
      "source": [
        "# 道路安全\n",
        "\n",
        "注意事項:\n",
        "\n",
        "* 需要用到GPU到 執行階段 > 變更執行階段類型去設定\n",
        "* 打 \"*\" 號的地方是剛開始(打開colab)時需要執行的\n",
        "* 要換資料集到\"資料集設定\" (旁邊的目錄有寫)\n",
        "* 設定修改之後要先跑一次讓他寫進檔案才有效\n",
        "* 調整參數到\"訓練\"\n"
      ]
    },
    {
      "cell_type": "markdown",
      "metadata": {
        "id": "u7a1uhhvhoLW"
      },
      "source": [
        "# *掛載 Google Drive\n",
        "讓 Colab 讀取放在雲端硬碟的資料集\n",
        "(這邊不用動)"
      ]
    },
    {
      "cell_type": "code",
      "execution_count": 1,
      "metadata": {
        "colab": {
          "base_uri": "https://localhost:8080/"
        },
        "id": "VHwI72b8hrs3",
        "outputId": "edbd3b34-37b5-466a-87ea-0562114e2d61"
      },
      "outputs": [
        {
          "output_type": "stream",
          "name": "stdout",
          "text": [
            "Mounted at /content/drive\n"
          ]
        }
      ],
      "source": [
        "from google.colab import drive\n",
        "drive.mount('/content/drive')"
      ]
    },
    {
      "cell_type": "markdown",
      "metadata": {
        "id": "8-pTa6Z3jskM"
      },
      "source": [
        "# *安裝相關套件"
      ]
    },
    {
      "cell_type": "code",
      "execution_count": 3,
      "metadata": {
        "colab": {
          "base_uri": "https://localhost:8080/"
        },
        "id": "uwSyeYsRks_-",
        "outputId": "9e3c9f13-777e-43b8-ecaf-033843dd931c"
      },
      "outputs": [
        {
          "output_type": "stream",
          "name": "stdout",
          "text": [
            "Collecting ultralytics\n",
            "  Using cached ultralytics-8.3.163-py3-none-any.whl.metadata (37 kB)\n",
            "Requirement already satisfied: numpy>=1.23.0 in /usr/local/lib/python3.11/dist-packages (from ultralytics) (2.0.2)\n",
            "Requirement already satisfied: matplotlib>=3.3.0 in /usr/local/lib/python3.11/dist-packages (from ultralytics) (3.10.0)\n",
            "Requirement already satisfied: opencv-python>=4.6.0 in /usr/local/lib/python3.11/dist-packages (from ultralytics) (4.11.0.86)\n",
            "Requirement already satisfied: pillow>=7.1.2 in /usr/local/lib/python3.11/dist-packages (from ultralytics) (11.2.1)\n",
            "Requirement already satisfied: pyyaml>=5.3.1 in /usr/local/lib/python3.11/dist-packages (from ultralytics) (6.0.2)\n",
            "Requirement already satisfied: requests>=2.23.0 in /usr/local/lib/python3.11/dist-packages (from ultralytics) (2.32.3)\n",
            "Requirement already satisfied: scipy>=1.4.1 in /usr/local/lib/python3.11/dist-packages (from ultralytics) (1.15.3)\n",
            "Requirement already satisfied: torch>=1.8.0 in /usr/local/lib/python3.11/dist-packages (from ultralytics) (2.6.0+cu124)\n",
            "Requirement already satisfied: torchvision>=0.9.0 in /usr/local/lib/python3.11/dist-packages (from ultralytics) (0.21.0+cu124)\n",
            "Requirement already satisfied: tqdm>=4.64.0 in /usr/local/lib/python3.11/dist-packages (from ultralytics) (4.67.1)\n",
            "Requirement already satisfied: psutil in /usr/local/lib/python3.11/dist-packages (from ultralytics) (5.9.5)\n",
            "Requirement already satisfied: py-cpuinfo in /usr/local/lib/python3.11/dist-packages (from ultralytics) (9.0.0)\n",
            "Requirement already satisfied: pandas>=1.1.4 in /usr/local/lib/python3.11/dist-packages (from ultralytics) (2.2.2)\n",
            "Collecting ultralytics-thop>=2.0.0 (from ultralytics)\n",
            "  Using cached ultralytics_thop-2.0.14-py3-none-any.whl.metadata (9.4 kB)\n",
            "Requirement already satisfied: contourpy>=1.0.1 in /usr/local/lib/python3.11/dist-packages (from matplotlib>=3.3.0->ultralytics) (1.3.2)\n",
            "Requirement already satisfied: cycler>=0.10 in /usr/local/lib/python3.11/dist-packages (from matplotlib>=3.3.0->ultralytics) (0.12.1)\n",
            "Requirement already satisfied: fonttools>=4.22.0 in /usr/local/lib/python3.11/dist-packages (from matplotlib>=3.3.0->ultralytics) (4.58.5)\n",
            "Requirement already satisfied: kiwisolver>=1.3.1 in /usr/local/lib/python3.11/dist-packages (from matplotlib>=3.3.0->ultralytics) (1.4.8)\n",
            "Requirement already satisfied: packaging>=20.0 in /usr/local/lib/python3.11/dist-packages (from matplotlib>=3.3.0->ultralytics) (24.2)\n",
            "Requirement already satisfied: pyparsing>=2.3.1 in /usr/local/lib/python3.11/dist-packages (from matplotlib>=3.3.0->ultralytics) (3.2.3)\n",
            "Requirement already satisfied: python-dateutil>=2.7 in /usr/local/lib/python3.11/dist-packages (from matplotlib>=3.3.0->ultralytics) (2.9.0.post0)\n",
            "Requirement already satisfied: pytz>=2020.1 in /usr/local/lib/python3.11/dist-packages (from pandas>=1.1.4->ultralytics) (2025.2)\n",
            "Requirement already satisfied: tzdata>=2022.7 in /usr/local/lib/python3.11/dist-packages (from pandas>=1.1.4->ultralytics) (2025.2)\n",
            "Requirement already satisfied: charset-normalizer<4,>=2 in /usr/local/lib/python3.11/dist-packages (from requests>=2.23.0->ultralytics) (3.4.2)\n",
            "Requirement already satisfied: idna<4,>=2.5 in /usr/local/lib/python3.11/dist-packages (from requests>=2.23.0->ultralytics) (3.10)\n",
            "Requirement already satisfied: urllib3<3,>=1.21.1 in /usr/local/lib/python3.11/dist-packages (from requests>=2.23.0->ultralytics) (2.4.0)\n",
            "Requirement already satisfied: certifi>=2017.4.17 in /usr/local/lib/python3.11/dist-packages (from requests>=2.23.0->ultralytics) (2025.6.15)\n",
            "Requirement already satisfied: filelock in /usr/local/lib/python3.11/dist-packages (from torch>=1.8.0->ultralytics) (3.18.0)\n",
            "Requirement already satisfied: typing-extensions>=4.10.0 in /usr/local/lib/python3.11/dist-packages (from torch>=1.8.0->ultralytics) (4.14.1)\n",
            "Requirement already satisfied: networkx in /usr/local/lib/python3.11/dist-packages (from torch>=1.8.0->ultralytics) (3.5)\n",
            "Requirement already satisfied: jinja2 in /usr/local/lib/python3.11/dist-packages (from torch>=1.8.0->ultralytics) (3.1.6)\n",
            "Requirement already satisfied: fsspec in /usr/local/lib/python3.11/dist-packages (from torch>=1.8.0->ultralytics) (2025.3.2)\n",
            "Collecting nvidia-cuda-nvrtc-cu12==12.4.127 (from torch>=1.8.0->ultralytics)\n",
            "  Using cached nvidia_cuda_nvrtc_cu12-12.4.127-py3-none-manylinux2014_x86_64.whl.metadata (1.5 kB)\n",
            "Collecting nvidia-cuda-runtime-cu12==12.4.127 (from torch>=1.8.0->ultralytics)\n",
            "  Using cached nvidia_cuda_runtime_cu12-12.4.127-py3-none-manylinux2014_x86_64.whl.metadata (1.5 kB)\n",
            "Collecting nvidia-cuda-cupti-cu12==12.4.127 (from torch>=1.8.0->ultralytics)\n",
            "  Using cached nvidia_cuda_cupti_cu12-12.4.127-py3-none-manylinux2014_x86_64.whl.metadata (1.6 kB)\n",
            "Collecting nvidia-cudnn-cu12==9.1.0.70 (from torch>=1.8.0->ultralytics)\n",
            "  Using cached nvidia_cudnn_cu12-9.1.0.70-py3-none-manylinux2014_x86_64.whl.metadata (1.6 kB)\n",
            "Collecting nvidia-cublas-cu12==12.4.5.8 (from torch>=1.8.0->ultralytics)\n",
            "  Using cached nvidia_cublas_cu12-12.4.5.8-py3-none-manylinux2014_x86_64.whl.metadata (1.5 kB)\n",
            "Collecting nvidia-cufft-cu12==11.2.1.3 (from torch>=1.8.0->ultralytics)\n",
            "  Using cached nvidia_cufft_cu12-11.2.1.3-py3-none-manylinux2014_x86_64.whl.metadata (1.5 kB)\n",
            "Collecting nvidia-curand-cu12==10.3.5.147 (from torch>=1.8.0->ultralytics)\n",
            "  Using cached nvidia_curand_cu12-10.3.5.147-py3-none-manylinux2014_x86_64.whl.metadata (1.5 kB)\n",
            "Collecting nvidia-cusolver-cu12==11.6.1.9 (from torch>=1.8.0->ultralytics)\n",
            "  Using cached nvidia_cusolver_cu12-11.6.1.9-py3-none-manylinux2014_x86_64.whl.metadata (1.6 kB)\n",
            "Collecting nvidia-cusparse-cu12==12.3.1.170 (from torch>=1.8.0->ultralytics)\n",
            "  Using cached nvidia_cusparse_cu12-12.3.1.170-py3-none-manylinux2014_x86_64.whl.metadata (1.6 kB)\n",
            "Requirement already satisfied: nvidia-cusparselt-cu12==0.6.2 in /usr/local/lib/python3.11/dist-packages (from torch>=1.8.0->ultralytics) (0.6.2)\n",
            "Requirement already satisfied: nvidia-nccl-cu12==2.21.5 in /usr/local/lib/python3.11/dist-packages (from torch>=1.8.0->ultralytics) (2.21.5)\n",
            "Requirement already satisfied: nvidia-nvtx-cu12==12.4.127 in /usr/local/lib/python3.11/dist-packages (from torch>=1.8.0->ultralytics) (12.4.127)\n",
            "Collecting nvidia-nvjitlink-cu12==12.4.127 (from torch>=1.8.0->ultralytics)\n",
            "  Using cached nvidia_nvjitlink_cu12-12.4.127-py3-none-manylinux2014_x86_64.whl.metadata (1.5 kB)\n",
            "Requirement already satisfied: triton==3.2.0 in /usr/local/lib/python3.11/dist-packages (from torch>=1.8.0->ultralytics) (3.2.0)\n",
            "Requirement already satisfied: sympy==1.13.1 in /usr/local/lib/python3.11/dist-packages (from torch>=1.8.0->ultralytics) (1.13.1)\n",
            "Requirement already satisfied: mpmath<1.4,>=1.1.0 in /usr/local/lib/python3.11/dist-packages (from sympy==1.13.1->torch>=1.8.0->ultralytics) (1.3.0)\n",
            "Requirement already satisfied: six>=1.5 in /usr/local/lib/python3.11/dist-packages (from python-dateutil>=2.7->matplotlib>=3.3.0->ultralytics) (1.17.0)\n",
            "Requirement already satisfied: MarkupSafe>=2.0 in /usr/local/lib/python3.11/dist-packages (from jinja2->torch>=1.8.0->ultralytics) (3.0.2)\n",
            "Using cached ultralytics-8.3.163-py3-none-any.whl (1.0 MB)\n",
            "Using cached nvidia_cublas_cu12-12.4.5.8-py3-none-manylinux2014_x86_64.whl (363.4 MB)\n",
            "Using cached nvidia_cuda_cupti_cu12-12.4.127-py3-none-manylinux2014_x86_64.whl (13.8 MB)\n",
            "Using cached nvidia_cuda_nvrtc_cu12-12.4.127-py3-none-manylinux2014_x86_64.whl (24.6 MB)\n",
            "Using cached nvidia_cuda_runtime_cu12-12.4.127-py3-none-manylinux2014_x86_64.whl (883 kB)\n",
            "Using cached nvidia_cudnn_cu12-9.1.0.70-py3-none-manylinux2014_x86_64.whl (664.8 MB)\n",
            "Using cached nvidia_cufft_cu12-11.2.1.3-py3-none-manylinux2014_x86_64.whl (211.5 MB)\n",
            "Using cached nvidia_curand_cu12-10.3.5.147-py3-none-manylinux2014_x86_64.whl (56.3 MB)\n",
            "Using cached nvidia_cusolver_cu12-11.6.1.9-py3-none-manylinux2014_x86_64.whl (127.9 MB)\n",
            "Downloading nvidia_cusparse_cu12-12.3.1.170-py3-none-manylinux2014_x86_64.whl (207.5 MB)\n",
            "\u001b[2K   \u001b[90m━━━━━━━━━━━━━━━━━━━━━━━━━━━━━━━━━━━━━━━━\u001b[0m \u001b[32m207.5/207.5 MB\u001b[0m \u001b[31m5.5 MB/s\u001b[0m eta \u001b[36m0:00:00\u001b[0m\n",
            "\u001b[?25hUsing cached nvidia_nvjitlink_cu12-12.4.127-py3-none-manylinux2014_x86_64.whl (21.1 MB)\n",
            "Using cached ultralytics_thop-2.0.14-py3-none-any.whl (26 kB)\n",
            "Installing collected packages: nvidia-nvjitlink-cu12, nvidia-curand-cu12, nvidia-cufft-cu12, nvidia-cuda-runtime-cu12, nvidia-cuda-nvrtc-cu12, nvidia-cuda-cupti-cu12, nvidia-cublas-cu12, nvidia-cusparse-cu12, nvidia-cudnn-cu12, nvidia-cusolver-cu12, ultralytics-thop, ultralytics\n",
            "  Attempting uninstall: nvidia-nvjitlink-cu12\n",
            "    Found existing installation: nvidia-nvjitlink-cu12 12.5.82\n",
            "    Uninstalling nvidia-nvjitlink-cu12-12.5.82:\n",
            "      Successfully uninstalled nvidia-nvjitlink-cu12-12.5.82\n",
            "  Attempting uninstall: nvidia-curand-cu12\n",
            "    Found existing installation: nvidia-curand-cu12 10.3.6.82\n",
            "    Uninstalling nvidia-curand-cu12-10.3.6.82:\n",
            "      Successfully uninstalled nvidia-curand-cu12-10.3.6.82\n",
            "  Attempting uninstall: nvidia-cufft-cu12\n",
            "    Found existing installation: nvidia-cufft-cu12 11.2.3.61\n",
            "    Uninstalling nvidia-cufft-cu12-11.2.3.61:\n",
            "      Successfully uninstalled nvidia-cufft-cu12-11.2.3.61\n",
            "  Attempting uninstall: nvidia-cuda-runtime-cu12\n",
            "    Found existing installation: nvidia-cuda-runtime-cu12 12.5.82\n",
            "    Uninstalling nvidia-cuda-runtime-cu12-12.5.82:\n",
            "      Successfully uninstalled nvidia-cuda-runtime-cu12-12.5.82\n",
            "  Attempting uninstall: nvidia-cuda-nvrtc-cu12\n",
            "    Found existing installation: nvidia-cuda-nvrtc-cu12 12.5.82\n",
            "    Uninstalling nvidia-cuda-nvrtc-cu12-12.5.82:\n",
            "      Successfully uninstalled nvidia-cuda-nvrtc-cu12-12.5.82\n",
            "  Attempting uninstall: nvidia-cuda-cupti-cu12\n",
            "    Found existing installation: nvidia-cuda-cupti-cu12 12.5.82\n",
            "    Uninstalling nvidia-cuda-cupti-cu12-12.5.82:\n",
            "      Successfully uninstalled nvidia-cuda-cupti-cu12-12.5.82\n",
            "  Attempting uninstall: nvidia-cublas-cu12\n",
            "    Found existing installation: nvidia-cublas-cu12 12.5.3.2\n",
            "    Uninstalling nvidia-cublas-cu12-12.5.3.2:\n",
            "      Successfully uninstalled nvidia-cublas-cu12-12.5.3.2\n",
            "  Attempting uninstall: nvidia-cusparse-cu12\n",
            "    Found existing installation: nvidia-cusparse-cu12 12.5.1.3\n",
            "    Uninstalling nvidia-cusparse-cu12-12.5.1.3:\n",
            "      Successfully uninstalled nvidia-cusparse-cu12-12.5.1.3\n",
            "  Attempting uninstall: nvidia-cudnn-cu12\n",
            "    Found existing installation: nvidia-cudnn-cu12 9.3.0.75\n",
            "    Uninstalling nvidia-cudnn-cu12-9.3.0.75:\n",
            "      Successfully uninstalled nvidia-cudnn-cu12-9.3.0.75\n",
            "  Attempting uninstall: nvidia-cusolver-cu12\n",
            "    Found existing installation: nvidia-cusolver-cu12 11.6.3.83\n",
            "    Uninstalling nvidia-cusolver-cu12-11.6.3.83:\n",
            "      Successfully uninstalled nvidia-cusolver-cu12-11.6.3.83\n",
            "Successfully installed nvidia-cublas-cu12-12.4.5.8 nvidia-cuda-cupti-cu12-12.4.127 nvidia-cuda-nvrtc-cu12-12.4.127 nvidia-cuda-runtime-cu12-12.4.127 nvidia-cudnn-cu12-9.1.0.70 nvidia-cufft-cu12-11.2.1.3 nvidia-curand-cu12-10.3.5.147 nvidia-cusolver-cu12-11.6.1.9 nvidia-cusparse-cu12-12.3.1.170 nvidia-nvjitlink-cu12-12.4.127 ultralytics-8.3.163 ultralytics-thop-2.0.14\n"
          ]
        }
      ],
      "source": [
        "!pip install ultralytics"
      ]
    },
    {
      "cell_type": "markdown",
      "source": [
        "## 掛載Google sheet"
      ],
      "metadata": {
        "id": "8UFBx6Iraix2"
      }
    },
    {
      "cell_type": "code",
      "source": [
        "import gspread\n",
        "from oauth2client.service_account import ServiceAccountCredentials\n",
        "\n",
        "scope = [\n",
        "    \"https://spreadsheets.google.com/feeds\",\n",
        "    \"https://www.googleapis.com/auth/drive\"\n",
        "]\n",
        "\n",
        "creds = ServiceAccountCredentials.from_json_keyfile_name(\n",
        "    \"/content/drive/MyDrive/credentials.json\", scope\n",
        ")\n",
        "\n",
        "client = gspread.authorize(creds)\n",
        "sheet = client.open(\"model_test_result\").worksheet(\"YOLO_params\")\n"
      ],
      "metadata": {
        "id": "5gNkUuLLatcN"
      },
      "execution_count": null,
      "outputs": []
    },
    {
      "cell_type": "markdown",
      "metadata": {
        "id": "Uk2hl_6LlbKe"
      },
      "source": [
        "# 設定(yaml)"
      ]
    },
    {
      "cell_type": "markdown",
      "metadata": {
        "id": "eWl5dPNxDbyk"
      },
      "source": [
        "## 資料集設定:\n",
        "\n",
        "自行修改資料集目錄路徑"
      ]
    },
    {
      "cell_type": "code",
      "execution_count": 4,
      "metadata": {
        "id": "ZvOWan2Ila0o"
      },
      "outputs": [],
      "source": [
        "# 定義train.yaml ->\n",
        "yaml_content = \"\"\"\n",
        "path: /content/drive/MyDrive/datasets  # 整體資料集根目錄\n",
        "train: Processed/TLEF/images # 訓練用資料夾位置\n",
        "val: Processed/T/images # 驗證用資料夾位置\n",
        "\n",
        "nc: 1 # 類別個數\n",
        "names: [\"pothole\"] # 類別名稱\n",
        "\"\"\"\n",
        "\n",
        "# 寫入雲端 ->\n",
        "with open(\"/content/drive/MyDrive/datasets/train.yaml\", \"w\") as f:\n",
        "    f.write(yaml_content)"
      ]
    },
    {
      "cell_type": "markdown",
      "metadata": {
        "id": "Xh00oqfenN1c"
      },
      "source": [
        "## 模型架構設定:\n",
        "\n",
        "(這我自己在玩的不用鳥他)\n",
        "\n",
        "```python\n",
        "# YOLOv8n 官方模型架構\n",
        "\n",
        "                   from  n    params  module                                       arguments                     \n",
        "  0                  -1  1       464  ultralytics.nn.modules.conv.Conv             [3, 16, 3, 2]                 \n",
        "  1                  -1  1      4672  ultralytics.nn.modules.conv.Conv             [16, 32, 3, 2]                \n",
        "  2                  -1  1      7360  ultralytics.nn.modules.block.C2f             [32, 32, 1, True]             \n",
        "  3                  -1  1     18560  ultralytics.nn.modules.conv.Conv             [32, 64, 3, 2]                \n",
        "  4                  -1  2     49664  ultralytics.nn.modules.block.C2f             [64, 64, 2, True]             \n",
        "  5                  -1  1     73984  ultralytics.nn.modules.conv.Conv             [64, 128, 3, 2]               \n",
        "  6                  -1  2    197632  ultralytics.nn.modules.block.C2f             [128, 128, 2, True]           \n",
        "  7                  -1  1    295424  ultralytics.nn.modules.conv.Conv             [128, 256, 3, 2]              \n",
        "  8                  -1  1    460288  ultralytics.nn.modules.block.C2f             [256, 256, 1, True]           \n",
        "  9                  -1  1    164608  ultralytics.nn.modules.block.SPPF            [256, 256, 5]                 \n",
        " 10                  -1  1         0  torch.nn.modules.upsampling.Upsample         [None, 2, 'nearest']          \n",
        " 11             [-1, 6]  1         0  ultralytics.nn.modules.conv.Concat           [1]                           \n",
        " 12                  -1  1    148224  ultralytics.nn.modules.block.C2f             [384, 128, 1]                 \n",
        " 13                  -1  1         0  torch.nn.modules.upsampling.Upsample         [None, 2, 'nearest']          \n",
        " 14             [-1, 4]  1         0  ultralytics.nn.modules.conv.Concat           [1]                           \n",
        " 15                  -1  1     37248  ultralytics.nn.modules.block.C2f             [192, 64, 1]                  \n",
        " 16                  -1  1     36992  ultralytics.nn.modules.conv.Conv             [64, 64, 3, 2]                \n",
        " 17            [-1, 12]  1         0  ultralytics.nn.modules.conv.Concat           [1]                           \n",
        " 18                  -1  1    123648  ultralytics.nn.modules.block.C2f             [192, 128, 1]                 \n",
        " 19                  -1  1    147712  ultralytics.nn.modules.conv.Conv             [128, 128, 3, 2]              \n",
        " 20             [-1, 9]  1         0  ultralytics.nn.modules.conv.Concat           [1]                           \n",
        " 21                  -1  1    493056  ultralytics.nn.modules.block.C2f             [384, 256, 1]                 \n",
        " 22        [15, 18, 21]  1    751507  ultralytics.nn.modules.head.Detect           [1, [64, 128, 256]]           \n",
        "\n",
        "Model summary: 129 layers, 3,011,043 parameters, 3,011,027 gradients, 8.2 GFLOPs\n",
        "\n",
        "Transferred 319/355 items from pretrained weights\n",
        "Freezing layer 'model.22.dfl.conv.weight'\n",
        "```"
      ]
    },
    {
      "cell_type": "code",
      "execution_count": null,
      "metadata": {
        "id": "jbcXENN-nfYj"
      },
      "outputs": [],
      "source": [
        "# 參考自: https://github.com/ultralytics/ultralytics/blob/main/ultralytics/cfg/models/v8/yolov8.yaml\n",
        "# 僅調整head部分(backbone不動)\n",
        "\n",
        "# yaml檔 ->\n",
        "yaml_content = \"\"\"\n",
        "# Ultralytics 🚀 AGPL-3.0 License - https://ultralytics.com/license\n",
        "\n",
        "# Ultralytics YOLOv8 object detection model with P3/8 - P5/32 outputs\n",
        "# Model docs: https://docs.ultralytics.com/models/yolov8\n",
        "# Task docs: https://docs.ultralytics.com/tasks/detect\n",
        "\n",
        "# Parameters\n",
        "nc: 1 # number of classes(類別數量)\n",
        "scales: # model compound scaling constants, i.e. 'model=yolov8n.yaml' will call yolov8.yaml with scale 'n'\n",
        "  # [depth, width, max_channels]\n",
        "  n: [0.33, 0.25, 1024] # YOLOv8n summary: 129 layers, 3157200 parameters, 3157184 gradients, 8.9 GFLOPS\n",
        "  s: [0.33, 0.50, 1024] # YOLOv8s summary: 129 layers, 11166560 parameters, 11166544 gradients, 28.8 GFLOPS\n",
        "  m: [0.67, 0.75, 768] # YOLOv8m summary: 169 layers, 25902640 parameters, 25902624 gradients, 79.3 GFLOPS\n",
        "  l: [1.00, 1.00, 512] # YOLOv8l summary: 209 layers, 43691520 parameters, 43691504 gradients, 165.7 GFLOPS\n",
        "  x: [1.00, 1.25, 512] # YOLOv8x summary: 209 layers, 68229648 parameters, 68229632 gradients, 258.5 GFLOPS\n",
        "\n",
        "# YOLOv8.0n backbone\n",
        "backbone:\n",
        "  # [from, repeats, module, args]\n",
        "  - [-1, 1, Conv, [64, 3, 2]] # 0-P1/2\n",
        "  - [-1, 1, Conv, [128, 3, 2]] # 1-P2/4\n",
        "  - [-1, 3, C2f, [128, True]]\n",
        "  - [-1, 1, Conv, [256, 3, 2]] # 3-P3/8\n",
        "  - [-1, 6, C2f, [256, True]]\n",
        "  - [-1, 1, Conv, [512, 3, 2]] # 5-P4/16\n",
        "  - [-1, 6, C2f, [512, True]]\n",
        "  - [-1, 1, Conv, [1024, 3, 2]] # 7-P5/32\n",
        "  - [-1, 3, C2f, [1024, True]]\n",
        "  - [-1, 1, SPPF, [1024, 5]] # 9\n",
        "\n",
        "# YOLOv8.0n head\n",
        "head:\n",
        "  - [-1, 1, nn.Upsample, [None, 2, \"nearest\"]]\n",
        "  - [[-1, 6], 1, Concat, [1]] # cat backbone P4\n",
        "  - [-1, 4, C2f, [256]] # 12\n",
        "\n",
        "  - [-1, 1, nn.Upsample, [None, 2, \"nearest\"]]\n",
        "  - [[-1, 4], 1, Concat, [1]] # cat backbone P3\n",
        "  - [-1, 3, C2f, [256]] # 15 (P3/8-small)\n",
        "\n",
        "  - [-1, 1, Conv, [256, 3, 2]]\n",
        "  - [[-1, 12], 1, Concat, [1]] # cat head P4\n",
        "  - [-1, 3, C2f, [512]] # 18 (P4/16-medium)\n",
        "\n",
        "  - [-1, 1, Conv, [512, 3, 2]]\n",
        "  - [[-1, 9], 1, Concat, [1]] # cat head P5\n",
        "  - [-1, 5, C2f, [512]] # 21 (P5/32-large)\n",
        "\n",
        "  - [[15, 18, 21], 1, Detect, [nc]] # Detect(P3, P4, P5)\n",
        "\"\"\"\n",
        "\n",
        "# 寫入雲端硬碟檔案 ->\n",
        "with open(\"/content/drive/MyDrive/datasets/custom_yolov8n.yaml\", \"w\") as f:\n",
        "    f.write(yaml_content)"
      ]
    },
    {
      "cell_type": "markdown",
      "metadata": {
        "id": "bzJedW-Nu5Oi"
      },
      "source": [
        "# 訓練\n",
        "參數調整參考:\n",
        "[YOLO調整指南](https://docs.ultralytics.com/zh/guides/hyperparameter-tuning/)"
      ]
    },
    {
      "cell_type": "code",
      "execution_count": 5,
      "metadata": {
        "colab": {
          "base_uri": "https://localhost:8080/"
        },
        "id": "cCoEuKLOu7iq",
        "outputId": "e5aa7181-e154-49ef-c997-4c513836bcc6"
      },
      "outputs": [
        {
          "output_type": "stream",
          "name": "stdout",
          "text": [
            "Creating new Ultralytics Settings v0.0.6 file ✅ \n",
            "View Ultralytics Settings with 'yolo settings' or at '/root/.config/Ultralytics/settings.json'\n",
            "Update Settings with 'yolo settings key=value', i.e. 'yolo settings runs_dir=path/to/dir'. For help see https://docs.ultralytics.com/quickstart/#ultralytics-settings.\n",
            "Downloading https://github.com/ultralytics/assets/releases/download/v8.3.0/yolov8n.pt to 'yolov8n.pt'...\n"
          ]
        },
        {
          "output_type": "stream",
          "name": "stderr",
          "text": [
            "100%|██████████| 6.25M/6.25M [00:00<00:00, 360MB/s]\n"
          ]
        },
        {
          "output_type": "stream",
          "name": "stdout",
          "text": [
            "Ultralytics 8.3.163 🚀 Python-3.11.13 torch-2.6.0+cu124 CUDA:0 (Tesla T4, 15095MiB)\n",
            "\u001b[34m\u001b[1mengine/trainer: \u001b[0magnostic_nms=False, amp=True, augment=False, auto_augment=randaugment, batch=32, bgr=0.0, box=7.5, cache=False, cfg=None, classes=None, close_mosaic=10, cls=0.5, conf=None, copy_paste=0.0, copy_paste_mode=flip, cos_lr=False, cutmix=0.0, data=/content/drive/MyDrive/datasets/train.yaml, degrees=0.0, deterministic=True, device=0, dfl=1.5, dnn=False, dropout=0.0, dynamic=False, embed=None, epochs=150, erasing=0.4, exist_ok=False, fliplr=0.5, flipud=0.0, format=torchscript, fraction=1.0, freeze=None, half=False, hsv_h=0.015, hsv_s=0.7, hsv_v=0.4, imgsz=640, int8=False, iou=0.7, keras=False, kobj=1.0, line_width=None, lr0=0.01, lrf=0.01, mask_ratio=4, max_det=300, mixup=0.0, mode=train, model=yolov8n.pt, momentum=0.937, mosaic=1.0, multi_scale=False, name=yolov8n_TLEF_1, nbs=64, nms=False, opset=None, optimize=False, optimizer=auto, overlap_mask=True, patience=100, perspective=0.0, plots=True, pose=12.0, pretrained=True, profile=False, project=/content/drive/MyDrive/model_custom1, rect=False, resume=False, retina_masks=False, save=True, save_conf=False, save_crop=False, save_dir=/content/drive/MyDrive/model_custom1/yolov8n_TLEF_1, save_frames=False, save_json=False, save_period=-1, save_txt=False, scale=0.5, seed=0, shear=0.0, show=False, show_boxes=True, show_conf=True, show_labels=True, simplify=True, single_cls=False, source=None, split=val, stream_buffer=False, task=detect, time=None, tracker=botsort.yaml, translate=0.1, val=True, verbose=True, vid_stride=1, visualize=False, warmup_bias_lr=0.1, warmup_epochs=3.0, warmup_momentum=0.8, weight_decay=0.0005, workers=8, workspace=None\n",
            "Downloading https://ultralytics.com/assets/Arial.ttf to '/root/.config/Ultralytics/Arial.ttf'...\n"
          ]
        },
        {
          "output_type": "stream",
          "name": "stderr",
          "text": [
            "100%|██████████| 755k/755k [00:00<00:00, 116MB/s]"
          ]
        },
        {
          "output_type": "stream",
          "name": "stdout",
          "text": [
            "Overriding model.yaml nc=80 with nc=1\n",
            "\n",
            "                   from  n    params  module                                       arguments                     \n",
            "  0                  -1  1       464  ultralytics.nn.modules.conv.Conv             [3, 16, 3, 2]                 \n",
            "  1                  -1  1      4672  ultralytics.nn.modules.conv.Conv             [16, 32, 3, 2]                \n",
            "  2                  -1  1      7360  ultralytics.nn.modules.block.C2f             [32, 32, 1, True]             \n",
            "  3                  -1  1     18560  ultralytics.nn.modules.conv.Conv             [32, 64, 3, 2]                \n",
            "  4                  -1  2     49664  ultralytics.nn.modules.block.C2f             [64, 64, 2, True]             \n",
            "  5                  -1  1     73984  ultralytics.nn.modules.conv.Conv             [64, 128, 3, 2]               \n",
            "  6                  -1  2    197632  ultralytics.nn.modules.block.C2f             [128, 128, 2, True]           \n",
            "  7                  -1  1    295424  ultralytics.nn.modules.conv.Conv             [128, 256, 3, 2]              \n",
            "  8                  -1  1    460288  ultralytics.nn.modules.block.C2f             [256, 256, 1, True]           \n",
            "  9                  -1  1    164608  ultralytics.nn.modules.block.SPPF            [256, 256, 5]                 \n",
            " 10                  -1  1         0  torch.nn.modules.upsampling.Upsample         [None, 2, 'nearest']          \n",
            " 11             [-1, 6]  1         0  ultralytics.nn.modules.conv.Concat           [1]                           \n",
            " 12                  -1  1    148224  ultralytics.nn.modules.block.C2f             [384, 128, 1]                 \n",
            " 13                  -1  1         0  torch.nn.modules.upsampling.Upsample         [None, 2, 'nearest']          \n",
            " 14             [-1, 4]  1         0  ultralytics.nn.modules.conv.Concat           [1]                           \n",
            " 15                  -1  1     37248  ultralytics.nn.modules.block.C2f             [192, 64, 1]                  \n",
            " 16                  -1  1     36992  ultralytics.nn.modules.conv.Conv             [64, 64, 3, 2]                \n",
            " 17            [-1, 12]  1         0  ultralytics.nn.modules.conv.Concat           [1]                           \n",
            " 18                  -1  1    123648  ultralytics.nn.modules.block.C2f             [192, 128, 1]                 \n",
            " 19                  -1  1    147712  ultralytics.nn.modules.conv.Conv             [128, 128, 3, 2]              \n",
            " 20             [-1, 9]  1         0  ultralytics.nn.modules.conv.Concat           [1]                           \n",
            " 21                  -1  1    493056  ultralytics.nn.modules.block.C2f             [384, 256, 1]                 \n",
            " 22        [15, 18, 21]  1    751507  ultralytics.nn.modules.head.Detect           [1, [64, 128, 256]]           \n"
          ]
        },
        {
          "output_type": "stream",
          "name": "stderr",
          "text": [
            "\n"
          ]
        },
        {
          "output_type": "stream",
          "name": "stdout",
          "text": [
            "Model summary: 129 layers, 3,011,043 parameters, 3,011,027 gradients, 8.2 GFLOPs\n",
            "\n",
            "Transferred 319/355 items from pretrained weights\n",
            "Freezing layer 'model.22.dfl.conv.weight'\n",
            "\u001b[34m\u001b[1mAMP: \u001b[0mrunning Automatic Mixed Precision (AMP) checks...\n",
            "Downloading https://github.com/ultralytics/assets/releases/download/v8.3.0/yolo11n.pt to 'yolo11n.pt'...\n"
          ]
        },
        {
          "output_type": "stream",
          "name": "stderr",
          "text": [
            "100%|██████████| 5.35M/5.35M [00:00<00:00, 336MB/s]\n"
          ]
        },
        {
          "output_type": "stream",
          "name": "stdout",
          "text": [
            "\u001b[34m\u001b[1mAMP: \u001b[0mchecks passed ✅\n",
            "\u001b[34m\u001b[1mtrain: \u001b[0mFast image access ✅ (ping: 3.4±6.6 ms, read: 33.8±74.5 MB/s, size: 455.8 KB)\n"
          ]
        },
        {
          "output_type": "stream",
          "name": "stderr",
          "text": [
            "\u001b[34m\u001b[1mtrain: \u001b[0mScanning /content/drive/MyDrive/datasets/Processed/TLEF/labels... 186 images, 0 backgrounds, 107 corrupt: 100%|██████████| 186/186 [02:49<00:00,  1.09it/s]"
          ]
        },
        {
          "output_type": "stream",
          "name": "stdout",
          "text": [
            "\u001b[34m\u001b[1mtrain: \u001b[0m/content/drive/MyDrive/datasets/Processed/TLEF/images/G0011195.jpg: ignoring corrupt image/label: negative class labels [   -0.20991]\n",
            "\u001b[34m\u001b[1mtrain: \u001b[0m/content/drive/MyDrive/datasets/Processed/TLEF/images/G0011242.jpg: ignoring corrupt image/label: negative class labels [  -0.055483    -0.18057    -0.23899]\n",
            "\u001b[34m\u001b[1mtrain: \u001b[0m/content/drive/MyDrive/datasets/Processed/TLEF/images/G0011243.jpg: ignoring corrupt image/label: negative class labels [  -0.089769]\n",
            "\u001b[34m\u001b[1mtrain: \u001b[0m/content/drive/MyDrive/datasets/Processed/TLEF/images/G0011472.jpg: ignoring corrupt image/label: negative class labels [   -0.20719    -0.28356    -0.36097]\n",
            "\u001b[34m\u001b[1mtrain: \u001b[0m/content/drive/MyDrive/datasets/Processed/TLEF/images/G0011473.jpg: ignoring corrupt image/label: negative class labels [   -0.14552    -0.28097]\n",
            "\u001b[34m\u001b[1mtrain: \u001b[0m/content/drive/MyDrive/datasets/Processed/TLEF/images/G0011474.jpg: ignoring corrupt image/label: negative class labels [   -0.25477]\n",
            "\u001b[34m\u001b[1mtrain: \u001b[0m/content/drive/MyDrive/datasets/Processed/TLEF/images/G0011475.jpg: ignoring corrupt image/label: negative class labels [   -0.10489    -0.27834]\n",
            "\u001b[34m\u001b[1mtrain: \u001b[0m/content/drive/MyDrive/datasets/Processed/TLEF/images/G0011476.jpg: ignoring corrupt image/label: negative class labels [   -0.12934]\n",
            "\u001b[34m\u001b[1mtrain: \u001b[0m/content/drive/MyDrive/datasets/Processed/TLEF/images/G0011488.jpg: ignoring corrupt image/label: negative class labels [  -0.074631]\n",
            "\u001b[34m\u001b[1mtrain: \u001b[0m/content/drive/MyDrive/datasets/Processed/TLEF/images/G0011489.jpg: ignoring corrupt image/label: negative class labels [   -0.26253]\n",
            "\u001b[34m\u001b[1mtrain: \u001b[0m/content/drive/MyDrive/datasets/Processed/TLEF/images/G0011490.jpg: ignoring corrupt image/label: negative class labels [   -0.22039]\n",
            "\u001b[34m\u001b[1mtrain: \u001b[0m/content/drive/MyDrive/datasets/Processed/TLEF/images/G0011491.jpg: ignoring corrupt image/label: negative class labels [   -0.15358]\n",
            "\u001b[34m\u001b[1mtrain: \u001b[0m/content/drive/MyDrive/datasets/Processed/TLEF/images/G0011492.jpg: ignoring corrupt image/label: negative class labels [    -0.0829]\n",
            "\u001b[34m\u001b[1mtrain: \u001b[0m/content/drive/MyDrive/datasets/Processed/TLEF/images/G0011493.jpg: ignoring corrupt image/label: negative class labels [  -0.035815]\n",
            "\u001b[34m\u001b[1mtrain: \u001b[0m/content/drive/MyDrive/datasets/Processed/TLEF/images/G0011503.jpg: ignoring corrupt image/label: negative class labels [   -0.15101]\n",
            "\u001b[34m\u001b[1mtrain: \u001b[0m/content/drive/MyDrive/datasets/Processed/TLEF/images/G0011504.jpg: ignoring corrupt image/label: negative class labels [   -0.28615    -0.09947]\n",
            "\u001b[34m\u001b[1mtrain: \u001b[0m/content/drive/MyDrive/datasets/Processed/TLEF/images/G0011505.jpg: ignoring corrupt image/label: negative class labels [   -0.19924]\n",
            "\u001b[34m\u001b[1mtrain: \u001b[0m/content/drive/MyDrive/datasets/Processed/TLEF/images/G0011523.jpg: ignoring corrupt image/label: negative class labels [  -0.093962    -0.20991    -0.43174]\n",
            "\u001b[34m\u001b[1mtrain: \u001b[0m/content/drive/MyDrive/datasets/Processed/TLEF/images/G0011524.jpg: ignoring corrupt image/label: negative class labels [   -0.37114]\n",
            "\u001b[34m\u001b[1mtrain: \u001b[0m/content/drive/MyDrive/datasets/Processed/TLEF/images/G0011525.jpg: ignoring corrupt image/label: negative class labels [   -0.29393]\n",
            "\u001b[34m\u001b[1mtrain: \u001b[0m/content/drive/MyDrive/datasets/Processed/TLEF/images/G0011526.jpg: ignoring corrupt image/label: negative class labels [   -0.16428]\n",
            "\u001b[34m\u001b[1mtrain: \u001b[0m/content/drive/MyDrive/datasets/Processed/TLEF/images/G0011528.jpg: ignoring corrupt image/label: negative class labels [  -0.047111]\n",
            "\u001b[34m\u001b[1mtrain: \u001b[0m/content/drive/MyDrive/datasets/Processed/TLEF/images/G0011558.jpg: ignoring corrupt image/label: negative class labels [   -0.14565]\n",
            "\u001b[34m\u001b[1mtrain: \u001b[0m/content/drive/MyDrive/datasets/Processed/TLEF/images/G0011560.jpg: ignoring corrupt image/label: negative class labels [   -0.26002]\n",
            "\u001b[34m\u001b[1mtrain: \u001b[0m/content/drive/MyDrive/datasets/Processed/TLEF/images/G0011561.jpg: ignoring corrupt image/label: negative class labels [   -0.14284]\n",
            "\u001b[34m\u001b[1mtrain: \u001b[0m/content/drive/MyDrive/datasets/Processed/TLEF/images/G0011564.jpg: ignoring corrupt image/label: negative class labels [   -0.29658]\n",
            "\u001b[34m\u001b[1mtrain: \u001b[0m/content/drive/MyDrive/datasets/Processed/TLEF/images/G0011566.jpg: ignoring corrupt image/label: negative class labels [  -0.055483]\n",
            "\u001b[34m\u001b[1mtrain: \u001b[0m/content/drive/MyDrive/datasets/Processed/TLEF/images/G0011569.jpg: ignoring corrupt image/label: negative class labels [   -0.14005]\n",
            "\u001b[34m\u001b[1mtrain: \u001b[0m/content/drive/MyDrive/datasets/Processed/TLEF/images/G0011584.jpg: ignoring corrupt image/label: negative class labels [   -0.21258    -0.36607]\n",
            "\u001b[34m\u001b[1mtrain: \u001b[0m/content/drive/MyDrive/datasets/Processed/TLEF/images/G0011585.jpg: ignoring corrupt image/label: negative class labels [   -0.25216   -0.036125    -0.14557]\n",
            "\u001b[34m\u001b[1mtrain: \u001b[0m/content/drive/MyDrive/datasets/Processed/TLEF/images/G0011587.jpg: ignoring corrupt image/label: negative class labels [  -0.016519]\n",
            "\u001b[34m\u001b[1mtrain: \u001b[0m/content/drive/MyDrive/datasets/Processed/TLEF/images/G0011588.jpg: ignoring corrupt image/label: negative class labels [  -0.080238]\n",
            "\u001b[34m\u001b[1mtrain: \u001b[0m/content/drive/MyDrive/datasets/Processed/TLEF/images/G0011589.jpg: ignoring corrupt image/label: negative class labels [   -0.12669    -0.25219     -0.3302]\n",
            "\u001b[34m\u001b[1mtrain: \u001b[0m/content/drive/MyDrive/datasets/Processed/TLEF/images/G0011590.jpg: ignoring corrupt image/label: negative class labels [   -0.17255    -0.18863   -0.060953    -0.29397]\n",
            "\u001b[34m\u001b[1mtrain: \u001b[0m/content/drive/MyDrive/datasets/Processed/TLEF/images/G0011591.jpg: ignoring corrupt image/label: negative class labels [     -0.223]\n",
            "\u001b[34m\u001b[1mtrain: \u001b[0m/content/drive/MyDrive/datasets/Processed/TLEF/images/G0011592.jpg: ignoring corrupt image/label: negative class labels [  -0.024775]\n",
            "\u001b[34m\u001b[1mtrain: \u001b[0m/content/drive/MyDrive/datasets/Processed/TLEF/images/G0011601.jpg: ignoring corrupt image/label: negative class labels [   -0.22584    -0.08577]\n",
            "\u001b[34m\u001b[1mtrain: \u001b[0m/content/drive/MyDrive/datasets/Processed/TLEF/images/G0011602.jpg: ignoring corrupt image/label: negative class labels [   -0.10218]\n",
            "\u001b[34m\u001b[1mtrain: \u001b[0m/content/drive/MyDrive/datasets/Processed/TLEF/images/G0011603.jpg: 1 duplicate labels removed\n",
            "\u001b[34m\u001b[1mtrain: \u001b[0m/content/drive/MyDrive/datasets/Processed/TLEF/images/G0011609.jpg: ignoring corrupt image/label: negative class labels [  -0.050032]\n",
            "\u001b[34m\u001b[1mtrain: \u001b[0m/content/drive/MyDrive/datasets/Processed/TLEF/images/G0011612.jpg: ignoring corrupt image/label: negative class labels [   -0.36099]\n",
            "\u001b[34m\u001b[1mtrain: \u001b[0m/content/drive/MyDrive/datasets/Processed/TLEF/images/G0011613.jpg: ignoring corrupt image/label: negative class labels [    -0.2862]\n",
            "\u001b[34m\u001b[1mtrain: \u001b[0m/content/drive/MyDrive/datasets/Processed/TLEF/images/G0011614.jpg: ignoring corrupt image/label: negative class labels [   -0.18323    -0.18323]\n",
            "\u001b[34m\u001b[1mtrain: \u001b[0m/content/drive/MyDrive/datasets/Processed/TLEF/images/G0011615.jpg: ignoring corrupt image/label: negative class labels [   -0.10222    -0.16186]\n",
            "\u001b[34m\u001b[1mtrain: \u001b[0m/content/drive/MyDrive/datasets/Processed/TLEF/images/G0011616.jpg: 2 duplicate labels removed\n",
            "\u001b[34m\u001b[1mtrain: \u001b[0m/content/drive/MyDrive/datasets/Processed/TLEF/images/G0011618.jpg: ignoring corrupt image/label: negative class labels [   -0.30698]\n",
            "\u001b[34m\u001b[1mtrain: \u001b[0m/content/drive/MyDrive/datasets/Processed/TLEF/images/G0011619.jpg: ignoring corrupt image/label: negative class labels [   -0.20723]\n",
            "\u001b[34m\u001b[1mtrain: \u001b[0m/content/drive/MyDrive/datasets/Processed/TLEF/images/G0011620.jpg: ignoring corrupt image/label: negative class labels [  -0.041625]\n",
            "\u001b[34m\u001b[1mtrain: \u001b[0m/content/drive/MyDrive/datasets/Processed/TLEF/images/G0011635.jpg: ignoring corrupt image/label: negative class labels [    -0.1886]\n",
            "\u001b[34m\u001b[1mtrain: \u001b[0m/content/drive/MyDrive/datasets/Processed/TLEF/images/G0011641.jpg: ignoring corrupt image/label: negative class labels [   -0.24429]\n",
            "\u001b[34m\u001b[1mtrain: \u001b[0m/content/drive/MyDrive/datasets/Processed/TLEF/images/G0011642.jpg: ignoring corrupt image/label: negative class labels [  -0.080238]\n",
            "\u001b[34m\u001b[1mtrain: \u001b[0m/content/drive/MyDrive/datasets/Processed/TLEF/images/G0011647.jpg: ignoring corrupt image/label: negative class labels [   -0.11586]\n",
            "\u001b[34m\u001b[1mtrain: \u001b[0m/content/drive/MyDrive/datasets/Processed/TLEF/images/G0011661.jpg: ignoring corrupt image/label: negative class labels [   -0.14836    -0.14836]\n",
            "\u001b[34m\u001b[1mtrain: \u001b[0m/content/drive/MyDrive/datasets/Processed/TLEF/images/G0011662.jpg: 1 duplicate labels removed\n",
            "\u001b[34m\u001b[1mtrain: \u001b[0m/content/drive/MyDrive/datasets/Processed/TLEF/images/G0011663.jpg: ignoring corrupt image/label: negative class labels [   -0.12942]\n",
            "\u001b[34m\u001b[1mtrain: \u001b[0m/content/drive/MyDrive/datasets/Processed/TLEF/images/G0011664.jpg: 1 duplicate labels removed\n",
            "\u001b[34m\u001b[1mtrain: \u001b[0m/content/drive/MyDrive/datasets/Processed/TLEF/images/G0011677.jpg: ignoring corrupt image/label: negative class labels [   -0.15107    -0.15107]\n",
            "\u001b[34m\u001b[1mtrain: \u001b[0m/content/drive/MyDrive/datasets/Processed/TLEF/images/G0011678.jpg: 1 duplicate labels removed\n",
            "\u001b[34m\u001b[1mtrain: \u001b[0m/content/drive/MyDrive/datasets/Processed/TLEF/images/G0011684.jpg: ignoring corrupt image/label: negative class labels [   -0.35076]\n",
            "\u001b[34m\u001b[1mtrain: \u001b[0m/content/drive/MyDrive/datasets/Processed/TLEF/images/G0011700.jpg: ignoring corrupt image/label: negative class labels [   -0.40415]\n",
            "\u001b[34m\u001b[1mtrain: \u001b[0m/content/drive/MyDrive/datasets/Processed/TLEF/images/G0011701.jpg: ignoring corrupt image/label: negative class labels [   -0.38389]\n",
            "\u001b[34m\u001b[1mtrain: \u001b[0m/content/drive/MyDrive/datasets/Processed/TLEF/images/G0011702.jpg: ignoring corrupt image/label: negative class labels [   -0.33276]\n",
            "\u001b[34m\u001b[1mtrain: \u001b[0m/content/drive/MyDrive/datasets/Processed/TLEF/images/G0011703.jpg: ignoring corrupt image/label: negative class labels [   -0.27049]\n",
            "\u001b[34m\u001b[1mtrain: \u001b[0m/content/drive/MyDrive/datasets/Processed/TLEF/images/G0011704.jpg: ignoring corrupt image/label: negative class labels [    -0.1644]\n",
            "\u001b[34m\u001b[1mtrain: \u001b[0m/content/drive/MyDrive/datasets/Processed/TLEF/images/G0011705.jpg: 1 duplicate labels removed\n",
            "\u001b[34m\u001b[1mtrain: \u001b[0m/content/drive/MyDrive/datasets/Processed/TLEF/images/G0011712.jpg: ignoring corrupt image/label: negative class labels [  -0.041741]\n",
            "\u001b[34m\u001b[1mtrain: \u001b[0m/content/drive/MyDrive/datasets/Processed/TLEF/images/G0011759.jpg: ignoring corrupt image/label: negative class labels [   -0.27317    -0.29402    -0.28099]\n",
            "\u001b[34m\u001b[1mtrain: \u001b[0m/content/drive/MyDrive/datasets/Processed/TLEF/images/G0011760.jpg: ignoring corrupt image/label: negative class labels [   -0.19399    -0.22054    -0.19131]\n",
            "\u001b[34m\u001b[1mtrain: \u001b[0m/content/drive/MyDrive/datasets/Processed/TLEF/images/G0011761.jpg: ignoring corrupt image/label: negative class labels [  -0.091316    -0.13756   -0.080238   -0.036195]\n",
            "\u001b[34m\u001b[1mtrain: \u001b[0m/content/drive/MyDrive/datasets/Processed/TLEF/images/G0011763.jpg: ignoring corrupt image/label: negative class labels [   -0.14568]\n",
            "\u001b[34m\u001b[1mtrain: \u001b[0m/content/drive/MyDrive/datasets/Processed/TLEF/images/G0011764.jpg: ignoring corrupt image/label: negative class labels [  -0.041741    -0.18598]\n",
            "\u001b[34m\u001b[1mtrain: \u001b[0m/content/drive/MyDrive/datasets/Processed/TLEF/images/G0011765.jpg: ignoring corrupt image/label: negative class labels [  -0.088563]\n",
            "\u001b[34m\u001b[1mtrain: \u001b[0m/content/drive/MyDrive/datasets/Processed/TLEF/images/G0011767.jpg: ignoring corrupt image/label: negative class labels [   -0.32764]\n",
            "\u001b[34m\u001b[1mtrain: \u001b[0m/content/drive/MyDrive/datasets/Processed/TLEF/images/G0011768.jpg: ignoring corrupt image/label: negative class labels [   -0.27577]\n",
            "\u001b[34m\u001b[1mtrain: \u001b[0m/content/drive/MyDrive/datasets/Processed/TLEF/images/G0011769.jpg: ignoring corrupt image/label: negative class labels [   -0.20462    -0.26008    -0.20462    -0.26008]\n",
            "\u001b[34m\u001b[1mtrain: \u001b[0m/content/drive/MyDrive/datasets/Processed/TLEF/images/G0011770.jpg: ignoring corrupt image/label: negative class labels [   -0.12399    -0.21521]\n",
            "\u001b[34m\u001b[1mtrain: \u001b[0m/content/drive/MyDrive/datasets/Processed/TLEF/images/G0011771.jpg: ignoring corrupt image/label: negative class labels [   -0.10496]\n",
            "\u001b[34m\u001b[1mtrain: \u001b[0m/content/drive/MyDrive/datasets/Processed/TLEF/images/G0011772.jpg: ignoring corrupt image/label: negative class labels [  -0.047522    -0.23112     -0.1457   -0.047522    -0.23112     -0.1457]\n",
            "\u001b[34m\u001b[1mtrain: \u001b[0m/content/drive/MyDrive/datasets/Processed/TLEF/images/G0011773.jpg: ignoring corrupt image/label: negative class labels [  -0.056789   -0.056789]\n",
            "\u001b[34m\u001b[1mtrain: \u001b[0m/content/drive/MyDrive/datasets/Processed/TLEF/images/G0011832.jpg: ignoring corrupt image/label: negative class labels [    -0.2232]\n",
            "\u001b[34m\u001b[1mtrain: \u001b[0m/content/drive/MyDrive/datasets/Processed/TLEF/images/G0011838.jpg: ignoring corrupt image/label: negative class labels [  -0.061003]\n",
            "\u001b[34m\u001b[1mtrain: \u001b[0m/content/drive/MyDrive/datasets/Processed/TLEF/images/G0011840.jpg: ignoring corrupt image/label: negative class labels [   -0.12117]\n",
            "\u001b[34m\u001b[1mtrain: \u001b[0m/content/drive/MyDrive/datasets/Processed/TLEF/images/G0011844.jpg: ignoring corrupt image/label: negative class labels [  -0.069328]\n",
            "\u001b[34m\u001b[1mtrain: \u001b[0m/content/drive/MyDrive/datasets/Processed/TLEF/images/G0011864.jpg: ignoring corrupt image/label: negative class labels [  -0.023038   -0.085808]\n",
            "\u001b[34m\u001b[1mtrain: \u001b[0m/content/drive/MyDrive/datasets/Processed/TLEF/images/G0011865.jpg: ignoring corrupt image/label: negative class labels [   -0.23379    -0.25747]\n",
            "\u001b[34m\u001b[1mtrain: \u001b[0m/content/drive/MyDrive/datasets/Processed/TLEF/images/G0011866.jpg: ignoring corrupt image/label: negative class labels [   -0.19131     -0.2126]\n",
            "\u001b[34m\u001b[1mtrain: \u001b[0m/content/drive/MyDrive/datasets/Processed/TLEF/images/G0011867.jpg: ignoring corrupt image/label: negative class labels [  -0.074883   -0.099504]\n",
            "\u001b[34m\u001b[1mtrain: \u001b[0m/content/drive/MyDrive/datasets/Processed/TLEF/images/G0011869.jpg: ignoring corrupt image/label: negative class labels [  -0.025078]\n",
            "\u001b[34m\u001b[1mtrain: \u001b[0m/content/drive/MyDrive/datasets/Processed/TLEF/images/G0011870.jpg: ignoring corrupt image/label: negative class labels [  -0.011124]\n",
            "\u001b[34m\u001b[1mtrain: \u001b[0m/content/drive/MyDrive/datasets/Processed/TLEF/images/G0011876.jpg: 2 duplicate labels removed\n",
            "\u001b[34m\u001b[1mtrain: \u001b[0m/content/drive/MyDrive/datasets/Processed/TLEF/images/G0011878.jpg: 2 duplicate labels removed\n",
            "\u001b[34m\u001b[1mtrain: \u001b[0m/content/drive/MyDrive/datasets/Processed/TLEF/images/G0011881.jpg: 2 duplicate labels removed\n",
            "\u001b[34m\u001b[1mtrain: \u001b[0m/content/drive/MyDrive/datasets/Processed/TLEF/images/G0011936.jpg: ignoring corrupt image/label: negative class labels [   -0.27055     -0.3044]\n",
            "\u001b[34m\u001b[1mtrain: \u001b[0m/content/drive/MyDrive/datasets/Processed/TLEF/images/G0011937.jpg: ignoring corrupt image/label: negative class labels [   -0.23112    -0.25744]\n",
            "\u001b[34m\u001b[1mtrain: \u001b[0m/content/drive/MyDrive/datasets/Processed/TLEF/images/G0011938.jpg: ignoring corrupt image/label: negative class labels [   -0.18863    -0.22849]\n",
            "\u001b[34m\u001b[1mtrain: \u001b[0m/content/drive/MyDrive/datasets/Processed/TLEF/images/G0011939.jpg: ignoring corrupt image/label: negative class labels [   -0.11044    -0.14839   -0.011124    -0.16724]\n",
            "\u001b[34m\u001b[1mtrain: \u001b[0m/content/drive/MyDrive/datasets/Processed/TLEF/images/G0011940.jpg: ignoring corrupt image/label: negative class labels [  -0.025008    -0.08859    -0.11859]\n",
            "\u001b[34m\u001b[1mtrain: \u001b[0m/content/drive/MyDrive/datasets/Processed/TLEF/images/G0011941.jpg: ignoring corrupt image/label: negative class labels [   -0.10767]\n",
            "\u001b[34m\u001b[1mtrain: \u001b[0m/content/drive/MyDrive/datasets/Processed/TLEF/images/G0011947.jpg: ignoring corrupt image/label: negative class labels [   -0.16428]\n",
            "\u001b[34m\u001b[1mtrain: \u001b[0m/content/drive/MyDrive/datasets/Processed/TLEF/images/G0011948.jpg: ignoring corrupt image/label: negative class labels [   -0.16173]\n",
            "\u001b[34m\u001b[1mtrain: \u001b[0m/content/drive/MyDrive/datasets/Processed/TLEF/images/G0011949.jpg: ignoring corrupt image/label: negative class labels [   -0.11568]\n",
            "\u001b[34m\u001b[1mtrain: \u001b[0m/content/drive/MyDrive/datasets/Processed/TLEF/images/G0011950.jpg: ignoring corrupt image/label: negative class labels [  -0.019275]\n",
            "\u001b[34m\u001b[1mtrain: \u001b[0m/content/drive/MyDrive/datasets/Processed/TLEF/images/G0011966.jpg: 2 duplicate labels removed\n",
            "\u001b[34m\u001b[1mtrain: \u001b[0m/content/drive/MyDrive/datasets/Processed/TLEF/images/G0011968.jpg: ignoring corrupt image/label: negative class labels [  -0.041764   -0.041764]\n",
            "\u001b[34m\u001b[1mtrain: \u001b[0m/content/drive/MyDrive/datasets/Processed/TLEF/images/G0011969.jpg: ignoring corrupt image/label: negative class labels [  -0.061106   -0.061106]\n",
            "\u001b[34m\u001b[1mtrain: \u001b[0m/content/drive/MyDrive/datasets/Processed/TLEF/images/G0011970.jpg: 1 duplicate labels removed\n",
            "\u001b[34m\u001b[1mtrain: \u001b[0m/content/drive/MyDrive/datasets/Processed/TLEF/images/G0011973.jpg: ignoring corrupt image/label: negative class labels [  -0.066618]\n",
            "\u001b[34m\u001b[1mtrain: \u001b[0m/content/drive/MyDrive/datasets/Processed/TLEF/images/G0011975.jpg: ignoring corrupt image/label: negative class labels [   -0.26271    -0.28879]\n",
            "\u001b[34m\u001b[1mtrain: \u001b[0m/content/drive/MyDrive/datasets/Processed/TLEF/images/G0011976.jpg: ignoring corrupt image/label: negative class labels [   -0.18063    -0.22318]\n",
            "\u001b[34m\u001b[1mtrain: \u001b[0m/content/drive/MyDrive/datasets/Processed/TLEF/images/G0011977.jpg: ignoring corrupt image/label: negative class labels [  -0.011124   -0.088529]\n",
            "\u001b[34m\u001b[1mtrain: \u001b[0m/content/drive/MyDrive/datasets/Processed/TLEF/images/G0011978.jpg: 2 duplicate labels removed\n",
            "\u001b[34m\u001b[1mtrain: \u001b[0m/content/drive/MyDrive/datasets/Processed/TLEF/images/G0011980.jpg: ignoring corrupt image/label: negative class labels [  -0.061106    -0.19932]\n",
            "\u001b[34m\u001b[1mtrain: \u001b[0m/content/drive/MyDrive/datasets/Processed/TLEF/images/G0011981.jpg: ignoring corrupt image/label: negative class labels [  -0.022307   -0.022307]\n",
            "\u001b[34m\u001b[1mtrain: \u001b[0m/content/drive/MyDrive/datasets/Processed/TLEF/images/G0011982.jpg: 1 duplicate labels removed\n",
            "\u001b[34m\u001b[1mtrain: \u001b[0m/content/drive/MyDrive/datasets/Processed/TLEF/images/G0011983.jpg: ignoring corrupt image/label: negative class labels [   -0.31991]\n",
            "\u001b[34m\u001b[1mtrain: \u001b[0m/content/drive/MyDrive/datasets/Processed/TLEF/images/G0011984.jpg: ignoring corrupt image/label: negative class labels [   -0.29141]\n",
            "\u001b[34m\u001b[1mtrain: \u001b[0m/content/drive/MyDrive/datasets/Processed/TLEF/images/G0011985.jpg: ignoring corrupt image/label: negative class labels [   -0.20466    -0.28361]\n",
            "\u001b[34m\u001b[1mtrain: \u001b[0m/content/drive/MyDrive/datasets/Processed/TLEF/images/G0011986.jpg: ignoring corrupt image/label: negative class labels [   -0.16722    -0.24432    -0.16722    -0.24432]\n",
            "\u001b[34m\u001b[1mtrain: \u001b[0m/content/drive/MyDrive/datasets/Processed/TLEF/images/G0011987.jpg: ignoring corrupt image/label: negative class labels [   -0.11315    -0.18866]\n",
            "\u001b[34m\u001b[1mtrain: \u001b[0m/content/drive/MyDrive/datasets/Processed/TLEF/images/G0011988.jpg: 4 duplicate labels removed\n",
            "\u001b[34m\u001b[1mtrain: \u001b[0m/content/drive/MyDrive/datasets/Processed/TLEF/images/G0011989.jpg: ignoring corrupt image/label: negative class labels [   -0.16123]\n",
            "\u001b[34m\u001b[1mtrain: \u001b[0mNew cache created: /content/drive/MyDrive/datasets/Processed/TLEF/labels.cache\n"
          ]
        },
        {
          "output_type": "stream",
          "name": "stderr",
          "text": [
            "\n"
          ]
        },
        {
          "output_type": "stream",
          "name": "stdout",
          "text": [
            "\u001b[34m\u001b[1malbumentations: \u001b[0mBlur(p=0.01, blur_limit=(3, 7)), MedianBlur(p=0.01, blur_limit=(3, 7)), ToGray(p=0.01, method='weighted_average', num_output_channels=3), CLAHE(p=0.01, clip_limit=(1.0, 4.0), tile_grid_size=(8, 8))\n",
            "\u001b[34m\u001b[1mval: \u001b[0mFast image access ✅ (ping: 1.4±0.9 ms, read: 0.5±0.1 MB/s, size: 381.1 KB)\n"
          ]
        },
        {
          "output_type": "stream",
          "name": "stderr",
          "text": [
            "\u001b[34m\u001b[1mval: \u001b[0mScanning /content/drive/MyDrive/datasets/Processed/T/labels... 186 images, 0 backgrounds, 107 corrupt: 100%|██████████| 186/186 [00:05<00:00, 33.92it/s]"
          ]
        },
        {
          "output_type": "stream",
          "name": "stdout",
          "text": [
            "\u001b[34m\u001b[1mval: \u001b[0m/content/drive/MyDrive/datasets/Processed/T/images/G0011195.jpg: ignoring corrupt image/label: negative class labels [   -0.20991]\n",
            "\u001b[34m\u001b[1mval: \u001b[0m/content/drive/MyDrive/datasets/Processed/T/images/G0011242.jpg: ignoring corrupt image/label: negative class labels [  -0.055483    -0.18057    -0.23899]\n",
            "\u001b[34m\u001b[1mval: \u001b[0m/content/drive/MyDrive/datasets/Processed/T/images/G0011243.jpg: ignoring corrupt image/label: negative class labels [  -0.089769]\n",
            "\u001b[34m\u001b[1mval: \u001b[0m/content/drive/MyDrive/datasets/Processed/T/images/G0011472.jpg: ignoring corrupt image/label: negative class labels [   -0.20719    -0.28356    -0.36097]\n",
            "\u001b[34m\u001b[1mval: \u001b[0m/content/drive/MyDrive/datasets/Processed/T/images/G0011473.jpg: ignoring corrupt image/label: negative class labels [   -0.14552    -0.28097]\n",
            "\u001b[34m\u001b[1mval: \u001b[0m/content/drive/MyDrive/datasets/Processed/T/images/G0011474.jpg: ignoring corrupt image/label: negative class labels [   -0.25477]\n",
            "\u001b[34m\u001b[1mval: \u001b[0m/content/drive/MyDrive/datasets/Processed/T/images/G0011475.jpg: ignoring corrupt image/label: negative class labels [   -0.10489    -0.27834]\n",
            "\u001b[34m\u001b[1mval: \u001b[0m/content/drive/MyDrive/datasets/Processed/T/images/G0011476.jpg: ignoring corrupt image/label: negative class labels [   -0.12934]\n",
            "\u001b[34m\u001b[1mval: \u001b[0m/content/drive/MyDrive/datasets/Processed/T/images/G0011488.jpg: ignoring corrupt image/label: negative class labels [  -0.074631]\n",
            "\u001b[34m\u001b[1mval: \u001b[0m/content/drive/MyDrive/datasets/Processed/T/images/G0011489.jpg: ignoring corrupt image/label: negative class labels [   -0.26253]\n",
            "\u001b[34m\u001b[1mval: \u001b[0m/content/drive/MyDrive/datasets/Processed/T/images/G0011490.jpg: ignoring corrupt image/label: negative class labels [   -0.22039]\n",
            "\u001b[34m\u001b[1mval: \u001b[0m/content/drive/MyDrive/datasets/Processed/T/images/G0011491.jpg: ignoring corrupt image/label: negative class labels [   -0.15358]\n",
            "\u001b[34m\u001b[1mval: \u001b[0m/content/drive/MyDrive/datasets/Processed/T/images/G0011492.jpg: ignoring corrupt image/label: negative class labels [    -0.0829]\n",
            "\u001b[34m\u001b[1mval: \u001b[0m/content/drive/MyDrive/datasets/Processed/T/images/G0011493.jpg: ignoring corrupt image/label: negative class labels [  -0.035815]\n",
            "\u001b[34m\u001b[1mval: \u001b[0m/content/drive/MyDrive/datasets/Processed/T/images/G0011503.jpg: ignoring corrupt image/label: negative class labels [   -0.15101]\n",
            "\u001b[34m\u001b[1mval: \u001b[0m/content/drive/MyDrive/datasets/Processed/T/images/G0011504.jpg: ignoring corrupt image/label: negative class labels [   -0.28615    -0.09947]\n",
            "\u001b[34m\u001b[1mval: \u001b[0m/content/drive/MyDrive/datasets/Processed/T/images/G0011505.jpg: ignoring corrupt image/label: negative class labels [   -0.19924]\n",
            "\u001b[34m\u001b[1mval: \u001b[0m/content/drive/MyDrive/datasets/Processed/T/images/G0011523.jpg: ignoring corrupt image/label: negative class labels [  -0.093962    -0.20991    -0.43174]\n",
            "\u001b[34m\u001b[1mval: \u001b[0m/content/drive/MyDrive/datasets/Processed/T/images/G0011524.jpg: ignoring corrupt image/label: negative class labels [   -0.37114]\n",
            "\u001b[34m\u001b[1mval: \u001b[0m/content/drive/MyDrive/datasets/Processed/T/images/G0011525.jpg: ignoring corrupt image/label: negative class labels [   -0.29393]\n",
            "\u001b[34m\u001b[1mval: \u001b[0m/content/drive/MyDrive/datasets/Processed/T/images/G0011526.jpg: ignoring corrupt image/label: negative class labels [   -0.16428]\n",
            "\u001b[34m\u001b[1mval: \u001b[0m/content/drive/MyDrive/datasets/Processed/T/images/G0011528.jpg: ignoring corrupt image/label: negative class labels [  -0.047111]\n",
            "\u001b[34m\u001b[1mval: \u001b[0m/content/drive/MyDrive/datasets/Processed/T/images/G0011558.jpg: ignoring corrupt image/label: negative class labels [   -0.14565]\n",
            "\u001b[34m\u001b[1mval: \u001b[0m/content/drive/MyDrive/datasets/Processed/T/images/G0011560.jpg: ignoring corrupt image/label: negative class labels [   -0.26002]\n",
            "\u001b[34m\u001b[1mval: \u001b[0m/content/drive/MyDrive/datasets/Processed/T/images/G0011561.jpg: ignoring corrupt image/label: negative class labels [   -0.14284]\n",
            "\u001b[34m\u001b[1mval: \u001b[0m/content/drive/MyDrive/datasets/Processed/T/images/G0011564.jpg: ignoring corrupt image/label: negative class labels [   -0.29658]\n",
            "\u001b[34m\u001b[1mval: \u001b[0m/content/drive/MyDrive/datasets/Processed/T/images/G0011566.jpg: ignoring corrupt image/label: negative class labels [  -0.055483]\n",
            "\u001b[34m\u001b[1mval: \u001b[0m/content/drive/MyDrive/datasets/Processed/T/images/G0011569.jpg: ignoring corrupt image/label: negative class labels [   -0.14005]\n",
            "\u001b[34m\u001b[1mval: \u001b[0m/content/drive/MyDrive/datasets/Processed/T/images/G0011584.jpg: ignoring corrupt image/label: negative class labels [   -0.21258    -0.36607]\n",
            "\u001b[34m\u001b[1mval: \u001b[0m/content/drive/MyDrive/datasets/Processed/T/images/G0011585.jpg: ignoring corrupt image/label: negative class labels [   -0.25216   -0.036125    -0.14557]\n",
            "\u001b[34m\u001b[1mval: \u001b[0m/content/drive/MyDrive/datasets/Processed/T/images/G0011587.jpg: ignoring corrupt image/label: negative class labels [  -0.016519]\n",
            "\u001b[34m\u001b[1mval: \u001b[0m/content/drive/MyDrive/datasets/Processed/T/images/G0011588.jpg: ignoring corrupt image/label: negative class labels [  -0.080238]\n",
            "\u001b[34m\u001b[1mval: \u001b[0m/content/drive/MyDrive/datasets/Processed/T/images/G0011589.jpg: ignoring corrupt image/label: negative class labels [   -0.12669    -0.25219     -0.3302]\n",
            "\u001b[34m\u001b[1mval: \u001b[0m/content/drive/MyDrive/datasets/Processed/T/images/G0011590.jpg: ignoring corrupt image/label: negative class labels [   -0.17255    -0.18863   -0.060953    -0.29397]\n",
            "\u001b[34m\u001b[1mval: \u001b[0m/content/drive/MyDrive/datasets/Processed/T/images/G0011591.jpg: ignoring corrupt image/label: negative class labels [     -0.223]\n",
            "\u001b[34m\u001b[1mval: \u001b[0m/content/drive/MyDrive/datasets/Processed/T/images/G0011592.jpg: ignoring corrupt image/label: negative class labels [  -0.024775]\n",
            "\u001b[34m\u001b[1mval: \u001b[0m/content/drive/MyDrive/datasets/Processed/T/images/G0011601.jpg: ignoring corrupt image/label: negative class labels [   -0.22584    -0.08577]\n",
            "\u001b[34m\u001b[1mval: \u001b[0m/content/drive/MyDrive/datasets/Processed/T/images/G0011602.jpg: ignoring corrupt image/label: negative class labels [   -0.10218]\n",
            "\u001b[34m\u001b[1mval: \u001b[0m/content/drive/MyDrive/datasets/Processed/T/images/G0011603.jpg: 1 duplicate labels removed\n",
            "\u001b[34m\u001b[1mval: \u001b[0m/content/drive/MyDrive/datasets/Processed/T/images/G0011609.jpg: ignoring corrupt image/label: negative class labels [  -0.050032]\n",
            "\u001b[34m\u001b[1mval: \u001b[0m/content/drive/MyDrive/datasets/Processed/T/images/G0011612.jpg: ignoring corrupt image/label: negative class labels [   -0.36099]\n",
            "\u001b[34m\u001b[1mval: \u001b[0m/content/drive/MyDrive/datasets/Processed/T/images/G0011613.jpg: ignoring corrupt image/label: negative class labels [    -0.2862]\n",
            "\u001b[34m\u001b[1mval: \u001b[0m/content/drive/MyDrive/datasets/Processed/T/images/G0011614.jpg: ignoring corrupt image/label: negative class labels [   -0.18323    -0.18323]\n",
            "\u001b[34m\u001b[1mval: \u001b[0m/content/drive/MyDrive/datasets/Processed/T/images/G0011615.jpg: ignoring corrupt image/label: negative class labels [   -0.10222    -0.16186]\n",
            "\u001b[34m\u001b[1mval: \u001b[0m/content/drive/MyDrive/datasets/Processed/T/images/G0011616.jpg: 2 duplicate labels removed\n",
            "\u001b[34m\u001b[1mval: \u001b[0m/content/drive/MyDrive/datasets/Processed/T/images/G0011618.jpg: ignoring corrupt image/label: negative class labels [   -0.30698]\n",
            "\u001b[34m\u001b[1mval: \u001b[0m/content/drive/MyDrive/datasets/Processed/T/images/G0011619.jpg: ignoring corrupt image/label: negative class labels [   -0.20723]\n",
            "\u001b[34m\u001b[1mval: \u001b[0m/content/drive/MyDrive/datasets/Processed/T/images/G0011620.jpg: ignoring corrupt image/label: negative class labels [  -0.041625]\n",
            "\u001b[34m\u001b[1mval: \u001b[0m/content/drive/MyDrive/datasets/Processed/T/images/G0011635.jpg: ignoring corrupt image/label: negative class labels [    -0.1886]\n",
            "\u001b[34m\u001b[1mval: \u001b[0m/content/drive/MyDrive/datasets/Processed/T/images/G0011641.jpg: ignoring corrupt image/label: negative class labels [   -0.24429]\n",
            "\u001b[34m\u001b[1mval: \u001b[0m/content/drive/MyDrive/datasets/Processed/T/images/G0011642.jpg: ignoring corrupt image/label: negative class labels [  -0.080238]\n",
            "\u001b[34m\u001b[1mval: \u001b[0m/content/drive/MyDrive/datasets/Processed/T/images/G0011647.jpg: ignoring corrupt image/label: negative class labels [   -0.11586]\n",
            "\u001b[34m\u001b[1mval: \u001b[0m/content/drive/MyDrive/datasets/Processed/T/images/G0011661.jpg: ignoring corrupt image/label: negative class labels [   -0.14836    -0.14836]\n",
            "\u001b[34m\u001b[1mval: \u001b[0m/content/drive/MyDrive/datasets/Processed/T/images/G0011662.jpg: 1 duplicate labels removed\n",
            "\u001b[34m\u001b[1mval: \u001b[0m/content/drive/MyDrive/datasets/Processed/T/images/G0011663.jpg: ignoring corrupt image/label: negative class labels [   -0.12942]\n",
            "\u001b[34m\u001b[1mval: \u001b[0m/content/drive/MyDrive/datasets/Processed/T/images/G0011664.jpg: 1 duplicate labels removed\n",
            "\u001b[34m\u001b[1mval: \u001b[0m/content/drive/MyDrive/datasets/Processed/T/images/G0011677.jpg: ignoring corrupt image/label: negative class labels [   -0.15107    -0.15107]\n",
            "\u001b[34m\u001b[1mval: \u001b[0m/content/drive/MyDrive/datasets/Processed/T/images/G0011678.jpg: 1 duplicate labels removed\n",
            "\u001b[34m\u001b[1mval: \u001b[0m/content/drive/MyDrive/datasets/Processed/T/images/G0011684.jpg: ignoring corrupt image/label: negative class labels [   -0.35076]\n",
            "\u001b[34m\u001b[1mval: \u001b[0m/content/drive/MyDrive/datasets/Processed/T/images/G0011700.jpg: ignoring corrupt image/label: negative class labels [   -0.40415]\n",
            "\u001b[34m\u001b[1mval: \u001b[0m/content/drive/MyDrive/datasets/Processed/T/images/G0011701.jpg: ignoring corrupt image/label: negative class labels [   -0.38389]\n",
            "\u001b[34m\u001b[1mval: \u001b[0m/content/drive/MyDrive/datasets/Processed/T/images/G0011702.jpg: ignoring corrupt image/label: negative class labels [   -0.33276]\n",
            "\u001b[34m\u001b[1mval: \u001b[0m/content/drive/MyDrive/datasets/Processed/T/images/G0011703.jpg: ignoring corrupt image/label: negative class labels [   -0.27049]\n",
            "\u001b[34m\u001b[1mval: \u001b[0m/content/drive/MyDrive/datasets/Processed/T/images/G0011704.jpg: ignoring corrupt image/label: negative class labels [    -0.1644]\n",
            "\u001b[34m\u001b[1mval: \u001b[0m/content/drive/MyDrive/datasets/Processed/T/images/G0011705.jpg: 1 duplicate labels removed\n",
            "\u001b[34m\u001b[1mval: \u001b[0m/content/drive/MyDrive/datasets/Processed/T/images/G0011712.jpg: ignoring corrupt image/label: negative class labels [  -0.041741]\n",
            "\u001b[34m\u001b[1mval: \u001b[0m/content/drive/MyDrive/datasets/Processed/T/images/G0011759.jpg: ignoring corrupt image/label: negative class labels [   -0.27317    -0.29402    -0.28099]\n",
            "\u001b[34m\u001b[1mval: \u001b[0m/content/drive/MyDrive/datasets/Processed/T/images/G0011760.jpg: ignoring corrupt image/label: negative class labels [   -0.19399    -0.22054    -0.19131]\n",
            "\u001b[34m\u001b[1mval: \u001b[0m/content/drive/MyDrive/datasets/Processed/T/images/G0011761.jpg: ignoring corrupt image/label: negative class labels [  -0.091316    -0.13756   -0.080238   -0.036195]\n",
            "\u001b[34m\u001b[1mval: \u001b[0m/content/drive/MyDrive/datasets/Processed/T/images/G0011763.jpg: ignoring corrupt image/label: negative class labels [   -0.14568]\n",
            "\u001b[34m\u001b[1mval: \u001b[0m/content/drive/MyDrive/datasets/Processed/T/images/G0011764.jpg: ignoring corrupt image/label: negative class labels [  -0.041741    -0.18598]\n",
            "\u001b[34m\u001b[1mval: \u001b[0m/content/drive/MyDrive/datasets/Processed/T/images/G0011765.jpg: ignoring corrupt image/label: negative class labels [  -0.088563]\n",
            "\u001b[34m\u001b[1mval: \u001b[0m/content/drive/MyDrive/datasets/Processed/T/images/G0011767.jpg: ignoring corrupt image/label: negative class labels [   -0.32764]\n",
            "\u001b[34m\u001b[1mval: \u001b[0m/content/drive/MyDrive/datasets/Processed/T/images/G0011768.jpg: ignoring corrupt image/label: negative class labels [   -0.27577]\n",
            "\u001b[34m\u001b[1mval: \u001b[0m/content/drive/MyDrive/datasets/Processed/T/images/G0011769.jpg: ignoring corrupt image/label: negative class labels [   -0.20462    -0.26008    -0.20462    -0.26008]\n",
            "\u001b[34m\u001b[1mval: \u001b[0m/content/drive/MyDrive/datasets/Processed/T/images/G0011770.jpg: ignoring corrupt image/label: negative class labels [   -0.12399    -0.21521]\n",
            "\u001b[34m\u001b[1mval: \u001b[0m/content/drive/MyDrive/datasets/Processed/T/images/G0011771.jpg: ignoring corrupt image/label: negative class labels [   -0.10496]\n",
            "\u001b[34m\u001b[1mval: \u001b[0m/content/drive/MyDrive/datasets/Processed/T/images/G0011772.jpg: ignoring corrupt image/label: negative class labels [  -0.047522    -0.23112     -0.1457   -0.047522    -0.23112     -0.1457]\n",
            "\u001b[34m\u001b[1mval: \u001b[0m/content/drive/MyDrive/datasets/Processed/T/images/G0011773.jpg: ignoring corrupt image/label: negative class labels [  -0.056789   -0.056789]\n",
            "\u001b[34m\u001b[1mval: \u001b[0m/content/drive/MyDrive/datasets/Processed/T/images/G0011832.jpg: ignoring corrupt image/label: negative class labels [    -0.2232]\n",
            "\u001b[34m\u001b[1mval: \u001b[0m/content/drive/MyDrive/datasets/Processed/T/images/G0011838.jpg: ignoring corrupt image/label: negative class labels [  -0.061003]\n",
            "\u001b[34m\u001b[1mval: \u001b[0m/content/drive/MyDrive/datasets/Processed/T/images/G0011840.jpg: ignoring corrupt image/label: negative class labels [   -0.12117]\n",
            "\u001b[34m\u001b[1mval: \u001b[0m/content/drive/MyDrive/datasets/Processed/T/images/G0011844.jpg: ignoring corrupt image/label: negative class labels [  -0.069328]\n",
            "\u001b[34m\u001b[1mval: \u001b[0m/content/drive/MyDrive/datasets/Processed/T/images/G0011864.jpg: ignoring corrupt image/label: negative class labels [  -0.023038   -0.085808]\n",
            "\u001b[34m\u001b[1mval: \u001b[0m/content/drive/MyDrive/datasets/Processed/T/images/G0011865.jpg: ignoring corrupt image/label: negative class labels [   -0.23379    -0.25747]\n",
            "\u001b[34m\u001b[1mval: \u001b[0m/content/drive/MyDrive/datasets/Processed/T/images/G0011866.jpg: ignoring corrupt image/label: negative class labels [   -0.19131     -0.2126]\n",
            "\u001b[34m\u001b[1mval: \u001b[0m/content/drive/MyDrive/datasets/Processed/T/images/G0011867.jpg: ignoring corrupt image/label: negative class labels [  -0.074883   -0.099504]\n",
            "\u001b[34m\u001b[1mval: \u001b[0m/content/drive/MyDrive/datasets/Processed/T/images/G0011869.jpg: ignoring corrupt image/label: negative class labels [  -0.025078]\n",
            "\u001b[34m\u001b[1mval: \u001b[0m/content/drive/MyDrive/datasets/Processed/T/images/G0011870.jpg: ignoring corrupt image/label: negative class labels [  -0.011124]\n",
            "\u001b[34m\u001b[1mval: \u001b[0m/content/drive/MyDrive/datasets/Processed/T/images/G0011876.jpg: 2 duplicate labels removed\n",
            "\u001b[34m\u001b[1mval: \u001b[0m/content/drive/MyDrive/datasets/Processed/T/images/G0011878.jpg: 2 duplicate labels removed\n",
            "\u001b[34m\u001b[1mval: \u001b[0m/content/drive/MyDrive/datasets/Processed/T/images/G0011881.jpg: 2 duplicate labels removed\n",
            "\u001b[34m\u001b[1mval: \u001b[0m/content/drive/MyDrive/datasets/Processed/T/images/G0011936.jpg: ignoring corrupt image/label: negative class labels [   -0.27055     -0.3044]\n",
            "\u001b[34m\u001b[1mval: \u001b[0m/content/drive/MyDrive/datasets/Processed/T/images/G0011937.jpg: ignoring corrupt image/label: negative class labels [   -0.23112    -0.25744]\n",
            "\u001b[34m\u001b[1mval: \u001b[0m/content/drive/MyDrive/datasets/Processed/T/images/G0011938.jpg: ignoring corrupt image/label: negative class labels [   -0.18863    -0.22849]\n",
            "\u001b[34m\u001b[1mval: \u001b[0m/content/drive/MyDrive/datasets/Processed/T/images/G0011939.jpg: ignoring corrupt image/label: negative class labels [   -0.11044    -0.14839   -0.011124    -0.16724]\n",
            "\u001b[34m\u001b[1mval: \u001b[0m/content/drive/MyDrive/datasets/Processed/T/images/G0011940.jpg: ignoring corrupt image/label: negative class labels [  -0.025008    -0.08859    -0.11859]\n",
            "\u001b[34m\u001b[1mval: \u001b[0m/content/drive/MyDrive/datasets/Processed/T/images/G0011941.jpg: ignoring corrupt image/label: negative class labels [   -0.10767]\n",
            "\u001b[34m\u001b[1mval: \u001b[0m/content/drive/MyDrive/datasets/Processed/T/images/G0011947.jpg: ignoring corrupt image/label: negative class labels [   -0.16428]\n",
            "\u001b[34m\u001b[1mval: \u001b[0m/content/drive/MyDrive/datasets/Processed/T/images/G0011948.jpg: ignoring corrupt image/label: negative class labels [   -0.16173]\n",
            "\u001b[34m\u001b[1mval: \u001b[0m/content/drive/MyDrive/datasets/Processed/T/images/G0011949.jpg: ignoring corrupt image/label: negative class labels [   -0.11568]\n",
            "\u001b[34m\u001b[1mval: \u001b[0m/content/drive/MyDrive/datasets/Processed/T/images/G0011950.jpg: ignoring corrupt image/label: negative class labels [  -0.019275]\n",
            "\u001b[34m\u001b[1mval: \u001b[0m/content/drive/MyDrive/datasets/Processed/T/images/G0011966.jpg: 2 duplicate labels removed\n",
            "\u001b[34m\u001b[1mval: \u001b[0m/content/drive/MyDrive/datasets/Processed/T/images/G0011968.jpg: ignoring corrupt image/label: negative class labels [  -0.041764   -0.041764]\n",
            "\u001b[34m\u001b[1mval: \u001b[0m/content/drive/MyDrive/datasets/Processed/T/images/G0011969.jpg: ignoring corrupt image/label: negative class labels [  -0.061106   -0.061106]\n",
            "\u001b[34m\u001b[1mval: \u001b[0m/content/drive/MyDrive/datasets/Processed/T/images/G0011970.jpg: 1 duplicate labels removed\n",
            "\u001b[34m\u001b[1mval: \u001b[0m/content/drive/MyDrive/datasets/Processed/T/images/G0011973.jpg: ignoring corrupt image/label: negative class labels [  -0.066618]\n",
            "\u001b[34m\u001b[1mval: \u001b[0m/content/drive/MyDrive/datasets/Processed/T/images/G0011975.jpg: ignoring corrupt image/label: negative class labels [   -0.26271    -0.28879]\n",
            "\u001b[34m\u001b[1mval: \u001b[0m/content/drive/MyDrive/datasets/Processed/T/images/G0011976.jpg: ignoring corrupt image/label: negative class labels [   -0.18063    -0.22318]\n",
            "\u001b[34m\u001b[1mval: \u001b[0m/content/drive/MyDrive/datasets/Processed/T/images/G0011977.jpg: ignoring corrupt image/label: negative class labels [  -0.011124   -0.088529]\n",
            "\u001b[34m\u001b[1mval: \u001b[0m/content/drive/MyDrive/datasets/Processed/T/images/G0011978.jpg: 2 duplicate labels removed\n",
            "\u001b[34m\u001b[1mval: \u001b[0m/content/drive/MyDrive/datasets/Processed/T/images/G0011980.jpg: ignoring corrupt image/label: negative class labels [  -0.061106    -0.19932]\n",
            "\u001b[34m\u001b[1mval: \u001b[0m/content/drive/MyDrive/datasets/Processed/T/images/G0011981.jpg: ignoring corrupt image/label: negative class labels [  -0.022307   -0.022307]\n",
            "\u001b[34m\u001b[1mval: \u001b[0m/content/drive/MyDrive/datasets/Processed/T/images/G0011982.jpg: 1 duplicate labels removed\n",
            "\u001b[34m\u001b[1mval: \u001b[0m/content/drive/MyDrive/datasets/Processed/T/images/G0011983.jpg: ignoring corrupt image/label: negative class labels [   -0.31991]\n",
            "\u001b[34m\u001b[1mval: \u001b[0m/content/drive/MyDrive/datasets/Processed/T/images/G0011984.jpg: ignoring corrupt image/label: negative class labels [   -0.29141]\n",
            "\u001b[34m\u001b[1mval: \u001b[0m/content/drive/MyDrive/datasets/Processed/T/images/G0011985.jpg: ignoring corrupt image/label: negative class labels [   -0.20466    -0.28361]\n",
            "\u001b[34m\u001b[1mval: \u001b[0m/content/drive/MyDrive/datasets/Processed/T/images/G0011986.jpg: ignoring corrupt image/label: negative class labels [   -0.16722    -0.24432    -0.16722    -0.24432]\n",
            "\u001b[34m\u001b[1mval: \u001b[0m/content/drive/MyDrive/datasets/Processed/T/images/G0011987.jpg: ignoring corrupt image/label: negative class labels [   -0.11315    -0.18866]\n",
            "\u001b[34m\u001b[1mval: \u001b[0m/content/drive/MyDrive/datasets/Processed/T/images/G0011988.jpg: 4 duplicate labels removed\n",
            "\u001b[34m\u001b[1mval: \u001b[0m/content/drive/MyDrive/datasets/Processed/T/images/G0011989.jpg: ignoring corrupt image/label: negative class labels [   -0.16123]\n"
          ]
        },
        {
          "output_type": "stream",
          "name": "stderr",
          "text": [
            "\n"
          ]
        },
        {
          "output_type": "stream",
          "name": "stdout",
          "text": [
            "\u001b[34m\u001b[1mval: \u001b[0mNew cache created: /content/drive/MyDrive/datasets/Processed/T/labels.cache\n",
            "Plotting labels to /content/drive/MyDrive/model_custom1/yolov8n_TLEF_1/labels.jpg... \n",
            "\u001b[34m\u001b[1moptimizer:\u001b[0m 'optimizer=auto' found, ignoring 'lr0=0.01' and 'momentum=0.937' and determining best 'optimizer', 'lr0' and 'momentum' automatically... \n",
            "\u001b[34m\u001b[1moptimizer:\u001b[0m AdamW(lr=0.002, momentum=0.9) with parameter groups 57 weight(decay=0.0), 64 weight(decay=0.0005), 63 bias(decay=0.0)\n",
            "Image sizes 640 train, 640 val\n",
            "Using 2 dataloader workers\n",
            "Logging results to \u001b[1m/content/drive/MyDrive/model_custom1/yolov8n_TLEF_1\u001b[0m\n",
            "Starting training for 150 epochs...\n",
            "\n",
            "      Epoch    GPU_mem   box_loss   cls_loss   dfl_loss  Instances       Size\n"
          ]
        },
        {
          "output_type": "stream",
          "name": "stderr",
          "text": [
            "      1/150      3.67G      2.826      4.952       1.84         50        640: 100%|██████████| 3/3 [00:02<00:00,  1.13it/s]\n",
            "                 Class     Images  Instances      Box(P          R      mAP50  mAP50-95): 100%|██████████| 2/2 [00:04<00:00,  2.11s/it]"
          ]
        },
        {
          "output_type": "stream",
          "name": "stdout",
          "text": [
            "                   all         79        135   0.000844      0.148   0.000488   0.000213\n"
          ]
        },
        {
          "output_type": "stream",
          "name": "stderr",
          "text": [
            "\n"
          ]
        },
        {
          "output_type": "stream",
          "name": "stdout",
          "text": [
            "\n",
            "      Epoch    GPU_mem   box_loss   cls_loss   dfl_loss  Instances       Size\n"
          ]
        },
        {
          "output_type": "stream",
          "name": "stderr",
          "text": [
            "      2/150      3.86G      2.655      4.849      1.808         42        640: 100%|██████████| 3/3 [00:01<00:00,  2.55it/s]\n",
            "                 Class     Images  Instances      Box(P          R      mAP50  mAP50-95): 100%|██████████| 2/2 [00:00<00:00,  2.45it/s]"
          ]
        },
        {
          "output_type": "stream",
          "name": "stdout",
          "text": [
            "                   all         79        135   0.000717      0.126   0.000409     0.0002\n"
          ]
        },
        {
          "output_type": "stream",
          "name": "stderr",
          "text": [
            "\n"
          ]
        },
        {
          "output_type": "stream",
          "name": "stdout",
          "text": [
            "\n",
            "      Epoch    GPU_mem   box_loss   cls_loss   dfl_loss  Instances       Size\n"
          ]
        },
        {
          "output_type": "stream",
          "name": "stderr",
          "text": [
            "      3/150      3.89G      2.547      4.662      1.773         53        640: 100%|██████████| 3/3 [00:01<00:00,  1.93it/s]\n",
            "                 Class     Images  Instances      Box(P          R      mAP50  mAP50-95): 100%|██████████| 2/2 [00:00<00:00,  2.52it/s]"
          ]
        },
        {
          "output_type": "stream",
          "name": "stdout",
          "text": [
            "                   all         79        135    0.00207      0.363      0.002   0.000892\n"
          ]
        },
        {
          "output_type": "stream",
          "name": "stderr",
          "text": [
            "\n"
          ]
        },
        {
          "output_type": "stream",
          "name": "stdout",
          "text": [
            "\n",
            "      Epoch    GPU_mem   box_loss   cls_loss   dfl_loss  Instances       Size\n"
          ]
        },
        {
          "output_type": "stream",
          "name": "stderr",
          "text": [
            "      4/150      3.91G       2.12      4.015      1.531         34        640: 100%|██████████| 3/3 [00:01<00:00,  2.94it/s]\n",
            "                 Class     Images  Instances      Box(P          R      mAP50  mAP50-95): 100%|██████████| 2/2 [00:01<00:00,  1.35it/s]"
          ]
        },
        {
          "output_type": "stream",
          "name": "stdout",
          "text": [
            "                   all         79        135    0.00291      0.511    0.00451    0.00196\n"
          ]
        },
        {
          "output_type": "stream",
          "name": "stderr",
          "text": [
            "\n"
          ]
        },
        {
          "output_type": "stream",
          "name": "stdout",
          "text": [
            "\n",
            "      Epoch    GPU_mem   box_loss   cls_loss   dfl_loss  Instances       Size\n"
          ]
        },
        {
          "output_type": "stream",
          "name": "stderr",
          "text": [
            "      5/150      3.92G      2.104      3.407      1.372         58        640: 100%|██████████| 3/3 [00:01<00:00,  2.75it/s]\n",
            "                 Class     Images  Instances      Box(P          R      mAP50  mAP50-95): 100%|██████████| 2/2 [00:00<00:00,  2.40it/s]"
          ]
        },
        {
          "output_type": "stream",
          "name": "stdout",
          "text": [
            "                   all         79        135    0.00376      0.659    0.00743    0.00298\n"
          ]
        },
        {
          "output_type": "stream",
          "name": "stderr",
          "text": [
            "\n"
          ]
        },
        {
          "output_type": "stream",
          "name": "stdout",
          "text": [
            "\n",
            "      Epoch    GPU_mem   box_loss   cls_loss   dfl_loss  Instances       Size\n"
          ]
        },
        {
          "output_type": "stream",
          "name": "stderr",
          "text": [
            "      6/150      3.94G      1.966       3.03      1.287         41        640: 100%|██████████| 3/3 [00:01<00:00,  1.70it/s]\n",
            "                 Class     Images  Instances      Box(P          R      mAP50  mAP50-95): 100%|██████████| 2/2 [00:02<00:00,  1.30s/it]"
          ]
        },
        {
          "output_type": "stream",
          "name": "stdout",
          "text": [
            "                   all         79        135     0.0035      0.615    0.00702    0.00331\n"
          ]
        },
        {
          "output_type": "stream",
          "name": "stderr",
          "text": [
            "\n"
          ]
        },
        {
          "output_type": "stream",
          "name": "stdout",
          "text": [
            "\n",
            "      Epoch    GPU_mem   box_loss   cls_loss   dfl_loss  Instances       Size\n"
          ]
        },
        {
          "output_type": "stream",
          "name": "stderr",
          "text": [
            "      7/150      3.96G      1.893      2.816      1.319         45        640: 100%|██████████| 3/3 [00:01<00:00,  2.94it/s]\n",
            "                 Class     Images  Instances      Box(P          R      mAP50  mAP50-95): 100%|██████████| 2/2 [00:01<00:00,  1.71it/s]"
          ]
        },
        {
          "output_type": "stream",
          "name": "stdout",
          "text": [
            "                   all         79        135    0.00304      0.533    0.00549    0.00226\n"
          ]
        },
        {
          "output_type": "stream",
          "name": "stderr",
          "text": [
            "\n"
          ]
        },
        {
          "output_type": "stream",
          "name": "stdout",
          "text": [
            "\n",
            "      Epoch    GPU_mem   box_loss   cls_loss   dfl_loss  Instances       Size\n"
          ]
        },
        {
          "output_type": "stream",
          "name": "stderr",
          "text": [
            "      8/150      3.97G      1.772       2.45      1.233         52        640: 100%|██████████| 3/3 [00:01<00:00,  2.25it/s]\n",
            "                 Class     Images  Instances      Box(P          R      mAP50  mAP50-95): 100%|██████████| 2/2 [00:01<00:00,  1.34it/s]\n"
          ]
        },
        {
          "output_type": "stream",
          "name": "stdout",
          "text": [
            "                   all         79        135    0.00224      0.393    0.00402    0.00179\n",
            "\n",
            "      Epoch    GPU_mem   box_loss   cls_loss   dfl_loss  Instances       Size\n"
          ]
        },
        {
          "output_type": "stream",
          "name": "stderr",
          "text": [
            "      9/150      3.99G      1.849       2.53      1.294         31        640: 100%|██████████| 3/3 [00:01<00:00,  2.61it/s]\n",
            "                 Class     Images  Instances      Box(P          R      mAP50  mAP50-95): 100%|██████████| 2/2 [00:02<00:00,  1.25s/it]"
          ]
        },
        {
          "output_type": "stream",
          "name": "stdout",
          "text": [
            "                   all         79        135    0.00253      0.444    0.00433    0.00174\n"
          ]
        },
        {
          "output_type": "stream",
          "name": "stderr",
          "text": [
            "\n"
          ]
        },
        {
          "output_type": "stream",
          "name": "stdout",
          "text": [
            "\n",
            "      Epoch    GPU_mem   box_loss   cls_loss   dfl_loss  Instances       Size\n"
          ]
        },
        {
          "output_type": "stream",
          "name": "stderr",
          "text": [
            "     10/150      4.01G      1.715      2.394       1.19         47        640: 100%|██████████| 3/3 [00:01<00:00,  1.84it/s]\n",
            "                 Class     Images  Instances      Box(P          R      mAP50  mAP50-95): 100%|██████████| 2/2 [00:01<00:00,  1.22it/s]"
          ]
        },
        {
          "output_type": "stream",
          "name": "stdout",
          "text": [
            "                   all         79        135    0.00367      0.644    0.00714    0.00281\n"
          ]
        },
        {
          "output_type": "stream",
          "name": "stderr",
          "text": [
            "\n"
          ]
        },
        {
          "output_type": "stream",
          "name": "stdout",
          "text": [
            "\n",
            "      Epoch    GPU_mem   box_loss   cls_loss   dfl_loss  Instances       Size\n"
          ]
        },
        {
          "output_type": "stream",
          "name": "stderr",
          "text": [
            "     11/150      4.02G      1.756      2.217      1.233         59        640: 100%|██████████| 3/3 [00:00<00:00,  3.02it/s]\n",
            "                 Class     Images  Instances      Box(P          R      mAP50  mAP50-95): 100%|██████████| 2/2 [00:01<00:00,  1.34it/s]\n"
          ]
        },
        {
          "output_type": "stream",
          "name": "stdout",
          "text": [
            "                   all         79        135    0.00397      0.696    0.00656    0.00247\n",
            "\n",
            "      Epoch    GPU_mem   box_loss   cls_loss   dfl_loss  Instances       Size\n"
          ]
        },
        {
          "output_type": "stream",
          "name": "stderr",
          "text": [
            "     12/150      4.04G      1.816      2.334      1.213         48        640: 100%|██████████| 3/3 [00:01<00:00,  2.68it/s]\n",
            "                 Class     Images  Instances      Box(P          R      mAP50  mAP50-95): 100%|██████████| 2/2 [00:01<00:00,  1.73it/s]"
          ]
        },
        {
          "output_type": "stream",
          "name": "stdout",
          "text": [
            "                   all         79        135     0.0035      0.615    0.00501    0.00214\n"
          ]
        },
        {
          "output_type": "stream",
          "name": "stderr",
          "text": [
            "\n"
          ]
        },
        {
          "output_type": "stream",
          "name": "stdout",
          "text": [
            "\n",
            "      Epoch    GPU_mem   box_loss   cls_loss   dfl_loss  Instances       Size\n"
          ]
        },
        {
          "output_type": "stream",
          "name": "stderr",
          "text": [
            "     13/150      4.06G      1.683      2.095      1.187         54        640: 100%|██████████| 3/3 [00:01<00:00,  2.78it/s]\n",
            "                 Class     Images  Instances      Box(P          R      mAP50  mAP50-95): 100%|██████████| 2/2 [00:01<00:00,  1.35it/s]"
          ]
        },
        {
          "output_type": "stream",
          "name": "stdout",
          "text": [
            "                   all         79        135    0.00376      0.659     0.0103    0.00574\n"
          ]
        },
        {
          "output_type": "stream",
          "name": "stderr",
          "text": [
            "\n"
          ]
        },
        {
          "output_type": "stream",
          "name": "stdout",
          "text": [
            "\n",
            "      Epoch    GPU_mem   box_loss   cls_loss   dfl_loss  Instances       Size\n"
          ]
        },
        {
          "output_type": "stream",
          "name": "stderr",
          "text": [
            "     14/150      4.08G       1.71      2.047      1.209         42        640: 100%|██████████| 3/3 [00:01<00:00,  1.94it/s]\n",
            "                 Class     Images  Instances      Box(P          R      mAP50  mAP50-95): 100%|██████████| 2/2 [00:01<00:00,  1.03it/s]"
          ]
        },
        {
          "output_type": "stream",
          "name": "stdout",
          "text": [
            "                   all         79        135    0.00333      0.585    0.00368    0.00162\n"
          ]
        },
        {
          "output_type": "stream",
          "name": "stderr",
          "text": [
            "\n"
          ]
        },
        {
          "output_type": "stream",
          "name": "stdout",
          "text": [
            "\n",
            "      Epoch    GPU_mem   box_loss   cls_loss   dfl_loss  Instances       Size\n"
          ]
        },
        {
          "output_type": "stream",
          "name": "stderr",
          "text": [
            "     15/150      4.09G      1.714      2.101      1.171         47        640: 100%|██████████| 3/3 [00:01<00:00,  2.64it/s]\n",
            "                 Class     Images  Instances      Box(P          R      mAP50  mAP50-95): 100%|██████████| 2/2 [00:01<00:00,  1.56it/s]"
          ]
        },
        {
          "output_type": "stream",
          "name": "stdout",
          "text": [
            "                   all         79        135    0.00426      0.748    0.00556    0.00205\n"
          ]
        },
        {
          "output_type": "stream",
          "name": "stderr",
          "text": [
            "\n"
          ]
        },
        {
          "output_type": "stream",
          "name": "stdout",
          "text": [
            "\n",
            "      Epoch    GPU_mem   box_loss   cls_loss   dfl_loss  Instances       Size\n"
          ]
        },
        {
          "output_type": "stream",
          "name": "stderr",
          "text": [
            "     16/150      4.11G       1.73      1.953      1.173         48        640: 100%|██████████| 3/3 [00:01<00:00,  2.94it/s]\n",
            "                 Class     Images  Instances      Box(P          R      mAP50  mAP50-95): 100%|██████████| 2/2 [00:01<00:00,  1.76it/s]\n"
          ]
        },
        {
          "output_type": "stream",
          "name": "stdout",
          "text": [
            "                   all         79        135    0.00346      0.607    0.00389    0.00154\n",
            "\n",
            "      Epoch    GPU_mem   box_loss   cls_loss   dfl_loss  Instances       Size\n"
          ]
        },
        {
          "output_type": "stream",
          "name": "stderr",
          "text": [
            "     17/150      4.13G      1.587       1.94      1.169         37        640: 100%|██████████| 3/3 [00:00<00:00,  3.09it/s]\n",
            "                 Class     Images  Instances      Box(P          R      mAP50  mAP50-95): 100%|██████████| 2/2 [00:01<00:00,  1.19it/s]"
          ]
        },
        {
          "output_type": "stream",
          "name": "stdout",
          "text": [
            "                   all         79        135    0.00287      0.504    0.00821     0.0039\n"
          ]
        },
        {
          "output_type": "stream",
          "name": "stderr",
          "text": [
            "\n"
          ]
        },
        {
          "output_type": "stream",
          "name": "stdout",
          "text": [
            "\n",
            "      Epoch    GPU_mem   box_loss   cls_loss   dfl_loss  Instances       Size\n"
          ]
        },
        {
          "output_type": "stream",
          "name": "stderr",
          "text": [
            "     18/150      4.15G      1.602      1.769      1.219         45        640: 100%|██████████| 3/3 [00:01<00:00,  2.38it/s]\n",
            "                 Class     Images  Instances      Box(P          R      mAP50  mAP50-95): 100%|██████████| 2/2 [00:02<00:00,  1.03s/it]"
          ]
        },
        {
          "output_type": "stream",
          "name": "stdout",
          "text": [
            "                   all         79        135      0.003      0.526     0.0505     0.0312\n"
          ]
        },
        {
          "output_type": "stream",
          "name": "stderr",
          "text": [
            "\n"
          ]
        },
        {
          "output_type": "stream",
          "name": "stdout",
          "text": [
            "\n",
            "      Epoch    GPU_mem   box_loss   cls_loss   dfl_loss  Instances       Size\n"
          ]
        },
        {
          "output_type": "stream",
          "name": "stderr",
          "text": [
            "     19/150      4.16G      1.583      1.752      1.168         33        640: 100%|██████████| 3/3 [00:01<00:00,  2.83it/s]\n",
            "                 Class     Images  Instances      Box(P          R      mAP50  mAP50-95): 100%|██████████| 2/2 [00:01<00:00,  1.48it/s]"
          ]
        },
        {
          "output_type": "stream",
          "name": "stdout",
          "text": [
            "                   all         79        135     0.0035      0.615      0.056     0.0329\n"
          ]
        },
        {
          "output_type": "stream",
          "name": "stderr",
          "text": [
            "\n"
          ]
        },
        {
          "output_type": "stream",
          "name": "stdout",
          "text": [
            "\n",
            "      Epoch    GPU_mem   box_loss   cls_loss   dfl_loss  Instances       Size\n"
          ]
        },
        {
          "output_type": "stream",
          "name": "stderr",
          "text": [
            "     20/150      4.19G      1.578      1.745        1.1         59        640: 100%|██████████| 3/3 [00:00<00:00,  3.16it/s]\n",
            "                 Class     Images  Instances      Box(P          R      mAP50  mAP50-95): 100%|██████████| 2/2 [00:01<00:00,  1.88it/s]\n"
          ]
        },
        {
          "output_type": "stream",
          "name": "stdout",
          "text": [
            "                   all         79        135          1     0.0189     0.0603     0.0408\n",
            "\n",
            "      Epoch    GPU_mem   box_loss   cls_loss   dfl_loss  Instances       Size\n"
          ]
        },
        {
          "output_type": "stream",
          "name": "stderr",
          "text": [
            "     21/150       4.2G      1.497      1.674      1.113         42        640: 100%|██████████| 3/3 [00:00<00:00,  3.23it/s]\n",
            "                 Class     Images  Instances      Box(P          R      mAP50  mAP50-95): 100%|██████████| 2/2 [00:01<00:00,  1.57it/s]"
          ]
        },
        {
          "output_type": "stream",
          "name": "stdout",
          "text": [
            "                   all         79        135          1     0.0208     0.0637      0.043\n"
          ]
        },
        {
          "output_type": "stream",
          "name": "stderr",
          "text": [
            "\n"
          ]
        },
        {
          "output_type": "stream",
          "name": "stdout",
          "text": [
            "\n",
            "      Epoch    GPU_mem   box_loss   cls_loss   dfl_loss  Instances       Size\n"
          ]
        },
        {
          "output_type": "stream",
          "name": "stderr",
          "text": [
            "     22/150      4.22G      1.662      1.662      1.168         47        640: 100%|██████████| 3/3 [00:01<00:00,  2.99it/s]\n",
            "                 Class     Images  Instances      Box(P          R      mAP50  mAP50-95): 100%|██████████| 2/2 [00:01<00:00,  1.47it/s]"
          ]
        },
        {
          "output_type": "stream",
          "name": "stdout",
          "text": [
            "                   all         79        135    0.00173      0.304     0.0489     0.0263\n"
          ]
        },
        {
          "output_type": "stream",
          "name": "stderr",
          "text": [
            "\n"
          ]
        },
        {
          "output_type": "stream",
          "name": "stdout",
          "text": [
            "\n",
            "      Epoch    GPU_mem   box_loss   cls_loss   dfl_loss  Instances       Size\n"
          ]
        },
        {
          "output_type": "stream",
          "name": "stderr",
          "text": [
            "     23/150      4.23G      1.656      1.594      1.181         61        640: 100%|██████████| 3/3 [00:01<00:00,  2.40it/s]\n",
            "                 Class     Images  Instances      Box(P          R      mAP50  mAP50-95): 100%|██████████| 2/2 [00:02<00:00,  1.04s/it]\n"
          ]
        },
        {
          "output_type": "stream",
          "name": "stdout",
          "text": [
            "                   all         79        135    0.00173      0.304     0.0361     0.0211\n",
            "\n",
            "      Epoch    GPU_mem   box_loss   cls_loss   dfl_loss  Instances       Size\n"
          ]
        },
        {
          "output_type": "stream",
          "name": "stderr",
          "text": [
            "     24/150      4.26G      1.509      1.539      1.104         46        640: 100%|██████████| 3/3 [00:00<00:00,  3.04it/s]\n",
            "                 Class     Images  Instances      Box(P          R      mAP50  mAP50-95): 100%|██████████| 2/2 [00:01<00:00,  1.58it/s]"
          ]
        },
        {
          "output_type": "stream",
          "name": "stdout",
          "text": [
            "                   all         79        135    0.00215      0.378     0.0258     0.0181\n"
          ]
        },
        {
          "output_type": "stream",
          "name": "stderr",
          "text": [
            "\n"
          ]
        },
        {
          "output_type": "stream",
          "name": "stdout",
          "text": [
            "\n",
            "      Epoch    GPU_mem   box_loss   cls_loss   dfl_loss  Instances       Size\n"
          ]
        },
        {
          "output_type": "stream",
          "name": "stderr",
          "text": [
            "     25/150      4.26G      1.678       1.67      1.148         60        640: 100%|██████████| 3/3 [00:00<00:00,  3.18it/s]\n",
            "                 Class     Images  Instances      Box(P          R      mAP50  mAP50-95): 100%|██████████| 2/2 [00:01<00:00,  1.26it/s]"
          ]
        },
        {
          "output_type": "stream",
          "name": "stdout",
          "text": [
            "                   all         79        135    0.00249      0.437     0.0488     0.0265\n"
          ]
        },
        {
          "output_type": "stream",
          "name": "stderr",
          "text": [
            "\n"
          ]
        },
        {
          "output_type": "stream",
          "name": "stdout",
          "text": [
            "\n",
            "      Epoch    GPU_mem   box_loss   cls_loss   dfl_loss  Instances       Size\n"
          ]
        },
        {
          "output_type": "stream",
          "name": "stderr",
          "text": [
            "     26/150      4.29G      1.548      1.533      1.151         49        640: 100%|██████████| 3/3 [00:00<00:00,  3.29it/s]\n",
            "                 Class     Images  Instances      Box(P          R      mAP50  mAP50-95): 100%|██████████| 2/2 [00:01<00:00,  1.49it/s]"
          ]
        },
        {
          "output_type": "stream",
          "name": "stdout",
          "text": [
            "                   all         79        135      0.844       0.08      0.193     0.0839\n"
          ]
        },
        {
          "output_type": "stream",
          "name": "stderr",
          "text": [
            "\n"
          ]
        },
        {
          "output_type": "stream",
          "name": "stdout",
          "text": [
            "\n",
            "      Epoch    GPU_mem   box_loss   cls_loss   dfl_loss  Instances       Size\n"
          ]
        },
        {
          "output_type": "stream",
          "name": "stderr",
          "text": [
            "     27/150       4.3G      1.409       1.44      1.086         31        640: 100%|██████████| 3/3 [00:01<00:00,  2.56it/s]\n",
            "                 Class     Images  Instances      Box(P          R      mAP50  mAP50-95): 100%|██████████| 2/2 [00:02<00:00,  1.05s/it]"
          ]
        },
        {
          "output_type": "stream",
          "name": "stdout",
          "text": [
            "                   all         79        135      0.719     0.0947      0.195     0.0901\n"
          ]
        },
        {
          "output_type": "stream",
          "name": "stderr",
          "text": [
            "\n"
          ]
        },
        {
          "output_type": "stream",
          "name": "stdout",
          "text": [
            "\n",
            "      Epoch    GPU_mem   box_loss   cls_loss   dfl_loss  Instances       Size\n"
          ]
        },
        {
          "output_type": "stream",
          "name": "stderr",
          "text": [
            "     28/150      4.32G      1.572      1.517      1.169         52        640: 100%|██████████| 3/3 [00:01<00:00,  2.74it/s]\n",
            "                 Class     Images  Instances      Box(P          R      mAP50  mAP50-95): 100%|██████████| 2/2 [00:01<00:00,  1.64it/s]"
          ]
        },
        {
          "output_type": "stream",
          "name": "stdout",
          "text": [
            "                   all         79        135      0.729      0.156      0.318      0.143\n"
          ]
        },
        {
          "output_type": "stream",
          "name": "stderr",
          "text": [
            "\n"
          ]
        },
        {
          "output_type": "stream",
          "name": "stdout",
          "text": [
            "\n",
            "      Epoch    GPU_mem   box_loss   cls_loss   dfl_loss  Instances       Size\n"
          ]
        },
        {
          "output_type": "stream",
          "name": "stderr",
          "text": [
            "     29/150      4.33G      1.495      1.422      1.118         37        640: 100%|██████████| 3/3 [00:00<00:00,  3.23it/s]\n",
            "                 Class     Images  Instances      Box(P          R      mAP50  mAP50-95): 100%|██████████| 2/2 [00:01<00:00,  1.62it/s]"
          ]
        },
        {
          "output_type": "stream",
          "name": "stdout",
          "text": [
            "                   all         79        135      0.484      0.237      0.273      0.137\n"
          ]
        },
        {
          "output_type": "stream",
          "name": "stderr",
          "text": [
            "\n"
          ]
        },
        {
          "output_type": "stream",
          "name": "stdout",
          "text": [
            "\n",
            "      Epoch    GPU_mem   box_loss   cls_loss   dfl_loss  Instances       Size\n"
          ]
        },
        {
          "output_type": "stream",
          "name": "stderr",
          "text": [
            "     30/150      4.36G      1.469      1.442      1.141         48        640: 100%|██████████| 3/3 [00:00<00:00,  3.14it/s]\n",
            "                 Class     Images  Instances      Box(P          R      mAP50  mAP50-95): 100%|██████████| 2/2 [00:01<00:00,  1.66it/s]"
          ]
        },
        {
          "output_type": "stream",
          "name": "stdout",
          "text": [
            "                   all         79        135      0.355      0.185      0.213      0.108\n"
          ]
        },
        {
          "output_type": "stream",
          "name": "stderr",
          "text": [
            "\n"
          ]
        },
        {
          "output_type": "stream",
          "name": "stdout",
          "text": [
            "\n",
            "      Epoch    GPU_mem   box_loss   cls_loss   dfl_loss  Instances       Size\n"
          ]
        },
        {
          "output_type": "stream",
          "name": "stderr",
          "text": [
            "     31/150      4.37G      1.453      1.436      1.141         46        640: 100%|██████████| 3/3 [00:00<00:00,  3.00it/s]\n",
            "                 Class     Images  Instances      Box(P          R      mAP50  mAP50-95): 100%|██████████| 2/2 [00:01<00:00,  1.44it/s]"
          ]
        },
        {
          "output_type": "stream",
          "name": "stdout",
          "text": [
            "                   all         79        135       0.41      0.211      0.209      0.117\n"
          ]
        },
        {
          "output_type": "stream",
          "name": "stderr",
          "text": [
            "\n"
          ]
        },
        {
          "output_type": "stream",
          "name": "stdout",
          "text": [
            "\n",
            "      Epoch    GPU_mem   box_loss   cls_loss   dfl_loss  Instances       Size\n"
          ]
        },
        {
          "output_type": "stream",
          "name": "stderr",
          "text": [
            "     32/150      4.39G      1.534      1.482      1.115         49        640: 100%|██████████| 3/3 [00:01<00:00,  2.18it/s]\n",
            "                 Class     Images  Instances      Box(P          R      mAP50  mAP50-95): 100%|██████████| 2/2 [00:02<00:00,  1.28s/it]"
          ]
        },
        {
          "output_type": "stream",
          "name": "stdout",
          "text": [
            "                   all         79        135      0.402      0.274      0.263      0.152\n"
          ]
        },
        {
          "output_type": "stream",
          "name": "stderr",
          "text": [
            "\n"
          ]
        },
        {
          "output_type": "stream",
          "name": "stdout",
          "text": [
            "\n",
            "      Epoch    GPU_mem   box_loss   cls_loss   dfl_loss  Instances       Size\n"
          ]
        },
        {
          "output_type": "stream",
          "name": "stderr",
          "text": [
            "     33/150       4.4G      1.432      1.459      1.087         41        640: 100%|██████████| 3/3 [00:00<00:00,  3.06it/s]\n",
            "                 Class     Images  Instances      Box(P          R      mAP50  mAP50-95): 100%|██████████| 2/2 [00:01<00:00,  1.52it/s]"
          ]
        },
        {
          "output_type": "stream",
          "name": "stdout",
          "text": [
            "                   all         79        135      0.315      0.296      0.245      0.151\n"
          ]
        },
        {
          "output_type": "stream",
          "name": "stderr",
          "text": [
            "\n"
          ]
        },
        {
          "output_type": "stream",
          "name": "stdout",
          "text": [
            "\n",
            "      Epoch    GPU_mem   box_loss   cls_loss   dfl_loss  Instances       Size\n"
          ]
        },
        {
          "output_type": "stream",
          "name": "stderr",
          "text": [
            "     34/150      4.43G      1.487      1.419      1.103         48        640: 100%|██████████| 3/3 [00:00<00:00,  3.33it/s]\n",
            "                 Class     Images  Instances      Box(P          R      mAP50  mAP50-95): 100%|██████████| 2/2 [00:01<00:00,  1.30it/s]"
          ]
        },
        {
          "output_type": "stream",
          "name": "stdout",
          "text": [
            "                   all         79        135      0.304      0.382      0.259      0.155\n"
          ]
        },
        {
          "output_type": "stream",
          "name": "stderr",
          "text": [
            "\n"
          ]
        },
        {
          "output_type": "stream",
          "name": "stdout",
          "text": [
            "\n",
            "      Epoch    GPU_mem   box_loss   cls_loss   dfl_loss  Instances       Size\n"
          ]
        },
        {
          "output_type": "stream",
          "name": "stderr",
          "text": [
            "     35/150      4.43G      1.428      1.325      1.079         59        640: 100%|██████████| 3/3 [00:00<00:00,  3.10it/s]\n",
            "                 Class     Images  Instances      Box(P          R      mAP50  mAP50-95): 100%|██████████| 2/2 [00:01<00:00,  1.49it/s]"
          ]
        },
        {
          "output_type": "stream",
          "name": "stdout",
          "text": [
            "                   all         79        135      0.545      0.496      0.496      0.273\n"
          ]
        },
        {
          "output_type": "stream",
          "name": "stderr",
          "text": [
            "\n"
          ]
        },
        {
          "output_type": "stream",
          "name": "stdout",
          "text": [
            "\n",
            "      Epoch    GPU_mem   box_loss   cls_loss   dfl_loss  Instances       Size\n"
          ]
        },
        {
          "output_type": "stream",
          "name": "stderr",
          "text": [
            "     36/150      4.46G       1.41      1.307      1.075         51        640: 100%|██████████| 3/3 [00:01<00:00,  2.28it/s]\n",
            "                 Class     Images  Instances      Box(P          R      mAP50  mAP50-95): 100%|██████████| 2/2 [00:02<00:00,  1.23s/it]"
          ]
        },
        {
          "output_type": "stream",
          "name": "stdout",
          "text": [
            "                   all         79        135      0.636      0.506      0.534      0.306\n"
          ]
        },
        {
          "output_type": "stream",
          "name": "stderr",
          "text": [
            "\n"
          ]
        },
        {
          "output_type": "stream",
          "name": "stdout",
          "text": [
            "\n",
            "      Epoch    GPU_mem   box_loss   cls_loss   dfl_loss  Instances       Size\n"
          ]
        },
        {
          "output_type": "stream",
          "name": "stderr",
          "text": [
            "     37/150      4.47G      1.463       1.36      1.109         64        640: 100%|██████████| 3/3 [00:00<00:00,  3.31it/s]\n",
            "                 Class     Images  Instances      Box(P          R      mAP50  mAP50-95): 100%|██████████| 2/2 [00:01<00:00,  1.58it/s]"
          ]
        },
        {
          "output_type": "stream",
          "name": "stdout",
          "text": [
            "                   all         79        135      0.704      0.444      0.535      0.297\n"
          ]
        },
        {
          "output_type": "stream",
          "name": "stderr",
          "text": [
            "\n"
          ]
        },
        {
          "output_type": "stream",
          "name": "stdout",
          "text": [
            "\n",
            "      Epoch    GPU_mem   box_loss   cls_loss   dfl_loss  Instances       Size\n"
          ]
        },
        {
          "output_type": "stream",
          "name": "stderr",
          "text": [
            "     38/150      4.49G      1.398      1.306      1.072         59        640: 100%|██████████| 3/3 [00:00<00:00,  3.07it/s]\n",
            "                 Class     Images  Instances      Box(P          R      mAP50  mAP50-95): 100%|██████████| 2/2 [00:01<00:00,  1.52it/s]\n"
          ]
        },
        {
          "output_type": "stream",
          "name": "stdout",
          "text": [
            "                   all         79        135      0.454      0.326      0.303      0.165\n",
            "\n",
            "      Epoch    GPU_mem   box_loss   cls_loss   dfl_loss  Instances       Size\n"
          ]
        },
        {
          "output_type": "stream",
          "name": "stderr",
          "text": [
            "     39/150       4.5G       1.38      1.319      1.083         25        640: 100%|██████████| 3/3 [00:00<00:00,  3.25it/s]\n",
            "                 Class     Images  Instances      Box(P          R      mAP50  mAP50-95): 100%|██████████| 2/2 [00:01<00:00,  1.78it/s]"
          ]
        },
        {
          "output_type": "stream",
          "name": "stdout",
          "text": [
            "                   all         79        135      0.271      0.259       0.19      0.105\n"
          ]
        },
        {
          "output_type": "stream",
          "name": "stderr",
          "text": [
            "\n"
          ]
        },
        {
          "output_type": "stream",
          "name": "stdout",
          "text": [
            "\n",
            "      Epoch    GPU_mem   box_loss   cls_loss   dfl_loss  Instances       Size\n"
          ]
        },
        {
          "output_type": "stream",
          "name": "stderr",
          "text": [
            "     40/150      4.53G       1.35      1.219      1.059         58        640: 100%|██████████| 3/3 [00:02<00:00,  1.21it/s]\n",
            "                 Class     Images  Instances      Box(P          R      mAP50  mAP50-95): 100%|██████████| 2/2 [00:02<00:00,  1.13s/it]"
          ]
        },
        {
          "output_type": "stream",
          "name": "stdout",
          "text": [
            "                   all         79        135      0.492      0.341      0.328      0.195\n"
          ]
        },
        {
          "output_type": "stream",
          "name": "stderr",
          "text": [
            "\n"
          ]
        },
        {
          "output_type": "stream",
          "name": "stdout",
          "text": [
            "\n",
            "      Epoch    GPU_mem   box_loss   cls_loss   dfl_loss  Instances       Size\n"
          ]
        },
        {
          "output_type": "stream",
          "name": "stderr",
          "text": [
            "     41/150      4.54G      1.396      1.194      1.075         54        640: 100%|██████████| 3/3 [00:00<00:00,  3.35it/s]\n",
            "                 Class     Images  Instances      Box(P          R      mAP50  mAP50-95): 100%|██████████| 2/2 [00:01<00:00,  1.27it/s]\n"
          ]
        },
        {
          "output_type": "stream",
          "name": "stdout",
          "text": [
            "                   all         79        135      0.689      0.511      0.571      0.319\n",
            "\n",
            "      Epoch    GPU_mem   box_loss   cls_loss   dfl_loss  Instances       Size\n"
          ]
        },
        {
          "output_type": "stream",
          "name": "stderr",
          "text": [
            "     42/150      4.56G      1.347      1.212      1.038         52        640: 100%|██████████| 3/3 [00:00<00:00,  3.09it/s]\n",
            "                 Class     Images  Instances      Box(P          R      mAP50  mAP50-95): 100%|██████████| 2/2 [00:01<00:00,  1.78it/s]"
          ]
        },
        {
          "output_type": "stream",
          "name": "stdout",
          "text": [
            "                   all         79        135      0.679      0.579      0.663      0.365\n"
          ]
        },
        {
          "output_type": "stream",
          "name": "stderr",
          "text": [
            "\n"
          ]
        },
        {
          "output_type": "stream",
          "name": "stdout",
          "text": [
            "\n",
            "      Epoch    GPU_mem   box_loss   cls_loss   dfl_loss  Instances       Size\n"
          ]
        },
        {
          "output_type": "stream",
          "name": "stderr",
          "text": [
            "     43/150      4.57G       1.49      1.262      1.071         41        640: 100%|██████████| 3/3 [00:01<00:00,  2.98it/s]\n",
            "                 Class     Images  Instances      Box(P          R      mAP50  mAP50-95): 100%|██████████| 2/2 [00:01<00:00,  1.60it/s]"
          ]
        },
        {
          "output_type": "stream",
          "name": "stdout",
          "text": [
            "                   all         79        135      0.661      0.549      0.595      0.326\n"
          ]
        },
        {
          "output_type": "stream",
          "name": "stderr",
          "text": [
            "\n"
          ]
        },
        {
          "output_type": "stream",
          "name": "stdout",
          "text": [
            "\n",
            "      Epoch    GPU_mem   box_loss   cls_loss   dfl_loss  Instances       Size\n"
          ]
        },
        {
          "output_type": "stream",
          "name": "stderr",
          "text": [
            "     44/150       4.6G      1.327      1.154      1.053         51        640: 100%|██████████| 3/3 [00:01<00:00,  2.38it/s]\n",
            "                 Class     Images  Instances      Box(P          R      mAP50  mAP50-95): 100%|██████████| 2/2 [00:02<00:00,  1.02s/it]"
          ]
        },
        {
          "output_type": "stream",
          "name": "stdout",
          "text": [
            "                   all         79        135      0.672      0.452      0.535      0.312\n"
          ]
        },
        {
          "output_type": "stream",
          "name": "stderr",
          "text": [
            "\n"
          ]
        },
        {
          "output_type": "stream",
          "name": "stdout",
          "text": [
            "\n",
            "      Epoch    GPU_mem   box_loss   cls_loss   dfl_loss  Instances       Size\n"
          ]
        },
        {
          "output_type": "stream",
          "name": "stderr",
          "text": [
            "     45/150       4.6G       1.32      1.198      1.024         65        640: 100%|██████████| 3/3 [00:00<00:00,  3.25it/s]\n",
            "                 Class     Images  Instances      Box(P          R      mAP50  mAP50-95): 100%|██████████| 2/2 [00:01<00:00,  1.32it/s]"
          ]
        },
        {
          "output_type": "stream",
          "name": "stdout",
          "text": [
            "                   all         79        135      0.489      0.467      0.476      0.288\n"
          ]
        },
        {
          "output_type": "stream",
          "name": "stderr",
          "text": [
            "\n"
          ]
        },
        {
          "output_type": "stream",
          "name": "stdout",
          "text": [
            "\n",
            "      Epoch    GPU_mem   box_loss   cls_loss   dfl_loss  Instances       Size\n"
          ]
        },
        {
          "output_type": "stream",
          "name": "stderr",
          "text": [
            "     46/150      4.63G      1.269      1.099      1.014         45        640: 100%|██████████| 3/3 [00:00<00:00,  3.05it/s]\n",
            "                 Class     Images  Instances      Box(P          R      mAP50  mAP50-95): 100%|██████████| 2/2 [00:01<00:00,  1.47it/s]"
          ]
        },
        {
          "output_type": "stream",
          "name": "stdout",
          "text": [
            "                   all         79        135      0.576      0.556      0.561      0.321\n"
          ]
        },
        {
          "output_type": "stream",
          "name": "stderr",
          "text": [
            "\n"
          ]
        },
        {
          "output_type": "stream",
          "name": "stdout",
          "text": [
            "\n",
            "      Epoch    GPU_mem   box_loss   cls_loss   dfl_loss  Instances       Size\n"
          ]
        },
        {
          "output_type": "stream",
          "name": "stderr",
          "text": [
            "     47/150      4.64G      1.301        1.1      1.073         48        640: 100%|██████████| 3/3 [00:00<00:00,  3.09it/s]\n",
            "                 Class     Images  Instances      Box(P          R      mAP50  mAP50-95): 100%|██████████| 2/2 [00:01<00:00,  1.90it/s]"
          ]
        },
        {
          "output_type": "stream",
          "name": "stdout",
          "text": [
            "                   all         79        135      0.675      0.719      0.739      0.401\n"
          ]
        },
        {
          "output_type": "stream",
          "name": "stderr",
          "text": [
            "\n"
          ]
        },
        {
          "output_type": "stream",
          "name": "stdout",
          "text": [
            "\n",
            "      Epoch    GPU_mem   box_loss   cls_loss   dfl_loss  Instances       Size\n"
          ]
        },
        {
          "output_type": "stream",
          "name": "stderr",
          "text": [
            "     48/150      4.67G      1.311      1.116      1.026         44        640: 100%|██████████| 3/3 [00:00<00:00,  3.18it/s]\n",
            "                 Class     Images  Instances      Box(P          R      mAP50  mAP50-95): 100%|██████████| 2/2 [00:01<00:00,  1.21it/s]"
          ]
        },
        {
          "output_type": "stream",
          "name": "stdout",
          "text": [
            "                   all         79        135       0.74      0.697      0.767      0.443\n"
          ]
        },
        {
          "output_type": "stream",
          "name": "stderr",
          "text": [
            "\n"
          ]
        },
        {
          "output_type": "stream",
          "name": "stdout",
          "text": [
            "\n",
            "      Epoch    GPU_mem   box_loss   cls_loss   dfl_loss  Instances       Size\n"
          ]
        },
        {
          "output_type": "stream",
          "name": "stderr",
          "text": [
            "     49/150      4.67G      1.311      1.097      1.068         33        640: 100%|██████████| 3/3 [00:01<00:00,  2.67it/s]\n",
            "                 Class     Images  Instances      Box(P          R      mAP50  mAP50-95): 100%|██████████| 2/2 [00:02<00:00,  1.09s/it]"
          ]
        },
        {
          "output_type": "stream",
          "name": "stdout",
          "text": [
            "                   all         79        135       0.81        0.6      0.766       0.45\n"
          ]
        },
        {
          "output_type": "stream",
          "name": "stderr",
          "text": [
            "\n"
          ]
        },
        {
          "output_type": "stream",
          "name": "stdout",
          "text": [
            "\n",
            "      Epoch    GPU_mem   box_loss   cls_loss   dfl_loss  Instances       Size\n"
          ]
        },
        {
          "output_type": "stream",
          "name": "stderr",
          "text": [
            "     50/150       4.7G       1.27      1.145      1.002         33        640: 100%|██████████| 3/3 [00:00<00:00,  3.04it/s]\n",
            "                 Class     Images  Instances      Box(P          R      mAP50  mAP50-95): 100%|██████████| 2/2 [00:01<00:00,  1.78it/s]"
          ]
        },
        {
          "output_type": "stream",
          "name": "stdout",
          "text": [
            "                   all         79        135      0.761      0.683      0.813      0.481\n"
          ]
        },
        {
          "output_type": "stream",
          "name": "stderr",
          "text": [
            "\n"
          ]
        },
        {
          "output_type": "stream",
          "name": "stdout",
          "text": [
            "\n",
            "      Epoch    GPU_mem   box_loss   cls_loss   dfl_loss  Instances       Size\n"
          ]
        },
        {
          "output_type": "stream",
          "name": "stderr",
          "text": [
            "     51/150      4.71G      1.367      1.051      1.046         49        640: 100%|██████████| 3/3 [00:00<00:00,  3.27it/s]\n",
            "                 Class     Images  Instances      Box(P          R      mAP50  mAP50-95): 100%|██████████| 2/2 [00:01<00:00,  1.65it/s]"
          ]
        },
        {
          "output_type": "stream",
          "name": "stdout",
          "text": [
            "                   all         79        135      0.774      0.756      0.828      0.505\n"
          ]
        },
        {
          "output_type": "stream",
          "name": "stderr",
          "text": [
            "\n"
          ]
        },
        {
          "output_type": "stream",
          "name": "stdout",
          "text": [
            "\n",
            "      Epoch    GPU_mem   box_loss   cls_loss   dfl_loss  Instances       Size\n"
          ]
        },
        {
          "output_type": "stream",
          "name": "stderr",
          "text": [
            "     52/150      4.73G       1.35       1.09       1.05         44        640: 100%|██████████| 3/3 [00:01<00:00,  2.92it/s]\n",
            "                 Class     Images  Instances      Box(P          R      mAP50  mAP50-95): 100%|██████████| 2/2 [00:00<00:00,  2.20it/s]"
          ]
        },
        {
          "output_type": "stream",
          "name": "stdout",
          "text": [
            "                   all         79        135      0.764       0.79       0.84       0.45\n"
          ]
        },
        {
          "output_type": "stream",
          "name": "stderr",
          "text": [
            "\n"
          ]
        },
        {
          "output_type": "stream",
          "name": "stdout",
          "text": [
            "\n",
            "      Epoch    GPU_mem   box_loss   cls_loss   dfl_loss  Instances       Size\n"
          ]
        },
        {
          "output_type": "stream",
          "name": "stderr",
          "text": [
            "     53/150      4.74G      1.282      1.039      1.065         36        640: 100%|██████████| 3/3 [00:01<00:00,  2.35it/s]\n",
            "                 Class     Images  Instances      Box(P          R      mAP50  mAP50-95): 100%|██████████| 2/2 [00:02<00:00,  1.29s/it]"
          ]
        },
        {
          "output_type": "stream",
          "name": "stdout",
          "text": [
            "                   all         79        135      0.757       0.74      0.794       0.44\n"
          ]
        },
        {
          "output_type": "stream",
          "name": "stderr",
          "text": [
            "\n"
          ]
        },
        {
          "output_type": "stream",
          "name": "stdout",
          "text": [
            "\n",
            "      Epoch    GPU_mem   box_loss   cls_loss   dfl_loss  Instances       Size\n"
          ]
        },
        {
          "output_type": "stream",
          "name": "stderr",
          "text": [
            "     54/150      4.77G      1.405      1.089       1.04         55        640: 100%|██████████| 3/3 [00:00<00:00,  3.09it/s]\n",
            "                 Class     Images  Instances      Box(P          R      mAP50  mAP50-95): 100%|██████████| 2/2 [00:01<00:00,  1.20it/s]"
          ]
        },
        {
          "output_type": "stream",
          "name": "stdout",
          "text": [
            "                   all         79        135      0.853      0.686      0.802      0.476\n"
          ]
        },
        {
          "output_type": "stream",
          "name": "stderr",
          "text": [
            "\n"
          ]
        },
        {
          "output_type": "stream",
          "name": "stdout",
          "text": [
            "\n",
            "      Epoch    GPU_mem   box_loss   cls_loss   dfl_loss  Instances       Size\n"
          ]
        },
        {
          "output_type": "stream",
          "name": "stderr",
          "text": [
            "     55/150      4.77G      1.376      1.137      1.095         32        640: 100%|██████████| 3/3 [00:01<00:00,  2.36it/s]\n",
            "                 Class     Images  Instances      Box(P          R      mAP50  mAP50-95): 100%|██████████| 2/2 [00:00<00:00,  2.02it/s]"
          ]
        },
        {
          "output_type": "stream",
          "name": "stdout",
          "text": [
            "                   all         79        135      0.851      0.704      0.815        0.5\n"
          ]
        },
        {
          "output_type": "stream",
          "name": "stderr",
          "text": [
            "\n"
          ]
        },
        {
          "output_type": "stream",
          "name": "stdout",
          "text": [
            "\n",
            "      Epoch    GPU_mem   box_loss   cls_loss   dfl_loss  Instances       Size\n"
          ]
        },
        {
          "output_type": "stream",
          "name": "stderr",
          "text": [
            "     56/150       4.8G       1.28      1.033      1.045         38        640: 100%|██████████| 3/3 [00:00<00:00,  3.18it/s]\n",
            "                 Class     Images  Instances      Box(P          R      mAP50  mAP50-95): 100%|██████████| 2/2 [00:01<00:00,  1.45it/s]"
          ]
        },
        {
          "output_type": "stream",
          "name": "stdout",
          "text": [
            "                   all         79        135      0.794      0.719      0.803      0.476\n"
          ]
        },
        {
          "output_type": "stream",
          "name": "stderr",
          "text": [
            "\n"
          ]
        },
        {
          "output_type": "stream",
          "name": "stdout",
          "text": [
            "\n",
            "      Epoch    GPU_mem   box_loss   cls_loss   dfl_loss  Instances       Size\n"
          ]
        },
        {
          "output_type": "stream",
          "name": "stderr",
          "text": [
            "     57/150      4.81G      1.239     0.9689      1.029         58        640: 100%|██████████| 3/3 [00:00<00:00,  3.25it/s]\n",
            "                 Class     Images  Instances      Box(P          R      mAP50  mAP50-95): 100%|██████████| 2/2 [00:02<00:00,  1.02s/it]"
          ]
        },
        {
          "output_type": "stream",
          "name": "stdout",
          "text": [
            "                   all         79        135      0.747      0.696      0.765      0.435\n"
          ]
        },
        {
          "output_type": "stream",
          "name": "stderr",
          "text": [
            "\n"
          ]
        },
        {
          "output_type": "stream",
          "name": "stdout",
          "text": [
            "\n",
            "      Epoch    GPU_mem   box_loss   cls_loss   dfl_loss  Instances       Size\n"
          ]
        },
        {
          "output_type": "stream",
          "name": "stderr",
          "text": [
            "     58/150      4.84G      1.186     0.9545     0.9872         44        640: 100%|██████████| 3/3 [00:01<00:00,  2.33it/s]\n",
            "                 Class     Images  Instances      Box(P          R      mAP50  mAP50-95): 100%|██████████| 2/2 [00:01<00:00,  1.38it/s]"
          ]
        },
        {
          "output_type": "stream",
          "name": "stdout",
          "text": [
            "                   all         79        135      0.819      0.681      0.785      0.454\n"
          ]
        },
        {
          "output_type": "stream",
          "name": "stderr",
          "text": [
            "\n"
          ]
        },
        {
          "output_type": "stream",
          "name": "stdout",
          "text": [
            "\n",
            "      Epoch    GPU_mem   box_loss   cls_loss   dfl_loss  Instances       Size\n"
          ]
        },
        {
          "output_type": "stream",
          "name": "stderr",
          "text": [
            "     59/150      4.84G      1.287     0.9548      1.032         46        640: 100%|██████████| 3/3 [00:00<00:00,  3.40it/s]\n",
            "                 Class     Images  Instances      Box(P          R      mAP50  mAP50-95): 100%|██████████| 2/2 [00:01<00:00,  1.77it/s]"
          ]
        },
        {
          "output_type": "stream",
          "name": "stdout",
          "text": [
            "                   all         79        135      0.801      0.696      0.788       0.44\n"
          ]
        },
        {
          "output_type": "stream",
          "name": "stderr",
          "text": [
            "\n"
          ]
        },
        {
          "output_type": "stream",
          "name": "stdout",
          "text": [
            "\n",
            "      Epoch    GPU_mem   box_loss   cls_loss   dfl_loss  Instances       Size\n"
          ]
        },
        {
          "output_type": "stream",
          "name": "stderr",
          "text": [
            "     60/150      4.87G      1.265     0.9191     0.9857         45        640: 100%|██████████| 3/3 [00:01<00:00,  2.98it/s]\n",
            "                 Class     Images  Instances      Box(P          R      mAP50  mAP50-95): 100%|██████████| 2/2 [00:01<00:00,  1.37it/s]"
          ]
        },
        {
          "output_type": "stream",
          "name": "stdout",
          "text": [
            "                   all         79        135      0.755      0.689      0.758      0.426\n"
          ]
        },
        {
          "output_type": "stream",
          "name": "stderr",
          "text": [
            "\n"
          ]
        },
        {
          "output_type": "stream",
          "name": "stdout",
          "text": [
            "\n",
            "      Epoch    GPU_mem   box_loss   cls_loss   dfl_loss  Instances       Size\n"
          ]
        },
        {
          "output_type": "stream",
          "name": "stderr",
          "text": [
            "     61/150      4.88G      1.188     0.9397     0.9901         49        640: 100%|██████████| 3/3 [00:00<00:00,  3.33it/s]\n",
            "                 Class     Images  Instances      Box(P          R      mAP50  mAP50-95): 100%|██████████| 2/2 [00:01<00:00,  1.66it/s]"
          ]
        },
        {
          "output_type": "stream",
          "name": "stdout",
          "text": [
            "                   all         79        135      0.622      0.704        0.7      0.391\n"
          ]
        },
        {
          "output_type": "stream",
          "name": "stderr",
          "text": [
            "\n"
          ]
        },
        {
          "output_type": "stream",
          "name": "stdout",
          "text": [
            "\n",
            "      Epoch    GPU_mem   box_loss   cls_loss   dfl_loss  Instances       Size\n"
          ]
        },
        {
          "output_type": "stream",
          "name": "stderr",
          "text": [
            "     62/150       4.9G      1.207     0.9543     0.9832         37        640: 100%|██████████| 3/3 [00:01<00:00,  2.36it/s]\n",
            "                 Class     Images  Instances      Box(P          R      mAP50  mAP50-95): 100%|██████████| 2/2 [00:02<00:00,  1.16s/it]"
          ]
        },
        {
          "output_type": "stream",
          "name": "stdout",
          "text": [
            "                   all         79        135      0.606      0.467      0.547      0.287\n"
          ]
        },
        {
          "output_type": "stream",
          "name": "stderr",
          "text": [
            "\n"
          ]
        },
        {
          "output_type": "stream",
          "name": "stdout",
          "text": [
            "\n",
            "      Epoch    GPU_mem   box_loss   cls_loss   dfl_loss  Instances       Size\n"
          ]
        },
        {
          "output_type": "stream",
          "name": "stderr",
          "text": [
            "     63/150      4.91G      1.219     0.9209      1.008         43        640: 100%|██████████| 3/3 [00:00<00:00,  3.23it/s]\n",
            "                 Class     Images  Instances      Box(P          R      mAP50  mAP50-95): 100%|██████████| 2/2 [00:01<00:00,  1.49it/s]"
          ]
        },
        {
          "output_type": "stream",
          "name": "stdout",
          "text": [
            "                   all         79        135      0.635      0.474      0.555      0.276\n"
          ]
        },
        {
          "output_type": "stream",
          "name": "stderr",
          "text": [
            "\n"
          ]
        },
        {
          "output_type": "stream",
          "name": "stdout",
          "text": [
            "\n",
            "      Epoch    GPU_mem   box_loss   cls_loss   dfl_loss  Instances       Size\n"
          ]
        },
        {
          "output_type": "stream",
          "name": "stderr",
          "text": [
            "     64/150      4.94G      1.258     0.9613      1.018         40        640: 100%|██████████| 3/3 [00:00<00:00,  3.04it/s]\n",
            "                 Class     Images  Instances      Box(P          R      mAP50  mAP50-95): 100%|██████████| 2/2 [00:01<00:00,  1.80it/s]"
          ]
        },
        {
          "output_type": "stream",
          "name": "stdout",
          "text": [
            "                   all         79        135      0.762      0.617      0.689      0.366\n"
          ]
        },
        {
          "output_type": "stream",
          "name": "stderr",
          "text": [
            "\n"
          ]
        },
        {
          "output_type": "stream",
          "name": "stdout",
          "text": [
            "\n",
            "      Epoch    GPU_mem   box_loss   cls_loss   dfl_loss  Instances       Size\n"
          ]
        },
        {
          "output_type": "stream",
          "name": "stderr",
          "text": [
            "     65/150      4.95G      1.139     0.8513     0.9771         35        640: 100%|██████████| 3/3 [00:00<00:00,  3.25it/s]\n",
            "                 Class     Images  Instances      Box(P          R      mAP50  mAP50-95): 100%|██████████| 2/2 [00:01<00:00,  1.43it/s]"
          ]
        },
        {
          "output_type": "stream",
          "name": "stdout",
          "text": [
            "                   all         79        135      0.755      0.622      0.689      0.379\n"
          ]
        },
        {
          "output_type": "stream",
          "name": "stderr",
          "text": [
            "\n"
          ]
        },
        {
          "output_type": "stream",
          "name": "stdout",
          "text": [
            "\n",
            "      Epoch    GPU_mem   box_loss   cls_loss   dfl_loss  Instances       Size\n"
          ]
        },
        {
          "output_type": "stream",
          "name": "stderr",
          "text": [
            "     66/150      4.97G      1.159     0.8696     0.9888         48        640: 100%|██████████| 3/3 [00:01<00:00,  2.91it/s]\n",
            "                 Class     Images  Instances      Box(P          R      mAP50  mAP50-95): 100%|██████████| 2/2 [00:01<00:00,  1.16it/s]"
          ]
        },
        {
          "output_type": "stream",
          "name": "stdout",
          "text": [
            "                   all         79        135      0.732      0.615      0.669      0.354\n"
          ]
        },
        {
          "output_type": "stream",
          "name": "stderr",
          "text": [
            "\n"
          ]
        },
        {
          "output_type": "stream",
          "name": "stdout",
          "text": [
            "\n",
            "      Epoch    GPU_mem   box_loss   cls_loss   dfl_loss  Instances       Size\n"
          ]
        },
        {
          "output_type": "stream",
          "name": "stderr",
          "text": [
            "     67/150      4.98G      1.192     0.9263     0.9796         43        640: 100%|██████████| 3/3 [00:01<00:00,  2.48it/s]\n",
            "                 Class     Images  Instances      Box(P          R      mAP50  mAP50-95): 100%|██████████| 2/2 [00:01<00:00,  1.25it/s]"
          ]
        },
        {
          "output_type": "stream",
          "name": "stdout",
          "text": [
            "                   all         79        135      0.758      0.628      0.714      0.413\n"
          ]
        },
        {
          "output_type": "stream",
          "name": "stderr",
          "text": [
            "\n"
          ]
        },
        {
          "output_type": "stream",
          "name": "stdout",
          "text": [
            "\n",
            "      Epoch    GPU_mem   box_loss   cls_loss   dfl_loss  Instances       Size\n"
          ]
        },
        {
          "output_type": "stream",
          "name": "stderr",
          "text": [
            "     68/150      5.01G      1.258     0.9049      1.003         35        640: 100%|██████████| 3/3 [00:01<00:00,  2.67it/s]\n",
            "                 Class     Images  Instances      Box(P          R      mAP50  mAP50-95): 100%|██████████| 2/2 [00:01<00:00,  1.95it/s]"
          ]
        },
        {
          "output_type": "stream",
          "name": "stdout",
          "text": [
            "                   all         79        135      0.776      0.726      0.809      0.482\n"
          ]
        },
        {
          "output_type": "stream",
          "name": "stderr",
          "text": [
            "\n"
          ]
        },
        {
          "output_type": "stream",
          "name": "stdout",
          "text": [
            "\n",
            "      Epoch    GPU_mem   box_loss   cls_loss   dfl_loss  Instances       Size\n"
          ]
        },
        {
          "output_type": "stream",
          "name": "stderr",
          "text": [
            "     69/150      5.01G      1.189     0.8958      1.005         38        640: 100%|██████████| 3/3 [00:01<00:00,  3.00it/s]\n",
            "                 Class     Images  Instances      Box(P          R      mAP50  mAP50-95): 100%|██████████| 2/2 [00:01<00:00,  1.70it/s]"
          ]
        },
        {
          "output_type": "stream",
          "name": "stdout",
          "text": [
            "                   all         79        135      0.808      0.659      0.799      0.462\n"
          ]
        },
        {
          "output_type": "stream",
          "name": "stderr",
          "text": [
            "\n"
          ]
        },
        {
          "output_type": "stream",
          "name": "stdout",
          "text": [
            "\n",
            "      Epoch    GPU_mem   box_loss   cls_loss   dfl_loss  Instances       Size\n"
          ]
        },
        {
          "output_type": "stream",
          "name": "stderr",
          "text": [
            "     70/150      5.04G      1.177     0.8651     0.9969         33        640: 100%|██████████| 3/3 [00:01<00:00,  2.55it/s]\n",
            "                 Class     Images  Instances      Box(P          R      mAP50  mAP50-95): 100%|██████████| 2/2 [00:01<00:00,  1.65it/s]"
          ]
        },
        {
          "output_type": "stream",
          "name": "stdout",
          "text": [
            "                   all         79        135      0.736      0.711      0.807      0.467\n"
          ]
        },
        {
          "output_type": "stream",
          "name": "stderr",
          "text": [
            "\n"
          ]
        },
        {
          "output_type": "stream",
          "name": "stdout",
          "text": [
            "\n",
            "      Epoch    GPU_mem   box_loss   cls_loss   dfl_loss  Instances       Size\n"
          ]
        },
        {
          "output_type": "stream",
          "name": "stderr",
          "text": [
            "     71/150      5.05G      1.169     0.8794      1.004         30        640: 100%|██████████| 3/3 [00:01<00:00,  2.36it/s]\n",
            "                 Class     Images  Instances      Box(P          R      mAP50  mAP50-95): 100%|██████████| 2/2 [00:02<00:00,  1.03s/it]"
          ]
        },
        {
          "output_type": "stream",
          "name": "stdout",
          "text": [
            "                   all         79        135      0.815      0.659       0.81       0.49\n"
          ]
        },
        {
          "output_type": "stream",
          "name": "stderr",
          "text": [
            "\n"
          ]
        },
        {
          "output_type": "stream",
          "name": "stdout",
          "text": [
            "\n",
            "      Epoch    GPU_mem   box_loss   cls_loss   dfl_loss  Instances       Size\n"
          ]
        },
        {
          "output_type": "stream",
          "name": "stderr",
          "text": [
            "     72/150      5.07G      1.177     0.8454      1.016         54        640: 100%|██████████| 3/3 [00:01<00:00,  2.75it/s]\n",
            "                 Class     Images  Instances      Box(P          R      mAP50  mAP50-95): 100%|██████████| 2/2 [00:01<00:00,  1.87it/s]\n"
          ]
        },
        {
          "output_type": "stream",
          "name": "stdout",
          "text": [
            "                   all         79        135      0.805      0.637      0.763      0.459\n",
            "\n",
            "      Epoch    GPU_mem   box_loss   cls_loss   dfl_loss  Instances       Size\n"
          ]
        },
        {
          "output_type": "stream",
          "name": "stderr",
          "text": [
            "     73/150      5.08G      1.154     0.8411     0.9792         49        640: 100%|██████████| 3/3 [00:01<00:00,  2.33it/s]\n",
            "                 Class     Images  Instances      Box(P          R      mAP50  mAP50-95): 100%|██████████| 2/2 [00:01<00:00,  1.22it/s]"
          ]
        },
        {
          "output_type": "stream",
          "name": "stdout",
          "text": [
            "                   all         79        135        0.8      0.644      0.747       0.43\n"
          ]
        },
        {
          "output_type": "stream",
          "name": "stderr",
          "text": [
            "\n"
          ]
        },
        {
          "output_type": "stream",
          "name": "stdout",
          "text": [
            "\n",
            "      Epoch    GPU_mem   box_loss   cls_loss   dfl_loss  Instances       Size\n"
          ]
        },
        {
          "output_type": "stream",
          "name": "stderr",
          "text": [
            "     74/150      5.11G      1.243     0.8916      1.016         55        640: 100%|██████████| 3/3 [00:01<00:00,  2.90it/s]\n",
            "                 Class     Images  Instances      Box(P          R      mAP50  mAP50-95): 100%|██████████| 2/2 [00:01<00:00,  1.83it/s]"
          ]
        },
        {
          "output_type": "stream",
          "name": "stdout",
          "text": [
            "                   all         79        135      0.843      0.681      0.798      0.494\n"
          ]
        },
        {
          "output_type": "stream",
          "name": "stderr",
          "text": [
            "\n"
          ]
        },
        {
          "output_type": "stream",
          "name": "stdout",
          "text": [
            "\n",
            "      Epoch    GPU_mem   box_loss   cls_loss   dfl_loss  Instances       Size\n"
          ]
        },
        {
          "output_type": "stream",
          "name": "stderr",
          "text": [
            "     75/150      5.12G      1.111      0.837      1.001         45        640: 100%|██████████| 3/3 [00:00<00:00,  3.14it/s]\n",
            "                 Class     Images  Instances      Box(P          R      mAP50  mAP50-95): 100%|██████████| 2/2 [00:02<00:00,  1.01s/it]"
          ]
        },
        {
          "output_type": "stream",
          "name": "stdout",
          "text": [
            "                   all         79        135      0.858      0.696      0.845      0.536\n"
          ]
        },
        {
          "output_type": "stream",
          "name": "stderr",
          "text": [
            "\n"
          ]
        },
        {
          "output_type": "stream",
          "name": "stdout",
          "text": [
            "\n",
            "      Epoch    GPU_mem   box_loss   cls_loss   dfl_loss  Instances       Size\n"
          ]
        },
        {
          "output_type": "stream",
          "name": "stderr",
          "text": [
            "     76/150      5.14G       1.14     0.8539      1.018         35        640: 100%|██████████| 3/3 [00:01<00:00,  2.37it/s]\n",
            "                 Class     Images  Instances      Box(P          R      mAP50  mAP50-95): 100%|██████████| 2/2 [00:01<00:00,  1.43it/s]"
          ]
        },
        {
          "output_type": "stream",
          "name": "stdout",
          "text": [
            "                   all         79        135      0.857      0.607      0.779      0.454\n"
          ]
        },
        {
          "output_type": "stream",
          "name": "stderr",
          "text": [
            "\n"
          ]
        },
        {
          "output_type": "stream",
          "name": "stdout",
          "text": [
            "\n",
            "      Epoch    GPU_mem   box_loss   cls_loss   dfl_loss  Instances       Size\n"
          ]
        },
        {
          "output_type": "stream",
          "name": "stderr",
          "text": [
            "     77/150      5.15G      1.136     0.7776     0.9719         37        640: 100%|██████████| 3/3 [00:00<00:00,  3.35it/s]\n",
            "                 Class     Images  Instances      Box(P          R      mAP50  mAP50-95): 100%|██████████| 2/2 [00:01<00:00,  1.50it/s]"
          ]
        },
        {
          "output_type": "stream",
          "name": "stdout",
          "text": [
            "                   all         79        135      0.814      0.618      0.761      0.423\n"
          ]
        },
        {
          "output_type": "stream",
          "name": "stderr",
          "text": [
            "\n"
          ]
        },
        {
          "output_type": "stream",
          "name": "stdout",
          "text": [
            "\n",
            "      Epoch    GPU_mem   box_loss   cls_loss   dfl_loss  Instances       Size\n"
          ]
        },
        {
          "output_type": "stream",
          "name": "stderr",
          "text": [
            "     78/150      5.18G      1.157     0.8302     0.9789         39        640: 100%|██████████| 3/3 [00:01<00:00,  2.95it/s]\n",
            "                 Class     Images  Instances      Box(P          R      mAP50  mAP50-95): 100%|██████████| 2/2 [00:01<00:00,  1.66it/s]"
          ]
        },
        {
          "output_type": "stream",
          "name": "stdout",
          "text": [
            "                   all         79        135      0.806      0.584      0.735      0.384\n"
          ]
        },
        {
          "output_type": "stream",
          "name": "stderr",
          "text": [
            "\n"
          ]
        },
        {
          "output_type": "stream",
          "name": "stdout",
          "text": [
            "\n",
            "      Epoch    GPU_mem   box_loss   cls_loss   dfl_loss  Instances       Size\n"
          ]
        },
        {
          "output_type": "stream",
          "name": "stderr",
          "text": [
            "     79/150      5.18G      1.152     0.8795     0.9964         32        640: 100%|██████████| 3/3 [00:00<00:00,  3.41it/s]\n",
            "                 Class     Images  Instances      Box(P          R      mAP50  mAP50-95): 100%|██████████| 2/2 [00:01<00:00,  1.60it/s]"
          ]
        },
        {
          "output_type": "stream",
          "name": "stdout",
          "text": [
            "                   all         79        135      0.814      0.622      0.732      0.378\n"
          ]
        },
        {
          "output_type": "stream",
          "name": "stderr",
          "text": [
            "\n"
          ]
        },
        {
          "output_type": "stream",
          "name": "stdout",
          "text": [
            "\n",
            "      Epoch    GPU_mem   box_loss   cls_loss   dfl_loss  Instances       Size\n"
          ]
        },
        {
          "output_type": "stream",
          "name": "stderr",
          "text": [
            "     80/150      5.21G      1.181     0.8577     0.9998         38        640: 100%|██████████| 3/3 [00:01<00:00,  2.26it/s]\n",
            "                 Class     Images  Instances      Box(P          R      mAP50  mAP50-95): 100%|██████████| 2/2 [00:02<00:00,  1.18s/it]"
          ]
        },
        {
          "output_type": "stream",
          "name": "stdout",
          "text": [
            "                   all         79        135      0.679      0.615      0.655       0.32\n"
          ]
        },
        {
          "output_type": "stream",
          "name": "stderr",
          "text": [
            "\n"
          ]
        },
        {
          "output_type": "stream",
          "name": "stdout",
          "text": [
            "\n",
            "      Epoch    GPU_mem   box_loss   cls_loss   dfl_loss  Instances       Size\n"
          ]
        },
        {
          "output_type": "stream",
          "name": "stderr",
          "text": [
            "     81/150      5.22G      1.173      0.887     0.9907         55        640: 100%|██████████| 3/3 [00:01<00:00,  3.00it/s]\n",
            "                 Class     Images  Instances      Box(P          R      mAP50  mAP50-95): 100%|██████████| 2/2 [00:01<00:00,  1.69it/s]"
          ]
        },
        {
          "output_type": "stream",
          "name": "stdout",
          "text": [
            "                   all         79        135      0.726      0.588      0.665      0.345\n"
          ]
        },
        {
          "output_type": "stream",
          "name": "stderr",
          "text": [
            "\n"
          ]
        },
        {
          "output_type": "stream",
          "name": "stdout",
          "text": [
            "\n",
            "      Epoch    GPU_mem   box_loss   cls_loss   dfl_loss  Instances       Size\n"
          ]
        },
        {
          "output_type": "stream",
          "name": "stderr",
          "text": [
            "     82/150      5.25G      1.023     0.7372     0.9228         44        640: 100%|██████████| 3/3 [00:00<00:00,  3.16it/s]\n",
            "                 Class     Images  Instances      Box(P          R      mAP50  mAP50-95): 100%|██████████| 2/2 [00:01<00:00,  1.43it/s]"
          ]
        },
        {
          "output_type": "stream",
          "name": "stdout",
          "text": [
            "                   all         79        135      0.761      0.708      0.794      0.466\n"
          ]
        },
        {
          "output_type": "stream",
          "name": "stderr",
          "text": [
            "\n"
          ]
        },
        {
          "output_type": "stream",
          "name": "stdout",
          "text": [
            "\n",
            "      Epoch    GPU_mem   box_loss   cls_loss   dfl_loss  Instances       Size\n"
          ]
        },
        {
          "output_type": "stream",
          "name": "stderr",
          "text": [
            "     83/150      5.25G      1.104     0.8234     0.9735         52        640: 100%|██████████| 3/3 [00:00<00:00,  3.39it/s]\n",
            "                 Class     Images  Instances      Box(P          R      mAP50  mAP50-95): 100%|██████████| 2/2 [00:01<00:00,  1.80it/s]"
          ]
        },
        {
          "output_type": "stream",
          "name": "stdout",
          "text": [
            "                   all         79        135      0.785      0.778      0.832      0.479\n"
          ]
        },
        {
          "output_type": "stream",
          "name": "stderr",
          "text": [
            "\n"
          ]
        },
        {
          "output_type": "stream",
          "name": "stdout",
          "text": [
            "\n",
            "      Epoch    GPU_mem   box_loss   cls_loss   dfl_loss  Instances       Size\n"
          ]
        },
        {
          "output_type": "stream",
          "name": "stderr",
          "text": [
            "     84/150      5.28G      1.083     0.7859     0.9585         43        640: 100%|██████████| 3/3 [00:01<00:00,  2.67it/s]\n",
            "                 Class     Images  Instances      Box(P          R      mAP50  mAP50-95): 100%|██████████| 2/2 [00:02<00:00,  1.03s/it]"
          ]
        },
        {
          "output_type": "stream",
          "name": "stdout",
          "text": [
            "                   all         79        135      0.831      0.793      0.861      0.507\n"
          ]
        },
        {
          "output_type": "stream",
          "name": "stderr",
          "text": [
            "\n"
          ]
        },
        {
          "output_type": "stream",
          "name": "stdout",
          "text": [
            "\n",
            "      Epoch    GPU_mem   box_loss   cls_loss   dfl_loss  Instances       Size\n"
          ]
        },
        {
          "output_type": "stream",
          "name": "stderr",
          "text": [
            "     85/150      5.29G      1.055     0.7239     0.9529         36        640: 100%|██████████| 3/3 [00:01<00:00,  2.84it/s]\n",
            "                 Class     Images  Instances      Box(P          R      mAP50  mAP50-95): 100%|██████████| 2/2 [00:01<00:00,  1.43it/s]"
          ]
        },
        {
          "output_type": "stream",
          "name": "stdout",
          "text": [
            "                   all         79        135      0.863      0.749      0.861      0.515\n"
          ]
        },
        {
          "output_type": "stream",
          "name": "stderr",
          "text": [
            "\n"
          ]
        },
        {
          "output_type": "stream",
          "name": "stdout",
          "text": [
            "\n",
            "      Epoch    GPU_mem   box_loss   cls_loss   dfl_loss  Instances       Size\n"
          ]
        },
        {
          "output_type": "stream",
          "name": "stderr",
          "text": [
            "     86/150      5.31G      1.037     0.7187     0.9174         55        640: 100%|██████████| 3/3 [00:01<00:00,  2.99it/s]\n",
            "                 Class     Images  Instances      Box(P          R      mAP50  mAP50-95): 100%|██████████| 2/2 [00:01<00:00,  1.71it/s]"
          ]
        },
        {
          "output_type": "stream",
          "name": "stdout",
          "text": [
            "                   all         79        135      0.868      0.756      0.866      0.527\n"
          ]
        },
        {
          "output_type": "stream",
          "name": "stderr",
          "text": [
            "\n"
          ]
        },
        {
          "output_type": "stream",
          "name": "stdout",
          "text": [
            "\n",
            "      Epoch    GPU_mem   box_loss   cls_loss   dfl_loss  Instances       Size\n"
          ]
        },
        {
          "output_type": "stream",
          "name": "stderr",
          "text": [
            "     87/150      5.32G      1.121     0.8088     0.9415         58        640: 100%|██████████| 3/3 [00:00<00:00,  3.09it/s]\n",
            "                 Class     Images  Instances      Box(P          R      mAP50  mAP50-95): 100%|██████████| 2/2 [00:01<00:00,  1.54it/s]"
          ]
        },
        {
          "output_type": "stream",
          "name": "stdout",
          "text": [
            "                   all         79        135      0.847      0.815      0.875      0.543\n"
          ]
        },
        {
          "output_type": "stream",
          "name": "stderr",
          "text": [
            "\n"
          ]
        },
        {
          "output_type": "stream",
          "name": "stdout",
          "text": [
            "\n",
            "      Epoch    GPU_mem   box_loss   cls_loss   dfl_loss  Instances       Size\n"
          ]
        },
        {
          "output_type": "stream",
          "name": "stderr",
          "text": [
            "     88/150      5.35G      1.052     0.7682      0.978         46        640: 100%|██████████| 3/3 [00:00<00:00,  3.24it/s]\n",
            "                 Class     Images  Instances      Box(P          R      mAP50  mAP50-95): 100%|██████████| 2/2 [00:01<00:00,  1.64it/s]\n"
          ]
        },
        {
          "output_type": "stream",
          "name": "stdout",
          "text": [
            "                   all         79        135      0.883      0.815      0.894      0.574\n",
            "\n",
            "      Epoch    GPU_mem   box_loss   cls_loss   dfl_loss  Instances       Size\n"
          ]
        },
        {
          "output_type": "stream",
          "name": "stderr",
          "text": [
            "     89/150      5.36G      1.069      0.748     0.9495         55        640: 100%|██████████| 3/3 [00:01<00:00,  2.48it/s]\n",
            "                 Class     Images  Instances      Box(P          R      mAP50  mAP50-95): 100%|██████████| 2/2 [00:02<00:00,  1.14s/it]"
          ]
        },
        {
          "output_type": "stream",
          "name": "stdout",
          "text": [
            "                   all         79        135      0.862      0.822      0.892      0.571\n"
          ]
        },
        {
          "output_type": "stream",
          "name": "stderr",
          "text": [
            "\n"
          ]
        },
        {
          "output_type": "stream",
          "name": "stdout",
          "text": [
            "\n",
            "      Epoch    GPU_mem   box_loss   cls_loss   dfl_loss  Instances       Size\n"
          ]
        },
        {
          "output_type": "stream",
          "name": "stderr",
          "text": [
            "     90/150      5.38G      1.105     0.7906     0.9574         39        640: 100%|██████████| 3/3 [00:00<00:00,  3.06it/s]\n",
            "                 Class     Images  Instances      Box(P          R      mAP50  mAP50-95): 100%|██████████| 2/2 [00:01<00:00,  1.66it/s]"
          ]
        },
        {
          "output_type": "stream",
          "name": "stdout",
          "text": [
            "                   all         79        135      0.873      0.778      0.873      0.559\n"
          ]
        },
        {
          "output_type": "stream",
          "name": "stderr",
          "text": [
            "\n"
          ]
        },
        {
          "output_type": "stream",
          "name": "stdout",
          "text": [
            "\n",
            "      Epoch    GPU_mem   box_loss   cls_loss   dfl_loss  Instances       Size\n"
          ]
        },
        {
          "output_type": "stream",
          "name": "stderr",
          "text": [
            "     91/150      5.39G      1.017     0.7457     0.9386         33        640: 100%|██████████| 3/3 [00:00<00:00,  3.18it/s]\n",
            "                 Class     Images  Instances      Box(P          R      mAP50  mAP50-95): 100%|██████████| 2/2 [00:01<00:00,  1.81it/s]"
          ]
        },
        {
          "output_type": "stream",
          "name": "stdout",
          "text": [
            "                   all         79        135      0.895       0.76      0.869      0.553\n"
          ]
        },
        {
          "output_type": "stream",
          "name": "stderr",
          "text": [
            "\n"
          ]
        },
        {
          "output_type": "stream",
          "name": "stdout",
          "text": [
            "\n",
            "      Epoch    GPU_mem   box_loss   cls_loss   dfl_loss  Instances       Size\n"
          ]
        },
        {
          "output_type": "stream",
          "name": "stderr",
          "text": [
            "     92/150      5.42G      1.039     0.7361     0.9257         42        640: 100%|██████████| 3/3 [00:01<00:00,  2.99it/s]\n",
            "                 Class     Images  Instances      Box(P          R      mAP50  mAP50-95): 100%|██████████| 2/2 [00:01<00:00,  1.43it/s]"
          ]
        },
        {
          "output_type": "stream",
          "name": "stdout",
          "text": [
            "                   all         79        135      0.828      0.807      0.875      0.545\n"
          ]
        },
        {
          "output_type": "stream",
          "name": "stderr",
          "text": [
            "\n"
          ]
        },
        {
          "output_type": "stream",
          "name": "stdout",
          "text": [
            "\n",
            "      Epoch    GPU_mem   box_loss   cls_loss   dfl_loss  Instances       Size\n"
          ]
        },
        {
          "output_type": "stream",
          "name": "stderr",
          "text": [
            "     93/150      5.42G     0.9314     0.6815     0.9092         47        640: 100%|██████████| 3/3 [00:00<00:00,  3.29it/s]\n",
            "                 Class     Images  Instances      Box(P          R      mAP50  mAP50-95): 100%|██████████| 2/2 [00:01<00:00,  1.24it/s]\n"
          ]
        },
        {
          "output_type": "stream",
          "name": "stdout",
          "text": [
            "                   all         79        135      0.859       0.81      0.872      0.551\n",
            "\n",
            "      Epoch    GPU_mem   box_loss   cls_loss   dfl_loss  Instances       Size\n"
          ]
        },
        {
          "output_type": "stream",
          "name": "stderr",
          "text": [
            "     94/150      5.45G     0.9955     0.6941      0.932         44        640: 100%|██████████| 3/3 [00:01<00:00,  2.10it/s]\n",
            "                 Class     Images  Instances      Box(P          R      mAP50  mAP50-95): 100%|██████████| 2/2 [00:01<00:00,  1.40it/s]"
          ]
        },
        {
          "output_type": "stream",
          "name": "stdout",
          "text": [
            "                   all         79        135      0.914        0.8      0.878      0.568\n"
          ]
        },
        {
          "output_type": "stream",
          "name": "stderr",
          "text": [
            "\n"
          ]
        },
        {
          "output_type": "stream",
          "name": "stdout",
          "text": [
            "\n",
            "      Epoch    GPU_mem   box_loss   cls_loss   dfl_loss  Instances       Size\n"
          ]
        },
        {
          "output_type": "stream",
          "name": "stderr",
          "text": [
            "     95/150      5.46G      1.078     0.7083     0.9407         53        640: 100%|██████████| 3/3 [00:00<00:00,  3.28it/s]\n",
            "                 Class     Images  Instances      Box(P          R      mAP50  mAP50-95): 100%|██████████| 2/2 [00:01<00:00,  1.58it/s]"
          ]
        },
        {
          "output_type": "stream",
          "name": "stdout",
          "text": [
            "                   all         79        135       0.87      0.846      0.888      0.563\n"
          ]
        },
        {
          "output_type": "stream",
          "name": "stderr",
          "text": [
            "\n"
          ]
        },
        {
          "output_type": "stream",
          "name": "stdout",
          "text": [
            "\n",
            "      Epoch    GPU_mem   box_loss   cls_loss   dfl_loss  Instances       Size\n"
          ]
        },
        {
          "output_type": "stream",
          "name": "stderr",
          "text": [
            "     96/150      5.48G     0.9647     0.6672     0.9304         44        640: 100%|██████████| 3/3 [00:01<00:00,  2.93it/s]\n",
            "                 Class     Images  Instances      Box(P          R      mAP50  mAP50-95): 100%|██████████| 2/2 [00:01<00:00,  1.64it/s]"
          ]
        },
        {
          "output_type": "stream",
          "name": "stdout",
          "text": [
            "                   all         79        135       0.92      0.815        0.9      0.573\n"
          ]
        },
        {
          "output_type": "stream",
          "name": "stderr",
          "text": [
            "\n"
          ]
        },
        {
          "output_type": "stream",
          "name": "stdout",
          "text": [
            "\n",
            "      Epoch    GPU_mem   box_loss   cls_loss   dfl_loss  Instances       Size\n"
          ]
        },
        {
          "output_type": "stream",
          "name": "stderr",
          "text": [
            "     97/150      5.49G     0.9631     0.6873      0.911         45        640: 100%|██████████| 3/3 [00:00<00:00,  3.38it/s]\n",
            "                 Class     Images  Instances      Box(P          R      mAP50  mAP50-95): 100%|██████████| 2/2 [00:01<00:00,  1.56it/s]"
          ]
        },
        {
          "output_type": "stream",
          "name": "stdout",
          "text": [
            "                   all         79        135      0.917      0.818      0.901      0.587\n"
          ]
        },
        {
          "output_type": "stream",
          "name": "stderr",
          "text": [
            "\n"
          ]
        },
        {
          "output_type": "stream",
          "name": "stdout",
          "text": [
            "\n",
            "      Epoch    GPU_mem   box_loss   cls_loss   dfl_loss  Instances       Size\n"
          ]
        },
        {
          "output_type": "stream",
          "name": "stderr",
          "text": [
            "     98/150      5.52G     0.9554     0.6728     0.9119         54        640: 100%|██████████| 3/3 [00:01<00:00,  2.20it/s]\n",
            "                 Class     Images  Instances      Box(P          R      mAP50  mAP50-95): 100%|██████████| 2/2 [00:01<00:00,  1.10it/s]"
          ]
        },
        {
          "output_type": "stream",
          "name": "stdout",
          "text": [
            "                   all         79        135      0.901        0.8      0.889      0.576\n"
          ]
        },
        {
          "output_type": "stream",
          "name": "stderr",
          "text": [
            "\n"
          ]
        },
        {
          "output_type": "stream",
          "name": "stdout",
          "text": [
            "\n",
            "      Epoch    GPU_mem   box_loss   cls_loss   dfl_loss  Instances       Size\n"
          ]
        },
        {
          "output_type": "stream",
          "name": "stderr",
          "text": [
            "     99/150      5.53G     0.9942      0.685     0.9188         48        640: 100%|██████████| 3/3 [00:01<00:00,  2.82it/s]\n",
            "                 Class     Images  Instances      Box(P          R      mAP50  mAP50-95): 100%|██████████| 2/2 [00:01<00:00,  1.41it/s]"
          ]
        },
        {
          "output_type": "stream",
          "name": "stdout",
          "text": [
            "                   all         79        135      0.856       0.83      0.888      0.575\n"
          ]
        },
        {
          "output_type": "stream",
          "name": "stderr",
          "text": [
            "\n"
          ]
        },
        {
          "output_type": "stream",
          "name": "stdout",
          "text": [
            "\n",
            "      Epoch    GPU_mem   box_loss   cls_loss   dfl_loss  Instances       Size\n"
          ]
        },
        {
          "output_type": "stream",
          "name": "stderr",
          "text": [
            "    100/150      5.55G     0.9624     0.6988     0.9324         45        640: 100%|██████████| 3/3 [00:00<00:00,  3.25it/s]\n",
            "                 Class     Images  Instances      Box(P          R      mAP50  mAP50-95): 100%|██████████| 2/2 [00:01<00:00,  1.02it/s]"
          ]
        },
        {
          "output_type": "stream",
          "name": "stdout",
          "text": [
            "                   all         79        135      0.887      0.814      0.892      0.581\n"
          ]
        },
        {
          "output_type": "stream",
          "name": "stderr",
          "text": [
            "\n"
          ]
        },
        {
          "output_type": "stream",
          "name": "stdout",
          "text": [
            "\n",
            "      Epoch    GPU_mem   box_loss   cls_loss   dfl_loss  Instances       Size\n"
          ]
        },
        {
          "output_type": "stream",
          "name": "stderr",
          "text": [
            "    101/150      5.56G      1.027      0.702     0.9394         47        640: 100%|██████████| 3/3 [00:00<00:00,  3.11it/s]\n",
            "                 Class     Images  Instances      Box(P          R      mAP50  mAP50-95): 100%|██████████| 2/2 [00:01<00:00,  1.81it/s]"
          ]
        },
        {
          "output_type": "stream",
          "name": "stdout",
          "text": [
            "                   all         79        135      0.878      0.822       0.91        0.6\n"
          ]
        },
        {
          "output_type": "stream",
          "name": "stderr",
          "text": [
            "\n"
          ]
        },
        {
          "output_type": "stream",
          "name": "stdout",
          "text": [
            "\n",
            "      Epoch    GPU_mem   box_loss   cls_loss   dfl_loss  Instances       Size\n"
          ]
        },
        {
          "output_type": "stream",
          "name": "stderr",
          "text": [
            "    102/150      5.59G     0.9125     0.6326     0.8929         45        640: 100%|██████████| 3/3 [00:00<00:00,  3.21it/s]\n",
            "                 Class     Images  Instances      Box(P          R      mAP50  mAP50-95): 100%|██████████| 2/2 [00:01<00:00,  1.13it/s]"
          ]
        },
        {
          "output_type": "stream",
          "name": "stdout",
          "text": [
            "                   all         79        135      0.926      0.835      0.926      0.622\n"
          ]
        },
        {
          "output_type": "stream",
          "name": "stderr",
          "text": [
            "\n"
          ]
        },
        {
          "output_type": "stream",
          "name": "stdout",
          "text": [
            "\n",
            "      Epoch    GPU_mem   box_loss   cls_loss   dfl_loss  Instances       Size\n"
          ]
        },
        {
          "output_type": "stream",
          "name": "stderr",
          "text": [
            "    103/150      5.59G      1.042     0.7098     0.9133         41        640: 100%|██████████| 3/3 [00:01<00:00,  2.54it/s]\n",
            "                 Class     Images  Instances      Box(P          R      mAP50  mAP50-95): 100%|██████████| 2/2 [00:01<00:00,  1.33it/s]"
          ]
        },
        {
          "output_type": "stream",
          "name": "stdout",
          "text": [
            "                   all         79        135      0.897      0.837      0.925      0.632\n"
          ]
        },
        {
          "output_type": "stream",
          "name": "stderr",
          "text": [
            "\n"
          ]
        },
        {
          "output_type": "stream",
          "name": "stdout",
          "text": [
            "\n",
            "      Epoch    GPU_mem   box_loss   cls_loss   dfl_loss  Instances       Size\n"
          ]
        },
        {
          "output_type": "stream",
          "name": "stderr",
          "text": [
            "    104/150      5.62G      1.009     0.7161     0.9148         50        640: 100%|██████████| 3/3 [00:00<00:00,  3.29it/s]\n",
            "                 Class     Images  Instances      Box(P          R      mAP50  mAP50-95): 100%|██████████| 2/2 [00:01<00:00,  1.73it/s]"
          ]
        },
        {
          "output_type": "stream",
          "name": "stdout",
          "text": [
            "                   all         79        135      0.908      0.904      0.943      0.655\n"
          ]
        },
        {
          "output_type": "stream",
          "name": "stderr",
          "text": [
            "\n"
          ]
        },
        {
          "output_type": "stream",
          "name": "stdout",
          "text": [
            "\n",
            "      Epoch    GPU_mem   box_loss   cls_loss   dfl_loss  Instances       Size\n"
          ]
        },
        {
          "output_type": "stream",
          "name": "stderr",
          "text": [
            "    105/150      5.63G     0.9456     0.6838     0.9165         41        640: 100%|██████████| 3/3 [00:00<00:00,  3.45it/s]\n",
            "                 Class     Images  Instances      Box(P          R      mAP50  mAP50-95): 100%|██████████| 2/2 [00:01<00:00,  1.59it/s]"
          ]
        },
        {
          "output_type": "stream",
          "name": "stdout",
          "text": [
            "                   all         79        135      0.931      0.904      0.952      0.667\n"
          ]
        },
        {
          "output_type": "stream",
          "name": "stderr",
          "text": [
            "\n"
          ]
        },
        {
          "output_type": "stream",
          "name": "stdout",
          "text": [
            "\n",
            "      Epoch    GPU_mem   box_loss   cls_loss   dfl_loss  Instances       Size\n"
          ]
        },
        {
          "output_type": "stream",
          "name": "stderr",
          "text": [
            "    106/150      5.65G     0.9083     0.6323     0.9211         38        640: 100%|██████████| 3/3 [00:00<00:00,  3.10it/s]\n",
            "                 Class     Images  Instances      Box(P          R      mAP50  mAP50-95): 100%|██████████| 2/2 [00:01<00:00,  1.66it/s]"
          ]
        },
        {
          "output_type": "stream",
          "name": "stdout",
          "text": [
            "                   all         79        135      0.938      0.891       0.96      0.667\n"
          ]
        },
        {
          "output_type": "stream",
          "name": "stderr",
          "text": [
            "\n"
          ]
        },
        {
          "output_type": "stream",
          "name": "stdout",
          "text": [
            "\n",
            "      Epoch    GPU_mem   box_loss   cls_loss   dfl_loss  Instances       Size\n"
          ]
        },
        {
          "output_type": "stream",
          "name": "stderr",
          "text": [
            "    107/150      5.66G      1.019     0.6851     0.9002         42        640: 100%|██████████| 3/3 [00:01<00:00,  2.71it/s]\n",
            "                 Class     Images  Instances      Box(P          R      mAP50  mAP50-95): 100%|██████████| 2/2 [00:02<00:00,  1.20s/it]"
          ]
        },
        {
          "output_type": "stream",
          "name": "stdout",
          "text": [
            "                   all         79        135      0.937      0.887      0.954      0.662\n"
          ]
        },
        {
          "output_type": "stream",
          "name": "stderr",
          "text": [
            "\n"
          ]
        },
        {
          "output_type": "stream",
          "name": "stdout",
          "text": [
            "\n",
            "      Epoch    GPU_mem   box_loss   cls_loss   dfl_loss  Instances       Size\n"
          ]
        },
        {
          "output_type": "stream",
          "name": "stderr",
          "text": [
            "    108/150      5.69G      1.006     0.6559     0.9121         59        640: 100%|██████████| 3/3 [00:01<00:00,  2.94it/s]\n",
            "                 Class     Images  Instances      Box(P          R      mAP50  mAP50-95): 100%|██████████| 2/2 [00:01<00:00,  1.70it/s]"
          ]
        },
        {
          "output_type": "stream",
          "name": "stdout",
          "text": [
            "                   all         79        135      0.957      0.824      0.931      0.632\n"
          ]
        },
        {
          "output_type": "stream",
          "name": "stderr",
          "text": [
            "\n"
          ]
        },
        {
          "output_type": "stream",
          "name": "stdout",
          "text": [
            "\n",
            "      Epoch    GPU_mem   box_loss   cls_loss   dfl_loss  Instances       Size\n"
          ]
        },
        {
          "output_type": "stream",
          "name": "stderr",
          "text": [
            "    109/150       5.7G     0.9311      0.658     0.9016         54        640: 100%|██████████| 3/3 [00:00<00:00,  3.15it/s]\n",
            "                 Class     Images  Instances      Box(P          R      mAP50  mAP50-95): 100%|██████████| 2/2 [00:01<00:00,  1.20it/s]"
          ]
        },
        {
          "output_type": "stream",
          "name": "stdout",
          "text": [
            "                   all         79        135      0.937       0.83      0.935      0.637\n"
          ]
        },
        {
          "output_type": "stream",
          "name": "stderr",
          "text": [
            "\n"
          ]
        },
        {
          "output_type": "stream",
          "name": "stdout",
          "text": [
            "\n",
            "      Epoch    GPU_mem   box_loss   cls_loss   dfl_loss  Instances       Size\n"
          ]
        },
        {
          "output_type": "stream",
          "name": "stderr",
          "text": [
            "    110/150      5.72G     0.9805     0.7056     0.9273         32        640: 100%|██████████| 3/3 [00:01<00:00,  2.92it/s]\n",
            "                 Class     Images  Instances      Box(P          R      mAP50  mAP50-95): 100%|██████████| 2/2 [00:01<00:00,  1.76it/s]"
          ]
        },
        {
          "output_type": "stream",
          "name": "stdout",
          "text": [
            "                   all         79        135      0.913      0.911      0.957      0.666\n"
          ]
        },
        {
          "output_type": "stream",
          "name": "stderr",
          "text": [
            "\n"
          ]
        },
        {
          "output_type": "stream",
          "name": "stdout",
          "text": [
            "\n",
            "      Epoch    GPU_mem   box_loss   cls_loss   dfl_loss  Instances       Size\n"
          ]
        },
        {
          "output_type": "stream",
          "name": "stderr",
          "text": [
            "    111/150      5.73G     0.9515     0.6668     0.9127         39        640: 100%|██████████| 3/3 [00:00<00:00,  3.39it/s]\n",
            "                 Class     Images  Instances      Box(P          R      mAP50  mAP50-95): 100%|██████████| 2/2 [00:01<00:00,  1.03it/s]"
          ]
        },
        {
          "output_type": "stream",
          "name": "stdout",
          "text": [
            "                   all         79        135      0.943      0.926       0.96      0.674\n"
          ]
        },
        {
          "output_type": "stream",
          "name": "stderr",
          "text": [
            "\n"
          ]
        },
        {
          "output_type": "stream",
          "name": "stdout",
          "text": [
            "\n",
            "      Epoch    GPU_mem   box_loss   cls_loss   dfl_loss  Instances       Size\n"
          ]
        },
        {
          "output_type": "stream",
          "name": "stderr",
          "text": [
            "    112/150      5.76G     0.9247     0.6411     0.8893         55        640: 100%|██████████| 3/3 [00:01<00:00,  2.30it/s]\n",
            "                 Class     Images  Instances      Box(P          R      mAP50  mAP50-95): 100%|██████████| 2/2 [00:01<00:00,  1.38it/s]"
          ]
        },
        {
          "output_type": "stream",
          "name": "stdout",
          "text": [
            "                   all         79        135      0.935      0.933      0.968      0.665\n"
          ]
        },
        {
          "output_type": "stream",
          "name": "stderr",
          "text": [
            "\n"
          ]
        },
        {
          "output_type": "stream",
          "name": "stdout",
          "text": [
            "\n",
            "      Epoch    GPU_mem   box_loss   cls_loss   dfl_loss  Instances       Size\n"
          ]
        },
        {
          "output_type": "stream",
          "name": "stderr",
          "text": [
            "    113/150      5.76G     0.9815     0.6745     0.9352         40        640: 100%|██████████| 3/3 [00:01<00:00,  2.92it/s]\n",
            "                 Class     Images  Instances      Box(P          R      mAP50  mAP50-95): 100%|██████████| 2/2 [00:01<00:00,  1.75it/s]\n"
          ]
        },
        {
          "output_type": "stream",
          "name": "stdout",
          "text": [
            "                   all         79        135      0.948      0.939      0.971      0.667\n",
            "\n",
            "      Epoch    GPU_mem   box_loss   cls_loss   dfl_loss  Instances       Size\n"
          ]
        },
        {
          "output_type": "stream",
          "name": "stderr",
          "text": [
            "    114/150      5.79G      0.909     0.5967     0.9116         44        640: 100%|██████████| 3/3 [00:01<00:00,  2.84it/s]\n",
            "                 Class     Images  Instances      Box(P          R      mAP50  mAP50-95): 100%|██████████| 2/2 [00:01<00:00,  1.33it/s]"
          ]
        },
        {
          "output_type": "stream",
          "name": "stdout",
          "text": [
            "                   all         79        135      0.946      0.933       0.97      0.686\n"
          ]
        },
        {
          "output_type": "stream",
          "name": "stderr",
          "text": [
            "\n"
          ]
        },
        {
          "output_type": "stream",
          "name": "stdout",
          "text": [
            "\n",
            "      Epoch    GPU_mem   box_loss   cls_loss   dfl_loss  Instances       Size\n"
          ]
        },
        {
          "output_type": "stream",
          "name": "stderr",
          "text": [
            "    115/150       5.8G     0.8947     0.6068     0.8978         59        640: 100%|██████████| 3/3 [00:00<00:00,  3.43it/s]\n",
            "                 Class     Images  Instances      Box(P          R      mAP50  mAP50-95): 100%|██████████| 2/2 [00:01<00:00,  1.46it/s]"
          ]
        },
        {
          "output_type": "stream",
          "name": "stdout",
          "text": [
            "                   all         79        135      0.955      0.946      0.976      0.693\n"
          ]
        },
        {
          "output_type": "stream",
          "name": "stderr",
          "text": [
            "\n"
          ]
        },
        {
          "output_type": "stream",
          "name": "stdout",
          "text": [
            "\n",
            "      Epoch    GPU_mem   box_loss   cls_loss   dfl_loss  Instances       Size\n"
          ]
        },
        {
          "output_type": "stream",
          "name": "stderr",
          "text": [
            "    116/150      5.83G      0.923     0.5896     0.9106         45        640: 100%|██████████| 3/3 [00:01<00:00,  2.45it/s]\n",
            "                 Class     Images  Instances      Box(P          R      mAP50  mAP50-95): 100%|██████████| 2/2 [00:01<00:00,  1.00it/s]"
          ]
        },
        {
          "output_type": "stream",
          "name": "stdout",
          "text": [
            "                   all         79        135       0.94      0.936      0.973      0.676\n"
          ]
        },
        {
          "output_type": "stream",
          "name": "stderr",
          "text": [
            "\n"
          ]
        },
        {
          "output_type": "stream",
          "name": "stdout",
          "text": [
            "\n",
            "      Epoch    GPU_mem   box_loss   cls_loss   dfl_loss  Instances       Size\n"
          ]
        },
        {
          "output_type": "stream",
          "name": "stderr",
          "text": [
            "    117/150      5.83G       1.01      0.694     0.9185         29        640: 100%|██████████| 3/3 [00:00<00:00,  3.23it/s]\n",
            "                 Class     Images  Instances      Box(P          R      mAP50  mAP50-95): 100%|██████████| 2/2 [00:01<00:00,  1.57it/s]"
          ]
        },
        {
          "output_type": "stream",
          "name": "stdout",
          "text": [
            "                   all         79        135      0.939      0.926       0.97      0.672\n"
          ]
        },
        {
          "output_type": "stream",
          "name": "stderr",
          "text": [
            "\n"
          ]
        },
        {
          "output_type": "stream",
          "name": "stdout",
          "text": [
            "\n",
            "      Epoch    GPU_mem   box_loss   cls_loss   dfl_loss  Instances       Size\n"
          ]
        },
        {
          "output_type": "stream",
          "name": "stderr",
          "text": [
            "    118/150      5.86G     0.9461     0.6176     0.8991         45        640: 100%|██████████| 3/3 [00:00<00:00,  3.12it/s]\n",
            "                 Class     Images  Instances      Box(P          R      mAP50  mAP50-95): 100%|██████████| 2/2 [00:01<00:00,  1.72it/s]"
          ]
        },
        {
          "output_type": "stream",
          "name": "stdout",
          "text": [
            "                   all         79        135      0.925      0.908      0.949      0.644\n"
          ]
        },
        {
          "output_type": "stream",
          "name": "stderr",
          "text": [
            "\n"
          ]
        },
        {
          "output_type": "stream",
          "name": "stdout",
          "text": [
            "\n",
            "      Epoch    GPU_mem   box_loss   cls_loss   dfl_loss  Instances       Size\n"
          ]
        },
        {
          "output_type": "stream",
          "name": "stderr",
          "text": [
            "    119/150      5.87G     0.9397     0.6476     0.9038         43        640: 100%|██████████| 3/3 [00:00<00:00,  3.12it/s]\n",
            "                 Class     Images  Instances      Box(P          R      mAP50  mAP50-95): 100%|██████████| 2/2 [00:01<00:00,  1.70it/s]"
          ]
        },
        {
          "output_type": "stream",
          "name": "stdout",
          "text": [
            "                   all         79        135      0.909       0.89      0.945      0.637\n"
          ]
        },
        {
          "output_type": "stream",
          "name": "stderr",
          "text": [
            "\n"
          ]
        },
        {
          "output_type": "stream",
          "name": "stdout",
          "text": [
            "\n",
            "      Epoch    GPU_mem   box_loss   cls_loss   dfl_loss  Instances       Size\n"
          ]
        },
        {
          "output_type": "stream",
          "name": "stderr",
          "text": [
            "    120/150      5.89G     0.9408     0.6177     0.8893         33        640: 100%|██████████| 3/3 [00:01<00:00,  2.87it/s]\n",
            "                 Class     Images  Instances      Box(P          R      mAP50  mAP50-95): 100%|██████████| 2/2 [00:02<00:00,  1.04s/it]"
          ]
        },
        {
          "output_type": "stream",
          "name": "stdout",
          "text": [
            "                   all         79        135      0.929      0.896      0.947      0.626\n"
          ]
        },
        {
          "output_type": "stream",
          "name": "stderr",
          "text": [
            "\n"
          ]
        },
        {
          "output_type": "stream",
          "name": "stdout",
          "text": [
            "\n",
            "      Epoch    GPU_mem   box_loss   cls_loss   dfl_loss  Instances       Size\n"
          ]
        },
        {
          "output_type": "stream",
          "name": "stderr",
          "text": [
            "    121/150       5.9G     0.9208       0.62      0.898         42        640: 100%|██████████| 3/3 [00:01<00:00,  2.56it/s]\n",
            "                 Class     Images  Instances      Box(P          R      mAP50  mAP50-95): 100%|██████████| 2/2 [00:01<00:00,  1.45it/s]"
          ]
        },
        {
          "output_type": "stream",
          "name": "stdout",
          "text": [
            "                   all         79        135       0.94      0.881      0.943      0.627\n"
          ]
        },
        {
          "output_type": "stream",
          "name": "stderr",
          "text": [
            "\n"
          ]
        },
        {
          "output_type": "stream",
          "name": "stdout",
          "text": [
            "\n",
            "      Epoch    GPU_mem   box_loss   cls_loss   dfl_loss  Instances       Size\n"
          ]
        },
        {
          "output_type": "stream",
          "name": "stderr",
          "text": [
            "    122/150      5.93G     0.8465     0.5965     0.8812         40        640: 100%|██████████| 3/3 [00:00<00:00,  3.21it/s]\n",
            "                 Class     Images  Instances      Box(P          R      mAP50  mAP50-95): 100%|██████████| 2/2 [00:01<00:00,  1.53it/s]"
          ]
        },
        {
          "output_type": "stream",
          "name": "stdout",
          "text": [
            "                   all         79        135      0.957      0.919      0.952       0.65\n"
          ]
        },
        {
          "output_type": "stream",
          "name": "stderr",
          "text": [
            "\n"
          ]
        },
        {
          "output_type": "stream",
          "name": "stdout",
          "text": [
            "\n",
            "      Epoch    GPU_mem   box_loss   cls_loss   dfl_loss  Instances       Size\n"
          ]
        },
        {
          "output_type": "stream",
          "name": "stderr",
          "text": [
            "    123/150      5.93G     0.8438     0.5894     0.8925         43        640: 100%|██████████| 3/3 [00:00<00:00,  3.31it/s]\n",
            "                 Class     Images  Instances      Box(P          R      mAP50  mAP50-95): 100%|██████████| 2/2 [00:01<00:00,  1.51it/s]"
          ]
        },
        {
          "output_type": "stream",
          "name": "stdout",
          "text": [
            "                   all         79        135      0.955      0.919      0.953      0.649\n"
          ]
        },
        {
          "output_type": "stream",
          "name": "stderr",
          "text": [
            "\n"
          ]
        },
        {
          "output_type": "stream",
          "name": "stdout",
          "text": [
            "\n",
            "      Epoch    GPU_mem   box_loss   cls_loss   dfl_loss  Instances       Size\n"
          ]
        },
        {
          "output_type": "stream",
          "name": "stderr",
          "text": [
            "    124/150      5.96G     0.8758     0.6019     0.8804         45        640: 100%|██████████| 3/3 [00:00<00:00,  3.05it/s]\n",
            "                 Class     Images  Instances      Box(P          R      mAP50  mAP50-95): 100%|██████████| 2/2 [00:00<00:00,  2.21it/s]"
          ]
        },
        {
          "output_type": "stream",
          "name": "stdout",
          "text": [
            "                   all         79        135      0.926      0.941      0.958      0.639\n"
          ]
        },
        {
          "output_type": "stream",
          "name": "stderr",
          "text": [
            "\n"
          ]
        },
        {
          "output_type": "stream",
          "name": "stdout",
          "text": [
            "\n",
            "      Epoch    GPU_mem   box_loss   cls_loss   dfl_loss  Instances       Size\n"
          ]
        },
        {
          "output_type": "stream",
          "name": "stderr",
          "text": [
            "    125/150      5.97G     0.8224     0.5931     0.8836         33        640: 100%|██████████| 3/3 [00:01<00:00,  2.41it/s]\n",
            "                 Class     Images  Instances      Box(P          R      mAP50  mAP50-95): 100%|██████████| 2/2 [00:02<00:00,  1.12s/it]"
          ]
        },
        {
          "output_type": "stream",
          "name": "stdout",
          "text": [
            "                   all         79        135      0.963      0.911      0.961      0.639\n"
          ]
        },
        {
          "output_type": "stream",
          "name": "stderr",
          "text": [
            "\n"
          ]
        },
        {
          "output_type": "stream",
          "name": "stdout",
          "text": [
            "\n",
            "      Epoch    GPU_mem   box_loss   cls_loss   dfl_loss  Instances       Size\n"
          ]
        },
        {
          "output_type": "stream",
          "name": "stderr",
          "text": [
            "    126/150         6G     0.8857     0.5902        0.9         57        640: 100%|██████████| 3/3 [00:00<00:00,  3.42it/s]\n",
            "                 Class     Images  Instances      Box(P          R      mAP50  mAP50-95): 100%|██████████| 2/2 [00:01<00:00,  1.56it/s]"
          ]
        },
        {
          "output_type": "stream",
          "name": "stdout",
          "text": [
            "                   all         79        135       0.96      0.926      0.964      0.645\n"
          ]
        },
        {
          "output_type": "stream",
          "name": "stderr",
          "text": [
            "\n"
          ]
        },
        {
          "output_type": "stream",
          "name": "stdout",
          "text": [
            "\n",
            "      Epoch    GPU_mem   box_loss   cls_loss   dfl_loss  Instances       Size\n"
          ]
        },
        {
          "output_type": "stream",
          "name": "stderr",
          "text": [
            "    127/150         6G      0.925     0.6026     0.9204         43        640: 100%|██████████| 3/3 [00:00<00:00,  3.30it/s]\n",
            "                 Class     Images  Instances      Box(P          R      mAP50  mAP50-95): 100%|██████████| 2/2 [00:01<00:00,  1.62it/s]\n"
          ]
        },
        {
          "output_type": "stream",
          "name": "stdout",
          "text": [
            "                   all         79        135       0.96      0.926      0.967      0.656\n",
            "\n",
            "      Epoch    GPU_mem   box_loss   cls_loss   dfl_loss  Instances       Size\n"
          ]
        },
        {
          "output_type": "stream",
          "name": "stderr",
          "text": [
            "    128/150      6.03G     0.8956     0.5877     0.8995         33        640: 100%|██████████| 3/3 [00:01<00:00,  2.84it/s]\n",
            "                 Class     Images  Instances      Box(P          R      mAP50  mAP50-95): 100%|██████████| 2/2 [00:01<00:00,  1.68it/s]"
          ]
        },
        {
          "output_type": "stream",
          "name": "stdout",
          "text": [
            "                   all         79        135      0.967      0.904      0.964      0.648\n"
          ]
        },
        {
          "output_type": "stream",
          "name": "stderr",
          "text": [
            "\n"
          ]
        },
        {
          "output_type": "stream",
          "name": "stdout",
          "text": [
            "\n",
            "      Epoch    GPU_mem   box_loss   cls_loss   dfl_loss  Instances       Size\n"
          ]
        },
        {
          "output_type": "stream",
          "name": "stderr",
          "text": [
            "    129/150      6.04G     0.8773     0.5905     0.8987         39        640: 100%|██████████| 3/3 [00:00<00:00,  3.17it/s]\n",
            "                 Class     Images  Instances      Box(P          R      mAP50  mAP50-95): 100%|██████████| 2/2 [00:01<00:00,  1.41it/s]"
          ]
        },
        {
          "output_type": "stream",
          "name": "stdout",
          "text": [
            "                   all         79        135      0.946      0.901      0.959      0.641\n"
          ]
        },
        {
          "output_type": "stream",
          "name": "stderr",
          "text": [
            "\n"
          ]
        },
        {
          "output_type": "stream",
          "name": "stdout",
          "text": [
            "\n",
            "      Epoch    GPU_mem   box_loss   cls_loss   dfl_loss  Instances       Size\n"
          ]
        },
        {
          "output_type": "stream",
          "name": "stderr",
          "text": [
            "    130/150      6.06G     0.8415     0.5636     0.8766         47        640: 100%|██████████| 3/3 [00:01<00:00,  2.41it/s]\n",
            "                 Class     Images  Instances      Box(P          R      mAP50  mAP50-95): 100%|██████████| 2/2 [00:01<00:00,  1.24it/s]"
          ]
        },
        {
          "output_type": "stream",
          "name": "stdout",
          "text": [
            "                   all         79        135      0.943      0.904      0.953      0.641\n"
          ]
        },
        {
          "output_type": "stream",
          "name": "stderr",
          "text": [
            "\n"
          ]
        },
        {
          "output_type": "stream",
          "name": "stdout",
          "text": [
            "\n",
            "      Epoch    GPU_mem   box_loss   cls_loss   dfl_loss  Instances       Size\n"
          ]
        },
        {
          "output_type": "stream",
          "name": "stderr",
          "text": [
            "    131/150      6.07G     0.8331     0.5655      0.873         49        640: 100%|██████████| 3/3 [00:00<00:00,  3.16it/s]\n",
            "                 Class     Images  Instances      Box(P          R      mAP50  mAP50-95): 100%|██████████| 2/2 [00:01<00:00,  1.59it/s]"
          ]
        },
        {
          "output_type": "stream",
          "name": "stdout",
          "text": [
            "                   all         79        135      0.949      0.904      0.952      0.663\n"
          ]
        },
        {
          "output_type": "stream",
          "name": "stderr",
          "text": [
            "\n"
          ]
        },
        {
          "output_type": "stream",
          "name": "stdout",
          "text": [
            "\n",
            "      Epoch    GPU_mem   box_loss   cls_loss   dfl_loss  Instances       Size\n"
          ]
        },
        {
          "output_type": "stream",
          "name": "stderr",
          "text": [
            "    132/150       6.1G      0.816     0.5365     0.8856         50        640: 100%|██████████| 3/3 [00:00<00:00,  3.10it/s]\n",
            "                 Class     Images  Instances      Box(P          R      mAP50  mAP50-95): 100%|██████████| 2/2 [00:01<00:00,  1.67it/s]"
          ]
        },
        {
          "output_type": "stream",
          "name": "stdout",
          "text": [
            "                   all         79        135      0.952      0.904      0.953      0.666\n"
          ]
        },
        {
          "output_type": "stream",
          "name": "stderr",
          "text": [
            "\n"
          ]
        },
        {
          "output_type": "stream",
          "name": "stdout",
          "text": [
            "\n",
            "      Epoch    GPU_mem   box_loss   cls_loss   dfl_loss  Instances       Size\n"
          ]
        },
        {
          "output_type": "stream",
          "name": "stderr",
          "text": [
            "    133/150      6.11G     0.8258     0.5731     0.8812         42        640: 100%|██████████| 3/3 [00:00<00:00,  3.24it/s]\n",
            "                 Class     Images  Instances      Box(P          R      mAP50  mAP50-95): 100%|██████████| 2/2 [00:01<00:00,  1.61it/s]"
          ]
        },
        {
          "output_type": "stream",
          "name": "stdout",
          "text": [
            "                   all         79        135      0.949      0.904      0.952       0.66\n"
          ]
        },
        {
          "output_type": "stream",
          "name": "stderr",
          "text": [
            "\n"
          ]
        },
        {
          "output_type": "stream",
          "name": "stdout",
          "text": [
            "\n",
            "      Epoch    GPU_mem   box_loss   cls_loss   dfl_loss  Instances       Size\n"
          ]
        },
        {
          "output_type": "stream",
          "name": "stderr",
          "text": [
            "    134/150      6.13G     0.7781     0.5454     0.8696         42        640: 100%|██████████| 3/3 [00:01<00:00,  2.59it/s]\n",
            "                 Class     Images  Instances      Box(P          R      mAP50  mAP50-95): 100%|██████████| 2/2 [00:02<00:00,  1.02s/it]"
          ]
        },
        {
          "output_type": "stream",
          "name": "stdout",
          "text": [
            "                   all         79        135      0.946        0.9      0.949       0.66\n"
          ]
        },
        {
          "output_type": "stream",
          "name": "stderr",
          "text": [
            "\n"
          ]
        },
        {
          "output_type": "stream",
          "name": "stdout",
          "text": [
            "\n",
            "      Epoch    GPU_mem   box_loss   cls_loss   dfl_loss  Instances       Size\n"
          ]
        },
        {
          "output_type": "stream",
          "name": "stderr",
          "text": [
            "    135/150      6.14G     0.8182     0.5304     0.8687         40        640: 100%|██████████| 3/3 [00:01<00:00,  2.59it/s]\n",
            "                 Class     Images  Instances      Box(P          R      mAP50  mAP50-95): 100%|██████████| 2/2 [00:01<00:00,  1.44it/s]"
          ]
        },
        {
          "output_type": "stream",
          "name": "stdout",
          "text": [
            "                   all         79        135      0.947      0.896      0.952      0.659\n"
          ]
        },
        {
          "output_type": "stream",
          "name": "stderr",
          "text": [
            "\n"
          ]
        },
        {
          "output_type": "stream",
          "name": "stdout",
          "text": [
            "\n",
            "      Epoch    GPU_mem   box_loss   cls_loss   dfl_loss  Instances       Size\n"
          ]
        },
        {
          "output_type": "stream",
          "name": "stderr",
          "text": [
            "    136/150      6.17G     0.8416      0.551     0.8902         48        640: 100%|██████████| 3/3 [00:00<00:00,  3.11it/s]\n",
            "                 Class     Images  Instances      Box(P          R      mAP50  mAP50-95): 100%|██████████| 2/2 [00:01<00:00,  1.84it/s]"
          ]
        },
        {
          "output_type": "stream",
          "name": "stdout",
          "text": [
            "                   all         79        135      0.932      0.908      0.958      0.663\n"
          ]
        },
        {
          "output_type": "stream",
          "name": "stderr",
          "text": [
            "\n"
          ]
        },
        {
          "output_type": "stream",
          "name": "stdout",
          "text": [
            "\n",
            "      Epoch    GPU_mem   box_loss   cls_loss   dfl_loss  Instances       Size\n"
          ]
        },
        {
          "output_type": "stream",
          "name": "stderr",
          "text": [
            "    137/150      6.17G     0.8598     0.5724     0.8822         49        640: 100%|██████████| 3/3 [00:00<00:00,  3.45it/s]\n",
            "                 Class     Images  Instances      Box(P          R      mAP50  mAP50-95): 100%|██████████| 2/2 [00:01<00:00,  1.42it/s]"
          ]
        },
        {
          "output_type": "stream",
          "name": "stdout",
          "text": [
            "                   all         79        135      0.924      0.903       0.95       0.66\n"
          ]
        },
        {
          "output_type": "stream",
          "name": "stderr",
          "text": [
            "\n"
          ]
        },
        {
          "output_type": "stream",
          "name": "stdout",
          "text": [
            "\n",
            "      Epoch    GPU_mem   box_loss   cls_loss   dfl_loss  Instances       Size\n"
          ]
        },
        {
          "output_type": "stream",
          "name": "stderr",
          "text": [
            "    138/150       6.2G     0.8655     0.5892     0.9045         42        640: 100%|██████████| 3/3 [00:01<00:00,  2.78it/s]\n",
            "                 Class     Images  Instances      Box(P          R      mAP50  mAP50-95): 100%|██████████| 2/2 [00:01<00:00,  1.86it/s]"
          ]
        },
        {
          "output_type": "stream",
          "name": "stdout",
          "text": [
            "                   all         79        135      0.921      0.904      0.948       0.66\n"
          ]
        },
        {
          "output_type": "stream",
          "name": "stderr",
          "text": [
            "\n"
          ]
        },
        {
          "output_type": "stream",
          "name": "stdout",
          "text": [
            "\n",
            "      Epoch    GPU_mem   box_loss   cls_loss   dfl_loss  Instances       Size\n"
          ]
        },
        {
          "output_type": "stream",
          "name": "stderr",
          "text": [
            "    139/150      6.21G     0.7777     0.5196     0.8669         31        640: 100%|██████████| 3/3 [00:01<00:00,  2.36it/s]\n",
            "                 Class     Images  Instances      Box(P          R      mAP50  mAP50-95): 100%|██████████| 2/2 [00:02<00:00,  1.12s/it]"
          ]
        },
        {
          "output_type": "stream",
          "name": "stdout",
          "text": [
            "                   all         79        135      0.918      0.889      0.944      0.654\n"
          ]
        },
        {
          "output_type": "stream",
          "name": "stderr",
          "text": [
            "\n"
          ]
        },
        {
          "output_type": "stream",
          "name": "stdout",
          "text": [
            "\n",
            "      Epoch    GPU_mem   box_loss   cls_loss   dfl_loss  Instances       Size\n"
          ]
        },
        {
          "output_type": "stream",
          "name": "stderr",
          "text": [
            "    140/150      6.23G     0.8166     0.5412     0.8463         62        640: 100%|██████████| 3/3 [00:00<00:00,  3.15it/s]\n",
            "                 Class     Images  Instances      Box(P          R      mAP50  mAP50-95): 100%|██████████| 2/2 [00:01<00:00,  1.57it/s]"
          ]
        },
        {
          "output_type": "stream",
          "name": "stdout",
          "text": [
            "                   all         79        135      0.922      0.878      0.942      0.654\n"
          ]
        },
        {
          "output_type": "stream",
          "name": "stderr",
          "text": [
            "\n"
          ]
        },
        {
          "output_type": "stream",
          "name": "stdout",
          "text": [
            "Closing dataloader mosaic\n",
            "\u001b[34m\u001b[1malbumentations: \u001b[0mBlur(p=0.01, blur_limit=(3, 7)), MedianBlur(p=0.01, blur_limit=(3, 7)), ToGray(p=0.01, method='weighted_average', num_output_channels=3), CLAHE(p=0.01, clip_limit=(1.0, 4.0), tile_grid_size=(8, 8))\n",
            "\n",
            "      Epoch    GPU_mem   box_loss   cls_loss   dfl_loss  Instances       Size\n"
          ]
        },
        {
          "output_type": "stream",
          "name": "stderr",
          "text": [
            "    141/150      6.24G     0.8148     0.5939      0.881         23        640: 100%|██████████| 3/3 [00:04<00:00,  1.42s/it]\n",
            "                 Class     Images  Instances      Box(P          R      mAP50  mAP50-95): 100%|██████████| 2/2 [00:01<00:00,  1.55it/s]"
          ]
        },
        {
          "output_type": "stream",
          "name": "stdout",
          "text": [
            "                   all         79        135      0.924      0.906      0.945      0.654\n"
          ]
        },
        {
          "output_type": "stream",
          "name": "stderr",
          "text": [
            "\n"
          ]
        },
        {
          "output_type": "stream",
          "name": "stdout",
          "text": [
            "\n",
            "      Epoch    GPU_mem   box_loss   cls_loss   dfl_loss  Instances       Size\n"
          ]
        },
        {
          "output_type": "stream",
          "name": "stderr",
          "text": [
            "    142/150      6.27G     0.8579     0.5933     0.9099         23        640: 100%|██████████| 3/3 [00:01<00:00,  2.36it/s]\n",
            "                 Class     Images  Instances      Box(P          R      mAP50  mAP50-95): 100%|██████████| 2/2 [00:01<00:00,  1.23it/s]"
          ]
        },
        {
          "output_type": "stream",
          "name": "stdout",
          "text": [
            "                   all         79        135      0.915      0.911      0.944      0.645\n"
          ]
        },
        {
          "output_type": "stream",
          "name": "stderr",
          "text": [
            "\n"
          ]
        },
        {
          "output_type": "stream",
          "name": "stdout",
          "text": [
            "\n",
            "      Epoch    GPU_mem   box_loss   cls_loss   dfl_loss  Instances       Size\n"
          ]
        },
        {
          "output_type": "stream",
          "name": "stderr",
          "text": [
            "    143/150      6.28G     0.7973     0.5483     0.8642         28        640: 100%|██████████| 3/3 [00:01<00:00,  2.91it/s]\n",
            "                 Class     Images  Instances      Box(P          R      mAP50  mAP50-95): 100%|██████████| 2/2 [00:00<00:00,  2.41it/s]"
          ]
        },
        {
          "output_type": "stream",
          "name": "stdout",
          "text": [
            "                   all         79        135      0.925      0.911      0.946      0.645\n"
          ]
        },
        {
          "output_type": "stream",
          "name": "stderr",
          "text": [
            "\n"
          ]
        },
        {
          "output_type": "stream",
          "name": "stdout",
          "text": [
            "\n",
            "      Epoch    GPU_mem   box_loss   cls_loss   dfl_loss  Instances       Size\n"
          ]
        },
        {
          "output_type": "stream",
          "name": "stderr",
          "text": [
            "    144/150       6.3G     0.7608     0.5292     0.8542         22        640: 100%|██████████| 3/3 [00:01<00:00,  2.95it/s]\n",
            "                 Class     Images  Instances      Box(P          R      mAP50  mAP50-95): 100%|██████████| 2/2 [00:00<00:00,  2.53it/s]"
          ]
        },
        {
          "output_type": "stream",
          "name": "stdout",
          "text": [
            "                   all         79        135      0.924      0.904      0.944      0.644\n"
          ]
        },
        {
          "output_type": "stream",
          "name": "stderr",
          "text": [
            "\n"
          ]
        },
        {
          "output_type": "stream",
          "name": "stdout",
          "text": [
            "\n",
            "      Epoch    GPU_mem   box_loss   cls_loss   dfl_loss  Instances       Size\n"
          ]
        },
        {
          "output_type": "stream",
          "name": "stderr",
          "text": [
            "    145/150      6.31G     0.8054     0.5614     0.8577         24        640: 100%|██████████| 3/3 [00:00<00:00,  3.25it/s]\n",
            "                 Class     Images  Instances      Box(P          R      mAP50  mAP50-95): 100%|██████████| 2/2 [00:01<00:00,  1.49it/s]"
          ]
        },
        {
          "output_type": "stream",
          "name": "stdout",
          "text": [
            "                   all         79        135      0.921      0.911      0.949      0.646\n"
          ]
        },
        {
          "output_type": "stream",
          "name": "stderr",
          "text": [
            "\n"
          ]
        },
        {
          "output_type": "stream",
          "name": "stdout",
          "text": [
            "\n",
            "      Epoch    GPU_mem   box_loss   cls_loss   dfl_loss  Instances       Size\n"
          ]
        },
        {
          "output_type": "stream",
          "name": "stderr",
          "text": [
            "    146/150      6.34G     0.8185       0.63     0.8726         17        640: 100%|██████████| 3/3 [00:01<00:00,  2.98it/s]\n",
            "                 Class     Images  Instances      Box(P          R      mAP50  mAP50-95): 100%|██████████| 2/2 [00:01<00:00,  1.33it/s]"
          ]
        },
        {
          "output_type": "stream",
          "name": "stdout",
          "text": [
            "                   all         79        135      0.921      0.896      0.952      0.649\n"
          ]
        },
        {
          "output_type": "stream",
          "name": "stderr",
          "text": [
            "\n"
          ]
        },
        {
          "output_type": "stream",
          "name": "stdout",
          "text": [
            "\n",
            "      Epoch    GPU_mem   box_loss   cls_loss   dfl_loss  Instances       Size\n"
          ]
        },
        {
          "output_type": "stream",
          "name": "stderr",
          "text": [
            "    147/150      6.34G     0.7537     0.5476     0.8491         24        640: 100%|██████████| 3/3 [00:01<00:00,  2.52it/s]\n",
            "                 Class     Images  Instances      Box(P          R      mAP50  mAP50-95): 100%|██████████| 2/2 [00:01<00:00,  1.13it/s]"
          ]
        },
        {
          "output_type": "stream",
          "name": "stdout",
          "text": [
            "                   all         79        135      0.917      0.904      0.945      0.653\n"
          ]
        },
        {
          "output_type": "stream",
          "name": "stderr",
          "text": [
            "\n"
          ]
        },
        {
          "output_type": "stream",
          "name": "stdout",
          "text": [
            "\n",
            "      Epoch    GPU_mem   box_loss   cls_loss   dfl_loss  Instances       Size\n"
          ]
        },
        {
          "output_type": "stream",
          "name": "stderr",
          "text": [
            "    148/150      6.37G     0.7799     0.5278     0.8692         30        640: 100%|██████████| 3/3 [00:01<00:00,  2.92it/s]\n",
            "                 Class     Images  Instances      Box(P          R      mAP50  mAP50-95): 100%|██████████| 2/2 [00:01<00:00,  1.93it/s]"
          ]
        },
        {
          "output_type": "stream",
          "name": "stdout",
          "text": [
            "                   all         79        135      0.926      0.904      0.946       0.65\n"
          ]
        },
        {
          "output_type": "stream",
          "name": "stderr",
          "text": [
            "\n"
          ]
        },
        {
          "output_type": "stream",
          "name": "stdout",
          "text": [
            "\n",
            "      Epoch    GPU_mem   box_loss   cls_loss   dfl_loss  Instances       Size\n"
          ]
        },
        {
          "output_type": "stream",
          "name": "stderr",
          "text": [
            "    149/150      6.38G     0.8234     0.5459     0.8486         34        640: 100%|██████████| 3/3 [00:00<00:00,  3.19it/s]\n",
            "                 Class     Images  Instances      Box(P          R      mAP50  mAP50-95): 100%|██████████| 2/2 [00:01<00:00,  1.58it/s]"
          ]
        },
        {
          "output_type": "stream",
          "name": "stdout",
          "text": [
            "                   all         79        135      0.933      0.904      0.948      0.651\n"
          ]
        },
        {
          "output_type": "stream",
          "name": "stderr",
          "text": [
            "\n"
          ]
        },
        {
          "output_type": "stream",
          "name": "stdout",
          "text": [
            "\n",
            "      Epoch    GPU_mem   box_loss   cls_loss   dfl_loss  Instances       Size\n"
          ]
        },
        {
          "output_type": "stream",
          "name": "stderr",
          "text": [
            "    150/150      6.41G     0.7985     0.5418     0.8754         33        640: 100%|██████████| 3/3 [00:00<00:00,  3.14it/s]\n",
            "                 Class     Images  Instances      Box(P          R      mAP50  mAP50-95): 100%|██████████| 2/2 [00:01<00:00,  1.80it/s]"
          ]
        },
        {
          "output_type": "stream",
          "name": "stdout",
          "text": [
            "                   all         79        135      0.944      0.904      0.949      0.659\n"
          ]
        },
        {
          "output_type": "stream",
          "name": "stderr",
          "text": [
            "\n"
          ]
        },
        {
          "output_type": "stream",
          "name": "stdout",
          "text": [
            "\n",
            "150 epochs completed in 0.137 hours.\n",
            "Optimizer stripped from /content/drive/MyDrive/model_custom1/yolov8n_TLEF_1/weights/last.pt, 6.2MB\n",
            "Optimizer stripped from /content/drive/MyDrive/model_custom1/yolov8n_TLEF_1/weights/best.pt, 6.2MB\n",
            "\n",
            "Validating /content/drive/MyDrive/model_custom1/yolov8n_TLEF_1/weights/best.pt...\n",
            "Ultralytics 8.3.163 🚀 Python-3.11.13 torch-2.6.0+cu124 CUDA:0 (Tesla T4, 15095MiB)\n",
            "Model summary (fused): 72 layers, 3,005,843 parameters, 0 gradients, 8.1 GFLOPs\n"
          ]
        },
        {
          "output_type": "stream",
          "name": "stderr",
          "text": [
            "                 Class     Images  Instances      Box(P          R      mAP50  mAP50-95): 100%|██████████| 2/2 [00:01<00:00,  1.31it/s]\n"
          ]
        },
        {
          "output_type": "stream",
          "name": "stdout",
          "text": [
            "                   all         79        135      0.955      0.946      0.976      0.694\n",
            "Speed: 0.1ms preprocess, 2.3ms inference, 0.0ms loss, 4.0ms postprocess per image\n",
            "Results saved to \u001b[1m/content/drive/MyDrive/model_custom1/yolov8n_TLEF_1\u001b[0m\n"
          ]
        },
        {
          "output_type": "execute_result",
          "data": {
            "text/plain": [
              "ultralytics.utils.metrics.DetMetrics object with attributes:\n",
              "\n",
              "ap_class_index: array([0])\n",
              "box: ultralytics.utils.metrics.Metric object\n",
              "confusion_matrix: <ultralytics.utils.metrics.ConfusionMatrix object at 0x7b3d7acdd550>\n",
              "curves: ['Precision-Recall(B)', 'F1-Confidence(B)', 'Precision-Confidence(B)', 'Recall-Confidence(B)']\n",
              "curves_results: [[array([          0,    0.001001,    0.002002,    0.003003,    0.004004,    0.005005,    0.006006,    0.007007,    0.008008,    0.009009,     0.01001,    0.011011,    0.012012,    0.013013,    0.014014,    0.015015,    0.016016,    0.017017,    0.018018,    0.019019,     0.02002,    0.021021,    0.022022,    0.023023,\n",
              "          0.024024,    0.025025,    0.026026,    0.027027,    0.028028,    0.029029,     0.03003,    0.031031,    0.032032,    0.033033,    0.034034,    0.035035,    0.036036,    0.037037,    0.038038,    0.039039,     0.04004,    0.041041,    0.042042,    0.043043,    0.044044,    0.045045,    0.046046,    0.047047,\n",
              "          0.048048,    0.049049,     0.05005,    0.051051,    0.052052,    0.053053,    0.054054,    0.055055,    0.056056,    0.057057,    0.058058,    0.059059,     0.06006,    0.061061,    0.062062,    0.063063,    0.064064,    0.065065,    0.066066,    0.067067,    0.068068,    0.069069,     0.07007,    0.071071,\n",
              "          0.072072,    0.073073,    0.074074,    0.075075,    0.076076,    0.077077,    0.078078,    0.079079,     0.08008,    0.081081,    0.082082,    0.083083,    0.084084,    0.085085,    0.086086,    0.087087,    0.088088,    0.089089,     0.09009,    0.091091,    0.092092,    0.093093,    0.094094,    0.095095,\n",
              "          0.096096,    0.097097,    0.098098,    0.099099,      0.1001,      0.1011,      0.1021,      0.1031,      0.1041,     0.10511,     0.10611,     0.10711,     0.10811,     0.10911,     0.11011,     0.11111,     0.11211,     0.11311,     0.11411,     0.11512,     0.11612,     0.11712,     0.11812,     0.11912,\n",
              "           0.12012,     0.12112,     0.12212,     0.12312,     0.12412,     0.12513,     0.12613,     0.12713,     0.12813,     0.12913,     0.13013,     0.13113,     0.13213,     0.13313,     0.13413,     0.13514,     0.13614,     0.13714,     0.13814,     0.13914,     0.14014,     0.14114,     0.14214,     0.14314,\n",
              "           0.14414,     0.14515,     0.14615,     0.14715,     0.14815,     0.14915,     0.15015,     0.15115,     0.15215,     0.15315,     0.15415,     0.15516,     0.15616,     0.15716,     0.15816,     0.15916,     0.16016,     0.16116,     0.16216,     0.16316,     0.16416,     0.16517,     0.16617,     0.16717,\n",
              "           0.16817,     0.16917,     0.17017,     0.17117,     0.17217,     0.17317,     0.17417,     0.17518,     0.17618,     0.17718,     0.17818,     0.17918,     0.18018,     0.18118,     0.18218,     0.18318,     0.18418,     0.18519,     0.18619,     0.18719,     0.18819,     0.18919,     0.19019,     0.19119,\n",
              "           0.19219,     0.19319,     0.19419,      0.1952,      0.1962,      0.1972,      0.1982,      0.1992,      0.2002,      0.2012,      0.2022,      0.2032,      0.2042,     0.20521,     0.20621,     0.20721,     0.20821,     0.20921,     0.21021,     0.21121,     0.21221,     0.21321,     0.21421,     0.21522,\n",
              "           0.21622,     0.21722,     0.21822,     0.21922,     0.22022,     0.22122,     0.22222,     0.22322,     0.22422,     0.22523,     0.22623,     0.22723,     0.22823,     0.22923,     0.23023,     0.23123,     0.23223,     0.23323,     0.23423,     0.23524,     0.23624,     0.23724,     0.23824,     0.23924,\n",
              "           0.24024,     0.24124,     0.24224,     0.24324,     0.24424,     0.24525,     0.24625,     0.24725,     0.24825,     0.24925,     0.25025,     0.25125,     0.25225,     0.25325,     0.25425,     0.25526,     0.25626,     0.25726,     0.25826,     0.25926,     0.26026,     0.26126,     0.26226,     0.26326,\n",
              "           0.26426,     0.26527,     0.26627,     0.26727,     0.26827,     0.26927,     0.27027,     0.27127,     0.27227,     0.27327,     0.27427,     0.27528,     0.27628,     0.27728,     0.27828,     0.27928,     0.28028,     0.28128,     0.28228,     0.28328,     0.28428,     0.28529,     0.28629,     0.28729,\n",
              "           0.28829,     0.28929,     0.29029,     0.29129,     0.29229,     0.29329,     0.29429,      0.2953,      0.2963,      0.2973,      0.2983,      0.2993,      0.3003,      0.3013,      0.3023,      0.3033,      0.3043,     0.30531,     0.30631,     0.30731,     0.30831,     0.30931,     0.31031,     0.31131,\n",
              "           0.31231,     0.31331,     0.31431,     0.31532,     0.31632,     0.31732,     0.31832,     0.31932,     0.32032,     0.32132,     0.32232,     0.32332,     0.32432,     0.32533,     0.32633,     0.32733,     0.32833,     0.32933,     0.33033,     0.33133,     0.33233,     0.33333,     0.33433,     0.33534,\n",
              "           0.33634,     0.33734,     0.33834,     0.33934,     0.34034,     0.34134,     0.34234,     0.34334,     0.34434,     0.34535,     0.34635,     0.34735,     0.34835,     0.34935,     0.35035,     0.35135,     0.35235,     0.35335,     0.35435,     0.35536,     0.35636,     0.35736,     0.35836,     0.35936,\n",
              "           0.36036,     0.36136,     0.36236,     0.36336,     0.36436,     0.36537,     0.36637,     0.36737,     0.36837,     0.36937,     0.37037,     0.37137,     0.37237,     0.37337,     0.37437,     0.37538,     0.37638,     0.37738,     0.37838,     0.37938,     0.38038,     0.38138,     0.38238,     0.38338,\n",
              "           0.38438,     0.38539,     0.38639,     0.38739,     0.38839,     0.38939,     0.39039,     0.39139,     0.39239,     0.39339,     0.39439,      0.3954,      0.3964,      0.3974,      0.3984,      0.3994,      0.4004,      0.4014,      0.4024,      0.4034,      0.4044,     0.40541,     0.40641,     0.40741,\n",
              "           0.40841,     0.40941,     0.41041,     0.41141,     0.41241,     0.41341,     0.41441,     0.41542,     0.41642,     0.41742,     0.41842,     0.41942,     0.42042,     0.42142,     0.42242,     0.42342,     0.42442,     0.42543,     0.42643,     0.42743,     0.42843,     0.42943,     0.43043,     0.43143,\n",
              "           0.43243,     0.43343,     0.43443,     0.43544,     0.43644,     0.43744,     0.43844,     0.43944,     0.44044,     0.44144,     0.44244,     0.44344,     0.44444,     0.44545,     0.44645,     0.44745,     0.44845,     0.44945,     0.45045,     0.45145,     0.45245,     0.45345,     0.45445,     0.45546,\n",
              "           0.45646,     0.45746,     0.45846,     0.45946,     0.46046,     0.46146,     0.46246,     0.46346,     0.46446,     0.46547,     0.46647,     0.46747,     0.46847,     0.46947,     0.47047,     0.47147,     0.47247,     0.47347,     0.47447,     0.47548,     0.47648,     0.47748,     0.47848,     0.47948,\n",
              "           0.48048,     0.48148,     0.48248,     0.48348,     0.48448,     0.48549,     0.48649,     0.48749,     0.48849,     0.48949,     0.49049,     0.49149,     0.49249,     0.49349,     0.49449,      0.4955,      0.4965,      0.4975,      0.4985,      0.4995,      0.5005,      0.5015,      0.5025,      0.5035,\n",
              "            0.5045,     0.50551,     0.50651,     0.50751,     0.50851,     0.50951,     0.51051,     0.51151,     0.51251,     0.51351,     0.51451,     0.51552,     0.51652,     0.51752,     0.51852,     0.51952,     0.52052,     0.52152,     0.52252,     0.52352,     0.52452,     0.52553,     0.52653,     0.52753,\n",
              "           0.52853,     0.52953,     0.53053,     0.53153,     0.53253,     0.53353,     0.53453,     0.53554,     0.53654,     0.53754,     0.53854,     0.53954,     0.54054,     0.54154,     0.54254,     0.54354,     0.54454,     0.54555,     0.54655,     0.54755,     0.54855,     0.54955,     0.55055,     0.55155,\n",
              "           0.55255,     0.55355,     0.55455,     0.55556,     0.55656,     0.55756,     0.55856,     0.55956,     0.56056,     0.56156,     0.56256,     0.56356,     0.56456,     0.56557,     0.56657,     0.56757,     0.56857,     0.56957,     0.57057,     0.57157,     0.57257,     0.57357,     0.57457,     0.57558,\n",
              "           0.57658,     0.57758,     0.57858,     0.57958,     0.58058,     0.58158,     0.58258,     0.58358,     0.58458,     0.58559,     0.58659,     0.58759,     0.58859,     0.58959,     0.59059,     0.59159,     0.59259,     0.59359,     0.59459,      0.5956,      0.5966,      0.5976,      0.5986,      0.5996,\n",
              "            0.6006,      0.6016,      0.6026,      0.6036,      0.6046,     0.60561,     0.60661,     0.60761,     0.60861,     0.60961,     0.61061,     0.61161,     0.61261,     0.61361,     0.61461,     0.61562,     0.61662,     0.61762,     0.61862,     0.61962,     0.62062,     0.62162,     0.62262,     0.62362,\n",
              "           0.62462,     0.62563,     0.62663,     0.62763,     0.62863,     0.62963,     0.63063,     0.63163,     0.63263,     0.63363,     0.63463,     0.63564,     0.63664,     0.63764,     0.63864,     0.63964,     0.64064,     0.64164,     0.64264,     0.64364,     0.64464,     0.64565,     0.64665,     0.64765,\n",
              "           0.64865,     0.64965,     0.65065,     0.65165,     0.65265,     0.65365,     0.65465,     0.65566,     0.65666,     0.65766,     0.65866,     0.65966,     0.66066,     0.66166,     0.66266,     0.66366,     0.66466,     0.66567,     0.66667,     0.66767,     0.66867,     0.66967,     0.67067,     0.67167,\n",
              "           0.67267,     0.67367,     0.67467,     0.67568,     0.67668,     0.67768,     0.67868,     0.67968,     0.68068,     0.68168,     0.68268,     0.68368,     0.68468,     0.68569,     0.68669,     0.68769,     0.68869,     0.68969,     0.69069,     0.69169,     0.69269,     0.69369,     0.69469,      0.6957,\n",
              "            0.6967,      0.6977,      0.6987,      0.6997,      0.7007,      0.7017,      0.7027,      0.7037,      0.7047,     0.70571,     0.70671,     0.70771,     0.70871,     0.70971,     0.71071,     0.71171,     0.71271,     0.71371,     0.71471,     0.71572,     0.71672,     0.71772,     0.71872,     0.71972,\n",
              "           0.72072,     0.72172,     0.72272,     0.72372,     0.72472,     0.72573,     0.72673,     0.72773,     0.72873,     0.72973,     0.73073,     0.73173,     0.73273,     0.73373,     0.73473,     0.73574,     0.73674,     0.73774,     0.73874,     0.73974,     0.74074,     0.74174,     0.74274,     0.74374,\n",
              "           0.74474,     0.74575,     0.74675,     0.74775,     0.74875,     0.74975,     0.75075,     0.75175,     0.75275,     0.75375,     0.75475,     0.75576,     0.75676,     0.75776,     0.75876,     0.75976,     0.76076,     0.76176,     0.76276,     0.76376,     0.76476,     0.76577,     0.76677,     0.76777,\n",
              "           0.76877,     0.76977,     0.77077,     0.77177,     0.77277,     0.77377,     0.77477,     0.77578,     0.77678,     0.77778,     0.77878,     0.77978,     0.78078,     0.78178,     0.78278,     0.78378,     0.78478,     0.78579,     0.78679,     0.78779,     0.78879,     0.78979,     0.79079,     0.79179,\n",
              "           0.79279,     0.79379,     0.79479,      0.7958,      0.7968,      0.7978,      0.7988,      0.7998,      0.8008,      0.8018,      0.8028,      0.8038,      0.8048,     0.80581,     0.80681,     0.80781,     0.80881,     0.80981,     0.81081,     0.81181,     0.81281,     0.81381,     0.81481,     0.81582,\n",
              "           0.81682,     0.81782,     0.81882,     0.81982,     0.82082,     0.82182,     0.82282,     0.82382,     0.82482,     0.82583,     0.82683,     0.82783,     0.82883,     0.82983,     0.83083,     0.83183,     0.83283,     0.83383,     0.83483,     0.83584,     0.83684,     0.83784,     0.83884,     0.83984,\n",
              "           0.84084,     0.84184,     0.84284,     0.84384,     0.84484,     0.84585,     0.84685,     0.84785,     0.84885,     0.84985,     0.85085,     0.85185,     0.85285,     0.85385,     0.85485,     0.85586,     0.85686,     0.85786,     0.85886,     0.85986,     0.86086,     0.86186,     0.86286,     0.86386,\n",
              "           0.86486,     0.86587,     0.86687,     0.86787,     0.86887,     0.86987,     0.87087,     0.87187,     0.87287,     0.87387,     0.87487,     0.87588,     0.87688,     0.87788,     0.87888,     0.87988,     0.88088,     0.88188,     0.88288,     0.88388,     0.88488,     0.88589,     0.88689,     0.88789,\n",
              "           0.88889,     0.88989,     0.89089,     0.89189,     0.89289,     0.89389,     0.89489,      0.8959,      0.8969,      0.8979,      0.8989,      0.8999,      0.9009,      0.9019,      0.9029,      0.9039,      0.9049,     0.90591,     0.90691,     0.90791,     0.90891,     0.90991,     0.91091,     0.91191,\n",
              "           0.91291,     0.91391,     0.91491,     0.91592,     0.91692,     0.91792,     0.91892,     0.91992,     0.92092,     0.92192,     0.92292,     0.92392,     0.92492,     0.92593,     0.92693,     0.92793,     0.92893,     0.92993,     0.93093,     0.93193,     0.93293,     0.93393,     0.93493,     0.93594,\n",
              "           0.93694,     0.93794,     0.93894,     0.93994,     0.94094,     0.94194,     0.94294,     0.94394,     0.94494,     0.94595,     0.94695,     0.94795,     0.94895,     0.94995,     0.95095,     0.95195,     0.95295,     0.95395,     0.95495,     0.95596,     0.95696,     0.95796,     0.95896,     0.95996,\n",
              "           0.96096,     0.96196,     0.96296,     0.96396,     0.96496,     0.96597,     0.96697,     0.96797,     0.96897,     0.96997,     0.97097,     0.97197,     0.97297,     0.97397,     0.97497,     0.97598,     0.97698,     0.97798,     0.97898,     0.97998,     0.98098,     0.98198,     0.98298,     0.98398,\n",
              "           0.98498,     0.98599,     0.98699,     0.98799,     0.98899,     0.98999,     0.99099,     0.99199,     0.99299,     0.99399,     0.99499,       0.996,       0.997,       0.998,       0.999,           1]), array([[          1,           1,           1,           1,           1,           1,           1,           1,           1,           1,           1,           1,           1,           1,           1,           1,           1,           1,           1,           1,           1,           1,           1,\n",
              "                  1,           1,           1,           1,           1,           1,           1,           1,           1,           1,           1,           1,           1,           1,           1,           1,           1,           1,           1,           1,           1,           1,           1,\n",
              "                  1,           1,           1,           1,           1,           1,           1,           1,           1,           1,           1,           1,           1,           1,           1,           1,           1,           1,           1,           1,           1,           1,           1,\n",
              "                  1,           1,           1,           1,           1,           1,           1,           1,           1,           1,           1,           1,           1,           1,           1,           1,           1,           1,           1,           1,           1,           1,           1,\n",
              "                  1,           1,           1,           1,           1,           1,           1,           1,           1,           1,           1,           1,           1,           1,           1,           1,           1,           1,           1,           1,           1,           1,           1,\n",
              "                  1,           1,           1,           1,           1,           1,           1,           1,           1,           1,           1,           1,           1,           1,           1,           1,           1,           1,           1,           1,           1,           1,           1,\n",
              "                  1,           1,           1,           1,           1,           1,           1,           1,           1,           1,           1,           1,           1,           1,           1,           1,           1,           1,           1,           1,           1,           1,           1,\n",
              "                  1,           1,           1,           1,           1,           1,           1,           1,           1,           1,           1,           1,           1,           1,           1,           1,           1,           1,           1,           1,           1,           1,           1,\n",
              "                  1,           1,           1,           1,           1,           1,           1,           1,           1,           1,           1,           1,           1,           1,           1,           1,           1,           1,           1,           1,           1,           1,           1,\n",
              "                  1,           1,           1,           1,           1,           1,           1,           1,           1,           1,           1,           1,           1,           1,           1,           1,           1,           1,           1,           1,           1,           1,           1,\n",
              "                  1,           1,           1,           1,           1,           1,           1,           1,           1,           1,           1,           1,           1,           1,           1,           1,           1,           1,           1,           1,           1,           1,           1,\n",
              "                  1,           1,           1,           1,           1,           1,           1,           1,           1,           1,           1,           1,           1,           1,           1,           1,           1,           1,           1,           1,           1,           1,           1,\n",
              "                  1,           1,           1,           1,           1,           1,           1,           1,           1,           1,           1,           1,           1,           1,           1,           1,           1,           1,           1,           1,           1,           1,           1,\n",
              "                  1,           1,           1,           1,           1,           1,           1,           1,           1,           1,           1,           1,           1,           1,           1,           1,           1,           1,           1,           1,           1,           1,           1,\n",
              "                  1,           1,           1,           1,           1,           1,           1,           1,           1,           1,           1,           1,           1,           1,           1,           1,           1,           1,           1,           1,           1,           1,           1,\n",
              "                  1,           1,           1,           1,           1,           1,           1,           1,           1,           1,           1,           1,           1,           1,           1,           1,           1,           1,           1,           1,           1,           1,           1,\n",
              "                  1,           1,           1,           1,           1,           1,           1,           1,           1,           1,           1,           1,           1,           1,           1,           1,           1,           1,           1,           1,           1,           1,           1,\n",
              "                  1,           1,           1,           1,           1,           1,           1,           1,           1,           1,           1,           1,           1,           1,           1,           1,           1,           1,           1,           1,           1,           1,           1,\n",
              "                  1,           1,           1,           1,           1,           1,           1,           1,           1,           1,           1,           1,           1,           1,           1,           1,           1,           1,           1,           1,           1,           1,           1,\n",
              "                  1,           1,           1,           1,           1,           1,           1,           1,           1,           1,           1,           1,           1,           1,           1,           1,           1,           1,           1,           1,           1,           1,           1,\n",
              "                  1,           1,           1,           1,           1,           1,           1,           1,           1,           1,           1,           1,           1,           1,           1,           1,           1,           1,           1,           1,           1,           1,           1,\n",
              "                  1,           1,           1,           1,           1,           1,           1,           1,           1,           1,           1,           1,           1,           1,           1,           1,           1,           1,           1,           1,           1,           1,           1,\n",
              "                  1,           1,           1,           1,           1,           1,           1,           1,           1,           1,           1,           1,           1,           1,           1,           1,           1,           1,           1,           1,           1,           1,           1,\n",
              "                  1,           1,           1,           1,           1,           1,           1,           1,           1,           1,           1,           1,           1,           1,           1,           1,           1,           1,           1,           1,           1,           1,           1,\n",
              "                  1,           1,           1,           1,           1,           1,           1,           1,           1,           1,           1,           1,           1,           1,           1,           1,           1,           1,           1,           1,           1,           1,           1,\n",
              "                  1,           1,           1,           1,           1,           1,           1,           1,           1,           1,           1,           1,           1,           1,           1,           1,           1,           1,           1,           1,           1,           1,           1,\n",
              "                  1,           1,           1,           1,           1,           1,           1,           1,           1,           1,           1,           1,           1,           1,           1,           1,           1,           1,           1,           1,           1,           1,           1,\n",
              "                  1,           1,           1,           1,           1,           1,           1,           1,           1,           1,           1,           1,           1,           1,           1,           1,           1,           1,           1,           1,           1,           1,           1,\n",
              "                  1,           1,           1,           1,           1,           1,           1,           1,           1,           1,           1,           1,           1,           1,           1,           1,           1,           1,           1,           1,           1,           1,           1,\n",
              "                  1,           1,           1,           1,           1,           1,           1,           1,           1,           1,           1,           1,           1,           1,           1,           1,           1,           1,           1,           1,           1,           1,           1,\n",
              "                  1,           1,           1,           1,           1,           1,     0.99115,     0.99115,     0.99115,     0.99115,     0.99115,     0.99115,     0.99115,     0.99115,     0.99115,     0.99115,     0.99115,     0.99115,     0.99115,     0.99115,     0.99115,     0.99115,     0.99115,\n",
              "            0.99115,     0.99115,     0.99115,     0.99115,     0.99115,     0.99115,     0.99115,     0.99115,     0.99115,     0.99115,     0.99115,     0.99115,     0.99115,     0.99115,     0.99115,     0.99115,     0.99115,     0.99115,     0.99115,     0.99115,     0.99115,     0.99115,     0.99115,\n",
              "            0.99115,     0.99115,     0.99115,     0.99115,     0.99115,     0.99115,     0.99115,     0.99115,     0.99115,     0.99115,     0.99115,     0.99115,     0.99115,     0.99115,     0.99115,     0.99115,     0.99115,     0.99115,     0.99115,     0.99115,     0.99115,     0.99115,     0.99115,\n",
              "            0.99115,     0.99115,     0.99115,     0.99115,     0.99115,     0.99115,     0.99115,     0.99115,     0.99115,     0.99115,     0.99115,     0.99115,     0.99115,     0.99115,     0.99115,     0.99115,     0.99115,     0.99115,     0.99115,     0.99115,     0.99115,     0.99115,     0.99115,\n",
              "            0.99115,     0.99115,     0.99115,     0.99115,     0.99115,     0.99115,     0.99115,     0.99115,     0.99115,     0.99115,     0.99115,     0.99115,     0.99115,     0.99115,     0.99115,     0.99115,     0.99115,     0.99115,     0.99115,     0.99115,     0.99115,     0.99115,     0.99115,\n",
              "            0.99115,     0.99115,     0.99115,     0.99115,     0.99115,     0.99115,     0.99115,     0.99115,     0.99115,     0.99115,     0.99115,     0.99115,     0.99115,     0.99115,     0.99115,     0.99115,     0.99115,     0.99115,     0.99115,     0.99115,     0.99115,     0.99115,     0.99115,\n",
              "            0.99115,     0.98347,     0.98347,     0.98347,     0.98347,     0.98347,     0.98347,     0.98347,     0.98347,     0.98347,     0.98347,     0.98347,     0.98347,     0.98347,     0.98347,     0.98347,     0.98347,     0.98347,     0.98347,     0.98347,     0.98347,     0.98347,     0.98347,\n",
              "            0.98347,     0.98347,     0.98347,     0.98347,     0.98347,     0.98347,     0.98347,     0.98347,     0.98347,     0.98347,     0.98347,     0.98347,     0.98347,     0.98347,     0.98347,     0.98347,     0.98347,     0.98347,     0.98347,     0.98347,     0.98347,     0.98347,     0.98347,\n",
              "            0.98347,     0.98347,     0.98347,     0.98347,     0.98347,     0.98347,     0.98347,        0.96,        0.96,        0.96,        0.96,        0.96,        0.96,        0.96,     0.95522,     0.95522,     0.95522,     0.95522,     0.95522,     0.95522,     0.95522,     0.95522,     0.95522,\n",
              "            0.95522,     0.95522,     0.95522,     0.95522,     0.95522,     0.95522,     0.95522,     0.95522,     0.95522,     0.95522,     0.95522,     0.95522,     0.95522,     0.95522,     0.95522,     0.95522,     0.95522,     0.95522,     0.95522,     0.95522,     0.95522,     0.95522,     0.95522,\n",
              "            0.95522,     0.95522,     0.95522,     0.95522,     0.95522,     0.95522,     0.95522,     0.95522,     0.95522,     0.95522,     0.95522,     0.95522,     0.95522,     0.95522,     0.95522,     0.95522,     0.95522,     0.95522,     0.95522,     0.95522,     0.95522,     0.95522,     0.95522,\n",
              "            0.95522,     0.95522,     0.95522,     0.95522,     0.95522,     0.91489,     0.91489,     0.91489,     0.91489,     0.91489,     0.91489,     0.91489,     0.89041,     0.89041,     0.89041,     0.89041,     0.89041,     0.89041,     0.89041,     0.88514,     0.88514,     0.88514,     0.88514,\n",
              "            0.88514,     0.88514,     0.88514,     0.88514,     0.86275,     0.86275,     0.86275,     0.86275,     0.86275,     0.86275,     0.86275,     0.77326,     0.77326,     0.77326,     0.77326,     0.77326,     0.77326,     0.77326,     0.77326,     0.13176,     0.13176,     0.13176,     0.13176,\n",
              "            0.13176,     0.13176,     0.13176,     0.11003,    0.094313,    0.078594,    0.062875,    0.047157,    0.031438,    0.015719,           0]]), 'Recall', 'Precision'], [array([          0,    0.001001,    0.002002,    0.003003,    0.004004,    0.005005,    0.006006,    0.007007,    0.008008,    0.009009,     0.01001,    0.011011,    0.012012,    0.013013,    0.014014,    0.015015,    0.016016,    0.017017,    0.018018,    0.019019,     0.02002,    0.021021,    0.022022,    0.023023,\n",
              "          0.024024,    0.025025,    0.026026,    0.027027,    0.028028,    0.029029,     0.03003,    0.031031,    0.032032,    0.033033,    0.034034,    0.035035,    0.036036,    0.037037,    0.038038,    0.039039,     0.04004,    0.041041,    0.042042,    0.043043,    0.044044,    0.045045,    0.046046,    0.047047,\n",
              "          0.048048,    0.049049,     0.05005,    0.051051,    0.052052,    0.053053,    0.054054,    0.055055,    0.056056,    0.057057,    0.058058,    0.059059,     0.06006,    0.061061,    0.062062,    0.063063,    0.064064,    0.065065,    0.066066,    0.067067,    0.068068,    0.069069,     0.07007,    0.071071,\n",
              "          0.072072,    0.073073,    0.074074,    0.075075,    0.076076,    0.077077,    0.078078,    0.079079,     0.08008,    0.081081,    0.082082,    0.083083,    0.084084,    0.085085,    0.086086,    0.087087,    0.088088,    0.089089,     0.09009,    0.091091,    0.092092,    0.093093,    0.094094,    0.095095,\n",
              "          0.096096,    0.097097,    0.098098,    0.099099,      0.1001,      0.1011,      0.1021,      0.1031,      0.1041,     0.10511,     0.10611,     0.10711,     0.10811,     0.10911,     0.11011,     0.11111,     0.11211,     0.11311,     0.11411,     0.11512,     0.11612,     0.11712,     0.11812,     0.11912,\n",
              "           0.12012,     0.12112,     0.12212,     0.12312,     0.12412,     0.12513,     0.12613,     0.12713,     0.12813,     0.12913,     0.13013,     0.13113,     0.13213,     0.13313,     0.13413,     0.13514,     0.13614,     0.13714,     0.13814,     0.13914,     0.14014,     0.14114,     0.14214,     0.14314,\n",
              "           0.14414,     0.14515,     0.14615,     0.14715,     0.14815,     0.14915,     0.15015,     0.15115,     0.15215,     0.15315,     0.15415,     0.15516,     0.15616,     0.15716,     0.15816,     0.15916,     0.16016,     0.16116,     0.16216,     0.16316,     0.16416,     0.16517,     0.16617,     0.16717,\n",
              "           0.16817,     0.16917,     0.17017,     0.17117,     0.17217,     0.17317,     0.17417,     0.17518,     0.17618,     0.17718,     0.17818,     0.17918,     0.18018,     0.18118,     0.18218,     0.18318,     0.18418,     0.18519,     0.18619,     0.18719,     0.18819,     0.18919,     0.19019,     0.19119,\n",
              "           0.19219,     0.19319,     0.19419,      0.1952,      0.1962,      0.1972,      0.1982,      0.1992,      0.2002,      0.2012,      0.2022,      0.2032,      0.2042,     0.20521,     0.20621,     0.20721,     0.20821,     0.20921,     0.21021,     0.21121,     0.21221,     0.21321,     0.21421,     0.21522,\n",
              "           0.21622,     0.21722,     0.21822,     0.21922,     0.22022,     0.22122,     0.22222,     0.22322,     0.22422,     0.22523,     0.22623,     0.22723,     0.22823,     0.22923,     0.23023,     0.23123,     0.23223,     0.23323,     0.23423,     0.23524,     0.23624,     0.23724,     0.23824,     0.23924,\n",
              "           0.24024,     0.24124,     0.24224,     0.24324,     0.24424,     0.24525,     0.24625,     0.24725,     0.24825,     0.24925,     0.25025,     0.25125,     0.25225,     0.25325,     0.25425,     0.25526,     0.25626,     0.25726,     0.25826,     0.25926,     0.26026,     0.26126,     0.26226,     0.26326,\n",
              "           0.26426,     0.26527,     0.26627,     0.26727,     0.26827,     0.26927,     0.27027,     0.27127,     0.27227,     0.27327,     0.27427,     0.27528,     0.27628,     0.27728,     0.27828,     0.27928,     0.28028,     0.28128,     0.28228,     0.28328,     0.28428,     0.28529,     0.28629,     0.28729,\n",
              "           0.28829,     0.28929,     0.29029,     0.29129,     0.29229,     0.29329,     0.29429,      0.2953,      0.2963,      0.2973,      0.2983,      0.2993,      0.3003,      0.3013,      0.3023,      0.3033,      0.3043,     0.30531,     0.30631,     0.30731,     0.30831,     0.30931,     0.31031,     0.31131,\n",
              "           0.31231,     0.31331,     0.31431,     0.31532,     0.31632,     0.31732,     0.31832,     0.31932,     0.32032,     0.32132,     0.32232,     0.32332,     0.32432,     0.32533,     0.32633,     0.32733,     0.32833,     0.32933,     0.33033,     0.33133,     0.33233,     0.33333,     0.33433,     0.33534,\n",
              "           0.33634,     0.33734,     0.33834,     0.33934,     0.34034,     0.34134,     0.34234,     0.34334,     0.34434,     0.34535,     0.34635,     0.34735,     0.34835,     0.34935,     0.35035,     0.35135,     0.35235,     0.35335,     0.35435,     0.35536,     0.35636,     0.35736,     0.35836,     0.35936,\n",
              "           0.36036,     0.36136,     0.36236,     0.36336,     0.36436,     0.36537,     0.36637,     0.36737,     0.36837,     0.36937,     0.37037,     0.37137,     0.37237,     0.37337,     0.37437,     0.37538,     0.37638,     0.37738,     0.37838,     0.37938,     0.38038,     0.38138,     0.38238,     0.38338,\n",
              "           0.38438,     0.38539,     0.38639,     0.38739,     0.38839,     0.38939,     0.39039,     0.39139,     0.39239,     0.39339,     0.39439,      0.3954,      0.3964,      0.3974,      0.3984,      0.3994,      0.4004,      0.4014,      0.4024,      0.4034,      0.4044,     0.40541,     0.40641,     0.40741,\n",
              "           0.40841,     0.40941,     0.41041,     0.41141,     0.41241,     0.41341,     0.41441,     0.41542,     0.41642,     0.41742,     0.41842,     0.41942,     0.42042,     0.42142,     0.42242,     0.42342,     0.42442,     0.42543,     0.42643,     0.42743,     0.42843,     0.42943,     0.43043,     0.43143,\n",
              "           0.43243,     0.43343,     0.43443,     0.43544,     0.43644,     0.43744,     0.43844,     0.43944,     0.44044,     0.44144,     0.44244,     0.44344,     0.44444,     0.44545,     0.44645,     0.44745,     0.44845,     0.44945,     0.45045,     0.45145,     0.45245,     0.45345,     0.45445,     0.45546,\n",
              "           0.45646,     0.45746,     0.45846,     0.45946,     0.46046,     0.46146,     0.46246,     0.46346,     0.46446,     0.46547,     0.46647,     0.46747,     0.46847,     0.46947,     0.47047,     0.47147,     0.47247,     0.47347,     0.47447,     0.47548,     0.47648,     0.47748,     0.47848,     0.47948,\n",
              "           0.48048,     0.48148,     0.48248,     0.48348,     0.48448,     0.48549,     0.48649,     0.48749,     0.48849,     0.48949,     0.49049,     0.49149,     0.49249,     0.49349,     0.49449,      0.4955,      0.4965,      0.4975,      0.4985,      0.4995,      0.5005,      0.5015,      0.5025,      0.5035,\n",
              "            0.5045,     0.50551,     0.50651,     0.50751,     0.50851,     0.50951,     0.51051,     0.51151,     0.51251,     0.51351,     0.51451,     0.51552,     0.51652,     0.51752,     0.51852,     0.51952,     0.52052,     0.52152,     0.52252,     0.52352,     0.52452,     0.52553,     0.52653,     0.52753,\n",
              "           0.52853,     0.52953,     0.53053,     0.53153,     0.53253,     0.53353,     0.53453,     0.53554,     0.53654,     0.53754,     0.53854,     0.53954,     0.54054,     0.54154,     0.54254,     0.54354,     0.54454,     0.54555,     0.54655,     0.54755,     0.54855,     0.54955,     0.55055,     0.55155,\n",
              "           0.55255,     0.55355,     0.55455,     0.55556,     0.55656,     0.55756,     0.55856,     0.55956,     0.56056,     0.56156,     0.56256,     0.56356,     0.56456,     0.56557,     0.56657,     0.56757,     0.56857,     0.56957,     0.57057,     0.57157,     0.57257,     0.57357,     0.57457,     0.57558,\n",
              "           0.57658,     0.57758,     0.57858,     0.57958,     0.58058,     0.58158,     0.58258,     0.58358,     0.58458,     0.58559,     0.58659,     0.58759,     0.58859,     0.58959,     0.59059,     0.59159,     0.59259,     0.59359,     0.59459,      0.5956,      0.5966,      0.5976,      0.5986,      0.5996,\n",
              "            0.6006,      0.6016,      0.6026,      0.6036,      0.6046,     0.60561,     0.60661,     0.60761,     0.60861,     0.60961,     0.61061,     0.61161,     0.61261,     0.61361,     0.61461,     0.61562,     0.61662,     0.61762,     0.61862,     0.61962,     0.62062,     0.62162,     0.62262,     0.62362,\n",
              "           0.62462,     0.62563,     0.62663,     0.62763,     0.62863,     0.62963,     0.63063,     0.63163,     0.63263,     0.63363,     0.63463,     0.63564,     0.63664,     0.63764,     0.63864,     0.63964,     0.64064,     0.64164,     0.64264,     0.64364,     0.64464,     0.64565,     0.64665,     0.64765,\n",
              "           0.64865,     0.64965,     0.65065,     0.65165,     0.65265,     0.65365,     0.65465,     0.65566,     0.65666,     0.65766,     0.65866,     0.65966,     0.66066,     0.66166,     0.66266,     0.66366,     0.66466,     0.66567,     0.66667,     0.66767,     0.66867,     0.66967,     0.67067,     0.67167,\n",
              "           0.67267,     0.67367,     0.67467,     0.67568,     0.67668,     0.67768,     0.67868,     0.67968,     0.68068,     0.68168,     0.68268,     0.68368,     0.68468,     0.68569,     0.68669,     0.68769,     0.68869,     0.68969,     0.69069,     0.69169,     0.69269,     0.69369,     0.69469,      0.6957,\n",
              "            0.6967,      0.6977,      0.6987,      0.6997,      0.7007,      0.7017,      0.7027,      0.7037,      0.7047,     0.70571,     0.70671,     0.70771,     0.70871,     0.70971,     0.71071,     0.71171,     0.71271,     0.71371,     0.71471,     0.71572,     0.71672,     0.71772,     0.71872,     0.71972,\n",
              "           0.72072,     0.72172,     0.72272,     0.72372,     0.72472,     0.72573,     0.72673,     0.72773,     0.72873,     0.72973,     0.73073,     0.73173,     0.73273,     0.73373,     0.73473,     0.73574,     0.73674,     0.73774,     0.73874,     0.73974,     0.74074,     0.74174,     0.74274,     0.74374,\n",
              "           0.74474,     0.74575,     0.74675,     0.74775,     0.74875,     0.74975,     0.75075,     0.75175,     0.75275,     0.75375,     0.75475,     0.75576,     0.75676,     0.75776,     0.75876,     0.75976,     0.76076,     0.76176,     0.76276,     0.76376,     0.76476,     0.76577,     0.76677,     0.76777,\n",
              "           0.76877,     0.76977,     0.77077,     0.77177,     0.77277,     0.77377,     0.77477,     0.77578,     0.77678,     0.77778,     0.77878,     0.77978,     0.78078,     0.78178,     0.78278,     0.78378,     0.78478,     0.78579,     0.78679,     0.78779,     0.78879,     0.78979,     0.79079,     0.79179,\n",
              "           0.79279,     0.79379,     0.79479,      0.7958,      0.7968,      0.7978,      0.7988,      0.7998,      0.8008,      0.8018,      0.8028,      0.8038,      0.8048,     0.80581,     0.80681,     0.80781,     0.80881,     0.80981,     0.81081,     0.81181,     0.81281,     0.81381,     0.81481,     0.81582,\n",
              "           0.81682,     0.81782,     0.81882,     0.81982,     0.82082,     0.82182,     0.82282,     0.82382,     0.82482,     0.82583,     0.82683,     0.82783,     0.82883,     0.82983,     0.83083,     0.83183,     0.83283,     0.83383,     0.83483,     0.83584,     0.83684,     0.83784,     0.83884,     0.83984,\n",
              "           0.84084,     0.84184,     0.84284,     0.84384,     0.84484,     0.84585,     0.84685,     0.84785,     0.84885,     0.84985,     0.85085,     0.85185,     0.85285,     0.85385,     0.85485,     0.85586,     0.85686,     0.85786,     0.85886,     0.85986,     0.86086,     0.86186,     0.86286,     0.86386,\n",
              "           0.86486,     0.86587,     0.86687,     0.86787,     0.86887,     0.86987,     0.87087,     0.87187,     0.87287,     0.87387,     0.87487,     0.87588,     0.87688,     0.87788,     0.87888,     0.87988,     0.88088,     0.88188,     0.88288,     0.88388,     0.88488,     0.88589,     0.88689,     0.88789,\n",
              "           0.88889,     0.88989,     0.89089,     0.89189,     0.89289,     0.89389,     0.89489,      0.8959,      0.8969,      0.8979,      0.8989,      0.8999,      0.9009,      0.9019,      0.9029,      0.9039,      0.9049,     0.90591,     0.90691,     0.90791,     0.90891,     0.90991,     0.91091,     0.91191,\n",
              "           0.91291,     0.91391,     0.91491,     0.91592,     0.91692,     0.91792,     0.91892,     0.91992,     0.92092,     0.92192,     0.92292,     0.92392,     0.92492,     0.92593,     0.92693,     0.92793,     0.92893,     0.92993,     0.93093,     0.93193,     0.93293,     0.93393,     0.93493,     0.93594,\n",
              "           0.93694,     0.93794,     0.93894,     0.93994,     0.94094,     0.94194,     0.94294,     0.94394,     0.94494,     0.94595,     0.94695,     0.94795,     0.94895,     0.94995,     0.95095,     0.95195,     0.95295,     0.95395,     0.95495,     0.95596,     0.95696,     0.95796,     0.95896,     0.95996,\n",
              "           0.96096,     0.96196,     0.96296,     0.96396,     0.96496,     0.96597,     0.96697,     0.96797,     0.96897,     0.96997,     0.97097,     0.97197,     0.97297,     0.97397,     0.97497,     0.97598,     0.97698,     0.97798,     0.97898,     0.97998,     0.98098,     0.98198,     0.98298,     0.98398,\n",
              "           0.98498,     0.98599,     0.98699,     0.98799,     0.98899,     0.98999,     0.99099,     0.99199,     0.99299,     0.99399,     0.99499,       0.996,       0.997,       0.998,       0.999,           1]), array([[    0.20824,     0.20824,     0.36685,     0.46906,     0.53652,     0.57108,     0.60191,     0.63472,     0.64933,      0.6575,     0.66747,     0.68745,     0.70395,     0.70884,     0.71749,     0.72138,     0.73019,     0.73844,     0.74568,     0.74836,     0.75966,     0.77226,     0.77809,\n",
              "             0.7814,     0.78556,     0.79442,      0.7966,     0.79993,     0.80779,     0.81175,     0.81363,     0.81429,     0.81493,     0.81558,     0.82495,     0.83299,     0.83557,     0.83784,     0.83974,     0.84114,     0.84301,     0.84596,     0.85049,     0.85164,     0.85609,     0.86144,\n",
              "            0.86308,     0.86505,     0.86599,     0.86467,     0.86335,       0.863,     0.86348,     0.86396,     0.86443,     0.86491,     0.86538,     0.86659,     0.86829,      0.8744,     0.87792,     0.88028,     0.88078,     0.88129,     0.88179,      0.8823,      0.8828,     0.88649,     0.88771,\n",
              "            0.88892,      0.8897,     0.89048,     0.89127,     0.89221,     0.89381,     0.89522,     0.89622,     0.89722,     0.90119,     0.90185,     0.90251,     0.90317,     0.90382,     0.90454,      0.9053,     0.90606,     0.90682,     0.90736,     0.90766,     0.90796,     0.90826,     0.90856,\n",
              "            0.90886,     0.90916,     0.90946,     0.90976,     0.91006,      0.9104,     0.91155,      0.9127,     0.91355,     0.91375,     0.91394,     0.91413,     0.91432,     0.91452,     0.91471,      0.9149,     0.91509,     0.91528,     0.91548,     0.91567,     0.91586,     0.91605,     0.91624,\n",
              "            0.91643,     0.91663,     0.91524,     0.91342,     0.91323,     0.91371,     0.91418,     0.91466,     0.91514,     0.91561,     0.91609,     0.91647,     0.91686,     0.91725,     0.91764,     0.91803,     0.91841,      0.9188,     0.91919,     0.91985,     0.92064,     0.92142,      0.9222,\n",
              "            0.92263,     0.92279,     0.92295,     0.92311,     0.92328,     0.92344,      0.9236,     0.92376,     0.92393,     0.92409,     0.92425,     0.92441,     0.92457,     0.92474,      0.9249,     0.92506,     0.92522,     0.92538,     0.92554,     0.92571,     0.92555,     0.92499,     0.92443,\n",
              "            0.92388,     0.92332,     0.92276,      0.9222,     0.92503,     0.92464,     0.92425,     0.92387,     0.92348,     0.92309,      0.9227,     0.92231,     0.92192,     0.92153,     0.92197,      0.9227,     0.92343,     0.92416,     0.92818,     0.92871,     0.92924,     0.92976,     0.93029,\n",
              "            0.93082,     0.93135,     0.93464,      0.9341,     0.93356,     0.93302,     0.93249,     0.93195,     0.93141,     0.93134,     0.93437,      0.9345,     0.93463,     0.93476,     0.93489,     0.93502,     0.93515,     0.93528,     0.93541,     0.93555,     0.93568,     0.93581,     0.93594,\n",
              "            0.93607,      0.9362,     0.93633,     0.93646,     0.93659,     0.93672,     0.93685,     0.93698,     0.93711,     0.93724,     0.93737,      0.9375,     0.93763,     0.93781,     0.93815,     0.93849,     0.93883,     0.93916,      0.9395,     0.93984,     0.94017,     0.94051,     0.94084,\n",
              "            0.94118,     0.94138,     0.94159,     0.94179,     0.94199,      0.9422,      0.9424,      0.9426,     0.94281,     0.94301,     0.94321,     0.94342,     0.94362,     0.94382,     0.94403,     0.94423,     0.94443,     0.94464,     0.94826,     0.94838,      0.9485,     0.94862,     0.94874,\n",
              "            0.94886,     0.94899,     0.94911,     0.94923,     0.94935,     0.94947,     0.94959,     0.94971,     0.94983,     0.94995,     0.95007,     0.95019,     0.95031,     0.95043,     0.95055,     0.95067,     0.95079,     0.95091,     0.95103,     0.95115,     0.95127,     0.95139,     0.95151,\n",
              "            0.95163,     0.95161,     0.95151,     0.95142,     0.95132,     0.95123,     0.95113,     0.95103,     0.95094,     0.95084,     0.95075,     0.95065,     0.95056,     0.95046,     0.95036,     0.95027,     0.95017,     0.95008,     0.94998,     0.94988,     0.94979,     0.94969,      0.9496,\n",
              "             0.9495,      0.9494,     0.94931,     0.94921,     0.94912,     0.94902,     0.94892,     0.94883,     0.94873,     0.94863,     0.94854,     0.94844,     0.94835,     0.94825,     0.94815,     0.94806,     0.94796,     0.94786,     0.94777,     0.94729,     0.94679,     0.94628,     0.94578,\n",
              "            0.94527,     0.94477,     0.94426,      0.9438,     0.94366,     0.94353,     0.94339,     0.94325,     0.94311,     0.94298,     0.94284,      0.9427,     0.94256,     0.94243,     0.94229,     0.94215,     0.94201,     0.94187,     0.94174,      0.9416,     0.94146,     0.94132,     0.94118,\n",
              "            0.94105,     0.94091,     0.94077,     0.94063,     0.94049,     0.94035,     0.94022,     0.94008,     0.93994,     0.93984,     0.93979,     0.93975,     0.93971,     0.93967,     0.93963,     0.93959,     0.93955,     0.93951,     0.93947,     0.93943,     0.93938,     0.93934,      0.9393,\n",
              "            0.93926,     0.93922,     0.93918,     0.93914,      0.9391,     0.93906,     0.93902,     0.93897,     0.93893,     0.93889,     0.93885,     0.93881,     0.93877,     0.93873,     0.93869,     0.93865,      0.9386,     0.93856,     0.93852,     0.93848,     0.93844,      0.9384,     0.93836,\n",
              "            0.93832,     0.93828,     0.93824,     0.93819,     0.93815,     0.93811,     0.93807,     0.93803,     0.93799,     0.93795,     0.93791,     0.93787,     0.93782,     0.93778,     0.93774,      0.9377,     0.93766,     0.93762,     0.93758,     0.93754,      0.9375,     0.93745,     0.93741,\n",
              "            0.93737,     0.93733,     0.93729,     0.93725,     0.93721,     0.93717,     0.93712,     0.93708,     0.93704,       0.937,     0.93696,     0.93692,     0.93688,     0.93684,      0.9368,     0.93675,     0.93671,     0.93667,     0.93663,     0.93659,     0.93655,     0.93651,     0.93647,\n",
              "            0.93642,     0.93638,     0.93634,      0.9363,     0.93626,     0.93622,     0.93618,     0.93614,      0.9361,     0.93605,     0.93601,     0.93597,     0.93593,     0.93589,     0.93582,     0.93511,     0.93439,     0.93367,     0.93295,     0.93223,     0.93162,     0.93116,      0.9307,\n",
              "            0.93024,     0.92977,     0.92931,     0.92885,     0.92839,     0.92792,     0.92641,     0.92431,     0.92344,     0.92311,     0.92279,     0.92247,     0.92214,     0.92182,     0.92149,     0.92117,     0.92084,     0.92051,     0.92019,     0.91986,     0.91954,     0.91973,     0.91993,\n",
              "            0.92012,     0.92031,      0.9205,     0.92069,     0.92088,     0.92107,     0.92126,     0.92145,     0.92164,     0.92184,     0.92203,     0.92222,     0.92241,      0.9226,     0.92279,     0.92298,     0.92267,     0.92182,     0.92097,     0.92012,     0.91926,     0.91965,     0.92087,\n",
              "            0.92208,     0.92258,     0.92272,     0.92286,       0.923,     0.92314,     0.92329,     0.92343,     0.92357,     0.92371,     0.92385,     0.92399,     0.92414,     0.92428,     0.92442,     0.92456,      0.9247,     0.92484,     0.92498,     0.92513,     0.92527,     0.92541,     0.92555,\n",
              "            0.92569,     0.92583,     0.92597,     0.92617,     0.92651,     0.92685,     0.92719,     0.92753,     0.92786,      0.9282,     0.92854,     0.92887,     0.92921,     0.92954,     0.92722,     0.92463,     0.92318,     0.92174,      0.9198,     0.91761,     0.91594,     0.91447,       0.913,\n",
              "            0.91182,     0.91071,      0.9096,     0.90849,     0.90748,     0.90649,     0.90549,      0.9045,     0.90392,     0.90377,     0.90362,     0.90347,     0.90331,     0.90316,     0.90301,     0.90286,      0.9027,     0.90255,      0.9024,     0.90225,     0.90209,     0.90194,     0.90179,\n",
              "            0.90163,     0.90148,     0.90133,     0.90117,     0.90102,     0.90087,     0.90071,     0.90056,     0.90041,     0.90025,      0.9001,     0.89995,     0.89979,     0.89964,     0.90027,      0.9012,     0.90213,     0.90306,     0.90216,     0.90086,     0.89956,     0.89786,     0.89557,\n",
              "            0.89411,     0.89367,     0.89323,     0.89279,     0.89235,     0.89191,     0.89147,     0.89103,     0.89059,     0.89015,     0.88968,     0.88913,     0.88859,     0.88804,     0.88749,     0.88694,     0.88639,     0.88584,     0.88529,     0.88502,     0.88477,     0.88453,     0.88428,\n",
              "            0.88403,     0.88379,     0.88354,     0.88329,     0.88304,      0.8828,     0.88255,      0.8823,     0.88205,      0.8818,     0.88156,     0.88131,     0.88106,     0.88081,     0.88057,     0.88035,     0.88012,      0.8799,     0.87967,     0.87945,     0.87922,       0.879,     0.87877,\n",
              "            0.87855,     0.87832,     0.87809,     0.87787,     0.87764,     0.87742,     0.87719,     0.87696,     0.87674,     0.87651,     0.87628,     0.87606,     0.87433,     0.87241,     0.87121,     0.87085,      0.8705,     0.87014,     0.86978,     0.86943,     0.86907,     0.86871,     0.86835,\n",
              "              0.868,     0.86764,     0.86728,     0.86692,     0.86123,     0.85878,     0.85691,      0.8562,      0.8555,     0.85479,     0.85409,     0.85338,     0.85267,     0.85182,     0.85083,     0.84983,     0.84883,     0.84783,     0.84722,     0.84683,     0.84645,     0.84606,     0.84567,\n",
              "            0.84529,      0.8449,     0.84451,     0.84413,     0.84374,     0.84335,     0.84296,     0.84257,     0.84169,     0.84077,     0.83984,     0.83892,       0.838,     0.83736,     0.83694,     0.83651,     0.83609,     0.83566,     0.83524,     0.83481,     0.83438,     0.83396,     0.83353,\n",
              "             0.8331,     0.83267,     0.82702,     0.82637,     0.82572,     0.82507,     0.82442,     0.82377,     0.82312,     0.82243,     0.82127,     0.82011,     0.81894,     0.81777,     0.81905,     0.81569,      0.8152,     0.81472,     0.81423,     0.81375,     0.81326,     0.81277,     0.81229,\n",
              "             0.8118,     0.81131,     0.81083,     0.81017,     0.80935,     0.80852,     0.80769,     0.80686,     0.80603,      0.8048,     0.80118,     0.79959,     0.79898,     0.79837,     0.79776,     0.79715,     0.79654,     0.79593,     0.79532,     0.79471,     0.79266,     0.79044,     0.78839,\n",
              "            0.78653,     0.78466,     0.78312,     0.78187,     0.78062,     0.77936,     0.77219,     0.76836,     0.76673,     0.76615,     0.76558,       0.765,     0.76442,     0.76384,     0.76326,     0.76268,      0.7621,     0.76151,     0.76102,     0.76053,     0.76005,     0.75956,     0.75907,\n",
              "            0.75859,      0.7581,     0.75761,     0.75712,     0.75663,     0.75615,     0.75324,     0.74568,     0.74369,     0.74302,     0.74235,     0.74169,     0.74102,     0.74035,     0.73968,     0.73901,     0.73834,     0.73439,     0.72929,     0.72576,     0.72453,     0.72329,     0.72205,\n",
              "            0.72081,     0.71936,      0.7178,     0.71624,     0.71468,     0.70623,     0.70368,     0.68728,     0.67423,     0.66947,     0.66812,     0.66677,     0.66542,     0.66407,     0.63294,     0.62702,     0.62229,     0.61868,     0.60779,     0.60287,     0.59869,     0.59496,     0.58295,\n",
              "            0.57729,      0.5705,     0.56661,     0.56293,     0.55978,     0.55663,     0.54939,     0.52975,     0.52646,     0.52339,     0.52063,     0.51785,     0.50614,     0.50189,     0.49523,     0.48169,     0.47919,     0.47668,      0.4731,     0.45628,     0.45174,     0.43708,     0.42775,\n",
              "            0.42076,     0.41977,     0.41877,     0.41777,     0.41677,     0.41577,     0.41476,     0.41376,     0.41275,     0.41163,     0.40522,     0.39251,     0.38759,     0.38206,     0.36331,     0.36105,     0.35878,     0.35651,     0.35422,     0.34978,     0.34459,     0.34021,     0.33602,\n",
              "            0.30988,     0.30262,     0.28111,     0.26982,     0.26491,     0.26032,     0.25571,     0.25108,     0.24648,     0.24258,     0.23866,     0.23189,     0.20793,     0.20181,     0.19566,     0.18946,     0.17344,     0.16495,     0.15293,      0.1471,     0.14275,     0.13837,     0.13556,\n",
              "            0.13292,     0.13027,     0.12761,     0.12497,     0.12364,      0.1223,     0.12096,     0.11962,     0.11827,     0.11693,     0.11558,     0.11423,     0.11288,     0.11086,     0.10698,     0.10308,    0.099173,     0.09692,    0.094954,    0.092984,    0.091009,    0.089031,    0.087048,\n",
              "           0.084981,    0.079396,    0.073778,    0.069072,    0.065019,    0.060949,    0.057299,     0.05579,    0.054278,    0.052764,    0.051248,    0.049729,    0.048208,    0.046684,    0.045158,     0.04363,    0.042023,    0.040404,    0.038783,    0.037159,    0.035533,    0.033903,    0.032271,\n",
              "           0.030637,    0.028975,    0.027129,    0.025281,    0.023428,    0.021573,    0.019713,    0.017851,    0.015985,           0,           0,           0,           0,           0,           0,           0,           0,           0,           0,           0,           0,           0,           0,\n",
              "                  0,           0,           0,           0,           0,           0,           0,           0,           0,           0,           0,           0,           0,           0,           0,           0,           0,           0,           0,           0,           0,           0,           0,\n",
              "                  0,           0,           0,           0,           0,           0,           0,           0,           0,           0,           0]]), 'Confidence', 'F1'], [array([          0,    0.001001,    0.002002,    0.003003,    0.004004,    0.005005,    0.006006,    0.007007,    0.008008,    0.009009,     0.01001,    0.011011,    0.012012,    0.013013,    0.014014,    0.015015,    0.016016,    0.017017,    0.018018,    0.019019,     0.02002,    0.021021,    0.022022,    0.023023,\n",
              "          0.024024,    0.025025,    0.026026,    0.027027,    0.028028,    0.029029,     0.03003,    0.031031,    0.032032,    0.033033,    0.034034,    0.035035,    0.036036,    0.037037,    0.038038,    0.039039,     0.04004,    0.041041,    0.042042,    0.043043,    0.044044,    0.045045,    0.046046,    0.047047,\n",
              "          0.048048,    0.049049,     0.05005,    0.051051,    0.052052,    0.053053,    0.054054,    0.055055,    0.056056,    0.057057,    0.058058,    0.059059,     0.06006,    0.061061,    0.062062,    0.063063,    0.064064,    0.065065,    0.066066,    0.067067,    0.068068,    0.069069,     0.07007,    0.071071,\n",
              "          0.072072,    0.073073,    0.074074,    0.075075,    0.076076,    0.077077,    0.078078,    0.079079,     0.08008,    0.081081,    0.082082,    0.083083,    0.084084,    0.085085,    0.086086,    0.087087,    0.088088,    0.089089,     0.09009,    0.091091,    0.092092,    0.093093,    0.094094,    0.095095,\n",
              "          0.096096,    0.097097,    0.098098,    0.099099,      0.1001,      0.1011,      0.1021,      0.1031,      0.1041,     0.10511,     0.10611,     0.10711,     0.10811,     0.10911,     0.11011,     0.11111,     0.11211,     0.11311,     0.11411,     0.11512,     0.11612,     0.11712,     0.11812,     0.11912,\n",
              "           0.12012,     0.12112,     0.12212,     0.12312,     0.12412,     0.12513,     0.12613,     0.12713,     0.12813,     0.12913,     0.13013,     0.13113,     0.13213,     0.13313,     0.13413,     0.13514,     0.13614,     0.13714,     0.13814,     0.13914,     0.14014,     0.14114,     0.14214,     0.14314,\n",
              "           0.14414,     0.14515,     0.14615,     0.14715,     0.14815,     0.14915,     0.15015,     0.15115,     0.15215,     0.15315,     0.15415,     0.15516,     0.15616,     0.15716,     0.15816,     0.15916,     0.16016,     0.16116,     0.16216,     0.16316,     0.16416,     0.16517,     0.16617,     0.16717,\n",
              "           0.16817,     0.16917,     0.17017,     0.17117,     0.17217,     0.17317,     0.17417,     0.17518,     0.17618,     0.17718,     0.17818,     0.17918,     0.18018,     0.18118,     0.18218,     0.18318,     0.18418,     0.18519,     0.18619,     0.18719,     0.18819,     0.18919,     0.19019,     0.19119,\n",
              "           0.19219,     0.19319,     0.19419,      0.1952,      0.1962,      0.1972,      0.1982,      0.1992,      0.2002,      0.2012,      0.2022,      0.2032,      0.2042,     0.20521,     0.20621,     0.20721,     0.20821,     0.20921,     0.21021,     0.21121,     0.21221,     0.21321,     0.21421,     0.21522,\n",
              "           0.21622,     0.21722,     0.21822,     0.21922,     0.22022,     0.22122,     0.22222,     0.22322,     0.22422,     0.22523,     0.22623,     0.22723,     0.22823,     0.22923,     0.23023,     0.23123,     0.23223,     0.23323,     0.23423,     0.23524,     0.23624,     0.23724,     0.23824,     0.23924,\n",
              "           0.24024,     0.24124,     0.24224,     0.24324,     0.24424,     0.24525,     0.24625,     0.24725,     0.24825,     0.24925,     0.25025,     0.25125,     0.25225,     0.25325,     0.25425,     0.25526,     0.25626,     0.25726,     0.25826,     0.25926,     0.26026,     0.26126,     0.26226,     0.26326,\n",
              "           0.26426,     0.26527,     0.26627,     0.26727,     0.26827,     0.26927,     0.27027,     0.27127,     0.27227,     0.27327,     0.27427,     0.27528,     0.27628,     0.27728,     0.27828,     0.27928,     0.28028,     0.28128,     0.28228,     0.28328,     0.28428,     0.28529,     0.28629,     0.28729,\n",
              "           0.28829,     0.28929,     0.29029,     0.29129,     0.29229,     0.29329,     0.29429,      0.2953,      0.2963,      0.2973,      0.2983,      0.2993,      0.3003,      0.3013,      0.3023,      0.3033,      0.3043,     0.30531,     0.30631,     0.30731,     0.30831,     0.30931,     0.31031,     0.31131,\n",
              "           0.31231,     0.31331,     0.31431,     0.31532,     0.31632,     0.31732,     0.31832,     0.31932,     0.32032,     0.32132,     0.32232,     0.32332,     0.32432,     0.32533,     0.32633,     0.32733,     0.32833,     0.32933,     0.33033,     0.33133,     0.33233,     0.33333,     0.33433,     0.33534,\n",
              "           0.33634,     0.33734,     0.33834,     0.33934,     0.34034,     0.34134,     0.34234,     0.34334,     0.34434,     0.34535,     0.34635,     0.34735,     0.34835,     0.34935,     0.35035,     0.35135,     0.35235,     0.35335,     0.35435,     0.35536,     0.35636,     0.35736,     0.35836,     0.35936,\n",
              "           0.36036,     0.36136,     0.36236,     0.36336,     0.36436,     0.36537,     0.36637,     0.36737,     0.36837,     0.36937,     0.37037,     0.37137,     0.37237,     0.37337,     0.37437,     0.37538,     0.37638,     0.37738,     0.37838,     0.37938,     0.38038,     0.38138,     0.38238,     0.38338,\n",
              "           0.38438,     0.38539,     0.38639,     0.38739,     0.38839,     0.38939,     0.39039,     0.39139,     0.39239,     0.39339,     0.39439,      0.3954,      0.3964,      0.3974,      0.3984,      0.3994,      0.4004,      0.4014,      0.4024,      0.4034,      0.4044,     0.40541,     0.40641,     0.40741,\n",
              "           0.40841,     0.40941,     0.41041,     0.41141,     0.41241,     0.41341,     0.41441,     0.41542,     0.41642,     0.41742,     0.41842,     0.41942,     0.42042,     0.42142,     0.42242,     0.42342,     0.42442,     0.42543,     0.42643,     0.42743,     0.42843,     0.42943,     0.43043,     0.43143,\n",
              "           0.43243,     0.43343,     0.43443,     0.43544,     0.43644,     0.43744,     0.43844,     0.43944,     0.44044,     0.44144,     0.44244,     0.44344,     0.44444,     0.44545,     0.44645,     0.44745,     0.44845,     0.44945,     0.45045,     0.45145,     0.45245,     0.45345,     0.45445,     0.45546,\n",
              "           0.45646,     0.45746,     0.45846,     0.45946,     0.46046,     0.46146,     0.46246,     0.46346,     0.46446,     0.46547,     0.46647,     0.46747,     0.46847,     0.46947,     0.47047,     0.47147,     0.47247,     0.47347,     0.47447,     0.47548,     0.47648,     0.47748,     0.47848,     0.47948,\n",
              "           0.48048,     0.48148,     0.48248,     0.48348,     0.48448,     0.48549,     0.48649,     0.48749,     0.48849,     0.48949,     0.49049,     0.49149,     0.49249,     0.49349,     0.49449,      0.4955,      0.4965,      0.4975,      0.4985,      0.4995,      0.5005,      0.5015,      0.5025,      0.5035,\n",
              "            0.5045,     0.50551,     0.50651,     0.50751,     0.50851,     0.50951,     0.51051,     0.51151,     0.51251,     0.51351,     0.51451,     0.51552,     0.51652,     0.51752,     0.51852,     0.51952,     0.52052,     0.52152,     0.52252,     0.52352,     0.52452,     0.52553,     0.52653,     0.52753,\n",
              "           0.52853,     0.52953,     0.53053,     0.53153,     0.53253,     0.53353,     0.53453,     0.53554,     0.53654,     0.53754,     0.53854,     0.53954,     0.54054,     0.54154,     0.54254,     0.54354,     0.54454,     0.54555,     0.54655,     0.54755,     0.54855,     0.54955,     0.55055,     0.55155,\n",
              "           0.55255,     0.55355,     0.55455,     0.55556,     0.55656,     0.55756,     0.55856,     0.55956,     0.56056,     0.56156,     0.56256,     0.56356,     0.56456,     0.56557,     0.56657,     0.56757,     0.56857,     0.56957,     0.57057,     0.57157,     0.57257,     0.57357,     0.57457,     0.57558,\n",
              "           0.57658,     0.57758,     0.57858,     0.57958,     0.58058,     0.58158,     0.58258,     0.58358,     0.58458,     0.58559,     0.58659,     0.58759,     0.58859,     0.58959,     0.59059,     0.59159,     0.59259,     0.59359,     0.59459,      0.5956,      0.5966,      0.5976,      0.5986,      0.5996,\n",
              "            0.6006,      0.6016,      0.6026,      0.6036,      0.6046,     0.60561,     0.60661,     0.60761,     0.60861,     0.60961,     0.61061,     0.61161,     0.61261,     0.61361,     0.61461,     0.61562,     0.61662,     0.61762,     0.61862,     0.61962,     0.62062,     0.62162,     0.62262,     0.62362,\n",
              "           0.62462,     0.62563,     0.62663,     0.62763,     0.62863,     0.62963,     0.63063,     0.63163,     0.63263,     0.63363,     0.63463,     0.63564,     0.63664,     0.63764,     0.63864,     0.63964,     0.64064,     0.64164,     0.64264,     0.64364,     0.64464,     0.64565,     0.64665,     0.64765,\n",
              "           0.64865,     0.64965,     0.65065,     0.65165,     0.65265,     0.65365,     0.65465,     0.65566,     0.65666,     0.65766,     0.65866,     0.65966,     0.66066,     0.66166,     0.66266,     0.66366,     0.66466,     0.66567,     0.66667,     0.66767,     0.66867,     0.66967,     0.67067,     0.67167,\n",
              "           0.67267,     0.67367,     0.67467,     0.67568,     0.67668,     0.67768,     0.67868,     0.67968,     0.68068,     0.68168,     0.68268,     0.68368,     0.68468,     0.68569,     0.68669,     0.68769,     0.68869,     0.68969,     0.69069,     0.69169,     0.69269,     0.69369,     0.69469,      0.6957,\n",
              "            0.6967,      0.6977,      0.6987,      0.6997,      0.7007,      0.7017,      0.7027,      0.7037,      0.7047,     0.70571,     0.70671,     0.70771,     0.70871,     0.70971,     0.71071,     0.71171,     0.71271,     0.71371,     0.71471,     0.71572,     0.71672,     0.71772,     0.71872,     0.71972,\n",
              "           0.72072,     0.72172,     0.72272,     0.72372,     0.72472,     0.72573,     0.72673,     0.72773,     0.72873,     0.72973,     0.73073,     0.73173,     0.73273,     0.73373,     0.73473,     0.73574,     0.73674,     0.73774,     0.73874,     0.73974,     0.74074,     0.74174,     0.74274,     0.74374,\n",
              "           0.74474,     0.74575,     0.74675,     0.74775,     0.74875,     0.74975,     0.75075,     0.75175,     0.75275,     0.75375,     0.75475,     0.75576,     0.75676,     0.75776,     0.75876,     0.75976,     0.76076,     0.76176,     0.76276,     0.76376,     0.76476,     0.76577,     0.76677,     0.76777,\n",
              "           0.76877,     0.76977,     0.77077,     0.77177,     0.77277,     0.77377,     0.77477,     0.77578,     0.77678,     0.77778,     0.77878,     0.77978,     0.78078,     0.78178,     0.78278,     0.78378,     0.78478,     0.78579,     0.78679,     0.78779,     0.78879,     0.78979,     0.79079,     0.79179,\n",
              "           0.79279,     0.79379,     0.79479,      0.7958,      0.7968,      0.7978,      0.7988,      0.7998,      0.8008,      0.8018,      0.8028,      0.8038,      0.8048,     0.80581,     0.80681,     0.80781,     0.80881,     0.80981,     0.81081,     0.81181,     0.81281,     0.81381,     0.81481,     0.81582,\n",
              "           0.81682,     0.81782,     0.81882,     0.81982,     0.82082,     0.82182,     0.82282,     0.82382,     0.82482,     0.82583,     0.82683,     0.82783,     0.82883,     0.82983,     0.83083,     0.83183,     0.83283,     0.83383,     0.83483,     0.83584,     0.83684,     0.83784,     0.83884,     0.83984,\n",
              "           0.84084,     0.84184,     0.84284,     0.84384,     0.84484,     0.84585,     0.84685,     0.84785,     0.84885,     0.84985,     0.85085,     0.85185,     0.85285,     0.85385,     0.85485,     0.85586,     0.85686,     0.85786,     0.85886,     0.85986,     0.86086,     0.86186,     0.86286,     0.86386,\n",
              "           0.86486,     0.86587,     0.86687,     0.86787,     0.86887,     0.86987,     0.87087,     0.87187,     0.87287,     0.87387,     0.87487,     0.87588,     0.87688,     0.87788,     0.87888,     0.87988,     0.88088,     0.88188,     0.88288,     0.88388,     0.88488,     0.88589,     0.88689,     0.88789,\n",
              "           0.88889,     0.88989,     0.89089,     0.89189,     0.89289,     0.89389,     0.89489,      0.8959,      0.8969,      0.8979,      0.8989,      0.8999,      0.9009,      0.9019,      0.9029,      0.9039,      0.9049,     0.90591,     0.90691,     0.90791,     0.90891,     0.90991,     0.91091,     0.91191,\n",
              "           0.91291,     0.91391,     0.91491,     0.91592,     0.91692,     0.91792,     0.91892,     0.91992,     0.92092,     0.92192,     0.92292,     0.92392,     0.92492,     0.92593,     0.92693,     0.92793,     0.92893,     0.92993,     0.93093,     0.93193,     0.93293,     0.93393,     0.93493,     0.93594,\n",
              "           0.93694,     0.93794,     0.93894,     0.93994,     0.94094,     0.94194,     0.94294,     0.94394,     0.94494,     0.94595,     0.94695,     0.94795,     0.94895,     0.94995,     0.95095,     0.95195,     0.95295,     0.95395,     0.95495,     0.95596,     0.95696,     0.95796,     0.95896,     0.95996,\n",
              "           0.96096,     0.96196,     0.96296,     0.96396,     0.96496,     0.96597,     0.96697,     0.96797,     0.96897,     0.96997,     0.97097,     0.97197,     0.97297,     0.97397,     0.97497,     0.97598,     0.97698,     0.97798,     0.97898,     0.97998,     0.98098,     0.98198,     0.98298,     0.98398,\n",
              "           0.98498,     0.98599,     0.98699,     0.98799,     0.98899,     0.98999,     0.99099,     0.99199,     0.99299,     0.99399,     0.99499,       0.996,       0.997,       0.998,       0.999,           1]), array([[    0.11632,     0.11632,     0.22539,      0.3078,     0.36864,     0.40207,     0.43333,     0.46817,     0.48425,     0.49339,      0.5047,     0.52791,     0.54762,     0.55356,     0.56418,     0.56901,     0.58005,     0.59053,     0.59986,     0.60333,     0.61816,     0.63501,     0.64294,\n",
              "            0.64747,      0.6532,     0.66555,     0.66861,     0.67331,     0.68453,     0.69023,     0.69297,     0.69391,     0.69486,      0.6958,     0.70955,     0.72153,     0.72541,     0.72884,     0.73171,     0.73384,     0.73669,     0.74121,      0.7482,     0.74997,     0.75691,     0.76532,\n",
              "            0.76791,     0.77104,     0.77309,     0.77262,     0.77215,     0.77235,     0.77311,     0.77387,     0.77464,      0.7754,     0.77616,     0.77811,     0.78085,     0.79079,     0.79657,     0.80046,     0.80129,     0.80213,     0.80297,     0.80381,     0.80464,     0.81079,     0.81284,\n",
              "            0.81487,     0.81618,      0.8175,     0.81882,     0.82041,     0.82312,     0.82552,     0.82722,     0.82893,     0.83574,     0.83687,       0.838,     0.83914,     0.84027,     0.84151,     0.84283,     0.84415,     0.84546,      0.8464,     0.84693,     0.84745,     0.84797,      0.8485,\n",
              "            0.84902,     0.84955,     0.85007,     0.85059,     0.85112,     0.85172,     0.85373,     0.85575,     0.85725,     0.85759,     0.85793,     0.85826,      0.8586,     0.85894,     0.85928,     0.85962,     0.85996,      0.8603,     0.86064,     0.86098,     0.86132,     0.86165,     0.86199,\n",
              "            0.86233,     0.86267,      0.8624,     0.86197,     0.86245,      0.8633,     0.86415,       0.865,     0.86585,      0.8667,     0.86755,     0.86825,     0.86895,     0.86964,     0.87034,     0.87104,     0.87174,     0.87243,     0.87313,     0.87434,     0.87575,     0.87717,     0.87858,\n",
              "            0.87936,     0.87966,     0.87995,     0.88025,     0.88054,     0.88084,     0.88113,     0.88143,     0.88172,     0.88202,     0.88231,     0.88261,      0.8829,      0.8832,     0.88349,     0.88379,     0.88408,     0.88438,     0.88468,     0.88497,     0.88508,     0.88497,     0.88486,\n",
              "            0.88474,     0.88463,     0.88451,      0.8844,     0.89036,     0.89029,     0.89021,     0.89013,     0.89006,     0.88998,      0.8899,     0.88983,     0.88975,     0.88968,     0.89066,     0.89203,      0.8934,     0.89477,     0.90232,     0.90332,     0.90433,     0.90533,     0.90633,\n",
              "            0.90733,     0.90833,     0.91487,     0.91479,      0.9147,     0.91462,     0.91453,     0.91445,     0.91436,     0.91513,     0.92098,     0.92124,     0.92149,     0.92175,       0.922,     0.92225,     0.92251,     0.92276,     0.92302,     0.92327,     0.92353,     0.92378,     0.92404,\n",
              "            0.92429,     0.92455,      0.9248,     0.92505,     0.92531,     0.92556,     0.92582,     0.92607,     0.92633,     0.92658,     0.92684,     0.92709,     0.92735,      0.9277,     0.92836,     0.92902,     0.92968,     0.93034,     0.93101,     0.93167,     0.93233,     0.93299,     0.93365,\n",
              "            0.93431,     0.93471,     0.93511,     0.93552,     0.93592,     0.93632,     0.93672,     0.93713,     0.93753,     0.93793,     0.93833,     0.93874,     0.93914,     0.93954,     0.93994,     0.94034,     0.94075,     0.94115,     0.94837,     0.94862,     0.94886,      0.9491,     0.94934,\n",
              "            0.94958,     0.94982,     0.95007,     0.95031,     0.95055,     0.95079,     0.95103,     0.95127,     0.95152,     0.95176,       0.952,     0.95224,     0.95248,     0.95273,     0.95297,     0.95321,     0.95345,     0.95369,     0.95393,     0.95418,     0.95442,     0.95466,      0.9549,\n",
              "            0.95514,     0.95522,     0.95521,      0.9552,     0.95519,     0.95519,     0.95518,     0.95517,     0.95516,     0.95515,     0.95514,     0.95514,     0.95513,     0.95512,     0.95511,      0.9551,     0.95509,     0.95509,     0.95508,     0.95507,     0.95506,     0.95505,     0.95504,\n",
              "            0.95504,     0.95503,     0.95502,     0.95501,       0.955,       0.955,     0.95499,     0.95498,     0.95497,     0.95496,     0.95495,     0.95495,     0.95494,     0.95493,     0.95492,     0.95491,      0.9549,      0.9549,     0.95489,     0.95485,      0.9548,     0.95476,     0.95471,\n",
              "            0.95467,     0.95463,     0.95458,     0.95454,     0.95453,     0.95452,     0.95451,      0.9545,     0.95448,     0.95447,     0.95446,     0.95445,     0.95444,     0.95442,     0.95441,      0.9544,     0.95439,     0.95438,     0.95436,     0.95435,     0.95434,     0.95433,     0.95431,\n",
              "             0.9543,     0.95429,     0.95428,     0.95427,     0.95425,     0.95424,     0.95423,     0.95422,     0.95421,      0.9542,     0.95419,     0.95419,     0.95419,     0.95418,     0.95418,     0.95418,     0.95417,     0.95417,     0.95416,     0.95416,     0.95416,     0.95415,     0.95415,\n",
              "            0.95415,     0.95414,     0.95414,     0.95414,     0.95413,     0.95413,     0.95412,     0.95412,     0.95412,     0.95411,     0.95411,     0.95411,      0.9541,      0.9541,      0.9541,     0.95409,     0.95409,     0.95408,     0.95408,     0.95408,     0.95407,     0.95407,     0.95407,\n",
              "            0.95406,     0.95406,     0.95406,     0.95405,     0.95405,     0.95405,     0.95404,     0.95404,     0.95403,     0.95403,     0.95403,     0.95402,     0.95402,     0.95402,     0.95401,     0.95401,     0.95401,       0.954,       0.954,     0.95399,     0.95399,     0.95399,     0.95398,\n",
              "            0.95398,     0.95398,     0.95397,     0.95397,     0.95397,     0.95396,     0.95396,     0.95395,     0.95395,     0.95395,     0.95394,     0.95394,     0.95394,     0.95393,     0.95393,     0.95393,     0.95392,     0.95392,     0.95391,     0.95391,     0.95391,      0.9539,      0.9539,\n",
              "             0.9539,     0.95389,     0.95389,     0.95389,     0.95388,     0.95388,     0.95387,     0.95387,     0.95387,     0.95386,     0.95386,     0.95386,     0.95385,     0.95385,     0.95384,     0.95378,     0.95372,     0.95365,     0.95359,     0.95352,     0.95347,     0.95343,     0.95339,\n",
              "            0.95335,     0.95331,     0.95326,     0.95322,     0.95318,     0.95314,       0.953,     0.95281,     0.95274,     0.95271,     0.95268,     0.95265,     0.95262,     0.95259,     0.95256,     0.95253,      0.9525,     0.95247,     0.95244,     0.95241,     0.95239,      0.9528,     0.95321,\n",
              "            0.95362,     0.95403,     0.95444,     0.95485,     0.95526,     0.95567,     0.95609,      0.9565,     0.95691,     0.95732,     0.95773,     0.95814,     0.95855,     0.95896,     0.95937,     0.95978,     0.95997,      0.9599,     0.95984,     0.95977,      0.9597,     0.96127,     0.96394,\n",
              "             0.9666,     0.96769,       0.968,     0.96831,     0.96863,     0.96894,     0.96925,     0.96957,     0.96988,     0.97019,      0.9705,     0.97082,     0.97113,     0.97144,     0.97175,     0.97207,     0.97238,     0.97269,       0.973,     0.97332,     0.97363,     0.97394,     0.97425,\n",
              "            0.97457,     0.97488,     0.97519,     0.97564,     0.97639,     0.97714,     0.97789,     0.97864,      0.9794,     0.98015,      0.9809,     0.98165,      0.9824,     0.98315,     0.98339,      0.9833,     0.98326,     0.98321,     0.98314,     0.98307,     0.98302,     0.98297,     0.98292,\n",
              "            0.98288,     0.98284,      0.9828,     0.98276,     0.98273,     0.98269,     0.98266,     0.98263,     0.98261,      0.9826,      0.9826,     0.98259,     0.98258,     0.98258,     0.98257,     0.98257,     0.98256,     0.98256,     0.98255,     0.98255,     0.98254,     0.98254,     0.98253,\n",
              "            0.98253,     0.98252,     0.98252,     0.98251,     0.98251,      0.9825,     0.98249,     0.98249,     0.98248,     0.98248,     0.98247,     0.98247,     0.98246,     0.98246,     0.98406,     0.98629,     0.98852,     0.99075,     0.99113,     0.99111,     0.99109,     0.99105,     0.99101,\n",
              "            0.99099,     0.99098,     0.99097,     0.99096,     0.99096,     0.99095,     0.99094,     0.99093,     0.99092,     0.99092,     0.99091,      0.9909,     0.99089,     0.99088,     0.99087,     0.99086,     0.99085,     0.99084,     0.99083,     0.99082,     0.99082,     0.99081,     0.99081,\n",
              "             0.9908,      0.9908,     0.99079,     0.99079,     0.99078,     0.99078,     0.99078,     0.99077,     0.99077,     0.99076,     0.99076,     0.99075,     0.99075,     0.99074,     0.99074,     0.99073,     0.99073,     0.99073,     0.99072,     0.99072,     0.99071,     0.99071,     0.99071,\n",
              "             0.9907,      0.9907,     0.99069,     0.99069,     0.99068,     0.99068,     0.99068,     0.99067,     0.99067,     0.99066,     0.99066,     0.99065,     0.99062,     0.99059,     0.99056,     0.99056,     0.99055,     0.99054,     0.99054,     0.99053,     0.99052,     0.99052,     0.99051,\n",
              "             0.9905,     0.99049,     0.99049,     0.99048,     0.99037,     0.99032,     0.99029,     0.99027,     0.99026,     0.99024,     0.99023,     0.99022,      0.9902,     0.99019,     0.99017,     0.99015,     0.99013,     0.99011,     0.99009,     0.99009,     0.99008,     0.99007,     0.99006,\n",
              "            0.99006,     0.99005,     0.99004,     0.99003,     0.99002,     0.99002,     0.99001,        0.99,     0.98998,     0.98996,     0.98994,     0.98993,     0.98991,     0.98989,     0.98989,     0.98988,     0.98987,     0.98986,     0.98985,     0.98984,     0.98983,     0.98982,     0.98981,\n",
              "            0.98981,      0.9898,     0.98968,     0.98966,     0.98965,     0.98964,     0.98962,     0.98961,      0.9896,     0.98958,     0.98956,     0.98953,     0.98951,     0.98948,     0.99434,           1,           1,           1,           1,           1,           1,           1,           1,\n",
              "                  1,           1,           1,           1,           1,           1,           1,           1,           1,           1,           1,           1,           1,           1,           1,           1,           1,           1,           1,           1,           1,           1,           1,\n",
              "                  1,           1,           1,           1,           1,           1,           1,           1,           1,           1,           1,           1,           1,           1,           1,           1,           1,           1,           1,           1,           1,           1,           1,\n",
              "                  1,           1,           1,           1,           1,           1,           1,           1,           1,           1,           1,           1,           1,           1,           1,           1,           1,           1,           1,           1,           1,           1,           1,\n",
              "                  1,           1,           1,           1,           1,           1,           1,           1,           1,           1,           1,           1,           1,           1,           1,           1,           1,           1,           1,           1,           1,           1,           1,\n",
              "                  1,           1,           1,           1,           1,           1,           1,           1,           1,           1,           1,           1,           1,           1,           1,           1,           1,           1,           1,           1,           1,           1,           1,\n",
              "                  1,           1,           1,           1,           1,           1,           1,           1,           1,           1,           1,           1,           1,           1,           1,           1,           1,           1,           1,           1,           1,           1,           1,\n",
              "                  1,           1,           1,           1,           1,           1,           1,           1,           1,           1,           1,           1,           1,           1,           1,           1,           1,           1,           1,           1,           1,           1,           1,\n",
              "                  1,           1,           1,           1,           1,           1,           1,           1,           1,           1,           1,           1,           1,           1,           1,           1,           1,           1,           1,           1,           1,           1,           1,\n",
              "                  1,           1,           1,           1,           1,           1,           1,           1,           1,           1,           1,           1,           1,           1,           1,           1,           1,           1,           1,           1,           1,           1,           1,\n",
              "                  1,           1,           1,           1,           1,           1,           1,           1,           1,           1,           1,           1,           1,           1,           1,           1,           1,           1,           1,           1,           1,           1,           1,\n",
              "                  1,           1,           1,           1,           1,           1,           1,           1,           1,           1,           1,           1,           1,           1,           1,           1,           1,           1,           1,           1,           1,           1,           1,\n",
              "                  1,           1,           1,           1,           1,           1,           1,           1,           1,           1,           1]]), 'Confidence', 'Precision'], [array([          0,    0.001001,    0.002002,    0.003003,    0.004004,    0.005005,    0.006006,    0.007007,    0.008008,    0.009009,     0.01001,    0.011011,    0.012012,    0.013013,    0.014014,    0.015015,    0.016016,    0.017017,    0.018018,    0.019019,     0.02002,    0.021021,    0.022022,    0.023023,\n",
              "          0.024024,    0.025025,    0.026026,    0.027027,    0.028028,    0.029029,     0.03003,    0.031031,    0.032032,    0.033033,    0.034034,    0.035035,    0.036036,    0.037037,    0.038038,    0.039039,     0.04004,    0.041041,    0.042042,    0.043043,    0.044044,    0.045045,    0.046046,    0.047047,\n",
              "          0.048048,    0.049049,     0.05005,    0.051051,    0.052052,    0.053053,    0.054054,    0.055055,    0.056056,    0.057057,    0.058058,    0.059059,     0.06006,    0.061061,    0.062062,    0.063063,    0.064064,    0.065065,    0.066066,    0.067067,    0.068068,    0.069069,     0.07007,    0.071071,\n",
              "          0.072072,    0.073073,    0.074074,    0.075075,    0.076076,    0.077077,    0.078078,    0.079079,     0.08008,    0.081081,    0.082082,    0.083083,    0.084084,    0.085085,    0.086086,    0.087087,    0.088088,    0.089089,     0.09009,    0.091091,    0.092092,    0.093093,    0.094094,    0.095095,\n",
              "          0.096096,    0.097097,    0.098098,    0.099099,      0.1001,      0.1011,      0.1021,      0.1031,      0.1041,     0.10511,     0.10611,     0.10711,     0.10811,     0.10911,     0.11011,     0.11111,     0.11211,     0.11311,     0.11411,     0.11512,     0.11612,     0.11712,     0.11812,     0.11912,\n",
              "           0.12012,     0.12112,     0.12212,     0.12312,     0.12412,     0.12513,     0.12613,     0.12713,     0.12813,     0.12913,     0.13013,     0.13113,     0.13213,     0.13313,     0.13413,     0.13514,     0.13614,     0.13714,     0.13814,     0.13914,     0.14014,     0.14114,     0.14214,     0.14314,\n",
              "           0.14414,     0.14515,     0.14615,     0.14715,     0.14815,     0.14915,     0.15015,     0.15115,     0.15215,     0.15315,     0.15415,     0.15516,     0.15616,     0.15716,     0.15816,     0.15916,     0.16016,     0.16116,     0.16216,     0.16316,     0.16416,     0.16517,     0.16617,     0.16717,\n",
              "           0.16817,     0.16917,     0.17017,     0.17117,     0.17217,     0.17317,     0.17417,     0.17518,     0.17618,     0.17718,     0.17818,     0.17918,     0.18018,     0.18118,     0.18218,     0.18318,     0.18418,     0.18519,     0.18619,     0.18719,     0.18819,     0.18919,     0.19019,     0.19119,\n",
              "           0.19219,     0.19319,     0.19419,      0.1952,      0.1962,      0.1972,      0.1982,      0.1992,      0.2002,      0.2012,      0.2022,      0.2032,      0.2042,     0.20521,     0.20621,     0.20721,     0.20821,     0.20921,     0.21021,     0.21121,     0.21221,     0.21321,     0.21421,     0.21522,\n",
              "           0.21622,     0.21722,     0.21822,     0.21922,     0.22022,     0.22122,     0.22222,     0.22322,     0.22422,     0.22523,     0.22623,     0.22723,     0.22823,     0.22923,     0.23023,     0.23123,     0.23223,     0.23323,     0.23423,     0.23524,     0.23624,     0.23724,     0.23824,     0.23924,\n",
              "           0.24024,     0.24124,     0.24224,     0.24324,     0.24424,     0.24525,     0.24625,     0.24725,     0.24825,     0.24925,     0.25025,     0.25125,     0.25225,     0.25325,     0.25425,     0.25526,     0.25626,     0.25726,     0.25826,     0.25926,     0.26026,     0.26126,     0.26226,     0.26326,\n",
              "           0.26426,     0.26527,     0.26627,     0.26727,     0.26827,     0.26927,     0.27027,     0.27127,     0.27227,     0.27327,     0.27427,     0.27528,     0.27628,     0.27728,     0.27828,     0.27928,     0.28028,     0.28128,     0.28228,     0.28328,     0.28428,     0.28529,     0.28629,     0.28729,\n",
              "           0.28829,     0.28929,     0.29029,     0.29129,     0.29229,     0.29329,     0.29429,      0.2953,      0.2963,      0.2973,      0.2983,      0.2993,      0.3003,      0.3013,      0.3023,      0.3033,      0.3043,     0.30531,     0.30631,     0.30731,     0.30831,     0.30931,     0.31031,     0.31131,\n",
              "           0.31231,     0.31331,     0.31431,     0.31532,     0.31632,     0.31732,     0.31832,     0.31932,     0.32032,     0.32132,     0.32232,     0.32332,     0.32432,     0.32533,     0.32633,     0.32733,     0.32833,     0.32933,     0.33033,     0.33133,     0.33233,     0.33333,     0.33433,     0.33534,\n",
              "           0.33634,     0.33734,     0.33834,     0.33934,     0.34034,     0.34134,     0.34234,     0.34334,     0.34434,     0.34535,     0.34635,     0.34735,     0.34835,     0.34935,     0.35035,     0.35135,     0.35235,     0.35335,     0.35435,     0.35536,     0.35636,     0.35736,     0.35836,     0.35936,\n",
              "           0.36036,     0.36136,     0.36236,     0.36336,     0.36436,     0.36537,     0.36637,     0.36737,     0.36837,     0.36937,     0.37037,     0.37137,     0.37237,     0.37337,     0.37437,     0.37538,     0.37638,     0.37738,     0.37838,     0.37938,     0.38038,     0.38138,     0.38238,     0.38338,\n",
              "           0.38438,     0.38539,     0.38639,     0.38739,     0.38839,     0.38939,     0.39039,     0.39139,     0.39239,     0.39339,     0.39439,      0.3954,      0.3964,      0.3974,      0.3984,      0.3994,      0.4004,      0.4014,      0.4024,      0.4034,      0.4044,     0.40541,     0.40641,     0.40741,\n",
              "           0.40841,     0.40941,     0.41041,     0.41141,     0.41241,     0.41341,     0.41441,     0.41542,     0.41642,     0.41742,     0.41842,     0.41942,     0.42042,     0.42142,     0.42242,     0.42342,     0.42442,     0.42543,     0.42643,     0.42743,     0.42843,     0.42943,     0.43043,     0.43143,\n",
              "           0.43243,     0.43343,     0.43443,     0.43544,     0.43644,     0.43744,     0.43844,     0.43944,     0.44044,     0.44144,     0.44244,     0.44344,     0.44444,     0.44545,     0.44645,     0.44745,     0.44845,     0.44945,     0.45045,     0.45145,     0.45245,     0.45345,     0.45445,     0.45546,\n",
              "           0.45646,     0.45746,     0.45846,     0.45946,     0.46046,     0.46146,     0.46246,     0.46346,     0.46446,     0.46547,     0.46647,     0.46747,     0.46847,     0.46947,     0.47047,     0.47147,     0.47247,     0.47347,     0.47447,     0.47548,     0.47648,     0.47748,     0.47848,     0.47948,\n",
              "           0.48048,     0.48148,     0.48248,     0.48348,     0.48448,     0.48549,     0.48649,     0.48749,     0.48849,     0.48949,     0.49049,     0.49149,     0.49249,     0.49349,     0.49449,      0.4955,      0.4965,      0.4975,      0.4985,      0.4995,      0.5005,      0.5015,      0.5025,      0.5035,\n",
              "            0.5045,     0.50551,     0.50651,     0.50751,     0.50851,     0.50951,     0.51051,     0.51151,     0.51251,     0.51351,     0.51451,     0.51552,     0.51652,     0.51752,     0.51852,     0.51952,     0.52052,     0.52152,     0.52252,     0.52352,     0.52452,     0.52553,     0.52653,     0.52753,\n",
              "           0.52853,     0.52953,     0.53053,     0.53153,     0.53253,     0.53353,     0.53453,     0.53554,     0.53654,     0.53754,     0.53854,     0.53954,     0.54054,     0.54154,     0.54254,     0.54354,     0.54454,     0.54555,     0.54655,     0.54755,     0.54855,     0.54955,     0.55055,     0.55155,\n",
              "           0.55255,     0.55355,     0.55455,     0.55556,     0.55656,     0.55756,     0.55856,     0.55956,     0.56056,     0.56156,     0.56256,     0.56356,     0.56456,     0.56557,     0.56657,     0.56757,     0.56857,     0.56957,     0.57057,     0.57157,     0.57257,     0.57357,     0.57457,     0.57558,\n",
              "           0.57658,     0.57758,     0.57858,     0.57958,     0.58058,     0.58158,     0.58258,     0.58358,     0.58458,     0.58559,     0.58659,     0.58759,     0.58859,     0.58959,     0.59059,     0.59159,     0.59259,     0.59359,     0.59459,      0.5956,      0.5966,      0.5976,      0.5986,      0.5996,\n",
              "            0.6006,      0.6016,      0.6026,      0.6036,      0.6046,     0.60561,     0.60661,     0.60761,     0.60861,     0.60961,     0.61061,     0.61161,     0.61261,     0.61361,     0.61461,     0.61562,     0.61662,     0.61762,     0.61862,     0.61962,     0.62062,     0.62162,     0.62262,     0.62362,\n",
              "           0.62462,     0.62563,     0.62663,     0.62763,     0.62863,     0.62963,     0.63063,     0.63163,     0.63263,     0.63363,     0.63463,     0.63564,     0.63664,     0.63764,     0.63864,     0.63964,     0.64064,     0.64164,     0.64264,     0.64364,     0.64464,     0.64565,     0.64665,     0.64765,\n",
              "           0.64865,     0.64965,     0.65065,     0.65165,     0.65265,     0.65365,     0.65465,     0.65566,     0.65666,     0.65766,     0.65866,     0.65966,     0.66066,     0.66166,     0.66266,     0.66366,     0.66466,     0.66567,     0.66667,     0.66767,     0.66867,     0.66967,     0.67067,     0.67167,\n",
              "           0.67267,     0.67367,     0.67467,     0.67568,     0.67668,     0.67768,     0.67868,     0.67968,     0.68068,     0.68168,     0.68268,     0.68368,     0.68468,     0.68569,     0.68669,     0.68769,     0.68869,     0.68969,     0.69069,     0.69169,     0.69269,     0.69369,     0.69469,      0.6957,\n",
              "            0.6967,      0.6977,      0.6987,      0.6997,      0.7007,      0.7017,      0.7027,      0.7037,      0.7047,     0.70571,     0.70671,     0.70771,     0.70871,     0.70971,     0.71071,     0.71171,     0.71271,     0.71371,     0.71471,     0.71572,     0.71672,     0.71772,     0.71872,     0.71972,\n",
              "           0.72072,     0.72172,     0.72272,     0.72372,     0.72472,     0.72573,     0.72673,     0.72773,     0.72873,     0.72973,     0.73073,     0.73173,     0.73273,     0.73373,     0.73473,     0.73574,     0.73674,     0.73774,     0.73874,     0.73974,     0.74074,     0.74174,     0.74274,     0.74374,\n",
              "           0.74474,     0.74575,     0.74675,     0.74775,     0.74875,     0.74975,     0.75075,     0.75175,     0.75275,     0.75375,     0.75475,     0.75576,     0.75676,     0.75776,     0.75876,     0.75976,     0.76076,     0.76176,     0.76276,     0.76376,     0.76476,     0.76577,     0.76677,     0.76777,\n",
              "           0.76877,     0.76977,     0.77077,     0.77177,     0.77277,     0.77377,     0.77477,     0.77578,     0.77678,     0.77778,     0.77878,     0.77978,     0.78078,     0.78178,     0.78278,     0.78378,     0.78478,     0.78579,     0.78679,     0.78779,     0.78879,     0.78979,     0.79079,     0.79179,\n",
              "           0.79279,     0.79379,     0.79479,      0.7958,      0.7968,      0.7978,      0.7988,      0.7998,      0.8008,      0.8018,      0.8028,      0.8038,      0.8048,     0.80581,     0.80681,     0.80781,     0.80881,     0.80981,     0.81081,     0.81181,     0.81281,     0.81381,     0.81481,     0.81582,\n",
              "           0.81682,     0.81782,     0.81882,     0.81982,     0.82082,     0.82182,     0.82282,     0.82382,     0.82482,     0.82583,     0.82683,     0.82783,     0.82883,     0.82983,     0.83083,     0.83183,     0.83283,     0.83383,     0.83483,     0.83584,     0.83684,     0.83784,     0.83884,     0.83984,\n",
              "           0.84084,     0.84184,     0.84284,     0.84384,     0.84484,     0.84585,     0.84685,     0.84785,     0.84885,     0.84985,     0.85085,     0.85185,     0.85285,     0.85385,     0.85485,     0.85586,     0.85686,     0.85786,     0.85886,     0.85986,     0.86086,     0.86186,     0.86286,     0.86386,\n",
              "           0.86486,     0.86587,     0.86687,     0.86787,     0.86887,     0.86987,     0.87087,     0.87187,     0.87287,     0.87387,     0.87487,     0.87588,     0.87688,     0.87788,     0.87888,     0.87988,     0.88088,     0.88188,     0.88288,     0.88388,     0.88488,     0.88589,     0.88689,     0.88789,\n",
              "           0.88889,     0.88989,     0.89089,     0.89189,     0.89289,     0.89389,     0.89489,      0.8959,      0.8969,      0.8979,      0.8989,      0.8999,      0.9009,      0.9019,      0.9029,      0.9039,      0.9049,     0.90591,     0.90691,     0.90791,     0.90891,     0.90991,     0.91091,     0.91191,\n",
              "           0.91291,     0.91391,     0.91491,     0.91592,     0.91692,     0.91792,     0.91892,     0.91992,     0.92092,     0.92192,     0.92292,     0.92392,     0.92492,     0.92593,     0.92693,     0.92793,     0.92893,     0.92993,     0.93093,     0.93193,     0.93293,     0.93393,     0.93493,     0.93594,\n",
              "           0.93694,     0.93794,     0.93894,     0.93994,     0.94094,     0.94194,     0.94294,     0.94394,     0.94494,     0.94595,     0.94695,     0.94795,     0.94895,     0.94995,     0.95095,     0.95195,     0.95295,     0.95395,     0.95495,     0.95596,     0.95696,     0.95796,     0.95896,     0.95996,\n",
              "           0.96096,     0.96196,     0.96296,     0.96396,     0.96496,     0.96597,     0.96697,     0.96797,     0.96897,     0.96997,     0.97097,     0.97197,     0.97297,     0.97397,     0.97497,     0.97598,     0.97698,     0.97798,     0.97898,     0.97998,     0.98098,     0.98198,     0.98298,     0.98398,\n",
              "           0.98498,     0.98599,     0.98699,     0.98799,     0.98899,     0.98999,     0.99099,     0.99199,     0.99299,     0.99399,     0.99499,       0.996,       0.997,       0.998,       0.999,           1]), array([[    0.99259,     0.99259,     0.98519,     0.98519,     0.98519,     0.98519,     0.98519,     0.98519,     0.98519,     0.98519,     0.98519,     0.98519,     0.98519,     0.98519,     0.98519,     0.98519,     0.98519,     0.98519,     0.98519,     0.98519,     0.98519,     0.98519,     0.98519,\n",
              "            0.98519,     0.98519,     0.98519,     0.98519,     0.98519,     0.98519,     0.98519,     0.98519,     0.98519,     0.98519,     0.98519,     0.98519,     0.98519,     0.98519,     0.98519,     0.98519,     0.98519,     0.98519,     0.98519,     0.98519,     0.98519,     0.98519,     0.98519,\n",
              "            0.98519,     0.98519,     0.98426,     0.98162,     0.97898,     0.97778,     0.97778,     0.97778,     0.97778,     0.97778,     0.97778,     0.97778,     0.97778,     0.97778,     0.97778,     0.97778,     0.97778,     0.97778,     0.97778,     0.97778,     0.97778,     0.97778,     0.97778,\n",
              "            0.97778,     0.97778,     0.97778,     0.97778,     0.97778,     0.97778,     0.97778,     0.97778,     0.97778,     0.97778,     0.97778,     0.97778,     0.97778,     0.97778,     0.97778,     0.97778,     0.97778,     0.97778,     0.97778,     0.97778,     0.97778,     0.97778,     0.97778,\n",
              "            0.97778,     0.97778,     0.97778,     0.97778,     0.97778,     0.97778,     0.97778,     0.97778,     0.97778,     0.97778,     0.97778,     0.97778,     0.97778,     0.97778,     0.97778,     0.97778,     0.97778,     0.97778,     0.97778,     0.97778,     0.97778,     0.97778,     0.97778,\n",
              "            0.97778,     0.97778,     0.97498,     0.97141,     0.97037,     0.97037,     0.97037,     0.97037,     0.97037,     0.97037,     0.97037,     0.97037,     0.97037,     0.97037,     0.97037,     0.97037,     0.97037,     0.97037,     0.97037,     0.97037,     0.97037,     0.97037,     0.97037,\n",
              "            0.97037,     0.97037,     0.97037,     0.97037,     0.97037,     0.97037,     0.97037,     0.97037,     0.97037,     0.97037,     0.97037,     0.97037,     0.97037,     0.97037,     0.97037,     0.97037,     0.97037,     0.97037,     0.97037,     0.97037,     0.96989,     0.96881,     0.96772,\n",
              "            0.96664,     0.96555,     0.96447,     0.96338,      0.9625,     0.96175,       0.961,     0.96025,      0.9595,     0.95875,       0.958,     0.95725,      0.9565,     0.95575,     0.95556,     0.95556,     0.95556,     0.95556,     0.95556,     0.95556,     0.95556,     0.95556,     0.95556,\n",
              "            0.95556,     0.95556,     0.95527,     0.95425,     0.95322,     0.95219,     0.95116,     0.95013,      0.9491,     0.94815,     0.94815,     0.94815,     0.94815,     0.94815,     0.94815,     0.94815,     0.94815,     0.94815,     0.94815,     0.94815,     0.94815,     0.94815,     0.94815,\n",
              "            0.94815,     0.94815,     0.94815,     0.94815,     0.94815,     0.94815,     0.94815,     0.94815,     0.94815,     0.94815,     0.94815,     0.94815,     0.94815,     0.94815,     0.94815,     0.94815,     0.94815,     0.94815,     0.94815,     0.94815,     0.94815,     0.94815,     0.94815,\n",
              "            0.94815,     0.94815,     0.94815,     0.94815,     0.94815,     0.94815,     0.94815,     0.94815,     0.94815,     0.94815,     0.94815,     0.94815,     0.94815,     0.94815,     0.94815,     0.94815,     0.94815,     0.94815,     0.94815,     0.94815,     0.94815,     0.94815,     0.94815,\n",
              "            0.94815,     0.94815,     0.94815,     0.94815,     0.94815,     0.94815,     0.94815,     0.94815,     0.94815,     0.94815,     0.94815,     0.94815,     0.94815,     0.94815,     0.94815,     0.94815,     0.94815,     0.94815,     0.94815,     0.94815,     0.94815,     0.94815,     0.94815,\n",
              "            0.94815,     0.94803,     0.94785,     0.94766,     0.94748,      0.9473,     0.94712,     0.94694,     0.94675,     0.94657,     0.94639,     0.94621,     0.94603,     0.94584,     0.94566,     0.94548,      0.9453,     0.94512,     0.94494,     0.94475,     0.94457,     0.94439,     0.94421,\n",
              "            0.94403,     0.94384,     0.94366,     0.94348,      0.9433,     0.94312,     0.94293,     0.94275,     0.94257,     0.94239,     0.94221,     0.94203,     0.94184,     0.94166,     0.94148,      0.9413,     0.94112,     0.94093,     0.94075,     0.93985,      0.9389,     0.93796,     0.93701,\n",
              "            0.93606,     0.93511,     0.93416,      0.9333,     0.93304,     0.93279,     0.93253,     0.93227,     0.93201,     0.93176,      0.9315,     0.93124,     0.93098,     0.93073,     0.93047,     0.93021,     0.92995,      0.9297,     0.92944,     0.92918,     0.92892,     0.92867,     0.92841,\n",
              "            0.92815,     0.92789,     0.92764,     0.92738,     0.92712,     0.92687,     0.92661,     0.92635,     0.92609,      0.9259,     0.92582,     0.92575,     0.92567,     0.92559,     0.92552,     0.92544,     0.92537,     0.92529,     0.92521,     0.92514,     0.92506,     0.92499,     0.92491,\n",
              "            0.92483,     0.92476,     0.92468,     0.92461,     0.92453,     0.92445,     0.92438,      0.9243,     0.92422,     0.92415,     0.92407,       0.924,     0.92392,     0.92384,     0.92377,     0.92369,     0.92362,     0.92354,     0.92346,     0.92339,     0.92331,     0.92324,     0.92316,\n",
              "            0.92308,     0.92301,     0.92293,     0.92285,     0.92278,      0.9227,     0.92263,     0.92255,     0.92247,      0.9224,     0.92232,     0.92225,     0.92217,     0.92209,     0.92202,     0.92194,     0.92187,     0.92179,     0.92171,     0.92164,     0.92156,     0.92148,     0.92141,\n",
              "            0.92133,     0.92126,     0.92118,      0.9211,     0.92103,     0.92095,     0.92088,      0.9208,     0.92072,     0.92065,     0.92057,     0.92049,     0.92042,     0.92034,     0.92027,     0.92019,     0.92011,     0.92004,     0.91996,     0.91989,     0.91981,     0.91973,     0.91966,\n",
              "            0.91958,     0.91951,     0.91943,     0.91935,     0.91928,      0.9192,     0.91912,     0.91905,     0.91897,      0.9189,     0.91882,     0.91874,     0.91867,     0.91859,     0.91847,     0.91715,     0.91583,     0.91451,     0.91319,     0.91187,     0.91075,     0.90991,     0.90906,\n",
              "            0.90822,     0.90738,     0.90653,     0.90569,     0.90485,       0.904,     0.90125,     0.89746,     0.89589,     0.89531,     0.89472,     0.89414,     0.89355,     0.89297,     0.89239,      0.8918,     0.89122,     0.89063,     0.89005,     0.88947,     0.88889,     0.88889,     0.88889,\n",
              "            0.88889,     0.88889,     0.88889,     0.88889,     0.88889,     0.88889,     0.88889,     0.88889,     0.88889,     0.88889,     0.88889,     0.88889,     0.88889,     0.88889,     0.88889,     0.88889,     0.88817,     0.88665,     0.88513,     0.88361,     0.88209,     0.88148,     0.88148,\n",
              "            0.88148,     0.88148,     0.88148,     0.88148,     0.88148,     0.88148,     0.88148,     0.88148,     0.88148,     0.88148,     0.88148,     0.88148,     0.88148,     0.88148,     0.88148,     0.88148,     0.88148,     0.88148,     0.88148,     0.88148,     0.88148,     0.88148,     0.88148,\n",
              "            0.88148,     0.88148,     0.88148,     0.88148,     0.88148,     0.88148,     0.88148,     0.88148,     0.88148,     0.88148,     0.88148,     0.88148,     0.88148,     0.88148,     0.87712,     0.87256,     0.87003,      0.8675,     0.86412,     0.86032,     0.85744,      0.8549,     0.85237,\n",
              "            0.85034,     0.84845,     0.84655,     0.84465,     0.84294,     0.84125,     0.83957,     0.83788,     0.83691,     0.83665,     0.83639,     0.83614,     0.83588,     0.83562,     0.83536,     0.83511,     0.83485,     0.83459,     0.83433,     0.83408,     0.83382,     0.83356,      0.8333,\n",
              "            0.83305,     0.83279,     0.83253,     0.83228,     0.83202,     0.83176,      0.8315,     0.83125,     0.83099,     0.83073,     0.83047,     0.83022,     0.82996,      0.8297,     0.82963,     0.82963,     0.82963,     0.82963,     0.82785,     0.82568,     0.82351,     0.82069,     0.81689,\n",
              "            0.81449,     0.81376,     0.81304,     0.81232,     0.81159,     0.81087,     0.81015,     0.80942,      0.8087,     0.80798,     0.80722,     0.80633,     0.80543,     0.80454,     0.80365,     0.80275,     0.80186,     0.80097,     0.80007,     0.79963,     0.79923,     0.79883,     0.79843,\n",
              "            0.79803,     0.79764,     0.79724,     0.79684,     0.79644,     0.79604,     0.79564,     0.79524,     0.79484,     0.79444,     0.79404,     0.79364,     0.79324,     0.79284,     0.79245,     0.79209,     0.79173,     0.79137,     0.79101,     0.79065,     0.79029,     0.78992,     0.78956,\n",
              "             0.7892,     0.78884,     0.78848,     0.78812,     0.78775,     0.78739,     0.78703,     0.78667,     0.78631,     0.78595,     0.78559,     0.78522,     0.78247,     0.77943,     0.77752,     0.77696,      0.7764,     0.77583,     0.77527,     0.77471,     0.77415,     0.77358,     0.77302,\n",
              "            0.77246,      0.7719,     0.77134,     0.77077,     0.76188,     0.75809,     0.75519,     0.75411,     0.75302,     0.75194,     0.75086,     0.74977,     0.74869,     0.74738,     0.74586,     0.74435,     0.74283,     0.74131,     0.74037,     0.73979,     0.73921,     0.73862,     0.73804,\n",
              "            0.73745,     0.73687,     0.73629,      0.7357,     0.73512,     0.73453,     0.73395,     0.73337,     0.73203,     0.73065,     0.72927,     0.72789,     0.72651,     0.72556,     0.72493,     0.72429,     0.72366,     0.72303,      0.7224,     0.72176,     0.72113,      0.7205,     0.71987,\n",
              "            0.71923,      0.7186,     0.71028,     0.70934,     0.70839,     0.70744,     0.70649,     0.70554,     0.70459,     0.70359,      0.7019,     0.70022,     0.69853,     0.69684,      0.6963,     0.68874,     0.68805,     0.68736,     0.68667,     0.68598,     0.68529,      0.6846,     0.68391,\n",
              "            0.68322,     0.68253,     0.68184,     0.68092,     0.67975,     0.67858,     0.67741,     0.67625,     0.67508,     0.67336,      0.6683,      0.6661,     0.66525,     0.66441,     0.66356,     0.66272,     0.66188,     0.66103,     0.66019,     0.65935,     0.65654,      0.6535,     0.65069,\n",
              "            0.64816,     0.64563,     0.64355,     0.64186,     0.64017,     0.63849,     0.62892,     0.62386,     0.62171,     0.62095,     0.62019,     0.61943,     0.61867,     0.61791,     0.61715,     0.61639,     0.61563,     0.61487,     0.61423,      0.6136,     0.61297,     0.61233,      0.6117,\n",
              "            0.61107,     0.61044,      0.6098,     0.60917,     0.60854,      0.6079,     0.60415,     0.59448,     0.59196,     0.59112,     0.59027,     0.58943,     0.58858,     0.58774,      0.5869,     0.58605,     0.58521,     0.58027,     0.57393,     0.56956,     0.56804,     0.56653,     0.56501,\n",
              "            0.56349,     0.56172,     0.55982,     0.55793,     0.55603,     0.54587,     0.54283,     0.52355,     0.50855,     0.50316,     0.50164,     0.50012,      0.4986,     0.49708,       0.463,     0.45669,     0.45168,     0.44789,     0.43656,      0.4315,     0.42724,     0.42344,     0.41138,\n",
              "            0.40577,     0.39909,     0.39529,     0.39172,     0.38868,     0.38564,     0.37873,     0.36031,     0.35727,     0.35445,     0.35192,     0.34939,     0.33881,     0.33501,      0.3291,     0.31726,     0.31509,     0.31292,     0.30984,     0.29557,     0.29177,     0.27966,     0.27206,\n",
              "            0.26644,     0.26564,     0.26484,     0.26404,     0.26324,     0.26244,     0.26164,     0.26084,     0.26004,     0.25915,     0.25409,     0.24418,     0.24038,     0.23614,     0.22198,     0.22029,     0.21861,     0.21692,     0.21523,     0.21196,     0.20816,     0.20497,     0.20194,\n",
              "            0.18335,     0.17829,     0.16354,     0.15595,     0.15268,     0.14964,      0.1466,     0.14356,     0.14056,     0.13803,      0.1355,     0.13115,     0.11603,     0.11223,     0.10844,     0.10464,    0.094952,     0.08989,    0.082798,    0.079389,    0.076858,    0.074327,    0.072708,\n",
              "           0.071189,     0.06967,    0.068152,     0.06665,    0.065891,    0.065131,    0.064372,    0.063613,    0.062854,    0.062094,    0.061335,    0.060576,    0.059816,    0.058682,    0.056513,    0.054343,    0.052174,    0.050928,    0.049843,    0.048759,    0.047674,    0.046589,    0.045505,\n",
              "           0.044376,    0.041339,    0.038302,    0.035771,    0.033602,    0.031432,    0.029495,    0.028695,    0.027896,    0.027097,    0.026298,    0.025498,    0.024699,      0.0239,    0.023101,    0.022301,    0.021462,    0.020619,    0.019775,    0.018931,    0.018088,    0.017244,      0.0164,\n",
              "           0.015557,      0.0147,    0.013751,    0.012802,    0.011853,    0.010904,   0.0099549,   0.0090058,   0.0080567,           0,           0,           0,           0,           0,           0,           0,           0,           0,           0,           0,           0,           0,           0,\n",
              "                  0,           0,           0,           0,           0,           0,           0,           0,           0,           0,           0,           0,           0,           0,           0,           0,           0,           0,           0,           0,           0,           0,           0,\n",
              "                  0,           0,           0,           0,           0,           0,           0,           0,           0,           0,           0]]), 'Confidence', 'Recall']]\n",
              "fitness: np.float64(0.7223480365671774)\n",
              "keys: ['metrics/precision(B)', 'metrics/recall(B)', 'metrics/mAP50(B)', 'metrics/mAP50-95(B)']\n",
              "maps: array([    0.69415])\n",
              "names: {0: 'pothole'}\n",
              "nt_per_class: array([135])\n",
              "nt_per_image: array([79])\n",
              "results_dict: {'metrics/precision(B)': np.float64(0.9551439915237065), 'metrics/recall(B)': np.float64(0.9463903912783931), 'metrics/mAP50(B)': np.float64(0.9761258108575221), 'metrics/mAP50-95(B)': np.float64(0.6941505060904724), 'fitness': np.float64(0.7223480365671774)}\n",
              "save_dir: PosixPath('/content/drive/MyDrive/model_custom1/yolov8n_TLEF_1')\n",
              "speed: {'preprocess': 0.12768056962435184, 'inference': 2.3435781772144466, 'loss': 0.0002830632851489295, 'postprocess': 3.982725810129534}\n",
              "stats: {'tp': [], 'conf': [], 'pred_cls': [], 'target_cls': [], 'target_img': []}\n",
              "task: 'detect'"
            ]
          },
          "metadata": {},
          "execution_count": 5
        }
      ],
      "source": [
        "import os\n",
        "import torch\n",
        "from ultralytics import YOLO\n",
        "\n",
        "# 建立模型\n",
        "\n",
        "# 模型名稱: 可用YOLO原始模型、自定義模型、之前練過的\n",
        "model = YOLO(\"yolov8n.pt\")\n",
        "\n",
        "# 我自己要玩的，不想用就幫我註解掉就好(刪了我會哭嗚嗚)\n",
        "\n",
        "# # 1. 官方模型(抓預訓練權重用)\n",
        "# pretrained = YOLO(\"yolov8n.pt\")\n",
        "# # 2. 自訂模型架構\n",
        "# model = YOLO(\"/content/drive/MyDrive/datasets/custom_yolov8n.yaml\")\n",
        "# # 3. 取得預訓練模型的state_dict\n",
        "# pretrained_dict = pretrained.model.state_dict()\n",
        "# new_model_dict = model.model.state_dict()\n",
        "# # 4. 把對得上的 key 丟進去（只留 backbone 的部分）\n",
        "# filtered_dict = {k: v for k, v in pretrained_dict.items() if k in new_model_dict and v.shape == new_model_dict[k].shape}\n",
        "# # 5. 套用進去\n",
        "# model.model.load_state_dict(filtered_dict, strict=False)\n",
        "\n",
        "# 訓練模型\n",
        "model.train(\n",
        "    # 訓練用參數\n",
        "    data=\"/content/drive/MyDrive/datasets/train.yaml\",\n",
        "    epochs=150, # 圈數\n",
        "    batch=32, # 單次處理影像數量\n",
        "    imgsz=640, # 圖片大小\n",
        "    project=\"/content/drive/MyDrive/model_custom1\", # 存在哪資料夾\n",
        "    name=\"yolov8n_TLEF_1\", # 叫啥名\n",
        "    # lr0=0.001, # 初始學習率(越小收斂速度越慢但越穩)\n",
        "    # lrf=0.01, # 最終學習率(是lr0的幾%，控制下降幅度)\n",
        "    # weight_decay=0.0005, # L2，防overfitting(但調太大模型難學)\n",
        "    # optimizer=\"AdamW\", # 優化器(AdamW好像大家都會用)\n",
        "    # patience=50,\n",
        "    # warmup_epochs=5, # 穩定前幾epoch\n",
        "    # dropout=0.2, # 關掉多少神經元\n",
        "    device='cuda',\n",
        "\n",
        "    # 圖片處理\n",
        "    # hsv_h=0.015,     # 色相擾動\n",
        "    # hsv_s=0.7,       # 飽和度擾動\n",
        "    # hsv_v=0.4,       # 亮度擾動\n",
        "    # degrees=10.0,    # 旋轉\n",
        "    # translate=0.1,   # 平移\n",
        "    # scale=0.3,       # 縮放\n",
        "    # shear=5.0,       # 剪切\n",
        ")\n"
      ]
    },
    {
      "cell_type": "markdown",
      "metadata": {
        "id": "8UsJazip2kdZ"
      },
      "source": [
        "# 測試\n",
        "(不用管他就是我試試看用的)"
      ]
    },
    {
      "cell_type": "code",
      "execution_count": null,
      "metadata": {
        "colab": {
          "base_uri": "https://localhost:8080/"
        },
        "id": "ap9BvmJB2nVZ",
        "outputId": "9307596f-82dd-42c2-fdbe-7560e2f99261"
      },
      "outputs": [
        {
          "name": "stdout",
          "output_type": "stream",
          "text": [
            "\n",
            "image 1/57 /content/drive/MyDrive/datasets/Processed_1/valid/images/China_Drone_000048.jpg: 640x640 1 pothole, 800.2ms\n",
            "image 2/57 /content/drive/MyDrive/datasets/Processed_1/valid/images/China_Drone_000057.jpg: 640x640 5 potholes, 566.8ms\n",
            "image 3/57 /content/drive/MyDrive/datasets/Processed_1/valid/images/China_Drone_000061.jpg: 640x640 1 pothole, 583.2ms\n",
            "image 4/57 /content/drive/MyDrive/datasets/Processed_1/valid/images/China_Drone_000062.jpg: 640x640 4 potholes, 552.3ms\n",
            "image 5/57 /content/drive/MyDrive/datasets/Processed_1/valid/images/China_Drone_000064.jpg: 640x640 1 pothole, 499.6ms\n",
            "image 6/57 /content/drive/MyDrive/datasets/Processed_1/valid/images/China_Drone_000136.jpg: 640x640 (no detections), 550.6ms\n",
            "image 7/57 /content/drive/MyDrive/datasets/Processed_1/valid/images/China_Drone_000160.jpg: 640x640 1 pothole, 480.6ms\n",
            "image 8/57 /content/drive/MyDrive/datasets/Processed_1/valid/images/China_Drone_000205.jpg: 640x640 3 potholes, 533.9ms\n",
            "image 9/57 /content/drive/MyDrive/datasets/Processed_1/valid/images/China_Drone_000237.jpg: 640x640 2 potholes, 628.3ms\n",
            "image 10/57 /content/drive/MyDrive/datasets/Processed_1/valid/images/China_Drone_000286.jpg: 640x640 1 pothole, 772.7ms\n",
            "image 11/57 /content/drive/MyDrive/datasets/Processed_1/valid/images/China_Drone_000315.jpg: 640x640 2 potholes, 736.3ms\n",
            "image 12/57 /content/drive/MyDrive/datasets/Processed_1/valid/images/China_Drone_000383.jpg: 640x640 1 pothole, 504.5ms\n",
            "image 13/57 /content/drive/MyDrive/datasets/Processed_1/valid/images/China_Drone_000404.jpg: 640x640 (no detections), 493.8ms\n",
            "image 14/57 /content/drive/MyDrive/datasets/Processed_1/valid/images/China_Drone_000435.jpg: 640x640 3 potholes, 500.7ms\n",
            "image 15/57 /content/drive/MyDrive/datasets/Processed_1/valid/images/China_Drone_000451.jpg: 640x640 (no detections), 560.6ms\n",
            "image 16/57 /content/drive/MyDrive/datasets/Processed_1/valid/images/China_Drone_000487.jpg: 640x640 1 pothole, 572.7ms\n",
            "image 17/57 /content/drive/MyDrive/datasets/Processed_1/valid/images/China_Drone_000503.jpg: 640x640 2 potholes, 499.2ms\n",
            "image 18/57 /content/drive/MyDrive/datasets/Processed_1/valid/images/China_Drone_000541.jpg: 640x640 1 pothole, 517.7ms\n",
            "image 19/57 /content/drive/MyDrive/datasets/Processed_1/valid/images/China_Drone_000690.jpg: 640x640 1 pothole, 495.3ms\n",
            "image 20/57 /content/drive/MyDrive/datasets/Processed_1/valid/images/China_Drone_000695.jpg: 640x640 1 pothole, 597.3ms\n",
            "image 21/57 /content/drive/MyDrive/datasets/Processed_1/valid/images/G0011491_jpg.rf.7a62abe555ca1e32634ce352ec43142a.jpg: 640x640 2 potholes, 829.3ms\n",
            "image 22/57 /content/drive/MyDrive/datasets/Processed_1/valid/images/G0011524_jpg.rf.added00c975e0db2523959b699cd2710.jpg: 640x640 2 potholes, 762.7ms\n",
            "image 23/57 /content/drive/MyDrive/datasets/Processed_1/valid/images/G0011525_jpg.rf.34a7bb0312e485e0dca034aa804776fa.jpg: 640x640 1 pothole, 702.1ms\n",
            "image 24/57 /content/drive/MyDrive/datasets/Processed_1/valid/images/G0011527_jpg.rf.39b439ed76c92293927c284d80e56e02.jpg: 640x640 1 pothole, 582.2ms\n",
            "image 25/57 /content/drive/MyDrive/datasets/Processed_1/valid/images/G0011584_jpg.rf.fe710c693b88cb11f293afb5f141cebc.jpg: 640x640 1 pothole, 478.3ms\n",
            "image 26/57 /content/drive/MyDrive/datasets/Processed_1/valid/images/G0011587_jpg.rf.6f31fd9be0817003074e08b3e0675bc8.jpg: 640x640 1 pothole, 492.8ms\n",
            "image 27/57 /content/drive/MyDrive/datasets/Processed_1/valid/images/G0011589_jpg.rf.00eab0b18129724010e3a7402d2ae221.jpg: 640x640 3 potholes, 517.9ms\n",
            "image 28/57 /content/drive/MyDrive/datasets/Processed_1/valid/images/G0011610_jpg.rf.a8adebfd6c63856c2968ed1783c703ed.jpg: 640x640 1 pothole, 485.8ms\n",
            "image 29/57 /content/drive/MyDrive/datasets/Processed_1/valid/images/G0011762_jpg.rf.baa7d2b804f528c110967e9882ee4c88.jpg: 640x640 3 potholes, 577.4ms\n",
            "image 30/57 /content/drive/MyDrive/datasets/Processed_1/valid/images/G0011773_jpg.rf.5b1a07e1d512edabd3f0b79c1c416966.jpg: 640x640 1 pothole, 578.6ms\n",
            "image 31/57 /content/drive/MyDrive/datasets/Processed_1/valid/images/G0011774_jpg.rf.abd409116170f20eaf52ebc752fa5bf1.jpg: 640x640 1 pothole, 587.1ms\n",
            "image 32/57 /content/drive/MyDrive/datasets/Processed_1/valid/images/G0011869_jpg.rf.f5b10d327f124dc6dec742797ea740d9.jpg: 640x640 3 potholes, 1187.3ms\n",
            "image 33/57 /content/drive/MyDrive/datasets/Processed_1/valid/images/G0011872_jpg.rf.0d7c210b7070e8826a3b6f8582323aad.jpg: 640x640 10 potholes, 793.8ms\n",
            "image 34/57 /content/drive/MyDrive/datasets/Processed_1/valid/images/G0011873_jpg.rf.2ffde99fb202e0e235561cb2315db137.jpg: 640x640 7 potholes, 712.6ms\n",
            "image 35/57 /content/drive/MyDrive/datasets/Processed_1/valid/images/G0011876_jpg.rf.6907aeda28563e1e1ea79a85f37444e5.jpg: 640x640 4 potholes, 482.5ms\n",
            "image 36/57 /content/drive/MyDrive/datasets/Processed_1/valid/images/G0011879_jpg.rf.38eb20d1cb66e6f95ac996aaad4b8e9a.jpg: 640x640 2 potholes, 488.8ms\n",
            "image 37/57 /content/drive/MyDrive/datasets/Processed_1/valid/images/G0011879_jpg.rf.c1f215a301850b2a6d5e5583fcd623c3.jpg: 640x640 2 potholes, 502.1ms\n",
            "image 38/57 /content/drive/MyDrive/datasets/Processed_1/valid/images/G0011880_jpg.rf.2a9d2329f6e74efdb693b4c065267126.jpg: 640x640 6 potholes, 498.6ms\n",
            "image 39/57 /content/drive/MyDrive/datasets/Processed_1/valid/images/G0011880_jpg.rf.7d96113f2b9f0fc51ce4c56deb41c644.jpg: 640x640 6 potholes, 487.8ms\n",
            "image 40/57 /content/drive/MyDrive/datasets/Processed_1/valid/images/G0011880_jpg.rf.8d546dcb04de13f0f714b96330e48e70.jpg: 640x640 4 potholes, 551.5ms\n",
            "image 41/57 /content/drive/MyDrive/datasets/Processed_1/valid/images/G0011881_jpg.rf.13b06ea6852bf4e367ea0b01e169a908.jpg: 640x640 4 potholes, 563.4ms\n",
            "image 42/57 /content/drive/MyDrive/datasets/Processed_1/valid/images/G0011881_jpg.rf.7959094e0bcefb77bd4b63388b08deb5.jpg: 640x640 4 potholes, 491.5ms\n",
            "image 43/57 /content/drive/MyDrive/datasets/Processed_1/valid/images/G0011940_jpg.rf.1fc9bf0a7ee01c8ffbf1ee8ddff4ff59.jpg: 640x640 4 potholes, 469.7ms\n",
            "image 44/57 /content/drive/MyDrive/datasets/Processed_1/valid/images/G0011941_jpg.rf.46d72f208b74e22aaedaf2d348ff1485.jpg: 640x640 4 potholes, 755.5ms\n",
            "image 45/57 /content/drive/MyDrive/datasets/Processed_1/valid/images/G0011941_jpg.rf.629aa83aed352c749207c895679f29d6.jpg: 640x640 6 potholes, 1485.1ms\n",
            "image 46/57 /content/drive/MyDrive/datasets/Processed_1/valid/images/G0011941_jpg.rf.eb5eef46222eadb16dd9c4ca2e6b2e94.jpg: 640x640 (no detections), 518.6ms\n",
            "image 47/57 /content/drive/MyDrive/datasets/Processed_1/valid/images/G0011952_jpg.rf.fa698d983b388c9457d78e1ef96e5f18.jpg: 640x640 3 potholes, 512.9ms\n",
            "image 48/57 /content/drive/MyDrive/datasets/Processed_1/valid/images/G0011953_jpg.rf.26b73ae909bcfd02218228be1f75f220.jpg: 640x640 2 potholes, 498.6ms\n",
            "image 49/57 /content/drive/MyDrive/datasets/Processed_1/valid/images/G0011953_jpg.rf.af1d6576beb0947b49e15ef1bc1ac3fa.jpg: 640x640 1 pothole, 500.6ms\n",
            "image 50/57 /content/drive/MyDrive/datasets/Processed_1/valid/images/G0011953_jpg.rf.ff3bf67b1f9f0ecb3a46060c09e14d47.jpg: 640x640 1 pothole, 498.4ms\n",
            "image 51/57 /content/drive/MyDrive/datasets/Processed_1/valid/images/G0011978_jpg.rf.2ca8e3c3858492b881057c342e6fcf19.jpg: 640x640 1 pothole, 475.3ms\n",
            "image 52/57 /content/drive/MyDrive/datasets/Processed_1/valid/images/G0011978_jpg.rf.ebf240b490f53a0db36e60f2de9a7eab.jpg: 640x640 1 pothole, 502.0ms\n",
            "image 53/57 /content/drive/MyDrive/datasets/Processed_1/valid/images/G0011982_jpg.rf.2bfae6c327cc9974d824ea779e1bb906.jpg: 640x640 1 pothole, 508.0ms\n",
            "image 54/57 /content/drive/MyDrive/datasets/Processed_1/valid/images/G0011982_jpg.rf.59609ba55a883890bbf12bbebeec7c25.jpg: 640x640 1 pothole, 752.1ms\n",
            "image 55/57 /content/drive/MyDrive/datasets/Processed_1/valid/images/G0011989_jpg.rf.8aa4a531a194506d6c65cb824cd59ffd.jpg: 640x640 2 potholes, 759.3ms\n",
            "image 56/57 /content/drive/MyDrive/datasets/Processed_1/valid/images/G0011989_jpg.rf.c73f701481646a540722dc839f0992f9.jpg: 640x640 3 potholes, 509.2ms\n",
            "image 57/57 /content/drive/MyDrive/datasets/Processed_1/valid/images/G0011989_jpg.rf.ff9b73cf065198031815249babf38387.jpg: 640x640 3 potholes, 579.7ms\n",
            "Speed: 5.4ms preprocess, 598.7ms inference, 2.0ms postprocess per image at shape (1, 3, 640, 640)\n",
            "Results saved to \u001b[1mruns/detect/predict\u001b[0m\n",
            "53 labels saved to runs/detect/predict/labels\n",
            "Ultralytics 8.3.145 🚀 Python-3.11.12 torch-2.6.0+cu124 CPU (Intel Xeon 2.20GHz)\n",
            "Downloading https://ultralytics.com/assets/Arial.ttf to '/root/.config/Ultralytics/Arial.ttf'...\n"
          ]
        },
        {
          "name": "stderr",
          "output_type": "stream",
          "text": [
            "100%|██████████| 755k/755k [00:00<00:00, 19.0MB/s]\n"
          ]
        },
        {
          "name": "stdout",
          "output_type": "stream",
          "text": [
            "\u001b[34m\u001b[1mval: \u001b[0mFast image access ✅ (ping: 0.6±0.2 ms, read: 0.3±0.1 MB/s, size: 62.8 KB)\n"
          ]
        },
        {
          "name": "stderr",
          "output_type": "stream",
          "text": [
            "\u001b[34m\u001b[1mval: \u001b[0mScanning /content/drive/MyDrive/datasets/China/valid/labels.cache... 25 images, 0 backgrounds, 0 corrupt: 100%|██████████| 25/25 [00:00<?, ?it/s]\n",
            "                 Class     Images  Instances      Box(P          R      mAP50  mAP50-95): 100%|██████████| 2/2 [00:17<00:00,  8.98s/it]\n"
          ]
        },
        {
          "name": "stdout",
          "output_type": "stream",
          "text": [
            "                   all         25         34      0.596      0.348      0.422        0.2\n",
            "Speed: 17.5ms preprocess, 295.5ms inference, 0.0ms loss, 0.7ms postprocess per image\n",
            "Results saved to \u001b[1mruns/detect/val\u001b[0m\n"
          ]
        },
        {
          "data": {
            "text/plain": [
              "ultralytics.utils.metrics.DetMetrics object with attributes:\n",
              "\n",
              "ap_class_index: array([0])\n",
              "box: ultralytics.utils.metrics.Metric object\n",
              "confusion_matrix: <ultralytics.utils.metrics.ConfusionMatrix object at 0x7faf6e7b7390>\n",
              "curves: ['Precision-Recall(B)', 'F1-Confidence(B)', 'Precision-Confidence(B)', 'Recall-Confidence(B)']\n",
              "curves_results: [[array([          0,    0.001001,    0.002002,    0.003003,    0.004004,    0.005005,    0.006006,    0.007007,    0.008008,    0.009009,     0.01001,    0.011011,    0.012012,    0.013013,    0.014014,    0.015015,    0.016016,    0.017017,    0.018018,    0.019019,     0.02002,    0.021021,    0.022022,    0.023023,\n",
              "          0.024024,    0.025025,    0.026026,    0.027027,    0.028028,    0.029029,     0.03003,    0.031031,    0.032032,    0.033033,    0.034034,    0.035035,    0.036036,    0.037037,    0.038038,    0.039039,     0.04004,    0.041041,    0.042042,    0.043043,    0.044044,    0.045045,    0.046046,    0.047047,\n",
              "          0.048048,    0.049049,     0.05005,    0.051051,    0.052052,    0.053053,    0.054054,    0.055055,    0.056056,    0.057057,    0.058058,    0.059059,     0.06006,    0.061061,    0.062062,    0.063063,    0.064064,    0.065065,    0.066066,    0.067067,    0.068068,    0.069069,     0.07007,    0.071071,\n",
              "          0.072072,    0.073073,    0.074074,    0.075075,    0.076076,    0.077077,    0.078078,    0.079079,     0.08008,    0.081081,    0.082082,    0.083083,    0.084084,    0.085085,    0.086086,    0.087087,    0.088088,    0.089089,     0.09009,    0.091091,    0.092092,    0.093093,    0.094094,    0.095095,\n",
              "          0.096096,    0.097097,    0.098098,    0.099099,      0.1001,      0.1011,      0.1021,      0.1031,      0.1041,     0.10511,     0.10611,     0.10711,     0.10811,     0.10911,     0.11011,     0.11111,     0.11211,     0.11311,     0.11411,     0.11512,     0.11612,     0.11712,     0.11812,     0.11912,\n",
              "           0.12012,     0.12112,     0.12212,     0.12312,     0.12412,     0.12513,     0.12613,     0.12713,     0.12813,     0.12913,     0.13013,     0.13113,     0.13213,     0.13313,     0.13413,     0.13514,     0.13614,     0.13714,     0.13814,     0.13914,     0.14014,     0.14114,     0.14214,     0.14314,\n",
              "           0.14414,     0.14515,     0.14615,     0.14715,     0.14815,     0.14915,     0.15015,     0.15115,     0.15215,     0.15315,     0.15415,     0.15516,     0.15616,     0.15716,     0.15816,     0.15916,     0.16016,     0.16116,     0.16216,     0.16316,     0.16416,     0.16517,     0.16617,     0.16717,\n",
              "           0.16817,     0.16917,     0.17017,     0.17117,     0.17217,     0.17317,     0.17417,     0.17518,     0.17618,     0.17718,     0.17818,     0.17918,     0.18018,     0.18118,     0.18218,     0.18318,     0.18418,     0.18519,     0.18619,     0.18719,     0.18819,     0.18919,     0.19019,     0.19119,\n",
              "           0.19219,     0.19319,     0.19419,      0.1952,      0.1962,      0.1972,      0.1982,      0.1992,      0.2002,      0.2012,      0.2022,      0.2032,      0.2042,     0.20521,     0.20621,     0.20721,     0.20821,     0.20921,     0.21021,     0.21121,     0.21221,     0.21321,     0.21421,     0.21522,\n",
              "           0.21622,     0.21722,     0.21822,     0.21922,     0.22022,     0.22122,     0.22222,     0.22322,     0.22422,     0.22523,     0.22623,     0.22723,     0.22823,     0.22923,     0.23023,     0.23123,     0.23223,     0.23323,     0.23423,     0.23524,     0.23624,     0.23724,     0.23824,     0.23924,\n",
              "           0.24024,     0.24124,     0.24224,     0.24324,     0.24424,     0.24525,     0.24625,     0.24725,     0.24825,     0.24925,     0.25025,     0.25125,     0.25225,     0.25325,     0.25425,     0.25526,     0.25626,     0.25726,     0.25826,     0.25926,     0.26026,     0.26126,     0.26226,     0.26326,\n",
              "           0.26426,     0.26527,     0.26627,     0.26727,     0.26827,     0.26927,     0.27027,     0.27127,     0.27227,     0.27327,     0.27427,     0.27528,     0.27628,     0.27728,     0.27828,     0.27928,     0.28028,     0.28128,     0.28228,     0.28328,     0.28428,     0.28529,     0.28629,     0.28729,\n",
              "           0.28829,     0.28929,     0.29029,     0.29129,     0.29229,     0.29329,     0.29429,      0.2953,      0.2963,      0.2973,      0.2983,      0.2993,      0.3003,      0.3013,      0.3023,      0.3033,      0.3043,     0.30531,     0.30631,     0.30731,     0.30831,     0.30931,     0.31031,     0.31131,\n",
              "           0.31231,     0.31331,     0.31431,     0.31532,     0.31632,     0.31732,     0.31832,     0.31932,     0.32032,     0.32132,     0.32232,     0.32332,     0.32432,     0.32533,     0.32633,     0.32733,     0.32833,     0.32933,     0.33033,     0.33133,     0.33233,     0.33333,     0.33433,     0.33534,\n",
              "           0.33634,     0.33734,     0.33834,     0.33934,     0.34034,     0.34134,     0.34234,     0.34334,     0.34434,     0.34535,     0.34635,     0.34735,     0.34835,     0.34935,     0.35035,     0.35135,     0.35235,     0.35335,     0.35435,     0.35536,     0.35636,     0.35736,     0.35836,     0.35936,\n",
              "           0.36036,     0.36136,     0.36236,     0.36336,     0.36436,     0.36537,     0.36637,     0.36737,     0.36837,     0.36937,     0.37037,     0.37137,     0.37237,     0.37337,     0.37437,     0.37538,     0.37638,     0.37738,     0.37838,     0.37938,     0.38038,     0.38138,     0.38238,     0.38338,\n",
              "           0.38438,     0.38539,     0.38639,     0.38739,     0.38839,     0.38939,     0.39039,     0.39139,     0.39239,     0.39339,     0.39439,      0.3954,      0.3964,      0.3974,      0.3984,      0.3994,      0.4004,      0.4014,      0.4024,      0.4034,      0.4044,     0.40541,     0.40641,     0.40741,\n",
              "           0.40841,     0.40941,     0.41041,     0.41141,     0.41241,     0.41341,     0.41441,     0.41542,     0.41642,     0.41742,     0.41842,     0.41942,     0.42042,     0.42142,     0.42242,     0.42342,     0.42442,     0.42543,     0.42643,     0.42743,     0.42843,     0.42943,     0.43043,     0.43143,\n",
              "           0.43243,     0.43343,     0.43443,     0.43544,     0.43644,     0.43744,     0.43844,     0.43944,     0.44044,     0.44144,     0.44244,     0.44344,     0.44444,     0.44545,     0.44645,     0.44745,     0.44845,     0.44945,     0.45045,     0.45145,     0.45245,     0.45345,     0.45445,     0.45546,\n",
              "           0.45646,     0.45746,     0.45846,     0.45946,     0.46046,     0.46146,     0.46246,     0.46346,     0.46446,     0.46547,     0.46647,     0.46747,     0.46847,     0.46947,     0.47047,     0.47147,     0.47247,     0.47347,     0.47447,     0.47548,     0.47648,     0.47748,     0.47848,     0.47948,\n",
              "           0.48048,     0.48148,     0.48248,     0.48348,     0.48448,     0.48549,     0.48649,     0.48749,     0.48849,     0.48949,     0.49049,     0.49149,     0.49249,     0.49349,     0.49449,      0.4955,      0.4965,      0.4975,      0.4985,      0.4995,      0.5005,      0.5015,      0.5025,      0.5035,\n",
              "            0.5045,     0.50551,     0.50651,     0.50751,     0.50851,     0.50951,     0.51051,     0.51151,     0.51251,     0.51351,     0.51451,     0.51552,     0.51652,     0.51752,     0.51852,     0.51952,     0.52052,     0.52152,     0.52252,     0.52352,     0.52452,     0.52553,     0.52653,     0.52753,\n",
              "           0.52853,     0.52953,     0.53053,     0.53153,     0.53253,     0.53353,     0.53453,     0.53554,     0.53654,     0.53754,     0.53854,     0.53954,     0.54054,     0.54154,     0.54254,     0.54354,     0.54454,     0.54555,     0.54655,     0.54755,     0.54855,     0.54955,     0.55055,     0.55155,\n",
              "           0.55255,     0.55355,     0.55455,     0.55556,     0.55656,     0.55756,     0.55856,     0.55956,     0.56056,     0.56156,     0.56256,     0.56356,     0.56456,     0.56557,     0.56657,     0.56757,     0.56857,     0.56957,     0.57057,     0.57157,     0.57257,     0.57357,     0.57457,     0.57558,\n",
              "           0.57658,     0.57758,     0.57858,     0.57958,     0.58058,     0.58158,     0.58258,     0.58358,     0.58458,     0.58559,     0.58659,     0.58759,     0.58859,     0.58959,     0.59059,     0.59159,     0.59259,     0.59359,     0.59459,      0.5956,      0.5966,      0.5976,      0.5986,      0.5996,\n",
              "            0.6006,      0.6016,      0.6026,      0.6036,      0.6046,     0.60561,     0.60661,     0.60761,     0.60861,     0.60961,     0.61061,     0.61161,     0.61261,     0.61361,     0.61461,     0.61562,     0.61662,     0.61762,     0.61862,     0.61962,     0.62062,     0.62162,     0.62262,     0.62362,\n",
              "           0.62462,     0.62563,     0.62663,     0.62763,     0.62863,     0.62963,     0.63063,     0.63163,     0.63263,     0.63363,     0.63463,     0.63564,     0.63664,     0.63764,     0.63864,     0.63964,     0.64064,     0.64164,     0.64264,     0.64364,     0.64464,     0.64565,     0.64665,     0.64765,\n",
              "           0.64865,     0.64965,     0.65065,     0.65165,     0.65265,     0.65365,     0.65465,     0.65566,     0.65666,     0.65766,     0.65866,     0.65966,     0.66066,     0.66166,     0.66266,     0.66366,     0.66466,     0.66567,     0.66667,     0.66767,     0.66867,     0.66967,     0.67067,     0.67167,\n",
              "           0.67267,     0.67367,     0.67467,     0.67568,     0.67668,     0.67768,     0.67868,     0.67968,     0.68068,     0.68168,     0.68268,     0.68368,     0.68468,     0.68569,     0.68669,     0.68769,     0.68869,     0.68969,     0.69069,     0.69169,     0.69269,     0.69369,     0.69469,      0.6957,\n",
              "            0.6967,      0.6977,      0.6987,      0.6997,      0.7007,      0.7017,      0.7027,      0.7037,      0.7047,     0.70571,     0.70671,     0.70771,     0.70871,     0.70971,     0.71071,     0.71171,     0.71271,     0.71371,     0.71471,     0.71572,     0.71672,     0.71772,     0.71872,     0.71972,\n",
              "           0.72072,     0.72172,     0.72272,     0.72372,     0.72472,     0.72573,     0.72673,     0.72773,     0.72873,     0.72973,     0.73073,     0.73173,     0.73273,     0.73373,     0.73473,     0.73574,     0.73674,     0.73774,     0.73874,     0.73974,     0.74074,     0.74174,     0.74274,     0.74374,\n",
              "           0.74474,     0.74575,     0.74675,     0.74775,     0.74875,     0.74975,     0.75075,     0.75175,     0.75275,     0.75375,     0.75475,     0.75576,     0.75676,     0.75776,     0.75876,     0.75976,     0.76076,     0.76176,     0.76276,     0.76376,     0.76476,     0.76577,     0.76677,     0.76777,\n",
              "           0.76877,     0.76977,     0.77077,     0.77177,     0.77277,     0.77377,     0.77477,     0.77578,     0.77678,     0.77778,     0.77878,     0.77978,     0.78078,     0.78178,     0.78278,     0.78378,     0.78478,     0.78579,     0.78679,     0.78779,     0.78879,     0.78979,     0.79079,     0.79179,\n",
              "           0.79279,     0.79379,     0.79479,      0.7958,      0.7968,      0.7978,      0.7988,      0.7998,      0.8008,      0.8018,      0.8028,      0.8038,      0.8048,     0.80581,     0.80681,     0.80781,     0.80881,     0.80981,     0.81081,     0.81181,     0.81281,     0.81381,     0.81481,     0.81582,\n",
              "           0.81682,     0.81782,     0.81882,     0.81982,     0.82082,     0.82182,     0.82282,     0.82382,     0.82482,     0.82583,     0.82683,     0.82783,     0.82883,     0.82983,     0.83083,     0.83183,     0.83283,     0.83383,     0.83483,     0.83584,     0.83684,     0.83784,     0.83884,     0.83984,\n",
              "           0.84084,     0.84184,     0.84284,     0.84384,     0.84484,     0.84585,     0.84685,     0.84785,     0.84885,     0.84985,     0.85085,     0.85185,     0.85285,     0.85385,     0.85485,     0.85586,     0.85686,     0.85786,     0.85886,     0.85986,     0.86086,     0.86186,     0.86286,     0.86386,\n",
              "           0.86486,     0.86587,     0.86687,     0.86787,     0.86887,     0.86987,     0.87087,     0.87187,     0.87287,     0.87387,     0.87487,     0.87588,     0.87688,     0.87788,     0.87888,     0.87988,     0.88088,     0.88188,     0.88288,     0.88388,     0.88488,     0.88589,     0.88689,     0.88789,\n",
              "           0.88889,     0.88989,     0.89089,     0.89189,     0.89289,     0.89389,     0.89489,      0.8959,      0.8969,      0.8979,      0.8989,      0.8999,      0.9009,      0.9019,      0.9029,      0.9039,      0.9049,     0.90591,     0.90691,     0.90791,     0.90891,     0.90991,     0.91091,     0.91191,\n",
              "           0.91291,     0.91391,     0.91491,     0.91592,     0.91692,     0.91792,     0.91892,     0.91992,     0.92092,     0.92192,     0.92292,     0.92392,     0.92492,     0.92593,     0.92693,     0.92793,     0.92893,     0.92993,     0.93093,     0.93193,     0.93293,     0.93393,     0.93493,     0.93594,\n",
              "           0.93694,     0.93794,     0.93894,     0.93994,     0.94094,     0.94194,     0.94294,     0.94394,     0.94494,     0.94595,     0.94695,     0.94795,     0.94895,     0.94995,     0.95095,     0.95195,     0.95295,     0.95395,     0.95495,     0.95596,     0.95696,     0.95796,     0.95896,     0.95996,\n",
              "           0.96096,     0.96196,     0.96296,     0.96396,     0.96496,     0.96597,     0.96697,     0.96797,     0.96897,     0.96997,     0.97097,     0.97197,     0.97297,     0.97397,     0.97497,     0.97598,     0.97698,     0.97798,     0.97898,     0.97998,     0.98098,     0.98198,     0.98298,     0.98398,\n",
              "           0.98498,     0.98599,     0.98699,     0.98799,     0.98899,     0.98999,     0.99099,     0.99199,     0.99299,     0.99399,     0.99499,       0.996,       0.997,       0.998,       0.999,           1]), array([[          1,           1,           1,           1,           1,           1,           1,           1,           1,           1,           1,           1,           1,           1,           1,           1,           1,           1,           1,           1,           1,           1,           1,\n",
              "                  1,           1,           1,           1,           1,           1,           1,           1,           1,           1,           1,           1,           1,           1,           1,           1,           1,           1,           1,           1,           1,           1,           1,\n",
              "                  1,           1,           1,           1,           1,           1,           1,           1,           1,           1,           1,           1,           1,           1,           1,           1,           1,           1,           1,           1,           1,           1,           1,\n",
              "                  1,           1,           1,           1,           1,           1,           1,           1,           1,           1,           1,           1,           1,           1,           1,           1,           1,           1,           1,           1,       0.875,       0.875,       0.875,\n",
              "              0.875,       0.875,       0.875,       0.875,       0.875,       0.875,       0.875,       0.875,       0.875,       0.875,       0.875,       0.875,       0.875,       0.875,       0.875,       0.875,       0.875,       0.875,       0.875,       0.875,       0.875,       0.875,       0.875,\n",
              "              0.875,       0.875,       0.875,       0.875,       0.875,       0.875,       0.875,       0.875,       0.875,       0.875,       0.875,       0.875,       0.875,       0.875,       0.875,       0.875,       0.875,       0.875,       0.875,       0.875,       0.875,       0.875,       0.875,\n",
              "              0.875,       0.875,       0.875,       0.875,       0.875,       0.875,       0.875,       0.875,       0.875,       0.875,       0.875,       0.875,       0.875,       0.875,       0.875,       0.875,       0.875,       0.875,       0.875,       0.875,       0.875,       0.875,       0.875,\n",
              "              0.875,       0.875,       0.875,       0.875,       0.875,       0.875,       0.875,       0.875,       0.875,       0.875,       0.875,       0.875,       0.875,       0.875,       0.875,       0.875,       0.875,       0.875,       0.875,       0.875,       0.875,       0.875,       0.875,\n",
              "              0.875,       0.875,       0.875,       0.875,       0.875,       0.875,       0.875,       0.875,       0.875,       0.875,       0.875,       0.875,       0.875,       0.875,       0.875,       0.875,       0.875,       0.875,       0.875,       0.875,       0.875,       0.875,     0.72727,\n",
              "            0.72727,     0.72727,     0.72727,     0.72727,     0.72727,     0.72727,     0.72727,     0.72727,     0.72727,     0.72727,     0.72727,     0.72727,     0.72727,     0.72727,     0.72727,     0.72727,     0.72727,     0.72727,     0.72727,     0.72727,     0.72727,     0.72727,     0.72727,\n",
              "            0.72727,     0.72727,     0.72727,     0.72727,     0.72727,     0.72727,     0.69231,     0.69231,     0.69231,     0.69231,     0.69231,     0.69231,     0.69231,     0.69231,     0.69231,     0.69231,     0.69231,     0.69231,     0.69231,     0.69231,     0.69231,     0.69231,     0.69231,\n",
              "            0.69231,     0.69231,     0.69231,     0.69231,     0.69231,     0.69231,     0.69231,     0.69231,     0.69231,     0.69231,     0.69231,     0.69231,     0.66667,     0.66667,     0.66667,     0.66667,     0.66667,     0.66667,     0.66667,     0.66667,     0.66667,     0.66667,     0.66667,\n",
              "            0.66667,     0.66667,     0.66667,     0.66667,     0.66667,     0.66667,     0.66667,     0.66667,     0.66667,     0.66667,     0.66667,     0.66667,     0.66667,     0.66667,     0.66667,     0.66667,     0.66667,     0.66667,     0.64706,     0.64706,     0.64706,     0.64706,     0.64706,\n",
              "            0.64706,     0.64706,     0.64706,     0.64706,     0.64706,     0.64706,     0.64706,     0.64706,     0.64706,     0.64706,     0.64706,     0.64706,     0.64706,     0.64706,     0.64706,     0.64706,     0.64706,     0.64706,     0.64706,     0.64706,     0.64706,     0.64706,     0.64706,\n",
              "            0.64706,     0.64706,         0.6,         0.6,         0.6,         0.6,         0.6,         0.6,         0.6,         0.6,         0.6,         0.6,         0.6,         0.6,         0.6,         0.6,         0.6,         0.6,         0.6,         0.6,         0.6,         0.6,         0.6,\n",
              "                0.6,         0.6,         0.6,         0.6,         0.6,         0.6,         0.6,         0.6,     0.46429,     0.46429,     0.46429,     0.46429,     0.46429,     0.46429,     0.46429,     0.46429,     0.46429,     0.46429,     0.46429,     0.46429,     0.46429,     0.46429,     0.46429,\n",
              "            0.46429,     0.46429,     0.46429,     0.46429,     0.46429,     0.46429,     0.46429,     0.46429,     0.46429,     0.46429,     0.46429,     0.46429,     0.46429,     0.46429,     0.41176,     0.41176,     0.41176,     0.41176,     0.41176,     0.41176,     0.41176,     0.41176,     0.41176,\n",
              "            0.41176,     0.41176,     0.41176,     0.41176,     0.41176,     0.41176,     0.41176,     0.41176,     0.41176,     0.41176,     0.41176,     0.41176,     0.41176,     0.41176,     0.41176,     0.41176,     0.41176,     0.41176,     0.41176,     0.41176,     0.41176,     0.41026,     0.41026,\n",
              "            0.41026,     0.41026,     0.41026,     0.41026,     0.41026,     0.41026,     0.41026,     0.41026,     0.41026,     0.41026,     0.41026,     0.41026,     0.41026,     0.41026,     0.41026,     0.41026,     0.41026,     0.41026,     0.41026,     0.41026,     0.41026,     0.41026,     0.41026,\n",
              "            0.41026,     0.41026,     0.41026,     0.41026,     0.41026,     0.41026,     0.41026,     0.41026,     0.41026,     0.41026,     0.41026,     0.41026,     0.41026,     0.41026,     0.41026,     0.41026,     0.41026,     0.41026,     0.41026,     0.41026,     0.41026,     0.41026,     0.41026,\n",
              "            0.41026,     0.41026,     0.41026,     0.41026,     0.41026,     0.41026,     0.41026,     0.41026,     0.41026,     0.41026,     0.41026,     0.37778,     0.37778,     0.37778,     0.37778,     0.37778,     0.37778,     0.37778,     0.37778,     0.37778,     0.37778,     0.37778,     0.37778,\n",
              "            0.37778,     0.37778,     0.37778,     0.37778,     0.37778,     0.37778,     0.37778,     0.37778,     0.37778,     0.37778,     0.37778,     0.37778,     0.37778,     0.37778,     0.37778,     0.37778,     0.37778,     0.28785,     0.28727,     0.28669,     0.28612,     0.28554,     0.28496,\n",
              "            0.28439,     0.28381,     0.28323,     0.28266,     0.28208,      0.2815,     0.28092,     0.28035,     0.27977,     0.27919,     0.27862,     0.27804,     0.27746,     0.27689,     0.27631,     0.27573,     0.27516,     0.27458,       0.274,     0.27343,     0.27285,     0.27227,      0.2717,\n",
              "            0.27112,     0.27054,     0.26996,     0.26939,     0.26881,     0.26823,     0.26766,     0.26708,      0.2665,     0.26593,     0.26535,     0.26477,      0.2642,     0.26362,     0.26304,     0.26247,     0.26189,     0.26131,     0.26074,     0.26016,     0.25958,       0.259,     0.25843,\n",
              "            0.25785,     0.25727,      0.2567,     0.25612,     0.25554,     0.25497,     0.25439,     0.25381,     0.25324,     0.25266,     0.25208,     0.25151,     0.25093,     0.25035,     0.24978,      0.2492,     0.24862,     0.24804,     0.24747,     0.24689,     0.24631,     0.24574,     0.24516,\n",
              "            0.24458,     0.24401,     0.24343,     0.24285,     0.24228,      0.2417,     0.24112,     0.24055,     0.23997,     0.23939,     0.23882,     0.23824,     0.23766,     0.23708,     0.23651,     0.23593,     0.23535,     0.23478,      0.2342,     0.23362,     0.23305,     0.23247,     0.23189,\n",
              "            0.23132,     0.23074,     0.23016,     0.22959,     0.22901,     0.22843,     0.22785,     0.22728,      0.2267,     0.22612,     0.22555,     0.22497,     0.22439,     0.22382,     0.22324,     0.22266,     0.22209,     0.22151,     0.22093,     0.22036,     0.21978,      0.2192,     0.21863,\n",
              "            0.21805,     0.21747,     0.21689,     0.21632,     0.21574,     0.21516,     0.21459,     0.21401,     0.21343,     0.21286,     0.21228,      0.2117,     0.21113,     0.21055,     0.20997,      0.2094,     0.20882,     0.20824,     0.20767,     0.20709,     0.20651,     0.20593,     0.20536,\n",
              "            0.20478,      0.2042,     0.20363,     0.20305,     0.20247,      0.2019,     0.20132,     0.20074,     0.20017,     0.19959,     0.19901,     0.19844,     0.19786,     0.19728,     0.19671,     0.19613,     0.19555,     0.19497,      0.1944,     0.19382,     0.19324,     0.19267,     0.19209,\n",
              "            0.19151,     0.19094,     0.19036,     0.18978,     0.18921,     0.18863,     0.18805,     0.18748,      0.1869,     0.18632,     0.18575,     0.18517,     0.18459,     0.18401,     0.18344,     0.18286,     0.18228,     0.18171,     0.18113,     0.18055,     0.17998,      0.1794,     0.17882,\n",
              "            0.17825,     0.17767,     0.17709,     0.17652,     0.17594,     0.17536,     0.17478,     0.17421,     0.17363,     0.17305,     0.17248,      0.1719,     0.17132,     0.17075,     0.17017,     0.16959,     0.16902,     0.16844,     0.16786,     0.16729,     0.16671,     0.16613,     0.16556,\n",
              "            0.16498,      0.1644,     0.16382,     0.16325,     0.16267,     0.16209,     0.16152,     0.16094,     0.16036,     0.15979,     0.15921,     0.15863,     0.15806,     0.15748,      0.1569,     0.15633,     0.15575,     0.15517,      0.1546,     0.15402,     0.15344,     0.15286,     0.15229,\n",
              "            0.15171,     0.15113,     0.15056,     0.14998,      0.1494,     0.14883,     0.14825,     0.14767,      0.1471,     0.14652,     0.14594,     0.14537,     0.14479,     0.14421,     0.14364,     0.14306,     0.14248,      0.1419,     0.14133,     0.14075,     0.14017,      0.1396,     0.13902,\n",
              "            0.13844,     0.13787,     0.13729,     0.13671,     0.13614,     0.13556,     0.13498,     0.13441,     0.13383,     0.13325,     0.13268,      0.1321,     0.13152,     0.13094,     0.13037,     0.12979,     0.12921,     0.12864,     0.12806,     0.12748,     0.12691,     0.12633,     0.12575,\n",
              "            0.12518,      0.1246,     0.12402,     0.12345,     0.12287,     0.12229,     0.12171,     0.12114,     0.12056,     0.11998,     0.11941,     0.11883,     0.11825,     0.11768,      0.1171,     0.11652,     0.11595,     0.11537,     0.11479,     0.11422,     0.11364,     0.11306,     0.11249,\n",
              "            0.11191,     0.11133,     0.11075,     0.11018,      0.1096,     0.10902,     0.10845,     0.10787,     0.10729,     0.10672,     0.10614,     0.10556,     0.10499,     0.10441,     0.10383,     0.10326,     0.10268,      0.1021,     0.10153,     0.10095,     0.10037,    0.099795,    0.099218,\n",
              "           0.098641,    0.098064,    0.097487,     0.09691,    0.096334,    0.095757,     0.09518,    0.094603,    0.094026,    0.093449,    0.092873,    0.092296,    0.091719,    0.091142,    0.090565,    0.089988,    0.089411,    0.088835,    0.088258,    0.087681,    0.087104,    0.086527,     0.08595,\n",
              "           0.085374,    0.084797,     0.08422,    0.083643,    0.083066,    0.082489,    0.081912,    0.081336,    0.080759,    0.080182,    0.079605,    0.079028,    0.078451,    0.077874,    0.077298,    0.076721,    0.076144,    0.075567,     0.07499,    0.074413,    0.073837,     0.07326,    0.072683,\n",
              "           0.072106,    0.071529,    0.070952,    0.070375,    0.069799,    0.069222,    0.068645,    0.068068,    0.067491,    0.066914,    0.066338,    0.065761,    0.065184,    0.064607,     0.06403,    0.063453,    0.062876,      0.0623,    0.061723,    0.061146,    0.060569,    0.059992,    0.059415,\n",
              "           0.058838,    0.058262,    0.057685,    0.057108,    0.056531,    0.055954,    0.055377,    0.054801,    0.054224,    0.053647,     0.05307,    0.052493,    0.051916,    0.051339,    0.050763,    0.050186,    0.049609,    0.049032,    0.048455,    0.047878,    0.047302,    0.046725,    0.046148,\n",
              "           0.045571,    0.044994,    0.044417,     0.04384,    0.043264,    0.042687,     0.04211,    0.041533,    0.040956,    0.040379,    0.039803,    0.039226,    0.038649,    0.038072,    0.037495,    0.036918,    0.036341,    0.035765,    0.035188,    0.034611,    0.034034,    0.033457,     0.03288,\n",
              "           0.032303,    0.031727,     0.03115,    0.030573,    0.029996,    0.029419,    0.028842,    0.028266,    0.027689,    0.027112,    0.026535,    0.025958,    0.025381,    0.024804,    0.024228,    0.023651,    0.023074,    0.022497,     0.02192,    0.021343,    0.020767,     0.02019,    0.019613,\n",
              "           0.019036,    0.018459,    0.017882,    0.017305,    0.016729,    0.016152,    0.015575,    0.014998,    0.014421,    0.013844,    0.013268,    0.012691,    0.012114,    0.011537,     0.01096,    0.010383,   0.0098064,   0.0092296,   0.0086527,   0.0080759,    0.007499,   0.0069222,   0.0063453,\n",
              "          0.0057685,   0.0051916,   0.0046148,   0.0040379,   0.0034611,   0.0028842,   0.0023074,   0.0017305,   0.0011537,  0.00057685,           0]]), 'Recall', 'Precision'], [array([          0,    0.001001,    0.002002,    0.003003,    0.004004,    0.005005,    0.006006,    0.007007,    0.008008,    0.009009,     0.01001,    0.011011,    0.012012,    0.013013,    0.014014,    0.015015,    0.016016,    0.017017,    0.018018,    0.019019,     0.02002,    0.021021,    0.022022,    0.023023,\n",
              "          0.024024,    0.025025,    0.026026,    0.027027,    0.028028,    0.029029,     0.03003,    0.031031,    0.032032,    0.033033,    0.034034,    0.035035,    0.036036,    0.037037,    0.038038,    0.039039,     0.04004,    0.041041,    0.042042,    0.043043,    0.044044,    0.045045,    0.046046,    0.047047,\n",
              "          0.048048,    0.049049,     0.05005,    0.051051,    0.052052,    0.053053,    0.054054,    0.055055,    0.056056,    0.057057,    0.058058,    0.059059,     0.06006,    0.061061,    0.062062,    0.063063,    0.064064,    0.065065,    0.066066,    0.067067,    0.068068,    0.069069,     0.07007,    0.071071,\n",
              "          0.072072,    0.073073,    0.074074,    0.075075,    0.076076,    0.077077,    0.078078,    0.079079,     0.08008,    0.081081,    0.082082,    0.083083,    0.084084,    0.085085,    0.086086,    0.087087,    0.088088,    0.089089,     0.09009,    0.091091,    0.092092,    0.093093,    0.094094,    0.095095,\n",
              "          0.096096,    0.097097,    0.098098,    0.099099,      0.1001,      0.1011,      0.1021,      0.1031,      0.1041,     0.10511,     0.10611,     0.10711,     0.10811,     0.10911,     0.11011,     0.11111,     0.11211,     0.11311,     0.11411,     0.11512,     0.11612,     0.11712,     0.11812,     0.11912,\n",
              "           0.12012,     0.12112,     0.12212,     0.12312,     0.12412,     0.12513,     0.12613,     0.12713,     0.12813,     0.12913,     0.13013,     0.13113,     0.13213,     0.13313,     0.13413,     0.13514,     0.13614,     0.13714,     0.13814,     0.13914,     0.14014,     0.14114,     0.14214,     0.14314,\n",
              "           0.14414,     0.14515,     0.14615,     0.14715,     0.14815,     0.14915,     0.15015,     0.15115,     0.15215,     0.15315,     0.15415,     0.15516,     0.15616,     0.15716,     0.15816,     0.15916,     0.16016,     0.16116,     0.16216,     0.16316,     0.16416,     0.16517,     0.16617,     0.16717,\n",
              "           0.16817,     0.16917,     0.17017,     0.17117,     0.17217,     0.17317,     0.17417,     0.17518,     0.17618,     0.17718,     0.17818,     0.17918,     0.18018,     0.18118,     0.18218,     0.18318,     0.18418,     0.18519,     0.18619,     0.18719,     0.18819,     0.18919,     0.19019,     0.19119,\n",
              "           0.19219,     0.19319,     0.19419,      0.1952,      0.1962,      0.1972,      0.1982,      0.1992,      0.2002,      0.2012,      0.2022,      0.2032,      0.2042,     0.20521,     0.20621,     0.20721,     0.20821,     0.20921,     0.21021,     0.21121,     0.21221,     0.21321,     0.21421,     0.21522,\n",
              "           0.21622,     0.21722,     0.21822,     0.21922,     0.22022,     0.22122,     0.22222,     0.22322,     0.22422,     0.22523,     0.22623,     0.22723,     0.22823,     0.22923,     0.23023,     0.23123,     0.23223,     0.23323,     0.23423,     0.23524,     0.23624,     0.23724,     0.23824,     0.23924,\n",
              "           0.24024,     0.24124,     0.24224,     0.24324,     0.24424,     0.24525,     0.24625,     0.24725,     0.24825,     0.24925,     0.25025,     0.25125,     0.25225,     0.25325,     0.25425,     0.25526,     0.25626,     0.25726,     0.25826,     0.25926,     0.26026,     0.26126,     0.26226,     0.26326,\n",
              "           0.26426,     0.26527,     0.26627,     0.26727,     0.26827,     0.26927,     0.27027,     0.27127,     0.27227,     0.27327,     0.27427,     0.27528,     0.27628,     0.27728,     0.27828,     0.27928,     0.28028,     0.28128,     0.28228,     0.28328,     0.28428,     0.28529,     0.28629,     0.28729,\n",
              "           0.28829,     0.28929,     0.29029,     0.29129,     0.29229,     0.29329,     0.29429,      0.2953,      0.2963,      0.2973,      0.2983,      0.2993,      0.3003,      0.3013,      0.3023,      0.3033,      0.3043,     0.30531,     0.30631,     0.30731,     0.30831,     0.30931,     0.31031,     0.31131,\n",
              "           0.31231,     0.31331,     0.31431,     0.31532,     0.31632,     0.31732,     0.31832,     0.31932,     0.32032,     0.32132,     0.32232,     0.32332,     0.32432,     0.32533,     0.32633,     0.32733,     0.32833,     0.32933,     0.33033,     0.33133,     0.33233,     0.33333,     0.33433,     0.33534,\n",
              "           0.33634,     0.33734,     0.33834,     0.33934,     0.34034,     0.34134,     0.34234,     0.34334,     0.34434,     0.34535,     0.34635,     0.34735,     0.34835,     0.34935,     0.35035,     0.35135,     0.35235,     0.35335,     0.35435,     0.35536,     0.35636,     0.35736,     0.35836,     0.35936,\n",
              "           0.36036,     0.36136,     0.36236,     0.36336,     0.36436,     0.36537,     0.36637,     0.36737,     0.36837,     0.36937,     0.37037,     0.37137,     0.37237,     0.37337,     0.37437,     0.37538,     0.37638,     0.37738,     0.37838,     0.37938,     0.38038,     0.38138,     0.38238,     0.38338,\n",
              "           0.38438,     0.38539,     0.38639,     0.38739,     0.38839,     0.38939,     0.39039,     0.39139,     0.39239,     0.39339,     0.39439,      0.3954,      0.3964,      0.3974,      0.3984,      0.3994,      0.4004,      0.4014,      0.4024,      0.4034,      0.4044,     0.40541,     0.40641,     0.40741,\n",
              "           0.40841,     0.40941,     0.41041,     0.41141,     0.41241,     0.41341,     0.41441,     0.41542,     0.41642,     0.41742,     0.41842,     0.41942,     0.42042,     0.42142,     0.42242,     0.42342,     0.42442,     0.42543,     0.42643,     0.42743,     0.42843,     0.42943,     0.43043,     0.43143,\n",
              "           0.43243,     0.43343,     0.43443,     0.43544,     0.43644,     0.43744,     0.43844,     0.43944,     0.44044,     0.44144,     0.44244,     0.44344,     0.44444,     0.44545,     0.44645,     0.44745,     0.44845,     0.44945,     0.45045,     0.45145,     0.45245,     0.45345,     0.45445,     0.45546,\n",
              "           0.45646,     0.45746,     0.45846,     0.45946,     0.46046,     0.46146,     0.46246,     0.46346,     0.46446,     0.46547,     0.46647,     0.46747,     0.46847,     0.46947,     0.47047,     0.47147,     0.47247,     0.47347,     0.47447,     0.47548,     0.47648,     0.47748,     0.47848,     0.47948,\n",
              "           0.48048,     0.48148,     0.48248,     0.48348,     0.48448,     0.48549,     0.48649,     0.48749,     0.48849,     0.48949,     0.49049,     0.49149,     0.49249,     0.49349,     0.49449,      0.4955,      0.4965,      0.4975,      0.4985,      0.4995,      0.5005,      0.5015,      0.5025,      0.5035,\n",
              "            0.5045,     0.50551,     0.50651,     0.50751,     0.50851,     0.50951,     0.51051,     0.51151,     0.51251,     0.51351,     0.51451,     0.51552,     0.51652,     0.51752,     0.51852,     0.51952,     0.52052,     0.52152,     0.52252,     0.52352,     0.52452,     0.52553,     0.52653,     0.52753,\n",
              "           0.52853,     0.52953,     0.53053,     0.53153,     0.53253,     0.53353,     0.53453,     0.53554,     0.53654,     0.53754,     0.53854,     0.53954,     0.54054,     0.54154,     0.54254,     0.54354,     0.54454,     0.54555,     0.54655,     0.54755,     0.54855,     0.54955,     0.55055,     0.55155,\n",
              "           0.55255,     0.55355,     0.55455,     0.55556,     0.55656,     0.55756,     0.55856,     0.55956,     0.56056,     0.56156,     0.56256,     0.56356,     0.56456,     0.56557,     0.56657,     0.56757,     0.56857,     0.56957,     0.57057,     0.57157,     0.57257,     0.57357,     0.57457,     0.57558,\n",
              "           0.57658,     0.57758,     0.57858,     0.57958,     0.58058,     0.58158,     0.58258,     0.58358,     0.58458,     0.58559,     0.58659,     0.58759,     0.58859,     0.58959,     0.59059,     0.59159,     0.59259,     0.59359,     0.59459,      0.5956,      0.5966,      0.5976,      0.5986,      0.5996,\n",
              "            0.6006,      0.6016,      0.6026,      0.6036,      0.6046,     0.60561,     0.60661,     0.60761,     0.60861,     0.60961,     0.61061,     0.61161,     0.61261,     0.61361,     0.61461,     0.61562,     0.61662,     0.61762,     0.61862,     0.61962,     0.62062,     0.62162,     0.62262,     0.62362,\n",
              "           0.62462,     0.62563,     0.62663,     0.62763,     0.62863,     0.62963,     0.63063,     0.63163,     0.63263,     0.63363,     0.63463,     0.63564,     0.63664,     0.63764,     0.63864,     0.63964,     0.64064,     0.64164,     0.64264,     0.64364,     0.64464,     0.64565,     0.64665,     0.64765,\n",
              "           0.64865,     0.64965,     0.65065,     0.65165,     0.65265,     0.65365,     0.65465,     0.65566,     0.65666,     0.65766,     0.65866,     0.65966,     0.66066,     0.66166,     0.66266,     0.66366,     0.66466,     0.66567,     0.66667,     0.66767,     0.66867,     0.66967,     0.67067,     0.67167,\n",
              "           0.67267,     0.67367,     0.67467,     0.67568,     0.67668,     0.67768,     0.67868,     0.67968,     0.68068,     0.68168,     0.68268,     0.68368,     0.68468,     0.68569,     0.68669,     0.68769,     0.68869,     0.68969,     0.69069,     0.69169,     0.69269,     0.69369,     0.69469,      0.6957,\n",
              "            0.6967,      0.6977,      0.6987,      0.6997,      0.7007,      0.7017,      0.7027,      0.7037,      0.7047,     0.70571,     0.70671,     0.70771,     0.70871,     0.70971,     0.71071,     0.71171,     0.71271,     0.71371,     0.71471,     0.71572,     0.71672,     0.71772,     0.71872,     0.71972,\n",
              "           0.72072,     0.72172,     0.72272,     0.72372,     0.72472,     0.72573,     0.72673,     0.72773,     0.72873,     0.72973,     0.73073,     0.73173,     0.73273,     0.73373,     0.73473,     0.73574,     0.73674,     0.73774,     0.73874,     0.73974,     0.74074,     0.74174,     0.74274,     0.74374,\n",
              "           0.74474,     0.74575,     0.74675,     0.74775,     0.74875,     0.74975,     0.75075,     0.75175,     0.75275,     0.75375,     0.75475,     0.75576,     0.75676,     0.75776,     0.75876,     0.75976,     0.76076,     0.76176,     0.76276,     0.76376,     0.76476,     0.76577,     0.76677,     0.76777,\n",
              "           0.76877,     0.76977,     0.77077,     0.77177,     0.77277,     0.77377,     0.77477,     0.77578,     0.77678,     0.77778,     0.77878,     0.77978,     0.78078,     0.78178,     0.78278,     0.78378,     0.78478,     0.78579,     0.78679,     0.78779,     0.78879,     0.78979,     0.79079,     0.79179,\n",
              "           0.79279,     0.79379,     0.79479,      0.7958,      0.7968,      0.7978,      0.7988,      0.7998,      0.8008,      0.8018,      0.8028,      0.8038,      0.8048,     0.80581,     0.80681,     0.80781,     0.80881,     0.80981,     0.81081,     0.81181,     0.81281,     0.81381,     0.81481,     0.81582,\n",
              "           0.81682,     0.81782,     0.81882,     0.81982,     0.82082,     0.82182,     0.82282,     0.82382,     0.82482,     0.82583,     0.82683,     0.82783,     0.82883,     0.82983,     0.83083,     0.83183,     0.83283,     0.83383,     0.83483,     0.83584,     0.83684,     0.83784,     0.83884,     0.83984,\n",
              "           0.84084,     0.84184,     0.84284,     0.84384,     0.84484,     0.84585,     0.84685,     0.84785,     0.84885,     0.84985,     0.85085,     0.85185,     0.85285,     0.85385,     0.85485,     0.85586,     0.85686,     0.85786,     0.85886,     0.85986,     0.86086,     0.86186,     0.86286,     0.86386,\n",
              "           0.86486,     0.86587,     0.86687,     0.86787,     0.86887,     0.86987,     0.87087,     0.87187,     0.87287,     0.87387,     0.87487,     0.87588,     0.87688,     0.87788,     0.87888,     0.87988,     0.88088,     0.88188,     0.88288,     0.88388,     0.88488,     0.88589,     0.88689,     0.88789,\n",
              "           0.88889,     0.88989,     0.89089,     0.89189,     0.89289,     0.89389,     0.89489,      0.8959,      0.8969,      0.8979,      0.8989,      0.8999,      0.9009,      0.9019,      0.9029,      0.9039,      0.9049,     0.90591,     0.90691,     0.90791,     0.90891,     0.90991,     0.91091,     0.91191,\n",
              "           0.91291,     0.91391,     0.91491,     0.91592,     0.91692,     0.91792,     0.91892,     0.91992,     0.92092,     0.92192,     0.92292,     0.92392,     0.92492,     0.92593,     0.92693,     0.92793,     0.92893,     0.92993,     0.93093,     0.93193,     0.93293,     0.93393,     0.93493,     0.93594,\n",
              "           0.93694,     0.93794,     0.93894,     0.93994,     0.94094,     0.94194,     0.94294,     0.94394,     0.94494,     0.94595,     0.94695,     0.94795,     0.94895,     0.94995,     0.95095,     0.95195,     0.95295,     0.95395,     0.95495,     0.95596,     0.95696,     0.95796,     0.95896,     0.95996,\n",
              "           0.96096,     0.96196,     0.96296,     0.96396,     0.96496,     0.96597,     0.96697,     0.96797,     0.96897,     0.96997,     0.97097,     0.97197,     0.97297,     0.97397,     0.97497,     0.97598,     0.97698,     0.97798,     0.97898,     0.97998,     0.98098,     0.98198,     0.98298,     0.98398,\n",
              "           0.98498,     0.98599,     0.98699,     0.98799,     0.98899,     0.98999,     0.99099,     0.99199,     0.99299,     0.99399,     0.99499,       0.996,       0.997,       0.998,       0.999,           1]), array([[    0.36559,     0.36559,     0.36559,     0.36559,     0.36559,     0.36559,     0.36559,     0.36559,     0.36559,     0.36559,     0.36559,     0.36559,     0.36559,     0.36559,     0.36559,     0.36559,     0.36559,     0.36559,     0.36559,     0.36559,     0.36559,     0.36559,     0.36559,\n",
              "            0.36559,     0.36559,     0.36559,     0.36559,     0.36559,     0.36559,     0.36559,     0.36559,     0.36559,     0.36559,     0.36559,     0.36559,     0.36559,     0.36559,     0.36559,     0.36559,     0.36559,     0.36559,     0.36559,     0.36559,     0.36559,     0.36559,     0.36559,\n",
              "            0.36559,     0.36559,     0.36559,     0.36559,     0.36559,     0.36559,     0.36559,     0.36559,     0.36559,     0.36559,     0.36559,     0.36559,     0.36559,     0.36559,     0.36559,     0.36559,     0.36559,     0.36559,     0.36559,     0.36559,     0.36559,     0.36559,     0.36559,\n",
              "            0.36559,     0.36559,     0.36559,     0.36559,     0.36559,     0.36559,     0.36559,     0.36559,     0.36559,     0.36559,     0.36559,     0.36559,     0.36559,     0.36559,     0.36559,     0.36559,     0.36559,     0.36559,     0.36559,     0.36559,     0.36559,     0.36559,     0.36559,\n",
              "            0.36559,     0.36559,     0.36559,     0.36559,     0.36559,     0.36559,     0.36559,     0.36559,     0.36559,     0.36559,     0.36559,     0.36559,     0.36559,     0.36559,     0.36559,     0.36631,     0.36785,     0.36939,      0.3717,     0.37378,     0.37455,     0.37532,     0.37609,\n",
              "            0.37686,     0.37762,     0.37806,     0.37841,     0.37875,      0.3791,     0.37945,      0.3798,     0.38015,     0.38049,     0.38084,     0.38118,     0.38153,     0.38188,      0.3879,     0.39306,     0.39604,     0.39728,     0.39851,     0.39973,     0.40128,     0.40292,     0.40455,\n",
              "            0.40777,     0.40989,     0.41044,     0.41099,     0.41154,     0.41209,     0.41264,     0.41318,     0.41373,     0.41427,     0.41522,     0.41698,     0.41872,     0.42217,     0.42753,     0.42158,     0.41561,     0.41087,     0.41699,     0.42421,     0.42689,     0.42722,     0.42754,\n",
              "            0.42787,     0.42819,     0.42851,     0.42884,     0.42916,     0.42948,      0.4298,     0.43012,     0.43044,     0.43076,     0.43108,      0.4314,     0.43172,     0.43204,     0.43236,     0.43367,     0.43527,     0.43687,     0.43821,     0.43578,     0.43334,      0.4309,     0.42846,\n",
              "            0.42602,     0.42357,     0.42113,     0.41868,     0.41695,     0.41852,     0.42008,     0.42163,     0.42139,     0.41859,      0.4158,       0.413,      0.4102,     0.40739,     0.40459,     0.40178,     0.40042,     0.40156,      0.4027,     0.40383,     0.40495,     0.40588,     0.40622,\n",
              "            0.40657,     0.40691,     0.40725,     0.40759,     0.40793,     0.40827,     0.40861,     0.40895,     0.40929,     0.40963,     0.40997,      0.4103,     0.41064,     0.41097,     0.41131,     0.41164,     0.41045,     0.40839,     0.40633,     0.40427,     0.40221,     0.40015,     0.39808,\n",
              "            0.39602,     0.39395,     0.39188,     0.38981,     0.38808,      0.3882,     0.38833,     0.38846,     0.38858,     0.38871,     0.38883,     0.38895,     0.38908,      0.3892,     0.38933,     0.38945,     0.38958,      0.3897,     0.38983,     0.38995,     0.39007,      0.3902,     0.39032,\n",
              "            0.39045,     0.39057,     0.39069,     0.39082,     0.39094,     0.39106,     0.39119,     0.39131,     0.39143,     0.39156,     0.39168,      0.3918,     0.39193,     0.39205,     0.39217,     0.39229,     0.39242,     0.39254,     0.39266,     0.39278,     0.39291,     0.39303,     0.39315,\n",
              "            0.39327,     0.39339,     0.39352,     0.39364,     0.39376,     0.39388,     0.39436,     0.39518,       0.396,     0.39682,     0.39763,     0.39844,     0.39924,     0.40013,     0.40241,     0.40466,     0.40633,     0.40662,      0.4069,     0.40718,     0.40747,     0.40775,     0.40803,\n",
              "            0.40831,     0.40859,     0.40888,     0.40916,     0.40944,     0.40972,        0.41,     0.41027,     0.41055,     0.41083,     0.41111,     0.41138,     0.41166,     0.41194,     0.41221,     0.41249,     0.41315,     0.41506,     0.41695,     0.41882,     0.41885,     0.41815,     0.41744,\n",
              "            0.41673,     0.41603,     0.41532,     0.41462,     0.41391,      0.4132,      0.4125,     0.41179,     0.41108,     0.41037,     0.40967,     0.40896,     0.40825,     0.40754,     0.40684,     0.40613,     0.40542,     0.40471,       0.404,     0.40329,     0.40258,     0.40187,     0.40116,\n",
              "            0.40045,     0.39974,     0.39903,     0.39832,     0.39761,      0.3969,     0.39619,     0.39547,     0.39476,     0.39405,       0.394,     0.39772,     0.40015,     0.40055,     0.40094,     0.40134,     0.40173,     0.40212,     0.40252,     0.40291,      0.4033,     0.40369,     0.40407,\n",
              "            0.40446,     0.40485,     0.40523,     0.40561,       0.406,     0.40638,     0.40676,       0.407,     0.40723,     0.40746,     0.40769,     0.40792,     0.40815,     0.40838,     0.40861,     0.40884,     0.40907,      0.4093,     0.40952,     0.40975,     0.40998,     0.41021,     0.41043,\n",
              "            0.41066,     0.41088,     0.41111,     0.41133,     0.41156,     0.41178,     0.41201,     0.41223,     0.41245,     0.41268,      0.4129,     0.41312,     0.41334,     0.41356,     0.41379,     0.41402,     0.41425,     0.41448,     0.41471,     0.41494,     0.41516,     0.41539,     0.41562,\n",
              "            0.41585,     0.41608,      0.4163,     0.41653,     0.41676,     0.41698,     0.41721,     0.41743,     0.41766,     0.41788,     0.41811,     0.41833,     0.41856,     0.41878,       0.419,     0.41922,     0.41945,     0.41967,     0.41989,     0.42011,     0.42033,     0.42055,     0.42077,\n",
              "            0.42099,     0.42942,     0.43304,     0.43641,     0.43711,     0.43781,     0.43851,     0.43921,      0.4399,     0.44059,     0.44127,     0.44195,     0.44263,      0.4433,     0.44397,     0.44382,     0.44168,     0.43954,      0.4374,     0.43525,      0.4331,     0.43094,     0.42879,\n",
              "            0.42663,     0.42447,      0.4223,     0.42014,     0.41797,     0.41579,     0.41528,     0.41556,     0.41584,     0.41612,      0.4164,     0.41668,     0.41695,     0.41723,      0.4175,     0.41778,     0.41805,     0.41832,     0.41859,     0.41887,     0.41914,     0.41941,     0.41968,\n",
              "            0.41995,     0.42021,     0.42048,     0.42075,     0.42102,     0.42128,     0.42155,     0.42181,     0.42208,     0.42234,      0.4226,     0.42286,     0.42339,     0.42505,     0.42669,      0.4283,     0.42989,     0.43112,     0.42677,     0.42241,     0.41803,     0.41364,     0.40924,\n",
              "            0.40482,     0.40039,     0.40081,     0.40169,     0.40256,     0.40342,     0.40427,     0.40512,     0.40596,     0.40679,     0.40761,     0.40706,     0.40367,     0.40027,     0.39686,     0.39345,     0.39002,     0.38659,     0.38315,      0.3797,     0.37624,     0.37511,     0.37529,\n",
              "            0.37547,     0.37565,     0.37582,       0.376,     0.37617,     0.37635,     0.37652,      0.3767,     0.37687,     0.37704,     0.37722,     0.37739,     0.37756,     0.37773,     0.37791,     0.37808,     0.37825,     0.37842,     0.37859,     0.37876,     0.37893,     0.37909,     0.37926,\n",
              "            0.37943,      0.3796,     0.37977,     0.37993,      0.3801,     0.38027,     0.38043,      0.3806,     0.38076,     0.38093,     0.38109,     0.38126,     0.38142,     0.38158,     0.38174,     0.38191,     0.38207,     0.38223,     0.38239,     0.38255,     0.38271,     0.38288,     0.38249,\n",
              "             0.3811,      0.3797,     0.37831,     0.37691,     0.37551,     0.37412,     0.37272,     0.37131,     0.36991,     0.36851,      0.3671,     0.36569,     0.36428,     0.36287,     0.36146,     0.36005,     0.35863,     0.35722,      0.3558,     0.35438,     0.35296,     0.35154,     0.35011,\n",
              "            0.34869,     0.34878,     0.35112,     0.35337,     0.35553,      0.3358,     0.31876,       0.323,     0.32562,     0.32573,     0.32583,     0.32594,     0.32604,     0.32615,     0.32626,     0.32636,     0.32647,     0.32657,     0.32668,     0.32678,     0.32688,     0.32699,     0.32709,\n",
              "             0.3272,      0.3273,      0.3274,      0.3275,     0.32761,     0.32771,     0.32781,     0.32791,     0.32801,     0.32811,     0.32822,     0.32832,     0.32842,     0.32852,     0.32862,     0.32872,     0.32882,     0.32891,     0.32901,     0.32911,     0.32921,     0.32931,     0.32941,\n",
              "             0.3295,      0.3296,      0.3297,      0.3298,     0.32989,     0.32999,     0.33009,     0.33018,     0.33028,     0.33037,     0.33047,     0.33057,     0.33066,     0.33076,     0.33085,     0.33094,     0.33104,     0.33113,     0.33123,     0.33132,     0.33141,     0.33151,      0.3316,\n",
              "            0.33169,     0.33178,     0.33188,     0.33197,     0.33206,     0.33215,     0.33224,     0.33233,     0.33243,     0.33252,     0.33261,      0.3327,     0.33279,     0.33288,     0.33297,     0.33306,     0.33315,     0.33323,     0.33332,     0.33138,     0.32917,     0.32695,     0.32473,\n",
              "            0.32251,     0.32028,     0.31805,     0.31581,     0.31357,     0.31132,     0.30906,      0.3068,     0.30454,     0.30227,         0.3,     0.29772,     0.29543,     0.29314,     0.26612,     0.24913,     0.24746,      0.2458,     0.24413,     0.24245,     0.24078,      0.2391,     0.23743,\n",
              "            0.23574,     0.23406,     0.23237,     0.23068,     0.22899,      0.2273,      0.2256,      0.2239,      0.2222,      0.2205,     0.21879,     0.21708,     0.21537,     0.21365,     0.21193,     0.21021,     0.20849,     0.20676,     0.20396,     0.18208,      0.1598,     0.15797,     0.15805,\n",
              "            0.15813,     0.15821,     0.15829,     0.15837,     0.15845,     0.15853,      0.1586,     0.15868,     0.15876,     0.15883,      0.1589,     0.15898,     0.15905,     0.15912,      0.1592,     0.15927,     0.15934,     0.15941,     0.15948,     0.15955,     0.15961,     0.15968,     0.15975,\n",
              "            0.15982,     0.15988,     0.15995,     0.16001,     0.16008,     0.16014,      0.1602,     0.16027,     0.16033,     0.16039,     0.16045,     0.16052,     0.16058,     0.16064,      0.1607,     0.16076,     0.16082,     0.16087,     0.16093,     0.16099,     0.16105,      0.1611,     0.16116,\n",
              "            0.16122,     0.16127,     0.16133,     0.16138,     0.16144,     0.16149,     0.16154,      0.1616,     0.16165,      0.1617,     0.16175,     0.16181,     0.16186,     0.16191,     0.16196,     0.16201,     0.16206,     0.16211,     0.16216,     0.16151,     0.16078,     0.16004,     0.15931,\n",
              "            0.15858,     0.15785,     0.15712,     0.15638,     0.15565,     0.15491,     0.15418,     0.15344,      0.1527,     0.15197,     0.15123,     0.15049,     0.14975,     0.14901,     0.14827,     0.14753,     0.14679,     0.14604,      0.1453,     0.14456,     0.14381,     0.14307,     0.14233,\n",
              "            0.14158,     0.14083,     0.14009,     0.13934,     0.13859,     0.13784,     0.13709,     0.13634,     0.13559,     0.13484,     0.13409,     0.13334,     0.13258,     0.13183,     0.13108,     0.13032,     0.12957,     0.12881,     0.12805,      0.1273,     0.12654,     0.12578,     0.12502,\n",
              "            0.12426,      0.1235,     0.12274,     0.12198,     0.12122,     0.12045,     0.11969,     0.11893,     0.11816,      0.1174,     0.11663,     0.11586,      0.1151,     0.11433,     0.11356,     0.11279,     0.11202,     0.11125,     0.11053,     0.10982,     0.10911,      0.1084,     0.10769,\n",
              "            0.10698,     0.10627,     0.10556,     0.10484,     0.10413,     0.10342,      0.1027,     0.10199,     0.10127,     0.10055,    0.099838,    0.099121,    0.098403,    0.097685,    0.096966,    0.096246,    0.095527,    0.094806,    0.094085,    0.093363,    0.092641,    0.091919,    0.091196,\n",
              "           0.090472,    0.089747,    0.089023,    0.088297,    0.087571,    0.086845,    0.086118,     0.08539,    0.084662,    0.083933,    0.083204,    0.082474,    0.081744,    0.081013,    0.080281,    0.079549,    0.078817,    0.078083,     0.07735,    0.076615,     0.07588,    0.075145,    0.074409,\n",
              "           0.073673,    0.072935,    0.072198,     0.07146,    0.070721,    0.069981,    0.069241,    0.068501,     0.06776,    0.067018,    0.066276,    0.065533,     0.06479,    0.064046,    0.063301,    0.062556,    0.061811,    0.061064,    0.060318,     0.05957,    0.058822,    0.058074,    0.057325,\n",
              "                  0,           0,           0,           0,           0,           0,           0,           0,           0,           0,           0,           0,           0,           0,           0,           0,           0,           0,           0,           0,           0,           0,           0,\n",
              "                  0,           0,           0,           0,           0,           0,           0,           0,           0,           0,           0,           0,           0,           0,           0,           0,           0,           0,           0,           0,           0,           0,           0,\n",
              "                  0,           0,           0,           0,           0,           0,           0,           0,           0,           0,           0]]), 'Confidence', 'F1'], [array([          0,    0.001001,    0.002002,    0.003003,    0.004004,    0.005005,    0.006006,    0.007007,    0.008008,    0.009009,     0.01001,    0.011011,    0.012012,    0.013013,    0.014014,    0.015015,    0.016016,    0.017017,    0.018018,    0.019019,     0.02002,    0.021021,    0.022022,    0.023023,\n",
              "          0.024024,    0.025025,    0.026026,    0.027027,    0.028028,    0.029029,     0.03003,    0.031031,    0.032032,    0.033033,    0.034034,    0.035035,    0.036036,    0.037037,    0.038038,    0.039039,     0.04004,    0.041041,    0.042042,    0.043043,    0.044044,    0.045045,    0.046046,    0.047047,\n",
              "          0.048048,    0.049049,     0.05005,    0.051051,    0.052052,    0.053053,    0.054054,    0.055055,    0.056056,    0.057057,    0.058058,    0.059059,     0.06006,    0.061061,    0.062062,    0.063063,    0.064064,    0.065065,    0.066066,    0.067067,    0.068068,    0.069069,     0.07007,    0.071071,\n",
              "          0.072072,    0.073073,    0.074074,    0.075075,    0.076076,    0.077077,    0.078078,    0.079079,     0.08008,    0.081081,    0.082082,    0.083083,    0.084084,    0.085085,    0.086086,    0.087087,    0.088088,    0.089089,     0.09009,    0.091091,    0.092092,    0.093093,    0.094094,    0.095095,\n",
              "          0.096096,    0.097097,    0.098098,    0.099099,      0.1001,      0.1011,      0.1021,      0.1031,      0.1041,     0.10511,     0.10611,     0.10711,     0.10811,     0.10911,     0.11011,     0.11111,     0.11211,     0.11311,     0.11411,     0.11512,     0.11612,     0.11712,     0.11812,     0.11912,\n",
              "           0.12012,     0.12112,     0.12212,     0.12312,     0.12412,     0.12513,     0.12613,     0.12713,     0.12813,     0.12913,     0.13013,     0.13113,     0.13213,     0.13313,     0.13413,     0.13514,     0.13614,     0.13714,     0.13814,     0.13914,     0.14014,     0.14114,     0.14214,     0.14314,\n",
              "           0.14414,     0.14515,     0.14615,     0.14715,     0.14815,     0.14915,     0.15015,     0.15115,     0.15215,     0.15315,     0.15415,     0.15516,     0.15616,     0.15716,     0.15816,     0.15916,     0.16016,     0.16116,     0.16216,     0.16316,     0.16416,     0.16517,     0.16617,     0.16717,\n",
              "           0.16817,     0.16917,     0.17017,     0.17117,     0.17217,     0.17317,     0.17417,     0.17518,     0.17618,     0.17718,     0.17818,     0.17918,     0.18018,     0.18118,     0.18218,     0.18318,     0.18418,     0.18519,     0.18619,     0.18719,     0.18819,     0.18919,     0.19019,     0.19119,\n",
              "           0.19219,     0.19319,     0.19419,      0.1952,      0.1962,      0.1972,      0.1982,      0.1992,      0.2002,      0.2012,      0.2022,      0.2032,      0.2042,     0.20521,     0.20621,     0.20721,     0.20821,     0.20921,     0.21021,     0.21121,     0.21221,     0.21321,     0.21421,     0.21522,\n",
              "           0.21622,     0.21722,     0.21822,     0.21922,     0.22022,     0.22122,     0.22222,     0.22322,     0.22422,     0.22523,     0.22623,     0.22723,     0.22823,     0.22923,     0.23023,     0.23123,     0.23223,     0.23323,     0.23423,     0.23524,     0.23624,     0.23724,     0.23824,     0.23924,\n",
              "           0.24024,     0.24124,     0.24224,     0.24324,     0.24424,     0.24525,     0.24625,     0.24725,     0.24825,     0.24925,     0.25025,     0.25125,     0.25225,     0.25325,     0.25425,     0.25526,     0.25626,     0.25726,     0.25826,     0.25926,     0.26026,     0.26126,     0.26226,     0.26326,\n",
              "           0.26426,     0.26527,     0.26627,     0.26727,     0.26827,     0.26927,     0.27027,     0.27127,     0.27227,     0.27327,     0.27427,     0.27528,     0.27628,     0.27728,     0.27828,     0.27928,     0.28028,     0.28128,     0.28228,     0.28328,     0.28428,     0.28529,     0.28629,     0.28729,\n",
              "           0.28829,     0.28929,     0.29029,     0.29129,     0.29229,     0.29329,     0.29429,      0.2953,      0.2963,      0.2973,      0.2983,      0.2993,      0.3003,      0.3013,      0.3023,      0.3033,      0.3043,     0.30531,     0.30631,     0.30731,     0.30831,     0.30931,     0.31031,     0.31131,\n",
              "           0.31231,     0.31331,     0.31431,     0.31532,     0.31632,     0.31732,     0.31832,     0.31932,     0.32032,     0.32132,     0.32232,     0.32332,     0.32432,     0.32533,     0.32633,     0.32733,     0.32833,     0.32933,     0.33033,     0.33133,     0.33233,     0.33333,     0.33433,     0.33534,\n",
              "           0.33634,     0.33734,     0.33834,     0.33934,     0.34034,     0.34134,     0.34234,     0.34334,     0.34434,     0.34535,     0.34635,     0.34735,     0.34835,     0.34935,     0.35035,     0.35135,     0.35235,     0.35335,     0.35435,     0.35536,     0.35636,     0.35736,     0.35836,     0.35936,\n",
              "           0.36036,     0.36136,     0.36236,     0.36336,     0.36436,     0.36537,     0.36637,     0.36737,     0.36837,     0.36937,     0.37037,     0.37137,     0.37237,     0.37337,     0.37437,     0.37538,     0.37638,     0.37738,     0.37838,     0.37938,     0.38038,     0.38138,     0.38238,     0.38338,\n",
              "           0.38438,     0.38539,     0.38639,     0.38739,     0.38839,     0.38939,     0.39039,     0.39139,     0.39239,     0.39339,     0.39439,      0.3954,      0.3964,      0.3974,      0.3984,      0.3994,      0.4004,      0.4014,      0.4024,      0.4034,      0.4044,     0.40541,     0.40641,     0.40741,\n",
              "           0.40841,     0.40941,     0.41041,     0.41141,     0.41241,     0.41341,     0.41441,     0.41542,     0.41642,     0.41742,     0.41842,     0.41942,     0.42042,     0.42142,     0.42242,     0.42342,     0.42442,     0.42543,     0.42643,     0.42743,     0.42843,     0.42943,     0.43043,     0.43143,\n",
              "           0.43243,     0.43343,     0.43443,     0.43544,     0.43644,     0.43744,     0.43844,     0.43944,     0.44044,     0.44144,     0.44244,     0.44344,     0.44444,     0.44545,     0.44645,     0.44745,     0.44845,     0.44945,     0.45045,     0.45145,     0.45245,     0.45345,     0.45445,     0.45546,\n",
              "           0.45646,     0.45746,     0.45846,     0.45946,     0.46046,     0.46146,     0.46246,     0.46346,     0.46446,     0.46547,     0.46647,     0.46747,     0.46847,     0.46947,     0.47047,     0.47147,     0.47247,     0.47347,     0.47447,     0.47548,     0.47648,     0.47748,     0.47848,     0.47948,\n",
              "           0.48048,     0.48148,     0.48248,     0.48348,     0.48448,     0.48549,     0.48649,     0.48749,     0.48849,     0.48949,     0.49049,     0.49149,     0.49249,     0.49349,     0.49449,      0.4955,      0.4965,      0.4975,      0.4985,      0.4995,      0.5005,      0.5015,      0.5025,      0.5035,\n",
              "            0.5045,     0.50551,     0.50651,     0.50751,     0.50851,     0.50951,     0.51051,     0.51151,     0.51251,     0.51351,     0.51451,     0.51552,     0.51652,     0.51752,     0.51852,     0.51952,     0.52052,     0.52152,     0.52252,     0.52352,     0.52452,     0.52553,     0.52653,     0.52753,\n",
              "           0.52853,     0.52953,     0.53053,     0.53153,     0.53253,     0.53353,     0.53453,     0.53554,     0.53654,     0.53754,     0.53854,     0.53954,     0.54054,     0.54154,     0.54254,     0.54354,     0.54454,     0.54555,     0.54655,     0.54755,     0.54855,     0.54955,     0.55055,     0.55155,\n",
              "           0.55255,     0.55355,     0.55455,     0.55556,     0.55656,     0.55756,     0.55856,     0.55956,     0.56056,     0.56156,     0.56256,     0.56356,     0.56456,     0.56557,     0.56657,     0.56757,     0.56857,     0.56957,     0.57057,     0.57157,     0.57257,     0.57357,     0.57457,     0.57558,\n",
              "           0.57658,     0.57758,     0.57858,     0.57958,     0.58058,     0.58158,     0.58258,     0.58358,     0.58458,     0.58559,     0.58659,     0.58759,     0.58859,     0.58959,     0.59059,     0.59159,     0.59259,     0.59359,     0.59459,      0.5956,      0.5966,      0.5976,      0.5986,      0.5996,\n",
              "            0.6006,      0.6016,      0.6026,      0.6036,      0.6046,     0.60561,     0.60661,     0.60761,     0.60861,     0.60961,     0.61061,     0.61161,     0.61261,     0.61361,     0.61461,     0.61562,     0.61662,     0.61762,     0.61862,     0.61962,     0.62062,     0.62162,     0.62262,     0.62362,\n",
              "           0.62462,     0.62563,     0.62663,     0.62763,     0.62863,     0.62963,     0.63063,     0.63163,     0.63263,     0.63363,     0.63463,     0.63564,     0.63664,     0.63764,     0.63864,     0.63964,     0.64064,     0.64164,     0.64264,     0.64364,     0.64464,     0.64565,     0.64665,     0.64765,\n",
              "           0.64865,     0.64965,     0.65065,     0.65165,     0.65265,     0.65365,     0.65465,     0.65566,     0.65666,     0.65766,     0.65866,     0.65966,     0.66066,     0.66166,     0.66266,     0.66366,     0.66466,     0.66567,     0.66667,     0.66767,     0.66867,     0.66967,     0.67067,     0.67167,\n",
              "           0.67267,     0.67367,     0.67467,     0.67568,     0.67668,     0.67768,     0.67868,     0.67968,     0.68068,     0.68168,     0.68268,     0.68368,     0.68468,     0.68569,     0.68669,     0.68769,     0.68869,     0.68969,     0.69069,     0.69169,     0.69269,     0.69369,     0.69469,      0.6957,\n",
              "            0.6967,      0.6977,      0.6987,      0.6997,      0.7007,      0.7017,      0.7027,      0.7037,      0.7047,     0.70571,     0.70671,     0.70771,     0.70871,     0.70971,     0.71071,     0.71171,     0.71271,     0.71371,     0.71471,     0.71572,     0.71672,     0.71772,     0.71872,     0.71972,\n",
              "           0.72072,     0.72172,     0.72272,     0.72372,     0.72472,     0.72573,     0.72673,     0.72773,     0.72873,     0.72973,     0.73073,     0.73173,     0.73273,     0.73373,     0.73473,     0.73574,     0.73674,     0.73774,     0.73874,     0.73974,     0.74074,     0.74174,     0.74274,     0.74374,\n",
              "           0.74474,     0.74575,     0.74675,     0.74775,     0.74875,     0.74975,     0.75075,     0.75175,     0.75275,     0.75375,     0.75475,     0.75576,     0.75676,     0.75776,     0.75876,     0.75976,     0.76076,     0.76176,     0.76276,     0.76376,     0.76476,     0.76577,     0.76677,     0.76777,\n",
              "           0.76877,     0.76977,     0.77077,     0.77177,     0.77277,     0.77377,     0.77477,     0.77578,     0.77678,     0.77778,     0.77878,     0.77978,     0.78078,     0.78178,     0.78278,     0.78378,     0.78478,     0.78579,     0.78679,     0.78779,     0.78879,     0.78979,     0.79079,     0.79179,\n",
              "           0.79279,     0.79379,     0.79479,      0.7958,      0.7968,      0.7978,      0.7988,      0.7998,      0.8008,      0.8018,      0.8028,      0.8038,      0.8048,     0.80581,     0.80681,     0.80781,     0.80881,     0.80981,     0.81081,     0.81181,     0.81281,     0.81381,     0.81481,     0.81582,\n",
              "           0.81682,     0.81782,     0.81882,     0.81982,     0.82082,     0.82182,     0.82282,     0.82382,     0.82482,     0.82583,     0.82683,     0.82783,     0.82883,     0.82983,     0.83083,     0.83183,     0.83283,     0.83383,     0.83483,     0.83584,     0.83684,     0.83784,     0.83884,     0.83984,\n",
              "           0.84084,     0.84184,     0.84284,     0.84384,     0.84484,     0.84585,     0.84685,     0.84785,     0.84885,     0.84985,     0.85085,     0.85185,     0.85285,     0.85385,     0.85485,     0.85586,     0.85686,     0.85786,     0.85886,     0.85986,     0.86086,     0.86186,     0.86286,     0.86386,\n",
              "           0.86486,     0.86587,     0.86687,     0.86787,     0.86887,     0.86987,     0.87087,     0.87187,     0.87287,     0.87387,     0.87487,     0.87588,     0.87688,     0.87788,     0.87888,     0.87988,     0.88088,     0.88188,     0.88288,     0.88388,     0.88488,     0.88589,     0.88689,     0.88789,\n",
              "           0.88889,     0.88989,     0.89089,     0.89189,     0.89289,     0.89389,     0.89489,      0.8959,      0.8969,      0.8979,      0.8989,      0.8999,      0.9009,      0.9019,      0.9029,      0.9039,      0.9049,     0.90591,     0.90691,     0.90791,     0.90891,     0.90991,     0.91091,     0.91191,\n",
              "           0.91291,     0.91391,     0.91491,     0.91592,     0.91692,     0.91792,     0.91892,     0.91992,     0.92092,     0.92192,     0.92292,     0.92392,     0.92492,     0.92593,     0.92693,     0.92793,     0.92893,     0.92993,     0.93093,     0.93193,     0.93293,     0.93393,     0.93493,     0.93594,\n",
              "           0.93694,     0.93794,     0.93894,     0.93994,     0.94094,     0.94194,     0.94294,     0.94394,     0.94494,     0.94595,     0.94695,     0.94795,     0.94895,     0.94995,     0.95095,     0.95195,     0.95295,     0.95395,     0.95495,     0.95596,     0.95696,     0.95796,     0.95896,     0.95996,\n",
              "           0.96096,     0.96196,     0.96296,     0.96396,     0.96496,     0.96597,     0.96697,     0.96797,     0.96897,     0.96997,     0.97097,     0.97197,     0.97297,     0.97397,     0.97497,     0.97598,     0.97698,     0.97798,     0.97898,     0.97998,     0.98098,     0.98198,     0.98298,     0.98398,\n",
              "           0.98498,     0.98599,     0.98699,     0.98799,     0.98899,     0.98999,     0.99099,     0.99199,     0.99299,     0.99399,     0.99499,       0.996,       0.997,       0.998,       0.999,           1]), array([[    0.28814,     0.28814,     0.28814,     0.28814,     0.28814,     0.28814,     0.28814,     0.28814,     0.28814,     0.28814,     0.28814,     0.28814,     0.28814,     0.28814,     0.28814,     0.28814,     0.28814,     0.28814,     0.28814,     0.28814,     0.28814,     0.28814,     0.28814,\n",
              "            0.28814,     0.28814,     0.28814,     0.28814,     0.28814,     0.28814,     0.28814,     0.28814,     0.28814,     0.28814,     0.28814,     0.28814,     0.28814,     0.28814,     0.28814,     0.28814,     0.28814,     0.28814,     0.28814,     0.28814,     0.28814,     0.28814,     0.28814,\n",
              "            0.28814,     0.28814,     0.28814,     0.28814,     0.28814,     0.28814,     0.28814,     0.28814,     0.28814,     0.28814,     0.28814,     0.28814,     0.28814,     0.28814,     0.28814,     0.28814,     0.28814,     0.28814,     0.28814,     0.28814,     0.28814,     0.28814,     0.28814,\n",
              "            0.28814,     0.28814,     0.28814,     0.28814,     0.28814,     0.28814,     0.28814,     0.28814,     0.28814,     0.28814,     0.28814,     0.28814,     0.28814,     0.28814,     0.28814,     0.28814,     0.28814,     0.28814,     0.28814,     0.28814,     0.28814,     0.28814,     0.28814,\n",
              "            0.28814,     0.28814,     0.28814,     0.28814,     0.28814,     0.28814,     0.28814,     0.28814,     0.28814,     0.28814,     0.28814,     0.28814,     0.28814,     0.28814,     0.28814,     0.28903,     0.29095,     0.29288,      0.2958,     0.29844,     0.29943,     0.30041,      0.3014,\n",
              "            0.30239,     0.30337,     0.30393,     0.30438,     0.30483,     0.30529,     0.30574,     0.30619,     0.30664,     0.30709,     0.30754,       0.308,     0.30845,      0.3089,     0.31686,      0.3238,     0.32787,     0.32957,     0.33126,     0.33296,     0.33512,     0.33741,      0.3397,\n",
              "            0.34426,      0.3473,     0.34809,     0.34888,     0.34968,     0.35047,     0.35126,     0.35205,     0.35285,     0.35364,     0.35503,      0.3576,     0.36017,     0.36531,     0.37577,     0.37158,     0.36739,     0.36461,     0.37435,     0.38616,     0.39062,     0.39117,     0.39171,\n",
              "            0.39226,      0.3928,     0.39334,     0.39389,     0.39443,     0.39498,     0.39552,     0.39606,     0.39661,     0.39715,      0.3977,     0.39824,     0.39879,     0.39933,     0.39987,     0.40213,     0.40489,     0.40765,     0.41015,     0.40841,     0.40666,     0.40491,     0.40316,\n",
              "            0.40142,     0.39967,     0.39792,     0.39617,     0.39524,     0.39807,     0.40091,     0.40374,     0.40456,     0.40251,     0.40045,      0.3984,     0.39635,     0.39429,     0.39224,     0.39019,     0.38969,     0.39185,     0.39402,     0.39619,     0.39836,     0.40016,     0.40083,\n",
              "             0.4015,     0.40217,     0.40284,      0.4035,     0.40417,     0.40484,     0.40551,     0.40618,     0.40685,     0.40751,     0.40818,     0.40885,     0.40952,     0.41019,     0.41085,     0.41152,     0.41077,     0.40922,     0.40767,     0.40612,     0.40456,     0.40301,     0.40146,\n",
              "            0.39991,     0.39835,      0.3968,     0.39525,     0.39398,     0.39424,      0.3945,     0.39476,     0.39501,     0.39527,     0.39553,     0.39579,     0.39605,     0.39631,     0.39656,     0.39682,     0.39708,     0.39734,      0.3976,     0.39786,     0.39811,     0.39837,     0.39863,\n",
              "            0.39889,     0.39915,     0.39941,     0.39966,     0.39992,     0.40018,     0.40044,      0.4007,     0.40096,     0.40121,     0.40147,     0.40173,     0.40199,     0.40225,     0.40251,     0.40276,     0.40302,     0.40328,     0.40354,      0.4038,     0.40406,     0.40431,     0.40457,\n",
              "            0.40483,     0.40509,     0.40535,     0.40561,     0.40587,     0.40612,     0.40715,     0.40891,     0.41066,     0.41242,     0.41418,     0.41594,     0.41769,     0.41964,     0.42468,     0.42973,     0.43352,     0.43417,     0.43482,     0.43546,     0.43611,     0.43676,     0.43741,\n",
              "            0.43806,      0.4387,     0.43935,        0.44,     0.44065,      0.4413,     0.44195,     0.44259,     0.44324,     0.44389,     0.44454,     0.44519,     0.44583,     0.44648,     0.44713,     0.44778,     0.44934,     0.45389,     0.45844,     0.46299,      0.4639,     0.46336,     0.46281,\n",
              "            0.46227,     0.46173,     0.46119,     0.46064,      0.4601,     0.45956,     0.45901,     0.45847,     0.45793,     0.45739,     0.45684,      0.4563,     0.45576,     0.45522,     0.45467,     0.45413,     0.45359,     0.45305,      0.4525,     0.45196,     0.45142,     0.45088,     0.45033,\n",
              "            0.44979,     0.44925,     0.44871,     0.44816,     0.44762,     0.44708,     0.44653,     0.44599,     0.44545,     0.44491,     0.44587,      0.4555,     0.46193,     0.46299,     0.46405,     0.46511,     0.46617,     0.46723,     0.46829,     0.46935,     0.47041,     0.47147,     0.47253,\n",
              "            0.47359,     0.47465,     0.47571,     0.47677,     0.47783,     0.47889,     0.47995,     0.48061,     0.48126,      0.4819,     0.48255,      0.4832,     0.48384,     0.48449,     0.48513,     0.48578,     0.48642,     0.48707,     0.48771,     0.48836,     0.48901,     0.48965,      0.4903,\n",
              "            0.49094,     0.49159,     0.49223,     0.49288,     0.49352,     0.49417,     0.49482,     0.49546,     0.49611,     0.49675,      0.4974,     0.49804,     0.49869,     0.49933,     0.49998,     0.50065,     0.50133,       0.502,     0.50268,     0.50335,     0.50402,      0.5047,     0.50537,\n",
              "            0.50605,     0.50672,     0.50739,     0.50807,     0.50874,     0.50942,     0.51009,     0.51077,     0.51144,     0.51211,     0.51279,     0.51346,     0.51414,     0.51481,     0.51548,     0.51616,     0.51683,     0.51751,     0.51818,     0.51886,     0.51953,      0.5202,     0.52088,\n",
              "            0.52155,     0.54821,     0.56018,     0.57157,       0.574,     0.57643,     0.57886,     0.58128,     0.58371,     0.58614,     0.58857,       0.591,     0.59342,     0.59585,     0.59828,     0.59955,       0.598,     0.59646,     0.59491,     0.59336,     0.59182,     0.59027,     0.58872,\n",
              "            0.58718,     0.58563,     0.58408,     0.58254,     0.58099,     0.57944,     0.57969,     0.58078,     0.58187,     0.58296,     0.58405,     0.58514,     0.58623,     0.58732,     0.58841,      0.5895,     0.59059,     0.59168,     0.59277,     0.59387,     0.59496,     0.59605,     0.59714,\n",
              "            0.59823,     0.59932,     0.60041,      0.6015,     0.60259,     0.60368,     0.60477,     0.60586,     0.60695,     0.60804,     0.60913,     0.61022,     0.61241,     0.61942,     0.62643,     0.63344,     0.64045,     0.64688,     0.64379,     0.64071,     0.63762,     0.63453,     0.63145,\n",
              "            0.62836,     0.62527,     0.62896,     0.63331,     0.63765,       0.642,     0.64635,     0.65069,     0.65504,     0.65939,     0.66373,     0.66587,     0.66341,     0.66095,     0.65849,     0.65603,     0.65357,     0.65112,     0.64866,      0.6462,     0.64374,     0.64353,     0.64457,\n",
              "            0.64562,     0.64666,     0.64771,     0.64876,      0.6498,     0.65085,     0.65189,     0.65294,     0.65399,     0.65503,     0.65608,     0.65712,     0.65817,     0.65921,     0.66026,     0.66131,     0.66235,      0.6634,     0.66444,     0.66549,     0.66653,     0.66758,     0.66863,\n",
              "            0.66967,     0.67072,     0.67176,     0.67281,     0.67385,      0.6749,     0.67595,     0.67699,     0.67804,     0.67908,     0.68013,     0.68117,     0.68222,     0.68327,     0.68431,     0.68536,      0.6864,     0.68745,     0.68849,     0.68954,     0.69059,     0.69163,     0.69195,\n",
              "            0.69092,     0.68989,     0.68886,     0.68784,     0.68681,     0.68578,     0.68475,     0.68373,      0.6827,     0.68167,     0.68064,     0.67962,     0.67859,     0.67756,     0.67653,     0.67551,     0.67448,     0.67345,     0.67242,      0.6714,     0.67037,     0.66934,     0.66831,\n",
              "            0.66729,     0.67372,     0.69152,     0.70931,      0.7271,     0.71276,     0.70566,     0.74915,      0.7782,     0.77942,     0.78064,     0.78187,     0.78309,     0.78431,     0.78554,     0.78676,     0.78799,     0.78921,     0.79043,     0.79166,     0.79288,      0.7941,     0.79533,\n",
              "            0.79655,     0.79777,       0.799,     0.80022,     0.80145,     0.80267,     0.80389,     0.80512,     0.80634,     0.80756,     0.80879,     0.81001,     0.81123,     0.81246,     0.81368,      0.8149,     0.81613,     0.81735,     0.81858,      0.8198,     0.82102,     0.82225,     0.82347,\n",
              "            0.82469,     0.82592,     0.82714,     0.82836,     0.82959,     0.83081,     0.83204,     0.83326,     0.83448,     0.83571,     0.83693,     0.83815,     0.83938,      0.8406,     0.84182,     0.84305,     0.84427,      0.8455,     0.84672,     0.84794,     0.84917,     0.85039,     0.85161,\n",
              "            0.85284,     0.85406,     0.85528,     0.85651,     0.85773,     0.85896,     0.86018,      0.8614,     0.86263,     0.86385,     0.86507,      0.8663,     0.86752,     0.86874,     0.86997,     0.87119,     0.87242,     0.87364,     0.87486,     0.87412,     0.87314,     0.87215,     0.87116,\n",
              "            0.87017,     0.86919,      0.8682,     0.86721,     0.86623,     0.86524,     0.86425,     0.86326,     0.86228,     0.86129,      0.8603,     0.85932,     0.85833,     0.85734,     0.84221,     0.83267,     0.83141,     0.83015,     0.82889,     0.82764,     0.82638,     0.82512,     0.82386,\n",
              "             0.8226,     0.82134,     0.82008,     0.81882,     0.81756,      0.8163,     0.81504,     0.81378,     0.81252,     0.81127,     0.81001,     0.80875,     0.80749,     0.80623,     0.80497,     0.80371,     0.80245,     0.80119,     0.79874,     0.77536,     0.75198,     0.75341,     0.75715,\n",
              "            0.76088,     0.76461,     0.76834,     0.77207,      0.7758,     0.77953,     0.78326,     0.78699,     0.79072,     0.79445,     0.79818,     0.80191,     0.80564,     0.80937,      0.8131,     0.81683,     0.82056,     0.82429,     0.82802,     0.83175,     0.83548,     0.83921,     0.84294,\n",
              "            0.84668,     0.85041,     0.85414,     0.85787,      0.8616,     0.86533,     0.86906,     0.87279,     0.87652,     0.88025,     0.88398,     0.88771,     0.89144,     0.89517,      0.8989,     0.90263,     0.90636,     0.91009,     0.91382,     0.91755,     0.92128,     0.92501,     0.92874,\n",
              "            0.93247,     0.93621,     0.93994,     0.94367,      0.9474,     0.95113,     0.95486,     0.95859,     0.96232,     0.96605,     0.96978,     0.97351,     0.97724,     0.98097,      0.9847,     0.98843,     0.99216,     0.99589,     0.99962,           1,           1,           1,           1,\n",
              "                  1,           1,           1,           1,           1,           1,           1,           1,           1,           1,           1,           1,           1,           1,           1,           1,           1,           1,           1,           1,           1,           1,           1,\n",
              "                  1,           1,           1,           1,           1,           1,           1,           1,           1,           1,           1,           1,           1,           1,           1,           1,           1,           1,           1,           1,           1,           1,           1,\n",
              "                  1,           1,           1,           1,           1,           1,           1,           1,           1,           1,           1,           1,           1,           1,           1,           1,           1,           1,           1,           1,           1,           1,           1,\n",
              "                  1,           1,           1,           1,           1,           1,           1,           1,           1,           1,           1,           1,           1,           1,           1,           1,           1,           1,           1,           1,           1,           1,           1,\n",
              "                  1,           1,           1,           1,           1,           1,           1,           1,           1,           1,           1,           1,           1,           1,           1,           1,           1,           1,           1,           1,           1,           1,           1,\n",
              "                  1,           1,           1,           1,           1,           1,           1,           1,           1,           1,           1,           1,           1,           1,           1,           1,           1,           1,           1,           1,           1,           1,           1,\n",
              "                  1,           1,           1,           1,           1,           1,           1,           1,           1,           1,           1,           1,           1,           1,           1,           1,           1,           1,           1,           1,           1,           1,           1,\n",
              "                  1,           1,           1,           1,           1,           1,           1,           1,           1,           1,           1,           1,           1,           1,           1,           1,           1,           1,           1,           1,           1,           1,           1,\n",
              "                  1,           1,           1,           1,           1,           1,           1,           1,           1,           1,           1]]), 'Confidence', 'Precision'], [array([          0,    0.001001,    0.002002,    0.003003,    0.004004,    0.005005,    0.006006,    0.007007,    0.008008,    0.009009,     0.01001,    0.011011,    0.012012,    0.013013,    0.014014,    0.015015,    0.016016,    0.017017,    0.018018,    0.019019,     0.02002,    0.021021,    0.022022,    0.023023,\n",
              "          0.024024,    0.025025,    0.026026,    0.027027,    0.028028,    0.029029,     0.03003,    0.031031,    0.032032,    0.033033,    0.034034,    0.035035,    0.036036,    0.037037,    0.038038,    0.039039,     0.04004,    0.041041,    0.042042,    0.043043,    0.044044,    0.045045,    0.046046,    0.047047,\n",
              "          0.048048,    0.049049,     0.05005,    0.051051,    0.052052,    0.053053,    0.054054,    0.055055,    0.056056,    0.057057,    0.058058,    0.059059,     0.06006,    0.061061,    0.062062,    0.063063,    0.064064,    0.065065,    0.066066,    0.067067,    0.068068,    0.069069,     0.07007,    0.071071,\n",
              "          0.072072,    0.073073,    0.074074,    0.075075,    0.076076,    0.077077,    0.078078,    0.079079,     0.08008,    0.081081,    0.082082,    0.083083,    0.084084,    0.085085,    0.086086,    0.087087,    0.088088,    0.089089,     0.09009,    0.091091,    0.092092,    0.093093,    0.094094,    0.095095,\n",
              "          0.096096,    0.097097,    0.098098,    0.099099,      0.1001,      0.1011,      0.1021,      0.1031,      0.1041,     0.10511,     0.10611,     0.10711,     0.10811,     0.10911,     0.11011,     0.11111,     0.11211,     0.11311,     0.11411,     0.11512,     0.11612,     0.11712,     0.11812,     0.11912,\n",
              "           0.12012,     0.12112,     0.12212,     0.12312,     0.12412,     0.12513,     0.12613,     0.12713,     0.12813,     0.12913,     0.13013,     0.13113,     0.13213,     0.13313,     0.13413,     0.13514,     0.13614,     0.13714,     0.13814,     0.13914,     0.14014,     0.14114,     0.14214,     0.14314,\n",
              "           0.14414,     0.14515,     0.14615,     0.14715,     0.14815,     0.14915,     0.15015,     0.15115,     0.15215,     0.15315,     0.15415,     0.15516,     0.15616,     0.15716,     0.15816,     0.15916,     0.16016,     0.16116,     0.16216,     0.16316,     0.16416,     0.16517,     0.16617,     0.16717,\n",
              "           0.16817,     0.16917,     0.17017,     0.17117,     0.17217,     0.17317,     0.17417,     0.17518,     0.17618,     0.17718,     0.17818,     0.17918,     0.18018,     0.18118,     0.18218,     0.18318,     0.18418,     0.18519,     0.18619,     0.18719,     0.18819,     0.18919,     0.19019,     0.19119,\n",
              "           0.19219,     0.19319,     0.19419,      0.1952,      0.1962,      0.1972,      0.1982,      0.1992,      0.2002,      0.2012,      0.2022,      0.2032,      0.2042,     0.20521,     0.20621,     0.20721,     0.20821,     0.20921,     0.21021,     0.21121,     0.21221,     0.21321,     0.21421,     0.21522,\n",
              "           0.21622,     0.21722,     0.21822,     0.21922,     0.22022,     0.22122,     0.22222,     0.22322,     0.22422,     0.22523,     0.22623,     0.22723,     0.22823,     0.22923,     0.23023,     0.23123,     0.23223,     0.23323,     0.23423,     0.23524,     0.23624,     0.23724,     0.23824,     0.23924,\n",
              "           0.24024,     0.24124,     0.24224,     0.24324,     0.24424,     0.24525,     0.24625,     0.24725,     0.24825,     0.24925,     0.25025,     0.25125,     0.25225,     0.25325,     0.25425,     0.25526,     0.25626,     0.25726,     0.25826,     0.25926,     0.26026,     0.26126,     0.26226,     0.26326,\n",
              "           0.26426,     0.26527,     0.26627,     0.26727,     0.26827,     0.26927,     0.27027,     0.27127,     0.27227,     0.27327,     0.27427,     0.27528,     0.27628,     0.27728,     0.27828,     0.27928,     0.28028,     0.28128,     0.28228,     0.28328,     0.28428,     0.28529,     0.28629,     0.28729,\n",
              "           0.28829,     0.28929,     0.29029,     0.29129,     0.29229,     0.29329,     0.29429,      0.2953,      0.2963,      0.2973,      0.2983,      0.2993,      0.3003,      0.3013,      0.3023,      0.3033,      0.3043,     0.30531,     0.30631,     0.30731,     0.30831,     0.30931,     0.31031,     0.31131,\n",
              "           0.31231,     0.31331,     0.31431,     0.31532,     0.31632,     0.31732,     0.31832,     0.31932,     0.32032,     0.32132,     0.32232,     0.32332,     0.32432,     0.32533,     0.32633,     0.32733,     0.32833,     0.32933,     0.33033,     0.33133,     0.33233,     0.33333,     0.33433,     0.33534,\n",
              "           0.33634,     0.33734,     0.33834,     0.33934,     0.34034,     0.34134,     0.34234,     0.34334,     0.34434,     0.34535,     0.34635,     0.34735,     0.34835,     0.34935,     0.35035,     0.35135,     0.35235,     0.35335,     0.35435,     0.35536,     0.35636,     0.35736,     0.35836,     0.35936,\n",
              "           0.36036,     0.36136,     0.36236,     0.36336,     0.36436,     0.36537,     0.36637,     0.36737,     0.36837,     0.36937,     0.37037,     0.37137,     0.37237,     0.37337,     0.37437,     0.37538,     0.37638,     0.37738,     0.37838,     0.37938,     0.38038,     0.38138,     0.38238,     0.38338,\n",
              "           0.38438,     0.38539,     0.38639,     0.38739,     0.38839,     0.38939,     0.39039,     0.39139,     0.39239,     0.39339,     0.39439,      0.3954,      0.3964,      0.3974,      0.3984,      0.3994,      0.4004,      0.4014,      0.4024,      0.4034,      0.4044,     0.40541,     0.40641,     0.40741,\n",
              "           0.40841,     0.40941,     0.41041,     0.41141,     0.41241,     0.41341,     0.41441,     0.41542,     0.41642,     0.41742,     0.41842,     0.41942,     0.42042,     0.42142,     0.42242,     0.42342,     0.42442,     0.42543,     0.42643,     0.42743,     0.42843,     0.42943,     0.43043,     0.43143,\n",
              "           0.43243,     0.43343,     0.43443,     0.43544,     0.43644,     0.43744,     0.43844,     0.43944,     0.44044,     0.44144,     0.44244,     0.44344,     0.44444,     0.44545,     0.44645,     0.44745,     0.44845,     0.44945,     0.45045,     0.45145,     0.45245,     0.45345,     0.45445,     0.45546,\n",
              "           0.45646,     0.45746,     0.45846,     0.45946,     0.46046,     0.46146,     0.46246,     0.46346,     0.46446,     0.46547,     0.46647,     0.46747,     0.46847,     0.46947,     0.47047,     0.47147,     0.47247,     0.47347,     0.47447,     0.47548,     0.47648,     0.47748,     0.47848,     0.47948,\n",
              "           0.48048,     0.48148,     0.48248,     0.48348,     0.48448,     0.48549,     0.48649,     0.48749,     0.48849,     0.48949,     0.49049,     0.49149,     0.49249,     0.49349,     0.49449,      0.4955,      0.4965,      0.4975,      0.4985,      0.4995,      0.5005,      0.5015,      0.5025,      0.5035,\n",
              "            0.5045,     0.50551,     0.50651,     0.50751,     0.50851,     0.50951,     0.51051,     0.51151,     0.51251,     0.51351,     0.51451,     0.51552,     0.51652,     0.51752,     0.51852,     0.51952,     0.52052,     0.52152,     0.52252,     0.52352,     0.52452,     0.52553,     0.52653,     0.52753,\n",
              "           0.52853,     0.52953,     0.53053,     0.53153,     0.53253,     0.53353,     0.53453,     0.53554,     0.53654,     0.53754,     0.53854,     0.53954,     0.54054,     0.54154,     0.54254,     0.54354,     0.54454,     0.54555,     0.54655,     0.54755,     0.54855,     0.54955,     0.55055,     0.55155,\n",
              "           0.55255,     0.55355,     0.55455,     0.55556,     0.55656,     0.55756,     0.55856,     0.55956,     0.56056,     0.56156,     0.56256,     0.56356,     0.56456,     0.56557,     0.56657,     0.56757,     0.56857,     0.56957,     0.57057,     0.57157,     0.57257,     0.57357,     0.57457,     0.57558,\n",
              "           0.57658,     0.57758,     0.57858,     0.57958,     0.58058,     0.58158,     0.58258,     0.58358,     0.58458,     0.58559,     0.58659,     0.58759,     0.58859,     0.58959,     0.59059,     0.59159,     0.59259,     0.59359,     0.59459,      0.5956,      0.5966,      0.5976,      0.5986,      0.5996,\n",
              "            0.6006,      0.6016,      0.6026,      0.6036,      0.6046,     0.60561,     0.60661,     0.60761,     0.60861,     0.60961,     0.61061,     0.61161,     0.61261,     0.61361,     0.61461,     0.61562,     0.61662,     0.61762,     0.61862,     0.61962,     0.62062,     0.62162,     0.62262,     0.62362,\n",
              "           0.62462,     0.62563,     0.62663,     0.62763,     0.62863,     0.62963,     0.63063,     0.63163,     0.63263,     0.63363,     0.63463,     0.63564,     0.63664,     0.63764,     0.63864,     0.63964,     0.64064,     0.64164,     0.64264,     0.64364,     0.64464,     0.64565,     0.64665,     0.64765,\n",
              "           0.64865,     0.64965,     0.65065,     0.65165,     0.65265,     0.65365,     0.65465,     0.65566,     0.65666,     0.65766,     0.65866,     0.65966,     0.66066,     0.66166,     0.66266,     0.66366,     0.66466,     0.66567,     0.66667,     0.66767,     0.66867,     0.66967,     0.67067,     0.67167,\n",
              "           0.67267,     0.67367,     0.67467,     0.67568,     0.67668,     0.67768,     0.67868,     0.67968,     0.68068,     0.68168,     0.68268,     0.68368,     0.68468,     0.68569,     0.68669,     0.68769,     0.68869,     0.68969,     0.69069,     0.69169,     0.69269,     0.69369,     0.69469,      0.6957,\n",
              "            0.6967,      0.6977,      0.6987,      0.6997,      0.7007,      0.7017,      0.7027,      0.7037,      0.7047,     0.70571,     0.70671,     0.70771,     0.70871,     0.70971,     0.71071,     0.71171,     0.71271,     0.71371,     0.71471,     0.71572,     0.71672,     0.71772,     0.71872,     0.71972,\n",
              "           0.72072,     0.72172,     0.72272,     0.72372,     0.72472,     0.72573,     0.72673,     0.72773,     0.72873,     0.72973,     0.73073,     0.73173,     0.73273,     0.73373,     0.73473,     0.73574,     0.73674,     0.73774,     0.73874,     0.73974,     0.74074,     0.74174,     0.74274,     0.74374,\n",
              "           0.74474,     0.74575,     0.74675,     0.74775,     0.74875,     0.74975,     0.75075,     0.75175,     0.75275,     0.75375,     0.75475,     0.75576,     0.75676,     0.75776,     0.75876,     0.75976,     0.76076,     0.76176,     0.76276,     0.76376,     0.76476,     0.76577,     0.76677,     0.76777,\n",
              "           0.76877,     0.76977,     0.77077,     0.77177,     0.77277,     0.77377,     0.77477,     0.77578,     0.77678,     0.77778,     0.77878,     0.77978,     0.78078,     0.78178,     0.78278,     0.78378,     0.78478,     0.78579,     0.78679,     0.78779,     0.78879,     0.78979,     0.79079,     0.79179,\n",
              "           0.79279,     0.79379,     0.79479,      0.7958,      0.7968,      0.7978,      0.7988,      0.7998,      0.8008,      0.8018,      0.8028,      0.8038,      0.8048,     0.80581,     0.80681,     0.80781,     0.80881,     0.80981,     0.81081,     0.81181,     0.81281,     0.81381,     0.81481,     0.81582,\n",
              "           0.81682,     0.81782,     0.81882,     0.81982,     0.82082,     0.82182,     0.82282,     0.82382,     0.82482,     0.82583,     0.82683,     0.82783,     0.82883,     0.82983,     0.83083,     0.83183,     0.83283,     0.83383,     0.83483,     0.83584,     0.83684,     0.83784,     0.83884,     0.83984,\n",
              "           0.84084,     0.84184,     0.84284,     0.84384,     0.84484,     0.84585,     0.84685,     0.84785,     0.84885,     0.84985,     0.85085,     0.85185,     0.85285,     0.85385,     0.85485,     0.85586,     0.85686,     0.85786,     0.85886,     0.85986,     0.86086,     0.86186,     0.86286,     0.86386,\n",
              "           0.86486,     0.86587,     0.86687,     0.86787,     0.86887,     0.86987,     0.87087,     0.87187,     0.87287,     0.87387,     0.87487,     0.87588,     0.87688,     0.87788,     0.87888,     0.87988,     0.88088,     0.88188,     0.88288,     0.88388,     0.88488,     0.88589,     0.88689,     0.88789,\n",
              "           0.88889,     0.88989,     0.89089,     0.89189,     0.89289,     0.89389,     0.89489,      0.8959,      0.8969,      0.8979,      0.8989,      0.8999,      0.9009,      0.9019,      0.9029,      0.9039,      0.9049,     0.90591,     0.90691,     0.90791,     0.90891,     0.90991,     0.91091,     0.91191,\n",
              "           0.91291,     0.91391,     0.91491,     0.91592,     0.91692,     0.91792,     0.91892,     0.91992,     0.92092,     0.92192,     0.92292,     0.92392,     0.92492,     0.92593,     0.92693,     0.92793,     0.92893,     0.92993,     0.93093,     0.93193,     0.93293,     0.93393,     0.93493,     0.93594,\n",
              "           0.93694,     0.93794,     0.93894,     0.93994,     0.94094,     0.94194,     0.94294,     0.94394,     0.94494,     0.94595,     0.94695,     0.94795,     0.94895,     0.94995,     0.95095,     0.95195,     0.95295,     0.95395,     0.95495,     0.95596,     0.95696,     0.95796,     0.95896,     0.95996,\n",
              "           0.96096,     0.96196,     0.96296,     0.96396,     0.96496,     0.96597,     0.96697,     0.96797,     0.96897,     0.96997,     0.97097,     0.97197,     0.97297,     0.97397,     0.97497,     0.97598,     0.97698,     0.97798,     0.97898,     0.97998,     0.98098,     0.98198,     0.98298,     0.98398,\n",
              "           0.98498,     0.98599,     0.98699,     0.98799,     0.98899,     0.98999,     0.99099,     0.99199,     0.99299,     0.99399,     0.99499,       0.996,       0.997,       0.998,       0.999,           1]), array([[        0.5,         0.5,         0.5,         0.5,         0.5,         0.5,         0.5,         0.5,         0.5,         0.5,         0.5,         0.5,         0.5,         0.5,         0.5,         0.5,         0.5,         0.5,         0.5,         0.5,         0.5,         0.5,         0.5,\n",
              "                0.5,         0.5,         0.5,         0.5,         0.5,         0.5,         0.5,         0.5,         0.5,         0.5,         0.5,         0.5,         0.5,         0.5,         0.5,         0.5,         0.5,         0.5,         0.5,         0.5,         0.5,         0.5,         0.5,\n",
              "                0.5,         0.5,         0.5,         0.5,         0.5,         0.5,         0.5,         0.5,         0.5,         0.5,         0.5,         0.5,         0.5,         0.5,         0.5,         0.5,         0.5,         0.5,         0.5,         0.5,         0.5,         0.5,         0.5,\n",
              "                0.5,         0.5,         0.5,         0.5,         0.5,         0.5,         0.5,         0.5,         0.5,         0.5,         0.5,         0.5,         0.5,         0.5,         0.5,         0.5,         0.5,         0.5,         0.5,         0.5,         0.5,         0.5,         0.5,\n",
              "                0.5,         0.5,         0.5,         0.5,         0.5,         0.5,         0.5,         0.5,         0.5,         0.5,         0.5,         0.5,         0.5,         0.5,         0.5,         0.5,         0.5,         0.5,         0.5,         0.5,         0.5,         0.5,         0.5,\n",
              "                0.5,         0.5,         0.5,         0.5,         0.5,         0.5,         0.5,         0.5,         0.5,         0.5,         0.5,         0.5,         0.5,         0.5,         0.5,         0.5,         0.5,         0.5,         0.5,         0.5,         0.5,         0.5,         0.5,\n",
              "                0.5,         0.5,         0.5,         0.5,         0.5,         0.5,         0.5,         0.5,         0.5,         0.5,         0.5,         0.5,         0.5,         0.5,     0.49582,     0.48711,      0.4784,     0.47059,     0.47059,     0.47059,     0.47059,     0.47059,     0.47059,\n",
              "            0.47059,     0.47059,     0.47059,     0.47059,     0.47059,     0.47059,     0.47059,     0.47059,     0.47059,     0.47059,     0.47059,     0.47059,     0.47059,     0.47059,     0.47059,     0.47059,     0.47059,     0.47059,      0.4704,     0.46708,     0.46377,     0.46046,     0.45715,\n",
              "            0.45384,     0.45052,     0.44721,      0.4439,     0.44118,     0.44118,     0.44118,     0.44118,     0.43967,     0.43602,     0.43236,      0.4287,     0.42505,     0.42139,     0.41773,     0.41408,     0.41176,     0.41176,     0.41176,     0.41176,     0.41176,     0.41176,     0.41176,\n",
              "            0.41176,     0.41176,     0.41176,     0.41176,     0.41176,     0.41176,     0.41176,     0.41176,     0.41176,     0.41176,     0.41176,     0.41176,     0.41176,     0.41176,     0.41176,     0.41176,     0.41013,     0.40757,     0.40501,     0.40245,     0.39988,     0.39732,     0.39476,\n",
              "             0.3922,     0.38964,     0.38708,     0.38451,     0.38235,     0.38235,     0.38235,     0.38235,     0.38235,     0.38235,     0.38235,     0.38235,     0.38235,     0.38235,     0.38235,     0.38235,     0.38235,     0.38235,     0.38235,     0.38235,     0.38235,     0.38235,     0.38235,\n",
              "            0.38235,     0.38235,     0.38235,     0.38235,     0.38235,     0.38235,     0.38235,     0.38235,     0.38235,     0.38235,     0.38235,     0.38235,     0.38235,     0.38235,     0.38235,     0.38235,     0.38235,     0.38235,     0.38235,     0.38235,     0.38235,     0.38235,     0.38235,\n",
              "            0.38235,     0.38235,     0.38235,     0.38235,     0.38235,     0.38235,     0.38235,     0.38235,     0.38235,     0.38235,     0.38235,     0.38235,     0.38235,     0.38235,     0.38235,     0.38235,     0.38235,     0.38235,     0.38235,     0.38235,     0.38235,     0.38235,     0.38235,\n",
              "            0.38235,     0.38235,     0.38235,     0.38235,     0.38235,     0.38235,     0.38235,     0.38235,     0.38235,     0.38235,     0.38235,     0.38235,     0.38235,     0.38235,     0.38235,     0.38235,     0.38235,     0.38235,     0.38235,     0.38235,     0.38178,     0.38097,     0.38017,\n",
              "            0.37937,     0.37856,     0.37776,     0.37695,     0.37615,     0.37534,     0.37454,     0.37374,     0.37293,     0.37213,     0.37132,     0.37052,     0.36971,     0.36891,      0.3681,      0.3673,      0.3665,     0.36569,     0.36489,     0.36408,     0.36328,     0.36247,     0.36167,\n",
              "            0.36087,     0.36006,     0.35926,     0.35845,     0.35765,     0.35684,     0.35604,     0.35524,     0.35443,     0.35363,     0.35294,     0.35294,     0.35294,     0.35294,     0.35294,     0.35294,     0.35294,     0.35294,     0.35294,     0.35294,     0.35294,     0.35294,     0.35294,\n",
              "            0.35294,     0.35294,     0.35294,     0.35294,     0.35294,     0.35294,     0.35294,     0.35294,     0.35294,     0.35294,     0.35294,     0.35294,     0.35294,     0.35294,     0.35294,     0.35294,     0.35294,     0.35294,     0.35294,     0.35294,     0.35294,     0.35294,     0.35294,\n",
              "            0.35294,     0.35294,     0.35294,     0.35294,     0.35294,     0.35294,     0.35294,     0.35294,     0.35294,     0.35294,     0.35294,     0.35294,     0.35294,     0.35294,     0.35294,     0.35294,     0.35294,     0.35294,     0.35294,     0.35294,     0.35294,     0.35294,     0.35294,\n",
              "            0.35294,     0.35294,     0.35294,     0.35294,     0.35294,     0.35294,     0.35294,     0.35294,     0.35294,     0.35294,     0.35294,     0.35294,     0.35294,     0.35294,     0.35294,     0.35294,     0.35294,     0.35294,     0.35294,     0.35294,     0.35294,     0.35294,     0.35294,\n",
              "            0.35294,     0.35294,     0.35294,     0.35294,     0.35294,     0.35294,     0.35294,     0.35294,     0.35294,     0.35294,     0.35294,     0.35294,     0.35294,     0.35294,     0.35294,     0.35231,     0.35015,     0.34799,     0.34583,     0.34367,     0.34151,     0.33935,     0.33719,\n",
              "            0.33503,     0.33287,      0.3307,     0.32854,     0.32638,     0.32422,     0.32353,     0.32353,     0.32353,     0.32353,     0.32353,     0.32353,     0.32353,     0.32353,     0.32353,     0.32353,     0.32353,     0.32353,     0.32353,     0.32353,     0.32353,     0.32353,     0.32353,\n",
              "            0.32353,     0.32353,     0.32353,     0.32353,     0.32353,     0.32353,     0.32353,     0.32353,     0.32353,     0.32353,     0.32353,     0.32353,     0.32353,     0.32353,     0.32353,     0.32353,     0.32353,     0.32329,     0.31918,     0.31506,     0.31095,     0.30683,     0.30271,\n",
              "             0.2986,     0.29448,     0.29412,     0.29412,     0.29412,     0.29412,     0.29412,     0.29412,     0.29412,     0.29412,     0.29412,     0.29313,     0.29009,     0.28706,     0.28402,     0.28098,     0.27794,     0.27491,     0.27187,     0.26883,      0.2658,     0.26471,     0.26471,\n",
              "            0.26471,     0.26471,     0.26471,     0.26471,     0.26471,     0.26471,     0.26471,     0.26471,     0.26471,     0.26471,     0.26471,     0.26471,     0.26471,     0.26471,     0.26471,     0.26471,     0.26471,     0.26471,     0.26471,     0.26471,     0.26471,     0.26471,     0.26471,\n",
              "            0.26471,     0.26471,     0.26471,     0.26471,     0.26471,     0.26471,     0.26471,     0.26471,     0.26471,     0.26471,     0.26471,     0.26471,     0.26471,     0.26471,     0.26471,     0.26471,     0.26471,     0.26471,     0.26471,     0.26471,     0.26471,     0.26471,     0.26429,\n",
              "            0.26311,     0.26193,     0.26075,     0.25958,      0.2584,     0.25722,     0.25604,     0.25486,     0.25368,      0.2525,     0.25133,     0.25015,     0.24897,     0.24779,     0.24661,     0.24543,     0.24425,     0.24308,      0.2419,     0.24072,     0.23954,     0.23836,     0.23718,\n",
              "            0.23601,     0.23529,     0.23529,     0.23529,     0.23529,     0.21964,     0.20588,     0.20588,     0.20588,     0.20588,     0.20588,     0.20588,     0.20588,     0.20588,     0.20588,     0.20588,     0.20588,     0.20588,     0.20588,     0.20588,     0.20588,     0.20588,     0.20588,\n",
              "            0.20588,     0.20588,     0.20588,     0.20588,     0.20588,     0.20588,     0.20588,     0.20588,     0.20588,     0.20588,     0.20588,     0.20588,     0.20588,     0.20588,     0.20588,     0.20588,     0.20588,     0.20588,     0.20588,     0.20588,     0.20588,     0.20588,     0.20588,\n",
              "            0.20588,     0.20588,     0.20588,     0.20588,     0.20588,     0.20588,     0.20588,     0.20588,     0.20588,     0.20588,     0.20588,     0.20588,     0.20588,     0.20588,     0.20588,     0.20588,     0.20588,     0.20588,     0.20588,     0.20588,     0.20588,     0.20588,     0.20588,\n",
              "            0.20588,     0.20588,     0.20588,     0.20588,     0.20588,     0.20588,     0.20588,     0.20588,     0.20588,     0.20588,     0.20588,     0.20588,     0.20588,     0.20588,     0.20588,     0.20588,     0.20588,     0.20588,     0.20588,     0.20444,     0.20281,     0.20119,     0.19956,\n",
              "            0.19793,     0.19631,     0.19468,     0.19306,     0.19143,      0.1898,     0.18818,     0.18655,     0.18493,      0.1833,     0.18167,     0.18005,     0.17842,      0.1768,     0.15803,     0.14648,     0.14536,     0.14425,     0.14314,     0.14203,     0.14092,     0.13981,      0.1387,\n",
              "            0.13759,     0.13648,     0.13536,     0.13425,     0.13314,     0.13203,     0.13092,     0.12981,      0.1287,     0.12759,     0.12648,     0.12536,     0.12425,     0.12314,     0.12203,     0.12092,     0.11981,      0.1187,      0.1169,     0.10315,    0.089399,    0.088235,    0.088235,\n",
              "           0.088235,    0.088235,    0.088235,    0.088235,    0.088235,    0.088235,    0.088235,    0.088235,    0.088235,    0.088235,    0.088235,    0.088235,    0.088235,    0.088235,    0.088235,    0.088235,    0.088235,    0.088235,    0.088235,    0.088235,    0.088235,    0.088235,    0.088235,\n",
              "           0.088235,    0.088235,    0.088235,    0.088235,    0.088235,    0.088235,    0.088235,    0.088235,    0.088235,    0.088235,    0.088235,    0.088235,    0.088235,    0.088235,    0.088235,    0.088235,    0.088235,    0.088235,    0.088235,    0.088235,    0.088235,    0.088235,    0.088235,\n",
              "           0.088235,    0.088235,    0.088235,    0.088235,    0.088235,    0.088235,    0.088235,    0.088235,    0.088235,    0.088235,    0.088235,    0.088235,    0.088235,    0.088235,    0.088235,    0.088235,    0.088235,    0.088235,    0.088235,    0.087847,    0.087415,    0.086983,    0.086551,\n",
              "           0.086119,    0.085687,    0.085255,    0.084823,    0.084391,    0.083959,    0.083527,    0.083095,    0.082663,    0.082231,    0.081799,    0.081367,    0.080935,    0.080503,    0.080071,    0.079639,    0.079207,    0.078775,    0.078343,    0.077911,    0.077479,    0.077047,    0.076615,\n",
              "           0.076183,    0.075751,    0.075319,    0.074887,    0.074455,    0.074023,    0.073591,    0.073159,    0.072727,    0.072295,    0.071863,    0.071431,    0.070999,    0.070567,    0.070135,    0.069703,    0.069271,    0.068839,    0.068407,    0.067975,    0.067543,    0.067111,    0.066679,\n",
              "           0.066246,    0.065814,    0.065382,     0.06495,    0.064518,    0.064086,    0.063654,    0.063222,     0.06279,    0.062358,    0.061926,    0.061494,    0.061062,     0.06063,    0.060198,    0.059766,    0.059334,    0.058902,    0.058499,    0.058102,    0.057705,    0.057307,     0.05691,\n",
              "           0.056513,    0.056116,    0.055719,    0.055322,    0.054925,    0.054527,     0.05413,    0.053733,    0.053336,    0.052939,    0.052542,    0.052145,    0.051748,     0.05135,    0.050953,    0.050556,    0.050159,    0.049762,    0.049365,    0.048968,    0.048571,    0.048173,    0.047776,\n",
              "           0.047379,    0.046982,    0.046585,    0.046188,    0.045791,    0.045393,    0.044996,    0.044599,    0.044202,    0.043805,    0.043408,    0.043011,    0.042614,    0.042216,    0.041819,    0.041422,    0.041025,    0.040628,    0.040231,    0.039834,    0.039436,    0.039039,    0.038642,\n",
              "           0.038245,    0.037848,    0.037451,    0.037054,    0.036657,    0.036259,    0.035862,    0.035465,    0.035068,    0.034671,    0.034274,    0.033877,    0.033479,    0.033082,    0.032685,    0.032288,    0.031891,    0.031494,    0.031097,      0.0307,    0.030302,    0.029905,    0.029508,\n",
              "                  0,           0,           0,           0,           0,           0,           0,           0,           0,           0,           0,           0,           0,           0,           0,           0,           0,           0,           0,           0,           0,           0,           0,\n",
              "                  0,           0,           0,           0,           0,           0,           0,           0,           0,           0,           0,           0,           0,           0,           0,           0,           0,           0,           0,           0,           0,           0,           0,\n",
              "                  0,           0,           0,           0,           0,           0,           0,           0,           0,           0,           0]]), 'Confidence', 'Recall']]\n",
              "fitness: np.float64(0.2223316414055441)\n",
              "keys: ['metrics/precision(B)', 'metrics/recall(B)', 'metrics/mAP50(B)', 'metrics/mAP50-95(B)']\n",
              "maps: array([    0.20015])\n",
              "names: {0: 'pothole'}\n",
              "plot: True\n",
              "results_dict: {'metrics/precision(B)': np.float64(0.5964564731655231), 'metrics/recall(B)': np.float64(0.3479906610400691), 'metrics/mAP50(B)': np.float64(0.4219262063404636), 'metrics/mAP50-95(B)': np.float64(0.20015446752388638), 'fitness': np.float64(0.2223316414055441)}\n",
              "save_dir: PosixPath('runs/detect/val')\n",
              "speed: {'preprocess': 17.464244679995318, 'inference': 295.49219196000195, 'loss': 0.0002926800061686663, 'postprocess': 0.664193279999381}\n",
              "task: 'detect'"
            ]
          },
          "execution_count": 7,
          "metadata": {},
          "output_type": "execute_result"
        }
      ],
      "source": [
        "from ultralytics import YOLO\n",
        "\n",
        "model = YOLO(\"/content/drive/MyDrive/model_n/yolov8n_Processed_2_1_1/weights/best.pt\")\n",
        "\n",
        "results = model.predict(\n",
        "    source=\"/content/drive/MyDrive/datasets/Processed_1/valid/images\",# ← 測試圖片資料夾\n",
        "    conf=0.32,          # ← 降低信心閾值，提高 Recall\n",
        "    iou=0.45,          # ← 放寬 NMS iou\n",
        "    save=True,          # ← 會把結果圖片存起來\n",
        "    save_txt=True,        # ← 存文字框框檔\n",
        "    augment=True         # ← 開啟推論增強（可略）\n",
        ")\n",
        "\n",
        "model.val(data=\"/content/drive/MyDrive/datasets/train.yaml\", conf=0.1) # 評估報告"
      ]
    },
    {
      "cell_type": "markdown",
      "metadata": {
        "id": "psB6OLiru2GR"
      },
      "source": [
        "## 測overfitting"
      ]
    },
    {
      "cell_type": "code",
      "execution_count": null,
      "metadata": {
        "colab": {
          "base_uri": "https://localhost:8080/"
        },
        "id": "sddT9uAeu1tB",
        "outputId": "c16e2b20-5429-4a1a-bbc9-bb5a1bf0be59"
      },
      "outputs": [
        {
          "name": "stdout",
          "output_type": "stream",
          "text": [
            "Ultralytics 8.3.141 🚀 Python-3.11.12 torch-2.6.0+cu124 CUDA:0 (Tesla T4, 15095MiB)\n",
            "Model summary (fused): 72 layers, 3,005,843 parameters, 0 gradients, 8.1 GFLOPs\n",
            "\u001b[34m\u001b[1mval: \u001b[0mFast image access ✅ (ping: 0.4±0.2 ms, read: 48.0±12.9 MB/s, size: 137.2 KB)\n"
          ]
        },
        {
          "name": "stderr",
          "output_type": "stream",
          "text": [
            "\u001b[34m\u001b[1mval: \u001b[0mScanning /content/drive/MyDrive/datasets/Origin_3/train/labels.cache... 165 images, 8 backgrounds, 0 corrupt: 100%|██████████| 173/173 [00:00<?, ?it/s]\n",
            "                 Class     Images  Instances      Box(P          R      mAP50  mAP50-95): 100%|██████████| 11/11 [00:03<00:00,  2.93it/s]\n"
          ]
        },
        {
          "name": "stdout",
          "output_type": "stream",
          "text": [
            "                   all        173        235       0.97      0.979      0.972       0.56\n",
            "Speed: 1.2ms preprocess, 6.5ms inference, 0.0ms loss, 2.8ms postprocess per image\n",
            "Results saved to \u001b[1mruns/detect/val11\u001b[0m\n",
            "Ultralytics 8.3.141 🚀 Python-3.11.12 torch-2.6.0+cu124 CUDA:0 (Tesla T4, 15095MiB)\n",
            "\u001b[34m\u001b[1mval: \u001b[0mFast image access ✅ (ping: 0.3±0.1 ms, read: 27.0±14.5 MB/s, size: 58.1 KB)\n"
          ]
        },
        {
          "name": "stderr",
          "output_type": "stream",
          "text": [
            "\u001b[34m\u001b[1mval: \u001b[0mScanning /content/drive/MyDrive/datasets/Origin_3/valid/labels.cache... 27 images, 8 backgrounds, 0 corrupt: 100%|██████████| 35/35 [00:00<?, ?it/s]\n",
            "                 Class     Images  Instances      Box(P          R      mAP50  mAP50-95): 100%|██████████| 3/3 [00:01<00:00,  2.25it/s]\n"
          ]
        },
        {
          "name": "stdout",
          "output_type": "stream",
          "text": [
            "                   all         35         34       0.52      0.588      0.466      0.253\n",
            "Speed: 10.9ms preprocess, 6.5ms inference, 0.0ms loss, 3.0ms postprocess per image\n",
            "Results saved to \u001b[1mruns/detect/val12\u001b[0m\n",
            "Train F1: 0.975\n",
            "Val F1:   0.552\n",
            "F1 GAP :  0.423\n"
          ]
        }
      ],
      "source": [
        "from ultralytics import YOLO\n",
        "model = YOLO(\"/content/drive/MyDrive/model_n/yolov8n_Origin_3_2/weights/best.pt\")  # 換成你的模型路徑\n",
        "\n",
        "\n",
        "# 訓練集評估\n",
        "train_metrics = model.val(data=\"/content/drive/MyDrive/datasets/train.yaml\", split=\"train\", conf=0.001, iou=0.6)\n",
        "\n",
        "# 驗證集評估\n",
        "val_metrics = model.val(data=\"/content/drive/MyDrive/datasets/train.yaml\", split=\"val\", conf=0.001, iou=0.6)\n",
        "\n",
        "def compute_f1(precision, recall):\n",
        "    if precision + recall == 0:\n",
        "        return 0.0\n",
        "    return 2 * precision * recall / (precision + recall)\n",
        "\n",
        "# 訓練集 metrics\n",
        "train_precision = train_metrics.results_dict['metrics/precision(B)']\n",
        "train_recall = train_metrics.results_dict['metrics/recall(B)']\n",
        "train_f1 = compute_f1(train_precision, train_recall)\n",
        "\n",
        "# 驗證集 metrics\n",
        "val_precision = val_metrics.results_dict['metrics/precision(B)']\n",
        "val_recall = val_metrics.results_dict['metrics/recall(B)']\n",
        "val_f1 = compute_f1(val_precision, val_recall)\n",
        "\n",
        "# 差異比較\n",
        "print(f\"Train F1: {train_f1:.3f}\")\n",
        "print(f\"Val F1:   {val_f1:.3f}\")\n",
        "print(f\"F1 GAP :  {train_f1 - val_f1:.3f}\")\n"
      ]
    },
    {
      "cell_type": "markdown",
      "metadata": {
        "id": "Ts9jsG5Ra7cl"
      },
      "source": [
        "# 投票\n",
        "\n",
        "嬿雯讓我試但我還沒成功"
      ]
    },
    {
      "cell_type": "code",
      "execution_count": null,
      "metadata": {
        "id": "gKV9zQH2OgMg"
      },
      "outputs": [],
      "source": []
    },
    {
      "cell_type": "markdown",
      "metadata": {
        "id": "0ne6fTkogCGw"
      },
      "source": [
        "## 聯集(OR)"
      ]
    },
    {
      "cell_type": "code",
      "execution_count": null,
      "metadata": {
        "colab": {
          "base_uri": "https://localhost:8080/"
        },
        "id": "z7GuxinAa7JQ",
        "outputId": "f90a0612-1a96-4c3c-d47c-bf20f905afba"
      },
      "outputs": [
        {
          "name": "stdout",
          "output_type": "stream",
          "text": [
            "xywhn/content/drive/MyDrive/datasets/Processed_1/valid/images/China_Drone_000286.jpg: [0.22385621070861816, 0.7224076390266418, 0.1443481296300888, 0.37175655364990234]\n",
            "xywhn/content/drive/MyDrive/datasets/Processed_1/valid/images/China_Drone_000057.jpg: [0.4367590546607971, 0.48660576343536377, 0.09849473834037781, 0.10497763752937317]\n",
            "xywhn/content/drive/MyDrive/datasets/Processed_1/valid/images/China_Drone_000057.jpg: [0.9770104885101318, 0.26265737414360046, 0.045785725116729736, 0.11710286140441895]\n",
            "xywhn/content/drive/MyDrive/datasets/Processed_1/valid/images/China_Drone_000057.jpg: [0.9698253870010376, 0.050241950899362564, 0.06022912263870239, 0.0781131461262703]\n",
            "xywhn/content/drive/MyDrive/datasets/Processed_1/valid/images/China_Drone_000057.jpg: [0.4313870072364807, 0.7975969314575195, 0.07193639874458313, 0.0777050256729126]\n",
            "xywhn/content/drive/MyDrive/datasets/Processed_1/valid/images/China_Drone_000160.jpg: [0.9319285154342651, 0.2945277690887451, 0.06749075651168823, 0.06335175037384033]\n",
            "xywhn/content/drive/MyDrive/datasets/Processed_1/valid/images/China_Drone_000062.jpg: [0.5222986936569214, 0.9751099348068237, 0.09609982371330261, 0.048134803771972656]\n",
            "xywhn/content/drive/MyDrive/datasets/Processed_1/valid/images/China_Drone_000062.jpg: [0.9725483655929565, 0.04445960745215416, 0.05443531274795532, 0.06581924110651016]\n",
            "xywhn/content/drive/MyDrive/datasets/Processed_1/valid/images/China_Drone_000237.jpg: [0.9615877270698547, 0.03741950914263725, 0.07593405246734619, 0.07043284922838211]\n",
            "xywhn/content/drive/MyDrive/datasets/Processed_1/valid/images/China_Drone_000237.jpg: [0.8411864042282104, 0.0537881962954998, 0.12018531560897827, 0.0632595643401146]\n",
            "xywhn/content/drive/MyDrive/datasets/Processed_1/valid/images/China_Drone_000237.jpg: [0.8143483996391296, 0.3396821916103363, 0.12056887149810791, 0.06471043825149536]\n",
            "xywhn/content/drive/MyDrive/datasets/Processed_1/valid/images/China_Drone_000205.jpg: [0.31304651498794556, 0.1945396214723587, 0.07809469103813171, 0.08767542243003845]\n",
            "xywhn/content/drive/MyDrive/datasets/Processed_1/valid/images/China_Drone_000205.jpg: [0.6729793548583984, 0.1069125235080719, 0.0378991961479187, 0.04811549931764603]\n",
            "xywhn/content/drive/MyDrive/datasets/Processed_1/valid/images/China_Drone_000205.jpg: [0.6701517105102539, 0.027364885434508324, 0.0612637996673584, 0.05472977086901665]\n",
            "xywhn/content/drive/MyDrive/datasets/Processed_1/valid/images/China_Drone_000048.jpg: [0.5029035806655884, 0.20648334920406342, 0.10548022389411926, 0.099527508020401]\n",
            "xywhn/content/drive/MyDrive/datasets/Processed_1/valid/images/China_Drone_000064.jpg: [0.6795158982276917, 0.9288343191146851, 0.040416836738586426, 0.03624683618545532]\n",
            "xywhn/content/drive/MyDrive/datasets/Processed_1/valid/images/China_Drone_000064.jpg: [0.2850964665412903, 0.8640851974487305, 0.24952396750450134, 0.25531500577926636]\n",
            "xywhn/content/drive/MyDrive/datasets/Processed_1/valid/images/China_Drone_000695.jpg: [0.17625576257705688, 0.5150537490844727, 0.13313408195972443, 0.100079745054245]\n",
            "xywhn/content/drive/MyDrive/datasets/Processed_1/valid/images/China_Drone_000503.jpg: [0.3270711898803711, 0.8412313461303711, 0.1047893762588501, 0.113292396068573]\n",
            "xywhn/content/drive/MyDrive/datasets/Processed_1/valid/images/China_Drone_000503.jpg: [0.26763904094696045, 0.0323888435959816, 0.12373533844947815, 0.0647776871919632]\n",
            "xywhn/content/drive/MyDrive/datasets/Processed_1/valid/images/China_Drone_000315.jpg: [0.22220513224601746, 0.8940805196762085, 0.12853612005710602, 0.10118824243545532]\n",
            "xywhn/content/drive/MyDrive/datasets/Processed_1/valid/images/China_Drone_000383.jpg: [0.6421293020248413, 0.13890370726585388, 0.2675716280937195, 0.24418842792510986]\n",
            "xywhn/content/drive/MyDrive/datasets/Processed_1/valid/images/China_Drone_000435.jpg: [0.20339113473892212, 0.01984548382461071, 0.043874695897102356, 0.03608783707022667]\n",
            "xywhn/content/drive/MyDrive/datasets/Processed_1/valid/images/China_Drone_000435.jpg: [0.04280621558427811, 0.7790923118591309, 0.042164146900177, 0.05716097354888916]\n",
            "xywhn/content/drive/MyDrive/datasets/Processed_1/valid/images/China_Drone_000541.jpg: [0.3970441222190857, 0.4563247263431549, 0.17712566256523132, 0.21524637937545776]\n",
            "xywhn/content/drive/MyDrive/datasets/Processed_1/valid/images/G0011880_jpg.rf.2a9d2329f6e74efdb693b4c065267126.jpg: [0.29898324608802795, 0.43796175718307495, 0.054368019104003906, 0.10642699897289276]\n",
            "xywhn/content/drive/MyDrive/datasets/Processed_1/valid/images/G0011880_jpg.rf.2a9d2329f6e74efdb693b4c065267126.jpg: [0.5786267518997192, 0.0650695413351059, 0.03433074802160263, 0.05617950111627579]\n",
            "xywhn/content/drive/MyDrive/datasets/Processed_1/valid/images/G0011880_jpg.rf.2a9d2329f6e74efdb693b4c065267126.jpg: [0.7767391204833984, 0.6296922564506531, 0.06065978854894638, 0.12289877235889435]\n",
            "xywhn/content/drive/MyDrive/datasets/Processed_1/valid/images/G0011880_jpg.rf.2a9d2329f6e74efdb693b4c065267126.jpg: [0.32318106293678284, 0.1806401014328003, 0.05905952304601669, 0.1311468631029129]\n",
            "xywhn/content/drive/MyDrive/datasets/Processed_1/valid/images/G0011880_jpg.rf.2a9d2329f6e74efdb693b4c065267126.jpg: [0.7710631489753723, 0.5997692346572876, 0.03875751420855522, 0.06487426906824112]\n",
            "xywhn/content/drive/MyDrive/datasets/Processed_1/valid/images/G0011941_jpg.rf.629aa83aed352c749207c895679f29d6.jpg: [0.5130645036697388, 0.7841846346855164, 0.09916572272777557, 0.23108215630054474]\n",
            "xywhn/content/drive/MyDrive/datasets/Processed_1/valid/images/G0011941_jpg.rf.629aa83aed352c749207c895679f29d6.jpg: [0.6963907480239868, 0.07534758746623993, 0.04450702667236328, 0.06913606077432632]\n",
            "xywhn/content/drive/MyDrive/datasets/Processed_1/valid/images/G0011941_jpg.rf.629aa83aed352c749207c895679f29d6.jpg: [0.8062126040458679, 0.18473713099956512, 0.049384258687496185, 0.09041519463062286]\n",
            "xywhn/content/drive/MyDrive/datasets/Processed_1/valid/images/G0011879_jpg.rf.c1f215a301850b2a6d5e5583fcd623c3.jpg: [0.792492687702179, 0.8103810548782349, 0.09728832542896271, 0.20009498298168182]\n",
            "xywhn/content/drive/MyDrive/datasets/Processed_1/valid/images/G0011881_jpg.rf.13b06ea6852bf4e367ea0b01e169a908.jpg: [0.6571477651596069, 0.2669546604156494, 0.0545618049800396, 0.08376999199390411]\n",
            "xywhn/content/drive/MyDrive/datasets/Processed_1/valid/images/G0011881_jpg.rf.13b06ea6852bf4e367ea0b01e169a908.jpg: [0.28396493196487427, 0.5624152421951294, 0.07531265914440155, 0.17878541350364685]\n",
            "xywhn/content/drive/MyDrive/datasets/Processed_1/valid/images/G0011880_jpg.rf.7d96113f2b9f0fc51ce4c56deb41c644.jpg: [0.29898324608802795, 0.43796175718307495, 0.054368019104003906, 0.10642699897289276]\n",
            "xywhn/content/drive/MyDrive/datasets/Processed_1/valid/images/G0011880_jpg.rf.7d96113f2b9f0fc51ce4c56deb41c644.jpg: [0.5786267518997192, 0.0650695413351059, 0.03433074802160263, 0.05617950111627579]\n",
            "xywhn/content/drive/MyDrive/datasets/Processed_1/valid/images/G0011880_jpg.rf.7d96113f2b9f0fc51ce4c56deb41c644.jpg: [0.7767391204833984, 0.6296922564506531, 0.06065978854894638, 0.12289877235889435]\n",
            "xywhn/content/drive/MyDrive/datasets/Processed_1/valid/images/G0011880_jpg.rf.7d96113f2b9f0fc51ce4c56deb41c644.jpg: [0.32318106293678284, 0.1806401014328003, 0.05905952304601669, 0.1311468631029129]\n",
            "xywhn/content/drive/MyDrive/datasets/Processed_1/valid/images/G0011880_jpg.rf.7d96113f2b9f0fc51ce4c56deb41c644.jpg: [0.7710631489753723, 0.5997692346572876, 0.03875751420855522, 0.06487426906824112]\n",
            "xywhn/content/drive/MyDrive/datasets/Processed_1/valid/images/G0011953_jpg.rf.26b73ae909bcfd02218228be1f75f220.jpg: [0.8123605847358704, 0.7655693888664246, 0.1982099562883377, 0.101104736328125]\n",
            "xywhn/content/drive/MyDrive/datasets/Processed_1/valid/images/G0011953_jpg.rf.26b73ae909bcfd02218228be1f75f220.jpg: [0.41304880380630493, 0.09018950164318085, 0.17770108580589294, 0.0894843116402626]\n",
            "xywhn/content/drive/MyDrive/datasets/Processed_1/valid/images/G0011880_jpg.rf.8d546dcb04de13f0f714b96330e48e70.jpg: [0.06353799253702164, 0.41957926750183105, 0.04228008911013603, 0.03430738300085068]\n",
            "xywhn/content/drive/MyDrive/datasets/Processed_1/valid/images/G0011880_jpg.rf.8d546dcb04de13f0f714b96330e48e70.jpg: [0.4364992678165436, 0.7015846967697144, 0.10075950622558594, 0.04945049434900284]\n",
            "xywhn/content/drive/MyDrive/datasets/Processed_1/valid/images/G0011880_jpg.rf.8d546dcb04de13f0f714b96330e48e70.jpg: [0.19177816808223724, 0.6765700578689575, 0.08895251899957657, 0.0385863296687603]\n",
            "xywhn/content/drive/MyDrive/datasets/Processed_1/valid/images/G0011880_jpg.rf.8d546dcb04de13f0f714b96330e48e70.jpg: [0.6240164041519165, 0.22978325188159943, 0.1146078109741211, 0.0563533790409565]\n",
            "xywhn/content/drive/MyDrive/datasets/Processed_1/valid/images/G0011941_jpg.rf.eb5eef46222eadb16dd9c4ca2e6b2e94.jpg: [0.8318273425102234, 0.7899980545043945, 0.12186527252197266, 0.06834296882152557]\n",
            "xywhn/content/drive/MyDrive/datasets/Processed_1/valid/images/G0011879_jpg.rf.38eb20d1cb66e6f95ac996aaad4b8e9a.jpg: [0.792492687702179, 0.8103810548782349, 0.09728832542896271, 0.20009498298168182]\n",
            "xywhn/content/drive/MyDrive/datasets/Processed_1/valid/images/G0011941_jpg.rf.46d72f208b74e22aaedaf2d348ff1485.jpg: [0.7752203941345215, 0.49043354392051697, 0.2212110459804535, 0.10044984519481659]\n",
            "xywhn/content/drive/MyDrive/datasets/Processed_1/valid/images/G0011941_jpg.rf.46d72f208b74e22aaedaf2d348ff1485.jpg: [0.8463444709777832, 0.5681291818618774, 0.2211500108242035, 0.07851658016443253]\n",
            "xywhn/content/drive/MyDrive/datasets/Processed_1/valid/images/G0011941_jpg.rf.46d72f208b74e22aaedaf2d348ff1485.jpg: [0.6267214417457581, 0.5663887858390808, 0.18478688597679138, 0.07441692054271698]\n",
            "xywhn/content/drive/MyDrive/datasets/Processed_1/valid/images/G0011881_jpg.rf.7959094e0bcefb77bd4b63388b08deb5.jpg: [0.6571477651596069, 0.2669546604156494, 0.0545618049800396, 0.08376999199390411]\n",
            "xywhn/content/drive/MyDrive/datasets/Processed_1/valid/images/G0011881_jpg.rf.7959094e0bcefb77bd4b63388b08deb5.jpg: [0.28396493196487427, 0.5624152421951294, 0.07531265914440155, 0.17878541350364685]\n",
            "xywhn/content/drive/MyDrive/datasets/Processed_1/valid/images/G0011982_jpg.rf.2bfae6c327cc9974d824ea779e1bb906.jpg: [0.3666134476661682, 0.37784144282341003, 0.047940731048583984, 0.08661933243274689]\n",
            "xywhn/content/drive/MyDrive/datasets/Processed_1/valid/images/G0011953_jpg.rf.ff3bf67b1f9f0ecb3a46060c09e14d47.jpg: [0.23495376110076904, 0.8100940585136414, 0.10404171794652939, 0.20187687873840332]\n",
            "xywhn/content/drive/MyDrive/datasets/Processed_1/valid/images/G0011982_jpg.rf.59609ba55a883890bbf12bbebeec7c25.jpg: [0.6265672445297241, 0.36927440762519836, 0.07699012756347656, 0.04661164432764053]\n",
            "xywhn/content/drive/MyDrive/datasets/Processed_1/valid/images/G0011978_jpg.rf.ebf240b490f53a0db36e60f2de9a7eab.jpg: [0.6106440424919128, 0.2561846375465393, 0.09674300998449326, 0.26217779517173767]\n",
            "xywhn/content/drive/MyDrive/datasets/Processed_1/valid/images/G0011989_jpg.rf.ff9b73cf065198031815249babf38387.jpg: [0.926361083984375, 0.35193777084350586, 0.14727783203125, 0.2785499691963196]\n",
            "xywhn/content/drive/MyDrive/datasets/Processed_1/valid/images/G0011989_jpg.rf.ff9b73cf065198031815249babf38387.jpg: [0.6762409210205078, 0.8017469644546509, 0.05743207782506943, 0.13764873147010803]\n",
            "xywhn/content/drive/MyDrive/datasets/Processed_1/valid/images/G0011989_jpg.rf.ff9b73cf065198031815249babf38387.jpg: [0.641278862953186, 0.4529123306274414, 0.039002228528261185, 0.07497348636388779]\n",
            "xywhn/content/drive/MyDrive/datasets/Processed_1/valid/images/G0011989_jpg.rf.c73f701481646a540722dc839f0992f9.jpg: [0.926361083984375, 0.35193777084350586, 0.14727783203125, 0.2785499691963196]\n",
            "xywhn/content/drive/MyDrive/datasets/Processed_1/valid/images/G0011989_jpg.rf.c73f701481646a540722dc839f0992f9.jpg: [0.6762409210205078, 0.8017469644546509, 0.05743207782506943, 0.13764873147010803]\n",
            "xywhn/content/drive/MyDrive/datasets/Processed_1/valid/images/G0011989_jpg.rf.c73f701481646a540722dc839f0992f9.jpg: [0.641278862953186, 0.4529123306274414, 0.039002228528261185, 0.07497348636388779]\n",
            "xywhn/content/drive/MyDrive/datasets/Processed_1/valid/images/G0011989_jpg.rf.8aa4a531a194506d6c65cb824cd59ffd.jpg: [0.7981805801391602, 0.3272167146205902, 0.13374099135398865, 0.06163435056805611]\n",
            "xywhn/content/drive/MyDrive/datasets/Processed_1/valid/images/G0011989_jpg.rf.8aa4a531a194506d6c65cb824cd59ffd.jpg: [0.45125117897987366, 0.3609978258609772, 0.0753847137093544, 0.043434999883174896]\n",
            "xywhn/content/drive/MyDrive/datasets/Processed_1/valid/images/G0011953_jpg.rf.af1d6576beb0947b49e15ef1bc1ac3fa.jpg: [0.23495376110076904, 0.8100940585136414, 0.10404171794652939, 0.20187687873840332]\n",
            "xywhn/content/drive/MyDrive/datasets/Processed_1/valid/images/G0011940_jpg.rf.1fc9bf0a7ee01c8ffbf1ee8ddff4ff59.jpg: [0.5584917664527893, 0.8073722720146179, 0.12624463438987732, 0.2998642325401306]\n",
            "xywhn/content/drive/MyDrive/datasets/Processed_1/valid/images/G0011940_jpg.rf.1fc9bf0a7ee01c8ffbf1ee8ddff4ff59.jpg: [0.48313990235328674, 0.2620862126350403, 0.06637096405029297, 0.111117884516716]\n",
            "xywhn/content/drive/MyDrive/datasets/Processed_1/valid/images/G0011940_jpg.rf.1fc9bf0a7ee01c8ffbf1ee8ddff4ff59.jpg: [0.5443540811538696, 0.6017587184906006, 0.05715541914105415, 0.15519781410694122]\n",
            "xywhn/content/drive/MyDrive/datasets/Processed_1/valid/images/G0011940_jpg.rf.1fc9bf0a7ee01c8ffbf1ee8ddff4ff59.jpg: [0.43070730566978455, 0.2500417232513428, 0.053533267229795456, 0.2142932415008545]\n",
            "xywhn/content/drive/MyDrive/datasets/Processed_1/valid/images/G0011773_jpg.rf.5b1a07e1d512edabd3f0b79c1c416966.jpg: [0.49897271394729614, 0.8055499196052551, 0.13034382462501526, 0.2383737564086914]\n",
            "xywhn/content/drive/MyDrive/datasets/Processed_1/valid/images/G0011762_jpg.rf.baa7d2b804f528c110967e9882ee4c88.jpg: [0.5636676549911499, 0.18458276987075806, 0.03764991834759712, 0.06819236278533936]\n",
            "xywhn/content/drive/MyDrive/datasets/Processed_1/valid/images/G0011762_jpg.rf.baa7d2b804f528c110967e9882ee4c88.jpg: [0.5054972767829895, 0.0791945606470108, 0.053664207458496094, 0.08007776737213135]\n",
            "xywhn/content/drive/MyDrive/datasets/Processed_1/valid/images/G0011952_jpg.rf.fa698d983b388c9457d78e1ef96e5f18.jpg: [0.3194056451320648, 0.3553174138069153, 0.07638110965490341, 0.10772514343261719]\n",
            "xywhn/content/drive/MyDrive/datasets/Processed_1/valid/images/G0011952_jpg.rf.fa698d983b388c9457d78e1ef96e5f18.jpg: [0.9003155827522278, 0.8369846343994141, 0.04081707075238228, 0.07128562778234482]\n",
            "xywhn/content/drive/MyDrive/datasets/Processed_1/valid/images/G0011952_jpg.rf.fa698d983b388c9457d78e1ef96e5f18.jpg: [0.8636250495910645, 0.5853477716445923, 0.04082470014691353, 0.09345979988574982]\n",
            "xywhn/content/drive/MyDrive/datasets/Processed_1/valid/images/G0011491_jpg.rf.7a62abe555ca1e32634ce352ec43142a.jpg: [0.7523453831672668, 0.716126561164856, 0.11681690067052841, 0.2862856984138489]\n",
            "xywhn/content/drive/MyDrive/datasets/Processed_1/valid/images/G0011491_jpg.rf.7a62abe555ca1e32634ce352ec43142a.jpg: [0.2012530267238617, 0.03162487596273422, 0.07731610536575317, 0.06302077323198318]\n",
            "xywhn/content/drive/MyDrive/datasets/Processed_1/valid/images/G0011584_jpg.rf.fe710c693b88cb11f293afb5f141cebc.jpg: [0.3497423529624939, 0.06423493474721909, 0.07865943759679794, 0.12351510673761368]\n",
            "xywhn/content/drive/MyDrive/datasets/Processed_1/valid/images/G0011774_jpg.rf.abd409116170f20eaf52ebc752fa5bf1.jpg: [0.2451367825269699, 0.572849452495575, 0.07692708820104599, 0.14610977470874786]\n",
            "xywhn/content/drive/MyDrive/datasets/Processed_1/valid/images/G0011869_jpg.rf.f5b10d327f124dc6dec742797ea740d9.jpg: [0.41862839460372925, 0.132278174161911, 0.04529473930597305, 0.09377913177013397]\n",
            "xywhn/content/drive/MyDrive/datasets/Processed_1/valid/images/G0011869_jpg.rf.f5b10d327f124dc6dec742797ea740d9.jpg: [0.14066410064697266, 0.39956772327423096, 0.07180404663085938, 0.1506578028202057]\n",
            "xywhn/content/drive/MyDrive/datasets/Processed_1/valid/images/G0011869_jpg.rf.f5b10d327f124dc6dec742797ea740d9.jpg: [0.49037131667137146, 0.18709248304367065, 0.03837528079748154, 0.06582558155059814]\n",
            "xywhn/content/drive/MyDrive/datasets/Processed_1/valid/images/G0011525_jpg.rf.34a7bb0312e485e0dca034aa804776fa.jpg: [0.7392598390579224, 0.5072638392448425, 0.06878700107336044, 0.12947368621826172]\n",
            "xywhn/content/drive/MyDrive/datasets/Processed_1/valid/images/G0011873_jpg.rf.2ffde99fb202e0e235561cb2315db137.jpg: [0.5344855189323425, 0.7033387422561646, 0.06741676479578018, 0.12465238571166992]\n",
            "xywhn/content/drive/MyDrive/datasets/Processed_1/valid/images/G0011873_jpg.rf.2ffde99fb202e0e235561cb2315db137.jpg: [0.4120063781738281, 0.5024517774581909, 0.08066234737634659, 0.21905477344989777]\n",
            "xywhn/content/drive/MyDrive/datasets/Processed_1/valid/images/G0011873_jpg.rf.2ffde99fb202e0e235561cb2315db137.jpg: [0.8030424118041992, 0.3352445960044861, 0.05793871730566025, 0.10749521106481552]\n",
            "xywhn/content/drive/MyDrive/datasets/Processed_1/valid/images/G0011873_jpg.rf.2ffde99fb202e0e235561cb2315db137.jpg: [0.6769661903381348, 0.2678392827510834, 0.05257568508386612, 0.09185962378978729]\n",
            "xywhn/content/drive/MyDrive/datasets/Processed_1/valid/images/G0011873_jpg.rf.2ffde99fb202e0e235561cb2315db137.jpg: [0.4711843430995941, 0.19027909636497498, 0.041274260729551315, 0.08523774147033691]\n",
            "xywhn/content/drive/MyDrive/datasets/Processed_1/valid/images/G0011873_jpg.rf.2ffde99fb202e0e235561cb2315db137.jpg: [0.3006574511528015, 0.6818144917488098, 0.05542287975549698, 0.11662635952234268]\n",
            "xywhn/content/drive/MyDrive/datasets/Processed_1/valid/images/G0011873_jpg.rf.2ffde99fb202e0e235561cb2315db137.jpg: [0.4330882132053375, 0.9753114581108093, 0.04090461879968643, 0.04931182786822319]\n",
            "xywhn/content/drive/MyDrive/datasets/Processed_1/valid/images/G0011876_jpg.rf.6907aeda28563e1e1ea79a85f37444e5.jpg: [0.24426297843456268, 0.7036296129226685, 0.1414022296667099, 0.16384629905223846]\n",
            "xywhn/content/drive/MyDrive/datasets/Processed_1/valid/images/G0011876_jpg.rf.6907aeda28563e1e1ea79a85f37444e5.jpg: [0.42567721009254456, 0.932833194732666, 0.09091222286224365, 0.1331285536289215]\n",
            "xywhn/content/drive/MyDrive/datasets/Processed_1/valid/images/G0011876_jpg.rf.6907aeda28563e1e1ea79a85f37444e5.jpg: [0.6695083379745483, 0.07759935408830643, 0.0632638931274414, 0.08368875086307526]\n",
            "xywhn/content/drive/MyDrive/datasets/Processed_1/valid/images/G0011589_jpg.rf.00eab0b18129724010e3a7402d2ae221.jpg: [0.4488970637321472, 0.17166683077812195, 0.06617679446935654, 0.10894093662500381]\n",
            "xywhn/content/drive/MyDrive/datasets/Processed_1/valid/images/G0011589_jpg.rf.00eab0b18129724010e3a7402d2ae221.jpg: [0.813554584980011, 0.4115433692932129, 0.044255636632442474, 0.07215547561645508]\n",
            "xywhn/content/drive/MyDrive/datasets/Processed_1/valid/images/G0011872_jpg.rf.0d7c210b7070e8826a3b6f8582323aad.jpg: [0.4138828217983246, 0.3250807523727417, 0.061676573008298874, 0.16982588171958923]\n",
            "xywhn/content/drive/MyDrive/datasets/Processed_1/valid/images/G0011872_jpg.rf.0d7c210b7070e8826a3b6f8582323aad.jpg: [0.5184556245803833, 0.463941752910614, 0.05934476852416992, 0.10422877967357635]\n",
            "xywhn/content/drive/MyDrive/datasets/Processed_1/valid/images/G0011872_jpg.rf.0d7c210b7070e8826a3b6f8582323aad.jpg: [0.8401097059249878, 0.7049110531806946, 0.073938749730587, 0.13993453979492188]\n",
            "xywhn/content/drive/MyDrive/datasets/Processed_1/valid/images/G0011872_jpg.rf.0d7c210b7070e8826a3b6f8582323aad.jpg: [0.7676397562026978, 0.6929374933242798, 0.052901268005371094, 0.10087089240550995]\n",
            "xywhn/content/drive/MyDrive/datasets/Processed_1/valid/images/G0011872_jpg.rf.0d7c210b7070e8826a3b6f8582323aad.jpg: [0.6432701349258423, 0.13417980074882507, 0.04463062435388565, 0.07214529812335968]\n",
            "xywhn/content/drive/MyDrive/datasets/Processed_1/valid/images/G0011872_jpg.rf.0d7c210b7070e8826a3b6f8582323aad.jpg: [0.7574523687362671, 0.18151861429214478, 0.05166168138384819, 0.10310471057891846]\n",
            "xywhn/content/drive/MyDrive/datasets/Processed_1/valid/images/G0011872_jpg.rf.0d7c210b7070e8826a3b6f8582323aad.jpg: [0.4664115011692047, 0.07766115665435791, 0.03619098663330078, 0.06986308097839355]\n",
            "xywhn/content/drive/MyDrive/datasets/Processed_1/valid/images/G0011872_jpg.rf.0d7c210b7070e8826a3b6f8582323aad.jpg: [0.45036619901657104, 0.6067528128623962, 0.052916526794433594, 0.11585550010204315]\n",
            "xywhn/content/drive/MyDrive/datasets/Processed_1/valid/images/G0011872_jpg.rf.0d7c210b7070e8826a3b6f8582323aad.jpg: [0.3213568329811096, 0.45641154050827026, 0.03901252895593643, 0.07340221107006073]\n",
            "xywhn/content/drive/MyDrive/datasets/Processed_1/valid/images/G0011587_jpg.rf.6f31fd9be0817003074e08b3e0675bc8.jpg: [0.6419524550437927, 0.4839732050895691, 0.12031164020299911, 0.2039680778980255]\n",
            "xywhn/content/drive/MyDrive/datasets/Processed_1/valid/images/G0011610_jpg.rf.a8adebfd6c63856c2968ed1783c703ed.jpg: [0.3252619802951813, 0.492259681224823, 0.0729973316192627, 0.16739043593406677]\n",
            "xywhn/content/drive/MyDrive/datasets/Processed_1/valid/images/G0011524_jpg.rf.added00c975e0db2523959b699cd2710.jpg: [0.677003026008606, 0.27069908380508423, 0.05030937120318413, 0.09151029586791992]\n",
            "xywhn/content/drive/MyDrive/datasets/Processed_1/valid/images/G0011524_jpg.rf.added00c975e0db2523959b699cd2710.jpg: [0.2513295114040375, 0.16479277610778809, 0.05102720111608505, 0.1188657283782959]\n"
          ]
        }
      ],
      "source": [
        "from ultralytics import YOLO\n",
        "from pathlib import Path\n",
        "import torch\n",
        "import numpy as np\n",
        "\n",
        "# 載入模型\n",
        "model_a = YOLO(\"/content/drive/MyDrive/model_n/yolov8n_Processed_2_1_1/weights/best.pt\")\n",
        "model_b = YOLO(\"/content/drive/MyDrive/model_n/yolov8n_OriData_4_1/weights/best.pt\")\n",
        "\n",
        "# 預測資料夾\n",
        "img_dir = Path(\"/content/drive/MyDrive/datasets/Processed_1/valid/images\")\n",
        "output_dir = Path(\"/content/drive/MyDrive/datasets/voted_preds/labels\")\n",
        "output_dir.mkdir(parents=True, exist_ok=True)\n",
        "\n",
        "# -------- Utils --------\n",
        "def yolo_to_xyxy_tensor(boxes, img_w, img_h):\n",
        "    \"\"\"YOLO format (cx, cy, w, h) to XYXY with clamping, tensor version\"\"\"\n",
        "    cx = boxes[:, 0] * img_w\n",
        "    cy = boxes[:, 1] * img_h\n",
        "    w = boxes[:, 2] * img_w\n",
        "    h = boxes[:, 3] * img_h\n",
        "\n",
        "    x1 = (cx - w / 2).clamp(0, img_w)\n",
        "    y1 = (cy - h / 2).clamp(0, img_h)\n",
        "    x2 = (cx + w / 2).clamp(0, img_w)\n",
        "    y2 = (cy + h / 2).clamp(0, img_h)\n",
        "\n",
        "    return torch.stack([x1, y1, x2, y2], dim=1)\n",
        "\n",
        "# 輸出融合後的結果（A or B 模式）\n",
        "for img_path in img_dir.glob(\"*.jpg\"):\n",
        "    result_a = model_a.predict(str(img_path), conf=0.32, iou=0.4, verbose=False)[0]\n",
        "    result_b = model_b.predict(str(img_path), conf=0.353, iou=0.4, verbose=False)[0]\n",
        "\n",
        "    all_boxes = []\n",
        "\n",
        "    # 把每個模型的預測框轉換為YOLO格式\n",
        "    for r in [result_a, result_b]:\n",
        "        if r.boxes is not None:\n",
        "            for box in r.boxes:\n",
        "                cls = int(box.cls[0].item())\n",
        "                conf = float(box.conf[0].item())\n",
        "                x1, y1, x2, y2 = box.xyxy[0].tolist()\n",
        "                x_center, y_center, w, h = box.xywhn[0].tolist()\n",
        "                all_boxes.append([cls, x_center, y_center, w, h, conf])\n",
        "\n",
        "    # 把 YOLO 格式轉換為 tensor (XYXY 格式 + conf + cls)\n",
        "    if all_boxes:\n",
        "        boxes_tensor = torch.tensor(all_boxes)  # [cls, x_center, y_center, w, h, conf]\n",
        "        conf = boxes_tensor[:, 5]\n",
        "        cls = boxes_tensor[:, 0]\n",
        "        xywh = boxes_tensor[:, 1:5]\n",
        "\n",
        "        # 轉換為 xyxy\n",
        "        img_w, img_h = Image.open(img_path).size\n",
        "        xyxy = yolo_to_xyxy_tensor(xywh, img_w, img_h)\n",
        "\n",
        "        # 做 NMS（使用 torchvision 自帶的函數）\n",
        "        import torchvision\n",
        "        keep = torchvision.ops.nms(xyxy, conf, iou_threshold=0.5)\n",
        "\n",
        "        # 過濾出保留的框\n",
        "        filtered_boxes = boxes_tensor[keep]\n",
        "    else:\n",
        "        filtered_boxes = torch.zeros((0, 6))\n",
        "\n",
        "\n",
        "    # 寫入 fusion 預測檔\n",
        "    label_path = output_dir / f\"{img_path.stem}.txt\"\n",
        "    with open(label_path, \"w\") as f:\n",
        "        # for box in all_boxes:\n",
        "        for box in filtered_boxes:\n",
        "            f.write(f\"{box[0]} {box[1]:.6f} {box[2]:.6f} {box[3]:.6f} {box[4]:.6f} {box[5]:.6f}\\n\")\n",
        "\n",
        "    result = model_a.predict(img_path, conf=0.3, iou=0.4, save=False, verbose=False)[0]\n",
        "    for box in result.boxes:\n",
        "        print(f\"xywhn{img_path}:\", box.xywhn[0].tolist())\n"
      ]
    },
    {
      "cell_type": "markdown",
      "metadata": {
        "id": "Ya_wUNTCf7At"
      },
      "source": [
        "## 驗證\n",
        "\n",
        "就是跑看看投票結果長怎樣\n",
        "\n",
        "✅會比較慢所以之後雲端可以用"
      ]
    },
    {
      "cell_type": "code",
      "execution_count": null,
      "metadata": {
        "colab": {
          "base_uri": "https://localhost:8080/"
        },
        "id": "1oh9gpfrf6VR",
        "outputId": "3eadcf6a-2f6f-42c7-8dd7-97f1cf9070e7"
      },
      "outputs": [
        {
          "name": "stdout",
          "output_type": "stream",
          "text": [
            "\n",
            "📄 China_Drone_000048.txt\n",
            "GT cls:     torch.Size([1]) tensor([0.])\n",
            "GT boxes:   torch.Size([1, 4]) tensor([[216.,  85., 285., 280.]])\n",
            "Detections: torch.Size([1, 6])\n",
            "\n",
            "📄 China_Drone_000435.txt\n",
            "GT cls:     torch.Size([1]) tensor([0.])\n",
            "GT boxes:   torch.Size([1, 4]) tensor([[480., 390., 512., 423.]])\n",
            "Detections: torch.Size([2, 6])\n",
            "\n",
            "📄 China_Drone_000160.txt\n",
            "GT cls:     torch.Size([1]) tensor([0.])\n",
            "GT boxes:   torch.Size([1, 4]) tensor([[ 98.,  32., 136.,  67.]])\n",
            "Detections: torch.Size([1, 6])\n",
            "\n",
            "📄 China_Drone_000205.txt\n",
            "GT cls:     torch.Size([1]) tensor([0.])\n",
            "GT boxes:   torch.Size([1, 4]) tensor([[134.,  69., 179., 125.]])\n",
            "Detections: torch.Size([2, 6])\n",
            "\n",
            "📄 China_Drone_000136.txt\n",
            "GT cls:     torch.Size([1]) tensor([0.])\n",
            "GT boxes:   torch.Size([1, 4]) tensor([[271.,  37., 368., 105.]])\n",
            "Detections: torch.Size([1, 6])\n",
            "\n",
            "📄 China_Drone_000451.txt\n",
            "GT cls:     torch.Size([1]) tensor([0.])\n",
            "GT boxes:   torch.Size([1, 4]) tensor([[ 27., 149.,  64., 180.]])\n",
            "Detections: torch.Size([1, 6])\n",
            "\n",
            "📄 China_Drone_000404.txt\n",
            "GT cls:     torch.Size([2]) tensor([0., 0.])\n",
            "GT boxes:   torch.Size([2, 4]) tensor([[215., 427., 278., 489.],\n",
            "        [217., 491., 245., 511.]])\n",
            "Detections: torch.Size([1, 6])\n",
            "\n",
            "📄 China_Drone_000061.txt\n",
            "GT cls:     torch.Size([1]) tensor([0.])\n",
            "GT boxes:   torch.Size([1, 4]) tensor([[384., 274., 447., 337.]])\n",
            "Detections: torch.Size([1, 6])\n",
            "\n",
            "📄 China_Drone_000237.txt\n",
            "GT cls:     torch.Size([2]) tensor([0., 0.])\n",
            "GT boxes:   torch.Size([2, 4]) tensor([[191., 229., 237., 265.],\n",
            "        [192., 387., 226., 421.]])\n",
            "Detections: torch.Size([4, 6])\n",
            "\n",
            "📄 China_Drone_000286.txt\n",
            "GT cls:     torch.Size([1]) tensor([0.])\n",
            "GT boxes:   torch.Size([1, 4]) tensor([[ 76., 276., 147., 461.]])\n",
            "Detections: torch.Size([1, 6])\n",
            "\n",
            "📄 China_Drone_000487.txt\n",
            "GT cls:     torch.Size([1]) tensor([0.])\n",
            "GT boxes:   torch.Size([1, 4]) tensor([[  1., 285., 124., 370.]])\n",
            "Detections: torch.Size([2, 6])\n",
            "\n",
            "📄 China_Drone_000064.txt\n",
            "GT cls:     torch.Size([1]) tensor([0.])\n",
            "GT boxes:   torch.Size([1, 4]) tensor([[234.,   1., 394.,  41.]])\n",
            "Detections: torch.Size([2, 6])\n",
            "\n",
            "📄 China_Drone_000383.txt\n",
            "GT cls:     torch.Size([1]) tensor([0.])\n",
            "GT boxes:   torch.Size([1, 4]) tensor([[263.,   9., 386., 124.]])\n",
            "Detections: torch.Size([1, 6])\n",
            "\n",
            "📄 China_Drone_000057.txt\n",
            "GT cls:     torch.Size([2]) tensor([0., 0.])\n",
            "GT boxes:   torch.Size([2, 4]) tensor([[201., 236., 244., 274.],\n",
            "        [200., 388., 238., 428.]])\n",
            "Detections: torch.Size([4, 6])\n",
            "\n",
            "📄 China_Drone_000315.txt\n",
            "GT cls:     torch.Size([1]) tensor([0.])\n",
            "GT boxes:   torch.Size([1, 4]) tensor([[ 84., 434., 145., 474.]])\n",
            "Detections: torch.Size([2, 6])\n",
            "\n",
            "📄 China_Drone_000062.txt\n",
            "GT cls:     torch.Size([2]) tensor([0., 0.])\n",
            "GT boxes:   torch.Size([2, 4]) tensor([[204., 231., 248., 268.],\n",
            "        [207., 388., 240., 426.]])\n",
            "Detections: torch.Size([4, 6])\n",
            "\n",
            "📄 China_Drone_000695.txt\n",
            "GT cls:     torch.Size([1]) tensor([0.])\n",
            "GT boxes:   torch.Size([1, 4]) tensor([[ 65., 240., 116., 292.]])\n",
            "Detections: torch.Size([1, 6])\n",
            "\n",
            "📄 China_Drone_000690.txt\n",
            "GT cls:     torch.Size([2]) tensor([0., 0.])\n",
            "GT boxes:   torch.Size([2, 4]) tensor([[201., 275., 265., 511.],\n",
            "        [212.,   1., 263., 110.]])\n",
            "Detections: torch.Size([0, 6])\n",
            "\n",
            "📄 China_Drone_000541.txt\n",
            "GT cls:     torch.Size([2]) tensor([0., 0.])\n",
            "GT boxes:   torch.Size([2, 4]) tensor([[166., 187., 241., 286.],\n",
            "        [436.,   1., 512.,  71.]])\n",
            "Detections: torch.Size([2, 6])\n",
            "\n",
            "📄 China_Drone_000503.txt\n",
            "GT cls:     torch.Size([3]) tensor([0., 0., 0.])\n",
            "GT boxes:   torch.Size([3, 4]) tensor([[133., 397., 191., 459.],\n",
            "        [118.,   1., 160.,  28.],\n",
            "        [406.,  17., 470.,  53.]])\n",
            "Detections: torch.Size([3, 6])\n",
            "\n",
            "📄 G0011881_jpg.rf.13b06ea6852bf4e367ea0b01e169a908.txt\n",
            "GT cls:     torch.Size([5]) tensor([0., 0., 0., 0., 0.])\n",
            "GT boxes:   torch.Size([5, 4]) tensor([[528.7500, 511.5000, 568.2500, 610.5000],\n",
            "        [454.2500, 292.0000, 486.7500, 337.0000],\n",
            "        [497.7500, 399.2500, 523.2500, 458.7500],\n",
            "        [161.5000, 287.7500, 215.5000, 435.2500],\n",
            "        [395.7500, 120.7500, 456.2500, 221.2500]])\n",
            "Detections: torch.Size([2, 6])\n",
            "\n",
            "📄 G0011879_jpg.rf.38eb20d1cb66e6f95ac996aaad4b8e9a.txt\n",
            "GT cls:     torch.Size([1]) tensor([0.])\n",
            "GT boxes:   torch.Size([1, 4]) tensor([[474.7500, 467.0000, 535.2500, 578.0000]])\n",
            "Detections: torch.Size([1, 6])\n",
            "\n",
            "📄 G0011881_jpg.rf.7959094e0bcefb77bd4b63388b08deb5.txt\n",
            "GT cls:     torch.Size([5]) tensor([0., 0., 0., 0., 0.])\n",
            "GT boxes:   torch.Size([5, 4]) tensor([[528.5000, 511.5000, 568.5000, 610.5000],\n",
            "        [454.5000, 292.0000, 486.5000, 337.0000],\n",
            "        [497.5000, 399.0000, 523.5000, 459.0000],\n",
            "        [161.5000, 287.5000, 215.5000, 435.5000],\n",
            "        [396.0000, 121.0000, 456.0000, 221.0000]])\n",
            "Detections: torch.Size([2, 6])\n",
            "\n",
            "📄 G0011880_jpg.rf.7d96113f2b9f0fc51ce4c56deb41c644.txt\n",
            "GT cls:     torch.Size([1]) tensor([0.])\n",
            "GT boxes:   torch.Size([1, 4]) tensor([[172.7500,  76.7500, 222.2500, 318.2500]])\n",
            "Detections: torch.Size([6, 6])\n",
            "\n",
            "📄 G0011879_jpg.rf.c1f215a301850b2a6d5e5583fcd623c3.txt\n",
            "GT cls:     torch.Size([1]) tensor([0.])\n",
            "GT boxes:   torch.Size([1, 4]) tensor([[475., 467., 535., 578.]])\n",
            "Detections: torch.Size([1, 6])\n",
            "\n",
            "📄 G0011880_jpg.rf.2a9d2329f6e74efdb693b4c065267126.txt\n",
            "GT cls:     torch.Size([1]) tensor([0.])\n",
            "GT boxes:   torch.Size([1, 4]) tensor([[172.5000,  76.5000, 222.5000, 318.5000]])\n",
            "Detections: torch.Size([6, 6])\n",
            "\n",
            "📄 G0011880_jpg.rf.8d546dcb04de13f0f714b96330e48e70.txt\n",
            "GT cls:     torch.Size([1]) tensor([0.])\n",
            "GT boxes:   torch.Size([1, 4]) tensor([[ 76.5000, 417.5000, 318.5000, 467.5000]])\n",
            "Detections: torch.Size([4, 6])\n",
            "\n",
            "📄 G0011989_jpg.rf.c73f701481646a540722dc839f0992f9.txt\n",
            "GT cls:     torch.Size([1]) tensor([0.])\n",
            "GT boxes:   torch.Size([1, 4]) tensor([[418., 470., 446., 556.]])\n",
            "Detections: torch.Size([3, 6])\n",
            "\n",
            "📄 G0011941_jpg.rf.eb5eef46222eadb16dd9c4ca2e6b2e94.txt\n",
            "GT cls:     torch.Size([2]) tensor([0., 0.])\n",
            "GT boxes:   torch.Size([2, 4]) tensor([[  0.0000, 148.0000, 638.0000, 255.0000],\n",
            "        [498.0000, 430.5000, 640.0000, 528.5000]])\n",
            "Detections: torch.Size([0, 6])\n",
            "\n",
            "📄 G0011978_jpg.rf.ebf240b490f53a0db36e60f2de9a7eab.txt\n",
            "GT cls:     torch.Size([3]) tensor([0., 0., 0.])\n",
            "GT boxes:   torch.Size([3, 4]) tensor([[538.5000, 277.2500, 581.5000, 323.7500],\n",
            "        [365.2500,  65.2500, 391.7500, 124.7500],\n",
            "        [378.7500, 140.5000, 412.2500, 255.5000]])\n",
            "Detections: torch.Size([1, 6])\n",
            "\n",
            "📄 G0011491_jpg.rf.7a62abe555ca1e32634ce352ec43142a.txt\n",
            "GT cls:     torch.Size([1]) tensor([0.])\n",
            "GT boxes:   torch.Size([1, 4]) tensor([[383.5000, 149.2500, 506.5000, 542.7500]])\n",
            "Detections: torch.Size([3, 6])\n",
            "\n",
            "📄 G0011982_jpg.rf.59609ba55a883890bbf12bbebeec7c25.txt\n",
            "GT cls:     torch.Size([1]) tensor([0.])\n",
            "GT boxes:   torch.Size([1, 4]) tensor([[239., 215., 421., 243.]])\n",
            "Detections: torch.Size([1, 6])\n",
            "\n",
            "📄 G0011953_jpg.rf.af1d6576beb0947b49e15ef1bc1ac3fa.txt\n",
            "GT cls:     torch.Size([1]) tensor([0.])\n",
            "GT boxes:   torch.Size([1, 4]) tensor([[122.5000, 456.0000, 176.5000, 586.0000]])\n",
            "Detections: torch.Size([1, 6])\n",
            "\n",
            "📄 G0011941_jpg.rf.46d72f208b74e22aaedaf2d348ff1485.txt\n",
            "GT cls:     torch.Size([2]) tensor([0., 0.])\n",
            "GT boxes:   torch.Size([2, 4]) tensor([[  2.0000, 385.0000, 640.0000, 492.0000],\n",
            "        [  0.0000, 111.5000, 142.0000, 209.5000]])\n",
            "Detections: torch.Size([4, 6])\n",
            "\n",
            "📄 G0011978_jpg.rf.2ca8e3c3858492b881057c342e6fcf19.txt\n",
            "GT cls:     torch.Size([3]) tensor([0., 0., 0.])\n",
            "GT boxes:   torch.Size([3, 4]) tensor([[277.5000,  58.5000, 323.5000, 101.5000],\n",
            "        [ 65.0000, 248.5000, 125.0000, 274.5000],\n",
            "        [140.5000, 227.5000, 255.5000, 261.5000]])\n",
            "Detections: torch.Size([1, 6])\n",
            "\n",
            "📄 G0011524_jpg.rf.added00c975e0db2523959b699cd2710.txt\n",
            "GT cls:     torch.Size([1]) tensor([0.])\n",
            "GT boxes:   torch.Size([1, 4]) tensor([[420.2500, 146.5000, 444.7500, 201.5000]])\n",
            "Detections: torch.Size([2, 6])\n",
            "\n",
            "📄 G0011989_jpg.rf.ff9b73cf065198031815249babf38387.txt\n",
            "GT cls:     torch.Size([1]) tensor([0.])\n",
            "GT boxes:   torch.Size([1, 4]) tensor([[417.7500, 470.2500, 446.2500, 555.7500]])\n",
            "Detections: torch.Size([3, 6])\n",
            "\n",
            "📄 G0011982_jpg.rf.2bfae6c327cc9974d824ea779e1bb906.txt\n",
            "GT cls:     torch.Size([1]) tensor([0.])\n",
            "GT boxes:   torch.Size([1, 4]) tensor([[214.7500, 219.2500, 243.2500, 400.7500]])\n",
            "Detections: torch.Size([1, 6])\n",
            "\n",
            "📄 G0011941_jpg.rf.629aa83aed352c749207c895679f29d6.txt\n",
            "GT cls:     torch.Size([2]) tensor([0., 0.])\n",
            "GT boxes:   torch.Size([2, 4]) tensor([[148.0000,   2.2500, 255.0000, 639.7500],\n",
            "        [430.5000,   0.0000, 528.5000, 142.0000]])\n",
            "Detections: torch.Size([3, 6])\n",
            "\n",
            "📄 G0011989_jpg.rf.8aa4a531a194506d6c65cb824cd59ffd.txt\n",
            "GT cls:     torch.Size([1]) tensor([0.])\n",
            "GT boxes:   torch.Size([1, 4]) tensor([[470., 194., 556., 222.]])\n",
            "Detections: torch.Size([3, 6])\n",
            "\n",
            "📄 G0011953_jpg.rf.ff3bf67b1f9f0ecb3a46060c09e14d47.txt\n",
            "GT cls:     torch.Size([1]) tensor([0.])\n",
            "GT boxes:   torch.Size([1, 4]) tensor([[122.2500, 456.0000, 176.7500, 586.0000]])\n",
            "Detections: torch.Size([1, 6])\n",
            "\n",
            "📄 G0011527_jpg.rf.39b439ed76c92293927c284d80e56e02.txt\n",
            "GT cls:     torch.Size([1]) tensor([0.])\n",
            "GT boxes:   torch.Size([1, 4]) tensor([[298.7500,  97.7500, 393.2500, 172.2500]])\n",
            "Detections: torch.Size([0, 6])\n",
            "\n",
            "📄 G0011525_jpg.rf.34a7bb0312e485e0dca034aa804776fa.txt\n",
            "GT cls:     torch.Size([1]) tensor([0.])\n",
            "GT boxes:   torch.Size([1, 4]) tensor([[443.7500, 276.5000, 498.2500, 368.5000]])\n",
            "Detections: torch.Size([1, 6])\n",
            "\n",
            "📄 G0011953_jpg.rf.26b73ae909bcfd02218228be1f75f220.txt\n",
            "GT cls:     torch.Size([1]) tensor([0.])\n",
            "GT boxes:   torch.Size([1, 4]) tensor([[456., 463., 586., 518.]])\n",
            "Detections: torch.Size([2, 6])\n",
            "\n",
            "📄 G0011940_jpg.rf.1fc9bf0a7ee01c8ffbf1ee8ddff4ff59.txt\n",
            "GT cls:     torch.Size([4]) tensor([0., 0., 0., 0.])\n",
            "GT boxes:   torch.Size([4, 4]) tensor([[245.5000, 336.7500, 295.5000, 465.2500],\n",
            "        [448.0000,   0.0000, 572.0000, 220.0000],\n",
            "        [229.2500, 228.7500, 262.7500, 311.2500],\n",
            "        [193.7500,  35.5000, 331.2500, 634.5000]])\n",
            "Detections: torch.Size([4, 6])\n",
            "\n",
            "📄 G0011952_jpg.rf.fa698d983b388c9457d78e1ef96e5f18.txt\n",
            "GT cls:     torch.Size([1]) tensor([0.])\n",
            "GT boxes:   torch.Size([1, 4]) tensor([[183.2500, 194.2500, 221.7500, 262.7500]])\n",
            "Detections: torch.Size([3, 6])\n",
            "\n",
            "📄 G0011876_jpg.rf.6907aeda28563e1e1ea79a85f37444e5.txt\n",
            "GT cls:     torch.Size([2]) tensor([0., 0.])\n",
            "GT boxes:   torch.Size([2, 4]) tensor([[254.7500, 559.0000, 299.2500, 640.0000],\n",
            "        [114.5000, 365.5000, 194.5000, 507.5000]])\n",
            "Detections: torch.Size([3, 6])\n",
            "\n",
            "📄 G0011873_jpg.rf.2ffde99fb202e0e235561cb2315db137.txt\n",
            "GT cls:     torch.Size([2]) tensor([0., 0.])\n",
            "GT boxes:   torch.Size([2, 4]) tensor([[329.2500, 418.2500, 352.7500, 481.7500],\n",
            "        [237.0000, 246.0000, 286.0000, 405.0000]])\n",
            "Detections: torch.Size([6, 6])\n",
            "\n",
            "📄 G0011869_jpg.rf.f5b10d327f124dc6dec742797ea740d9.txt\n",
            "GT cls:     torch.Size([1]) tensor([0.])\n",
            "GT boxes:   torch.Size([1, 4]) tensor([[255.0000,  40.7500, 331.0000, 146.2500]])\n",
            "Detections: torch.Size([4, 6])\n",
            "\n",
            "📄 G0011774_jpg.rf.abd409116170f20eaf52ebc752fa5bf1.txt\n",
            "GT cls:     torch.Size([1]) tensor([0.])\n",
            "GT boxes:   torch.Size([1, 4]) tensor([[135.2500, 303.7500, 191.7500, 496.2500]])\n",
            "Detections: torch.Size([1, 6])\n",
            "\n",
            "📄 G0011587_jpg.rf.6f31fd9be0817003074e08b3e0675bc8.txt\n",
            "GT cls:     torch.Size([3]) tensor([0., 0., 0.])\n",
            "GT boxes:   torch.Size([3, 4]) tensor([[374.2500, 252.0000, 437.7500, 365.0000],\n",
            "        [305.7500,  73.0000, 345.2500, 138.0000],\n",
            "        [351.5000,  87.2500, 398.5000, 164.7500]])\n",
            "Detections: torch.Size([2, 6])\n",
            "\n",
            "📄 G0011584_jpg.rf.fe710c693b88cb11f293afb5f141cebc.txt\n",
            "GT cls:     torch.Size([1]) tensor([0.])\n",
            "GT boxes:   torch.Size([1, 4]) tensor([[192.5000,   0.7500, 251.5000,  84.2500]])\n",
            "Detections: torch.Size([2, 6])\n",
            "\n",
            "📄 G0011762_jpg.rf.baa7d2b804f528c110967e9882ee4c88.txt\n",
            "GT cls:     torch.Size([3]) tensor([0., 0., 0.])\n",
            "GT boxes:   torch.Size([3, 4]) tensor([[430.5000,  63.2500, 453.5000,  88.7500],\n",
            "        [238.2500, 293.7500, 320.7500, 436.2500],\n",
            "        [311.7500,  35.0000, 376.2500, 147.0000]])\n",
            "Detections: torch.Size([2, 6])\n",
            "\n",
            "📄 G0011589_jpg.rf.00eab0b18129724010e3a7402d2ae221.txt\n",
            "GT cls:     torch.Size([2]) tensor([0., 0.])\n",
            "GT boxes:   torch.Size([2, 4]) tensor([[270.0000,  75.5000, 313.0000, 146.5000],\n",
            "        [231.5000,  43.5000, 271.5000, 104.5000]])\n",
            "Detections: torch.Size([2, 6])\n",
            "\n",
            "📄 G0011610_jpg.rf.a8adebfd6c63856c2968ed1783c703ed.txt\n",
            "GT cls:     torch.Size([1]) tensor([0.])\n",
            "GT boxes:   torch.Size([1, 4]) tensor([[184.7500, 255.2500, 225.2500, 367.7500]])\n",
            "Detections: torch.Size([2, 6])\n",
            "\n",
            "📄 G0011872_jpg.rf.0d7c210b7070e8826a3b6f8582323aad.txt\n",
            "GT cls:     torch.Size([2]) tensor([0., 0.])\n",
            "GT boxes:   torch.Size([2, 4]) tensor([[239.5000, 146.0000, 357.5000, 337.0000],\n",
            "        [394.7500,  49.2500, 573.2500, 186.7500]])\n",
            "Detections: torch.Size([9, 6])\n",
            "\n",
            "📄 G0011773_jpg.rf.5b1a07e1d512edabd3f0b79c1c416966.txt\n",
            "GT cls:     torch.Size([2]) tensor([0., 0.])\n",
            "GT boxes:   torch.Size([2, 4]) tensor([[283.5000, 446.0000, 348.5000, 586.0000],\n",
            "        [190.7500,  75.5000, 245.2500, 193.5000]])\n",
            "Detections: torch.Size([1, 6])\n",
            "\n",
            "📊 Voting Ensemble Evaluation Results:\n",
            "Precision: 0.234\n",
            "Recall:    0.167\n",
            "F1 Score:  0.195\n"
          ]
        }
      ],
      "source": [
        "from pathlib import Path\n",
        "import torch\n",
        "from ultralytics.utils.metrics import ConfusionMatrix\n",
        "from PIL import Image\n",
        "import matplotlib.pyplot as plt\n",
        "import matplotlib.patches as patches\n",
        "\n",
        "# -------- Utils --------\n",
        "def yolo_to_xyxy_tensor(boxes, img_w, img_h):\n",
        "    \"\"\"YOLO format (cx, cy, w, h) to XYXY with clamping, tensor version\"\"\"\n",
        "    cx = boxes[:, 0] * img_w\n",
        "    cy = boxes[:, 1] * img_h\n",
        "    w = boxes[:, 2] * img_w\n",
        "    h = boxes[:, 3] * img_h\n",
        "\n",
        "    x1 = (cx - w / 2).clamp(0, img_w)\n",
        "    y1 = (cy - h / 2).clamp(0, img_h)\n",
        "    x2 = (cx + w / 2).clamp(0, img_w)\n",
        "    y2 = (cy + h / 2).clamp(0, img_h)\n",
        "\n",
        "    return torch.stack([x1, y1, x2, y2], dim=1)\n",
        "\n",
        "# -------- Visualization --------\n",
        "def visualize_boxes(img_path, gt_boxes, pred_boxes, save_path):\n",
        "    img = Image.open(img_path).convert(\"RGB\")\n",
        "    fig, ax = plt.subplots(1, figsize=(12, 12))\n",
        "    ax.imshow(img)\n",
        "\n",
        "    # 畫 Ground Truth 框（綠色）\n",
        "    for box in gt_boxes:\n",
        "        x1, y1, x2, y2 = box.tolist()\n",
        "        w, h = x2 - x1, y2 - y1\n",
        "        rect = patches.Rectangle((x1, y1), w, h, linewidth=2, edgecolor='lime', facecolor='none')\n",
        "        ax.add_patch(rect)\n",
        "\n",
        "    # 畫 Prediction 框（紅色）\n",
        "    for box in pred_boxes:\n",
        "        x1, y1, x2, y2 = box.tolist()\n",
        "        w, h = x2 - x1, y2 - y1\n",
        "        rect = patches.Rectangle((x1, y1), w, h, linewidth=2, edgecolor='red', facecolor='none')\n",
        "        ax.add_patch(rect)\n",
        "\n",
        "    ax.axis(\"off\")\n",
        "    fig.tight_layout()\n",
        "    fig.savefig(save_path)\n",
        "    plt.close(fig)\n",
        "\n",
        "\n",
        "# -------- Init --------\n",
        "gt_path = Path(\"/content/drive/MyDrive/datasets/Processed_1/valid/labels\")\n",
        "pred_path = Path(\"/content/drive/MyDrive/datasets/voted_preds/labels\")\n",
        "img_dir = Path(\"/content/drive/MyDrive/datasets/Processed_1/valid/images\")  # ← 確保這是你圖片目錄\n",
        "\n",
        "vis_dir = Path(\"/content/drive/MyDrive/datasets/voted_preds/vis\")  # 儲存可視化結果\n",
        "vis_dir.mkdir(parents=True, exist_ok=True)\n",
        "\n",
        "cm = ConfusionMatrix(nc=1)  # 只有一個類別\n",
        "\n",
        "# -------- Evaluation Loop --------\n",
        "for gt_file in gt_path.glob(\"*.txt\"):\n",
        "    pred_file = pred_path / gt_file.name\n",
        "    img_path = img_dir / (gt_file.stem + \".jpg\")\n",
        "    img_w, img_h = Image.open(img_path).size\n",
        "\n",
        "    # --- Load GT ---\n",
        "    gt_lines = gt_file.read_text().strip().splitlines()\n",
        "    gt = torch.tensor([list(map(float, l.split())) for l in gt_lines]) if gt_lines else torch.zeros((0, 5))\n",
        "    gt_cls = gt[:, 0] if len(gt) else torch.zeros((0,))\n",
        "    gt_boxes = yolo_to_xyxy_tensor(gt[:, 1:5], img_w, img_h) if len(gt) else torch.zeros((0, 4))\n",
        "\n",
        "    # --- Load Prediction ---\n",
        "    if pred_file.exists():\n",
        "        pred_lines = pred_file.read_text().strip().splitlines()\n",
        "        pred = torch.tensor([list(map(float, l.split())) for l in pred_lines]) if pred_lines else torch.zeros((0, 6))\n",
        "        pred_cls = pred[:, 0]\n",
        "        pred_boxes = yolo_to_xyxy_tensor(pred[:, 1:5], img_w, img_h)\n",
        "        pred_conf = pred[:, 5]\n",
        "    else:\n",
        "        pred_cls = torch.zeros((0,))\n",
        "        pred_boxes = torch.zeros((0, 4))\n",
        "        pred_conf = torch.zeros((0,))\n",
        "\n",
        "    # --- Format Detections ---\n",
        "    if len(pred_boxes):\n",
        "        detections = torch.cat([pred_boxes, pred_conf[:, None], pred_cls[:, None]], dim=1)\n",
        "    else:\n",
        "        detections = torch.zeros((0, 6))\n",
        "\n",
        "    # --- Process ---\n",
        "    if len(gt_boxes) or len(detections):\n",
        "        cm.process_batch(detections, gt_boxes, gt_cls)\n",
        "        # --- 可視化目前這張圖片的 GT 和預測框 ---\n",
        "        save_img_path = vis_dir / f\"{gt_file.stem}_vis.jpg\"\n",
        "        visualize_boxes(img_path, gt_boxes, pred_boxes, save_img_path)\n",
        "\n",
        "    # --- Optional Debug ---\n",
        "    print(f\"\\n📄 {gt_file.name}\")\n",
        "    print(f\"GT cls:     {gt_cls.shape} {gt_cls}\")\n",
        "    print(f\"GT boxes:   {gt_boxes.shape} {gt_boxes}\")\n",
        "    print(f\"Detections: {detections.shape}\")\n",
        "\n",
        "# -------- Metrics --------\n",
        "confmat = cm.matrix\n",
        "eps = 1e-16\n",
        "TP = confmat.diagonal()\n",
        "FP = confmat.sum(0) - TP\n",
        "FN = confmat.sum(1) - TP\n",
        "\n",
        "precision = (TP / (TP + FP + eps)).mean()\n",
        "recall = (TP / (TP + FN + eps)).mean()\n",
        "f1 = 2 * precision * recall / (precision + recall + eps)\n",
        "\n",
        "print(f\"\\n📊 Voting Ensemble Evaluation Results:\")\n",
        "print(f\"Precision: {precision:.3f}\")\n",
        "print(f\"Recall:    {recall:.3f}\")\n",
        "print(f\"F1 Score:  {f1:.3f}\")\n"
      ]
    }
  ],
  "metadata": {
    "accelerator": "GPU",
    "colab": {
      "collapsed_sections": [
        "8UsJazip2kdZ",
        "psB6OLiru2GR"
      ],
      "gpuType": "T4",
      "provenance": [],
      "include_colab_link": true
    },
    "kernelspec": {
      "display_name": "Python 3",
      "name": "python3"
    },
    "language_info": {
      "name": "python"
    }
  },
  "nbformat": 4,
  "nbformat_minor": 0
}